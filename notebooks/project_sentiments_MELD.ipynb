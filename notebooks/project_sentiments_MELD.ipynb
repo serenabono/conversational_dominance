{
 "cells": [
  {
   "cell_type": "code",
   "execution_count": 1,
   "metadata": {},
   "outputs": [],
   "source": [
    "from transformers import GPT2LMHeadModel, GPT2TokenizerFast\n",
    "\n",
    "device = \"cuda:5\"\n",
    "model_id = \"gpt2-large\"\n",
    "model = GPT2LMHeadModel.from_pretrained(model_id).to(device)\n",
    "tokenizer = GPT2TokenizerFast.from_pretrained(model_id)"
   ]
  },
  {
   "cell_type": "code",
   "execution_count": 53,
   "metadata": {},
   "outputs": [
    {
     "name": "stderr",
     "output_type": "stream",
     "text": [
      "[nltk_data] Downloading package punkt to /u/sebono/nltk_data...\n",
      "[nltk_data]   Package punkt is already up-to-date!\n",
      "[nltk_data] Downloading package stopwords to /u/sebono/nltk_data...\n",
      "[nltk_data]   Package stopwords is already up-to-date!\n"
     ]
    }
   ],
   "source": [
    "import numpy as np\n",
    "import matplotlib.pyplot as plt\n",
    "import nltk\n",
    "from nltk.corpus import stopwords\n",
    "import torch\n",
    "\n",
    "nltk.download('punkt')\n",
    "nltk.download('stopwords')\n",
    "STOP_WORDS = set(stopwords.words('english'))\n",
    "\n",
    "# Assuming 'matches', 'dialog', 'offset', and 'perpl' are defined earlier in your code\n",
    "def perplexity_to_info(dialog, tokens, perpl, answers, pattern = '<(SPK[1-9]|MOD)>'):\n",
    "\n",
    "    matches = re.findall(pattern, \"\".join(dialog))\n",
    "    unique_matches = np.unique(matches)\n",
    "    #encodings = tokenizer(\" \".join(dialog), return_tensors=\"pt\")\n",
    "    encodings = torch.cat(tokens)\n",
    "    tokens_ids_per_sentence = np.cumsum([t.size(0) for t in tokens])\n",
    "    assert tokens_ids_per_sentence[-1] == len(encodings)\n",
    "    assert len(encodings) == len(perpl)\n",
    "    \n",
    "    ppl_to_info = []\n",
    "    prev_idx_pp = 0\n",
    "    for idx, (match,answer) in enumerate(zip(matches,answers)):\n",
    "        idx_pp = tokens_ids_per_sentence[idx]\n",
    "        patt = matches[idx]\n",
    "        label = re.sub(r'\\[([^\\]]+)\\]: ', '', dialog[idx])\n",
    "        tokens = encodings[prev_idx_pp:idx_pp]\n",
    "        decoded = [tokenizer.decode([token], skip_special_tokens=True) for token in tokens]\n",
    "        perpl_per_sent = perpl[prev_idx_pp:idx_pp]\n",
    "        mean_value=np.nanmean(np.asarray(perpl_per_sent))\n",
    "        prev_idx_pp=idx_pp\n",
    "        ppl_to_info.append({\"label\":answer, \"perpl\": np.asarray(perpl_per_sent)})\n",
    "    \n",
    "    return ppl_to_info\n",
    "\n",
    "def filter_out_common_words(words, perpl):\n",
    "    # Remove stop words and corresponding perplexity values\n",
    "    filtered_words = [word for word in words if word.lower().strip() not in STOP_WORDS]\n",
    "    filtered_word_indices = [i for i, word in enumerate(words) if word.lower().strip() not in STOP_WORDS]\n",
    "    assert len(list(np.asarray(perpl)[filtered_word_indices])) == len(filtered_words)\n",
    "    return list(np.asarray(perpl)[filtered_word_indices]), filtered_word_indices\n",
    "\n",
    "def perplexity_to_info_filtering_out_common_words(dialog, tokens, perpl, answers, matches, pattern = '<(SPK[1-9]|MOD)>'):\n",
    "    \n",
    "    encodings = torch.cat(tokens)\n",
    "    unique_matches = np.unique(matches)\n",
    "    tokens_ids_per_sentence = np.cumsum([t.size(0) for t in tokens])\n",
    "    assert tokens_ids_per_sentence[-1] == len(encodings)\n",
    "    assert len(encodings) == len(perpl)\n",
    "    \n",
    "    \n",
    "    ppl_to_info = []\n",
    "    prev_idx_pp = 0\n",
    "    dialog_filtered = []\n",
    "    for idx, (match,answer) in enumerate(zip(matches,answers)):\n",
    "        idx_pp = tokens_ids_per_sentence[idx]\n",
    "        patt = matches[idx]\n",
    "        label = re.sub(pattern, '', dialog[idx])\n",
    "        tokens = encodings[prev_idx_pp:idx_pp]\n",
    "        decoded = [tokenizer.decode([token], skip_special_tokens=True) for token in tokens]\n",
    "        assert len(decoded) == len(perpl[prev_idx_pp:idx_pp])\n",
    "        perpl_per_sent, filtered_word_indices = filter_out_common_words(decoded, perpl[prev_idx_pp:idx_pp])\n",
    "        assert len(perpl_per_sent) == len(tokens[filtered_word_indices])\n",
    "        dialog_filtered.append(tokens[filtered_word_indices])\n",
    "        mean_value=np.nanmean(np.asarray(perpl_per_sent))\n",
    "        prev_idx_pp=idx_pp\n",
    "        ppl_to_info.append({\"label\":answer, \"perpl\": np.asarray(perpl_per_sent)})\n",
    "        \n",
    "    return dialog_filtered, ppl_to_info\n",
    "\n",
    "def compute_per_user_mean_perplexity_filtering_out_common_words(dialog, tokens, perpl, matches, pattern = '<(SPK[1-9]|MOD)>'):\n",
    "\n",
    "    encodings = torch.cat(tokens)\n",
    "    unique_matches = np.unique(matches)\n",
    "    tokens_ids_per_sentence = np.cumsum([t.size(0) for t in tokens])\n",
    "    assert tokens_ids_per_sentence[-1] == len(encodings)\n",
    "    assert len(encodings) == len(perpl)\n",
    "    \n",
    "    prev_idx_pp = 0\n",
    "    user_to_ppl = {}\n",
    "    decoded_utterances = []\n",
    "    for idx, match in enumerate(matches):\n",
    "        idx_pp = tokens_ids_per_sentence[idx]\n",
    "        patt = matches[idx]\n",
    "        label = re.sub(pattern, '', dialog[idx])\n",
    "        tokens = encodings[prev_idx_pp:idx_pp]\n",
    "        decoded = [tokenizer.decode([token], skip_special_tokens=True) for token in tokens]\n",
    "        assert len(decoded) == len(perpl[prev_idx_pp:idx_pp])\n",
    "        perpl_per_sent, filtered_word_indices = filter_out_common_words(decoded, perpl[prev_idx_pp:idx_pp])\n",
    "        decoded_utterances.append([tokenizer.decode([token], skip_special_tokens=True) for token in tokens[filtered_word_indices]])\n",
    "        assert len(perpl_per_sent) == len(tokens[filtered_word_indices])\n",
    "        mean_value=np.nanmean(np.asarray(perpl_per_sent))\n",
    "        prev_idx_pp=idx_pp\n",
    "        if patt not in user_to_ppl:\n",
    "            user_to_ppl[patt] = []\n",
    "        user_to_ppl[patt].append(mean_value)\n",
    "        \n",
    "    return user_to_ppl, decoded_utterances\n",
    "\n",
    "def compute_per_user_mean_perplexity(dialog, tokens, perpl, matches, pattern = '<(SPK[1-9]|MOD)>'):\n",
    "    \n",
    "    encodings = torch.cat(tokens)\n",
    "    #matches = re.findall(pattern, \"\".join(dialog))\n",
    "    unique_matches = np.unique(matches)\n",
    "    tokens_ids_per_sentence = np.cumsum([t.size(0) for t in tokens])\n",
    "    assert tokens_ids_per_sentence[-1] == len(encodings)\n",
    "    assert len(encodings) == len(perpl)\n",
    "\n",
    "\n",
    "    prev_idx_pp = 0\n",
    "    user_to_ppl = {}\n",
    "    for idx in range(len(matches)):\n",
    "        idx_pp = tokens_ids_per_sentence[idx]\n",
    "        patt = matches[idx]\n",
    "        tokens = encodings[prev_idx_pp:idx_pp]\n",
    "        decoded = [tokenizer.decode([token], skip_special_tokens=True) for token in tokens]\n",
    "        perpl_per_sent = perpl[prev_idx_pp:idx_pp]\n",
    "        mean_value=np.nanmean(np.asarray(perpl_per_sent))\n",
    "        if patt not in user_to_ppl:\n",
    "            user_to_ppl[patt] = []\n",
    "        user_to_ppl[patt].append(mean_value)\n",
    "        \n",
    "    return  user_to_ppl\n",
    "\n",
    "def compute_per_utterance_mean_perplexity(dialog, tokens, perpl, matches, pattern = '<(SPK[1-9]|MOD)>'):\n",
    "    \n",
    "    encodings = torch.cat(tokens)\n",
    "    #matches = re.findall(pattern, \"\".join(dialog))\n",
    "    unique_matches = np.unique(matches)\n",
    "    tokens_ids_per_sentence = np.cumsum([t.size(0) for t in tokens])\n",
    "    assert tokens_ids_per_sentence[-1] == len(encodings)\n",
    "    assert len(encodings) == len(perpl)\n",
    "\n",
    "\n",
    "    prev_idx_pp = 0\n",
    "    utterance_to_ppl = []\n",
    "    for idx in range(len(matches)):\n",
    "        idx_pp = tokens_ids_per_sentence[idx]\n",
    "        patt = matches[idx]\n",
    "        tokens = encodings[prev_idx_pp:idx_pp]\n",
    "        decoded = [tokenizer.decode([token], skip_special_tokens=True) for token in tokens]\n",
    "        perpl_per_sent = perpl[prev_idx_pp:idx_pp]\n",
    "        mean_value=np.nanmean(np.asarray(perpl_per_sent))\n",
    "        utterance_to_ppl.append(mean_value)\n",
    "        \n",
    "    return  utterance_to_ppl\n",
    "    \n",
    "def compute_graph_perplexity(tokens, p1, p2, matches, pattern = '<(SPK[1-9]|MOD)>', answers=None):\n",
    "    \n",
    "    dialog = [tokenizer.decode(token, skip_special_tokens=True) for token in tokens]\n",
    "    unique_matches = np.unique(matches)\n",
    "    \n",
    "    rows = int(np.ceil(np.sqrt(len(dialog))))\n",
    "    # Create an 8x8 grid of subplots\n",
    "    fig, axes = plt.subplots(rows, rows, figsize=(30, 30))\n",
    "    num_plots = len(dialog)\n",
    "    # Set smaller font size\n",
    "    plt.rcParams.update({'font.size': 8})\n",
    "    \n",
    "    assert num_plots == len(matches)\n",
    "    encodings = torch.cat(tokens)\n",
    "    tokens_ids_per_sentence = np.cumsum([t.size(0) for t in tokens])\n",
    "    assert tokens_ids_per_sentence[-1] == len(p1)\n",
    "    \n",
    "    prev_idx_pp = 0\n",
    "    for idx, ax in enumerate(axes.flatten()):\n",
    "        if idx < num_plots:\n",
    "            idx_pp = tokens_ids_per_sentence[idx]\n",
    "            patt = matches[idx]\n",
    "            tokens = encodings[prev_idx_pp:idx_pp]\n",
    "            decoded = [tokenizer.decode([token], skip_special_tokens=True) for token in tokens]\n",
    "            p1_per_sent = p1[prev_idx_pp:idx_pp]\n",
    "            p2_per_sent = p2[prev_idx_pp:idx_pp]\n",
    "            ax.plot(np.asarray(p1_per_sent), label=f'{patt} p1')\n",
    "            ax.plot(np.asarray(p2_per_sent), label=f'{patt} p2', color='r')\n",
    "            #mean_value=np.nanmean(np.asarray(perpl_per_sent))\n",
    "            ax.axhline(p1_per_sent[0], color='g', label=f'{patt} p3')  # Fixed the color argument\n",
    "            ax.set_xticks(np.arange(len(decoded)))\n",
    "            ax.set_xticklabels(decoded, rotation=90)\n",
    "            if answers is not None:\n",
    "                ax.set_title(f'{answers[idx]}')\n",
    "            ax.legend()\n",
    "            prev_idx_pp=idx_pp\n",
    "\n",
    "    # Hide any remaining empty subplots\n",
    "    for ax in axes.flatten()[num_plots:]:\n",
    "        ax.axis('off')\n",
    "        \n",
    "    plt.subplots_adjust(hspace=0.5, top=0.95)  \n",
    "    plt.suptitle(\"Per-Word Perplexity across the Dataset\", fontsize=30)\n",
    "    plt.legend()\n",
    "    plt.show()"
   ]
  },
  {
   "cell_type": "markdown",
   "metadata": {},
   "source": [
    "### Meld"
   ]
  },
  {
   "cell_type": "code",
   "execution_count": 92,
   "metadata": {},
   "outputs": [],
   "source": [
    "import numpy as np\n",
    "import re\n",
    "import pandas as pd"
   ]
  },
  {
   "cell_type": "code",
   "execution_count": 93,
   "metadata": {},
   "outputs": [
    {
     "data": {
      "text/html": [
       "<div>\n",
       "<style scoped>\n",
       "    .dataframe tbody tr th:only-of-type {\n",
       "        vertical-align: middle;\n",
       "    }\n",
       "\n",
       "    .dataframe tbody tr th {\n",
       "        vertical-align: top;\n",
       "    }\n",
       "\n",
       "    .dataframe thead th {\n",
       "        text-align: right;\n",
       "    }\n",
       "</style>\n",
       "<table border=\"1\" class=\"dataframe\">\n",
       "  <thead>\n",
       "    <tr style=\"text-align: right;\">\n",
       "      <th></th>\n",
       "      <th>file_name</th>\n",
       "      <th>file_content</th>\n",
       "    </tr>\n",
       "  </thead>\n",
       "  <tbody>\n",
       "    <tr>\n",
       "      <th>0</th>\n",
       "      <td>S0</td>\n",
       "      <td>&lt;SPK1&gt; Oh my God, hes lost it. Hes totally l...</td>\n",
       "    </tr>\n",
       "    <tr>\n",
       "      <th>1</th>\n",
       "      <td>S1</td>\n",
       "      <td>&lt;SPK6&gt; Or! Or, we could go to the bank, close ...</td>\n",
       "    </tr>\n",
       "    <tr>\n",
       "      <th>2</th>\n",
       "      <td>S2</td>\n",
       "      <td>&lt;SPK1&gt; Hey Estelle, listen &lt;SPK0&gt; Well! Well! ...</td>\n",
       "    </tr>\n",
       "    <tr>\n",
       "      <th>3</th>\n",
       "      <td>S3</td>\n",
       "      <td>&lt;SPK1&gt; Okay, you guys free tonight? &lt;SPK2&gt; Yea...</td>\n",
       "    </tr>\n",
       "    <tr>\n",
       "      <th>4</th>\n",
       "      <td>S4</td>\n",
       "      <td>&lt;SPK1&gt; Yes? Yes?! How can I help you? &lt;SPK0&gt; Y...</td>\n",
       "    </tr>\n",
       "    <tr>\n",
       "      <th>...</th>\n",
       "      <td>...</td>\n",
       "      <td>...</td>\n",
       "    </tr>\n",
       "    <tr>\n",
       "      <th>109</th>\n",
       "      <td>S109</td>\n",
       "      <td>&lt;SPK1&gt; I guess I set up the video camera to tr...</td>\n",
       "    </tr>\n",
       "    <tr>\n",
       "      <th>110</th>\n",
       "      <td>S110</td>\n",
       "      <td>&lt;SPK0&gt; Ohh, okay, they gave you the old time p...</td>\n",
       "    </tr>\n",
       "    <tr>\n",
       "      <th>111</th>\n",
       "      <td>S111</td>\n",
       "      <td>&lt;SPK0&gt; So, you still dont think Im boyfriend...</td>\n",
       "    </tr>\n",
       "    <tr>\n",
       "      <th>112</th>\n",
       "      <td>S112</td>\n",
       "      <td>&lt;SPK0&gt; I, umm, shut up! &lt;SPK0&gt; Good-bye Phoeb...</td>\n",
       "    </tr>\n",
       "    <tr>\n",
       "      <th>113</th>\n",
       "      <td>S113</td>\n",
       "      <td>&lt;SPK0&gt; Rachel, its going to happen. Chandler ...</td>\n",
       "    </tr>\n",
       "  </tbody>\n",
       "</table>\n",
       "<p>114 rows × 2 columns</p>\n",
       "</div>"
      ],
      "text/plain": [
       "    file_name                                       file_content\n",
       "0          S0  <SPK1> Oh my God, hes lost it. Hes totally l...\n",
       "1          S1  <SPK6> Or! Or, we could go to the bank, close ...\n",
       "2          S2  <SPK1> Hey Estelle, listen <SPK0> Well! Well! ...\n",
       "3          S3  <SPK1> Okay, you guys free tonight? <SPK2> Yea...\n",
       "4          S4  <SPK1> Yes? Yes?! How can I help you? <SPK0> Y...\n",
       "..        ...                                                ...\n",
       "109      S109  <SPK1> I guess I set up the video camera to tr...\n",
       "110      S110  <SPK0> Ohh, okay, they gave you the old time p...\n",
       "111      S111  <SPK0> So, you still dont think Im boyfriend...\n",
       "112      S112  <SPK0> I, umm, shut up! <SPK0> Good-bye Phoeb...\n",
       "113      S113  <SPK0> Rachel, its going to happen. Chandler ...\n",
       "\n",
       "[114 rows x 2 columns]"
      ]
     },
     "execution_count": 93,
     "metadata": {},
     "output_type": "execute_result"
    }
   ],
   "source": [
    "meld_df = pd.read_csv(\"/u/sebono/conversational_dominance/data/processed/MELD/conversations.csv\")\n",
    "meld_df"
   ]
  },
  {
   "cell_type": "code",
   "execution_count": 94,
   "metadata": {},
   "outputs": [],
   "source": [
    "# load perplexity\n",
    "import os\n",
    "import pickle\n",
    "\n",
    "p1_meld_path = \"/u/sebono/conversational_dominance/notebooks/information_exchange_labelling/dataset_perplexity_results/MELD_p1\"\n",
    "perplexity_scores_list = []\n",
    "perplexity_scores_list_p3 = []\n",
    "for root, dirs, files in os.walk(p1_meld_path):\n",
    "    for file in files:\n",
    "        if file.endswith('.pkl'):\n",
    "            file_name = file.replace(\"dominance_scores_\",\"\").replace(\".pkl\",\"\")\n",
    "            file_path = os.path.join(root, file)\n",
    "            with open(file_path, 'rb') as f:\n",
    "                loaded = pickle.load(f)\n",
    "                perplexity_scores_list.append(loaded)\n",
    "\n",
    "perplexity_scores_p1 = {k:v for element in perplexity_scores_list for k,v in element.items()}"
   ]
  },
  {
   "cell_type": "code",
   "execution_count": 95,
   "metadata": {},
   "outputs": [
    {
     "data": {
      "text/plain": [
       "dict_keys(['S109', 'S68', 'S72', 'S101', 'S43', 'S65', 'S12', 'S59', 'S10', 'S18', 'S28', 'S26', 'S49', 'S5', 'S22', 'S70', 'S16', 'S69', 'S106', 'S17', 'S76', 'S83', 'S30', 'S25', 'S78', 'S75', 'S61', 'S71', 'S33', 'S21', 'S91', 'S102', 'S55', 'S98', 'S66', 'S111', 'S81', 'S23', 'S56', 'S93', 'S67', 'S36', 'S79', 'S14', 'S29', 'S40', 'S85', 'S6', 'S24', 'S45', 'S86', 'S27', 'S96', 'S57', 'S53', 'S103', 'S74', 'S38', 'S47', 'S77', 'S84', 'S95', 'S8', 'S7', 'S87', 'S90', 'S88', 'S82', 'S64', 'S80', 'S11', 'S0', 'S100', 'S105', 'S9', 'S62', 'S48', 'S89', 'S2', 'S104', 'S19', 'S108', 'S92', 'S97', 'S4', 'S110', 'S31', 'S113', 'S13', 'S32', 'S107', 'S73', 'S3', 'S15', 'S39', 'S42', 'S54', 'S50', 'S63', 'S112', 'S35', 'S20', 'S44', 'S34', 'S60', 'S58', 'S1', 'S52', 'S41', 'S51', 'S99', 'S94', 'S46', 'S37'])"
      ]
     },
     "execution_count": 95,
     "metadata": {},
     "output_type": "execute_result"
    }
   ],
   "source": [
    "perplexity_scores_p1.keys()"
   ]
  },
  {
   "cell_type": "code",
   "execution_count": 96,
   "metadata": {},
   "outputs": [],
   "source": [
    "# load perplexity\n",
    "import os\n",
    "import pickle\n",
    "\n",
    "p1_meld_path = \"/u/sebono/conversational_dominance/notebooks/information_exchange_labelling/dataset_perplexity_results/MELD_p2\"\n",
    "perplexity_scores_list = []\n",
    "\n",
    "for root, dirs, files in os.walk(p1_meld_path):\n",
    "    for file in files:\n",
    "        if file.endswith('.pkl'):\n",
    "            file_name = file.replace(\"dominance_scores_\",\"\").replace(\".pkl\",\"\")\n",
    "            file_path = os.path.join(root, file)\n",
    "            with open(file_path, 'rb') as f:\n",
    "                perplexity_scores_list.append(pickle.load(f))\n",
    "\n",
    "perplexity_scores_p2 = {k:v for element in perplexity_scores_list for k,v in element.items()}"
   ]
  },
  {
   "cell_type": "code",
   "execution_count": 97,
   "metadata": {},
   "outputs": [
    {
     "data": {
      "text/plain": [
       "dict_keys([])"
      ]
     },
     "execution_count": 97,
     "metadata": {},
     "output_type": "execute_result"
    }
   ],
   "source": [
    "perplexity_scores_p2.keys()"
   ]
  },
  {
   "cell_type": "code",
   "execution_count": 98,
   "metadata": {},
   "outputs": [
    {
     "data": {
      "text/plain": [
       "tensor([29])"
      ]
     },
     "execution_count": 98,
     "metadata": {},
     "output_type": "execute_result"
    }
   ],
   "source": [
    "tokenizer('>', return_tensors=\"pt\", return_offsets_mapping=True).input_ids[0]"
   ]
  },
  {
   "cell_type": "code",
   "execution_count": 99,
   "metadata": {},
   "outputs": [],
   "source": [
    "def create_extended_list(lst, arr):\n",
    "    result = []\n",
    "    prev_count = 0\n",
    "    for i, count in enumerate(arr):\n",
    "        result.extend([lst[i]] * (count - prev_count))\n",
    "        prev_count = count\n",
    "    return result\n",
    "\n",
    "def compute_p3(meld_df, perplexity_scores_p1):\n",
    "    perplexity_scores_p3 = {}\n",
    "    for content, name in zip(meld_df[\"file_content\"], meld_df[\"file_name\"]):\n",
    "        try:\n",
    "            pattern = '<(SPK[0-9]|MOD)>'\n",
    "            matches = re.findall(pattern, \"\".join(content))\n",
    "            content = re.sub(r'\\<', r'\\n<', content).split(\"\\n\")[1:]\n",
    "            content = [re.sub(pattern,\">\", d) for d in content]\n",
    "            assert len(perplexity_scores_p1[name]) == tokenizer(\" \".join(content), return_tensors=\"pt\", return_offsets_mapping=True).input_ids.size(1)\n",
    "            tokens = [tokenizer(token, return_tensors=\"pt\", return_offsets_mapping=True).input_ids[0] for token in content]\n",
    "            assert len(torch.cat(tokens)) == len(perplexity_scores_p1[name])\n",
    "            tokens_ids_per_sentence = np.cumsum([t.size(0) for t in tokens])\n",
    "            value = np.asarray([0] + list(np.asarray(perplexity_scores_p1[name])[tokens_ids_per_sentence[:-1]]))\n",
    "            #tokens_value = np.asarray(torch.cat(tokens))[tokens_ids_per_sentence[:-1]]\n",
    "            perplexity_scores_p3[name] = create_extended_list(value, tokens_ids_per_sentence)\n",
    "            assert len(perplexity_scores_p3[name]) == tokenizer(\" \".join(content), return_tensors=\"pt\", return_offsets_mapping=True).input_ids.size(1)\n",
    "        except:\n",
    "            print(f'missing {name}')\n",
    "\n",
    "    return perplexity_scores_p3"
   ]
  },
  {
   "cell_type": "code",
   "execution_count": 100,
   "metadata": {},
   "outputs": [
    {
     "data": {
      "text/plain": [
       "Index(['file_name', 'file_content'], dtype='object')"
      ]
     },
     "execution_count": 100,
     "metadata": {},
     "output_type": "execute_result"
    }
   ],
   "source": [
    "meld_df.keys()"
   ]
  },
  {
   "cell_type": "code",
   "execution_count": 101,
   "metadata": {},
   "outputs": [],
   "source": [
    "perplexity_scores_p3 = compute_p3(meld_df, perplexity_scores_p1)"
   ]
  },
  {
   "cell_type": "code",
   "execution_count": 102,
   "metadata": {},
   "outputs": [
    {
     "data": {
      "text/plain": [
       "dict_keys(['S0', 'S1', 'S2', 'S3', 'S4', 'S5', 'S6', 'S7', 'S8', 'S9', 'S10', 'S11', 'S12', 'S13', 'S14', 'S15', 'S16', 'S17', 'S18', 'S19', 'S20', 'S21', 'S22', 'S23', 'S24', 'S25', 'S26', 'S27', 'S28', 'S29', 'S30', 'S31', 'S32', 'S33', 'S34', 'S35', 'S36', 'S37', 'S38', 'S39', 'S40', 'S41', 'S42', 'S43', 'S44', 'S45', 'S46', 'S47', 'S48', 'S49', 'S50', 'S51', 'S52', 'S53', 'S54', 'S55', 'S56', 'S57', 'S58', 'S59', 'S60', 'S61', 'S62', 'S63', 'S64', 'S65', 'S66', 'S67', 'S68', 'S69', 'S70', 'S71', 'S72', 'S73', 'S74', 'S75', 'S76', 'S77', 'S78', 'S79', 'S80', 'S81', 'S82', 'S83', 'S84', 'S85', 'S86', 'S87', 'S88', 'S89', 'S90', 'S91', 'S92', 'S93', 'S94', 'S95', 'S96', 'S97', 'S98', 'S99', 'S100', 'S101', 'S102', 'S103', 'S104', 'S105', 'S106', 'S107', 'S108', 'S109', 'S110', 'S111', 'S112', 'S113'])"
      ]
     },
     "execution_count": 102,
     "metadata": {},
     "output_type": "execute_result"
    }
   ],
   "source": [
    "perplexity_scores_p3.keys()"
   ]
  },
  {
   "cell_type": "code",
   "execution_count": 103,
   "metadata": {
    "scrolled": false
   },
   "outputs": [
    {
     "ename": "NameError",
     "evalue": "name 'candor_df' is not defined",
     "output_type": "error",
     "traceback": [
      "\u001b[0;31m---------------------------------------------------------------------------\u001b[0m",
      "\u001b[0;31mNameError\u001b[0m                                 Traceback (most recent call last)",
      "Cell \u001b[0;32mIn[103], line 2\u001b[0m\n\u001b[1;32m      1\u001b[0m dominance \u001b[38;5;241m=\u001b[39m {}\n\u001b[0;32m----> 2\u001b[0m \u001b[38;5;28;01mfor\u001b[39;00m content, name \u001b[38;5;129;01min\u001b[39;00m \u001b[38;5;28mzip\u001b[39m(candor_df[\u001b[38;5;124m\"\u001b[39m\u001b[38;5;124mfile_content\u001b[39m\u001b[38;5;124m\"\u001b[39m], candor_df[\u001b[38;5;124m\"\u001b[39m\u001b[38;5;124mfile_name\u001b[39m\u001b[38;5;124m\"\u001b[39m]):\n\u001b[1;32m      3\u001b[0m     dominance[name] \u001b[38;5;241m=\u001b[39m {}\n\u001b[1;32m      4\u001b[0m     pattern \u001b[38;5;241m=\u001b[39m \u001b[38;5;124m'\u001b[39m\u001b[38;5;124m<(SPK[0-9]|MOD)>\u001b[39m\u001b[38;5;124m'\u001b[39m\n",
      "\u001b[0;31mNameError\u001b[0m: name 'candor_df' is not defined"
     ]
    }
   ],
   "source": [
    "dominance = {}\n",
    "for content, name in zip(meld_df[\"file_content\"], meld_df[\"file_name\"]):\n",
    "    dominance[name] = {}\n",
    "    pattern = '<(SPK[0-9]|MOD)>'\n",
    "    matches = re.findall(pattern, \"\".join(content))\n",
    "    content = re.sub(r'\\<', r'\\n<', content).split(\"\\n\")[1:]\n",
    "    content = [re.sub(pattern,\">\", d) for d in content]\n",
    "    assert len(perplexity_scores_p1[name]) == tokenizer(\" \".join(content), return_tensors=\"pt\", return_offsets_mapping=True).input_ids.size(1)\n",
    "    tokens = [tokenizer(token, return_tensors=\"pt\", return_offsets_mapping=True).input_ids[0] for token in content]\n",
    "    assert len(torch.cat(tokens)) == len(perplexity_scores_p1[name])\n",
    "    compute_graph_perplexity(tokens, perplexity_scores_p1[name],[np.nan for _ in range(len(perplexity_scores_p1[name]))],matches, pattern=pattern) "
   ]
  },
  {
   "cell_type": "code",
   "execution_count": null,
   "metadata": {},
   "outputs": [],
   "source": [
    "pd.DataFrame({\"file_name\":decoded_utterances.keys(),\"file_content\":decoded_utterances.values()}).to_csv(\"/u/sebono/conversational_dominance/data/processed/multisimo/conversations_filter_out_common_words.csv\", index=False)"
   ]
  },
  {
   "cell_type": "code",
   "execution_count": 104,
   "metadata": {},
   "outputs": [
    {
     "ename": "KeyError",
     "evalue": "'S0'",
     "output_type": "error",
     "traceback": [
      "\u001b[0;31m---------------------------------------------------------------------------\u001b[0m",
      "\u001b[0;31mKeyError\u001b[0m                                  Traceback (most recent call last)",
      "Cell \u001b[0;32mIn[104], line 8\u001b[0m\n\u001b[1;32m      6\u001b[0m content \u001b[38;5;241m=\u001b[39m re\u001b[38;5;241m.\u001b[39msub(\u001b[38;5;124mr\u001b[39m\u001b[38;5;124m'\u001b[39m\u001b[38;5;124m\\\u001b[39m\u001b[38;5;124m<\u001b[39m\u001b[38;5;124m'\u001b[39m, \u001b[38;5;124mr\u001b[39m\u001b[38;5;124m'\u001b[39m\u001b[38;5;124m\\\u001b[39m\u001b[38;5;124mn<\u001b[39m\u001b[38;5;124m'\u001b[39m, content)\u001b[38;5;241m.\u001b[39msplit(\u001b[38;5;124m\"\u001b[39m\u001b[38;5;130;01m\\n\u001b[39;00m\u001b[38;5;124m\"\u001b[39m)[\u001b[38;5;241m1\u001b[39m:]\n\u001b[1;32m      7\u001b[0m content \u001b[38;5;241m=\u001b[39m [re\u001b[38;5;241m.\u001b[39msub(pattern,\u001b[38;5;124m\"\u001b[39m\u001b[38;5;124m>\u001b[39m\u001b[38;5;124m\"\u001b[39m, d) \u001b[38;5;28;01mfor\u001b[39;00m d \u001b[38;5;129;01min\u001b[39;00m content]\n\u001b[0;32m----> 8\u001b[0m \u001b[38;5;28;01massert\u001b[39;00m \u001b[38;5;28mlen\u001b[39m(perplexity_scores_p2[name]) \u001b[38;5;241m==\u001b[39m tokenizer(\u001b[38;5;124m\"\u001b[39m\u001b[38;5;124m \u001b[39m\u001b[38;5;124m\"\u001b[39m\u001b[38;5;241m.\u001b[39mjoin(content), return_tensors\u001b[38;5;241m=\u001b[39m\u001b[38;5;124m\"\u001b[39m\u001b[38;5;124mpt\u001b[39m\u001b[38;5;124m\"\u001b[39m, return_offsets_mapping\u001b[38;5;241m=\u001b[39m\u001b[38;5;28;01mTrue\u001b[39;00m)\u001b[38;5;241m.\u001b[39minput_ids\u001b[38;5;241m.\u001b[39msize(\u001b[38;5;241m1\u001b[39m)\n\u001b[1;32m      9\u001b[0m encodings \u001b[38;5;241m=\u001b[39m tokenizer(\u001b[38;5;124m\"\u001b[39m\u001b[38;5;124m \u001b[39m\u001b[38;5;124m\"\u001b[39m\u001b[38;5;241m.\u001b[39mjoin(content), return_tensors\u001b[38;5;241m=\u001b[39m\u001b[38;5;124m\"\u001b[39m\u001b[38;5;124mpt\u001b[39m\u001b[38;5;124m\"\u001b[39m, return_offsets_mapping\u001b[38;5;241m=\u001b[39m\u001b[38;5;28;01mTrue\u001b[39;00m)\u001b[38;5;241m.\u001b[39minput_ids\u001b[38;5;241m.\u001b[39mravel()\n\u001b[1;32m     10\u001b[0m tokens \u001b[38;5;241m=\u001b[39m [tokenizer(token, return_tensors\u001b[38;5;241m=\u001b[39m\u001b[38;5;124m\"\u001b[39m\u001b[38;5;124mpt\u001b[39m\u001b[38;5;124m\"\u001b[39m, return_offsets_mapping\u001b[38;5;241m=\u001b[39m\u001b[38;5;28;01mTrue\u001b[39;00m)\u001b[38;5;241m.\u001b[39minput_ids[\u001b[38;5;241m0\u001b[39m] \u001b[38;5;28;01mfor\u001b[39;00m token \u001b[38;5;129;01min\u001b[39;00m content]\n",
      "\u001b[0;31mKeyError\u001b[0m: 'S0'"
     ]
    }
   ],
   "source": [
    "dominance_p2 = {}\n",
    "for content, name in zip(meld_df[\"file_content\"], meld_df[\"file_name\"]):\n",
    "    dominance_p2[name] = {}\n",
    "    pattern = '<(SPK[0-9]|MOD)>'\n",
    "    matches = re.findall(pattern, \"\".join(content))\n",
    "    content = re.sub(r'\\<', r'\\n<', content).split(\"\\n\")[1:]\n",
    "    content = [re.sub(pattern,\">\", d) for d in content]\n",
    "    assert len(perplexity_scores_p2[name]) == tokenizer(\" \".join(content), return_tensors=\"pt\", return_offsets_mapping=True).input_ids.size(1)\n",
    "    encodings = tokenizer(\" \".join(content), return_tensors=\"pt\", return_offsets_mapping=True).input_ids.ravel()\n",
    "    tokens = [tokenizer(token, return_tensors=\"pt\", return_offsets_mapping=True).input_ids[0] for token in content]\n",
    "    result = compute_per_user_mean_perplexity(content,tokens,perplexity_scores_p2[name], matches, pattern=pattern)\n",
    "    for patt in result.keys():\n",
    "        if patt in np.unique(matches):\n",
    "            print(f\"{patt}: {np.mean(result[patt])}\")\n",
    "            dominance_p2[name][patt] = np.mean(result[patt])"
   ]
  },
  {
   "cell_type": "code",
   "execution_count": 107,
   "metadata": {},
   "outputs": [
    {
     "name": "stdout",
     "output_type": "stream",
     "text": [
      "S0\n",
      "SPK1: 3.3938061112188733\n",
      "SPK0: 3.9235993514910503\n",
      "S1\n",
      "SPK6: 3.549329093729745\n",
      "SPK1: 3.783404304101341\n",
      "SPK2: 3.472958177982021\n",
      "SPK4: 3.4860801174310416\n",
      "SPK0: 3.521277201213011\n",
      "SPK5: 3.4746817322860983\n",
      "SPK3: 3.362399491470637\n",
      "S2\n",
      "SPK1: 5.138489067354122\n",
      "SPK0: 4.635524111337751\n",
      "S3\n",
      "SPK1: 4.954531528055668\n",
      "SPK2: 5.935415173570315\n",
      "SPK0: 4.313001845417352\n",
      "S4\n",
      "SPK1: 3.8529138069572944\n",
      "SPK0: 4.619920579361565\n",
      "SPK2: 3.6202089057566154\n",
      "S5\n",
      "SPK1: 2.8561182122189637\n",
      "SPK0: 2.945599037559723\n",
      "S6\n",
      "SPK1: 3.4270542843285545\n",
      "SPK0: 3.4620617236183198\n",
      "S7\n",
      "SPK2: 3.1820752674814656\n",
      "SPK1: 3.451325072634847\n",
      "SPK0: 2.968872790680008\n",
      "S8\n",
      "SPK1: 3.078611578695402\n",
      "SPK0: 2.94729965529656\n",
      "S9\n",
      "SPK1: 3.856840074701767\n",
      "SPK0: 4.583569892098211\n",
      "S10\n",
      "SPK3: 3.4582997806941984\n",
      "SPK1: 3.9144193808836194\n",
      "SPK0: 3.5734660034542935\n",
      "SPK2: 3.7354096618892196\n",
      "S11\n",
      "SPK0: 3.5371938078866183\n",
      "SPK1: 3.3964776477054675\n",
      "S12\n",
      "SPK1: 3.6681441798517924\n",
      "SPK0: 3.862523640591295\n",
      "S13\n",
      "SPK2: 3.4910659685523973\n",
      "SPK4: 4.171749588989076\n",
      "SPK3: 2.8669670065442325\n",
      "SPK1: 2.7363911432150116\n",
      "SPK0: 2.8021383603543097\n",
      "S14\n",
      "SPK0: 4.63537945778973\n",
      "SPK1: 4.4824563942524955\n",
      "S15\n",
      "SPK1: 3.995249002143293\n",
      "SPK0: 3.71248846256512\n",
      "S16\n",
      "SPK3: 3.4826969706649833\n",
      "SPK0: 3.41422771312352\n",
      "SPK2: 3.1884692186843964\n",
      "SPK1: 3.1407621395765313\n",
      "S17\n",
      "SPK0: 5.892955355612295\n",
      "SPK1: 4.856297102255317\n",
      "SPK2: 4.091550606075812\n",
      "SPK3: 4.188645312139257\n",
      "S18\n",
      "SPK0: 3.8209825168014464\n",
      "SPK1: 4.0178427810276345\n",
      "S19\n",
      "SPK1: 2.4867066560071094\n",
      "SPK2: 2.2232002187295143\n",
      "SPK0: 2.295031407364345\n",
      "S20\n",
      "SPK0: 3.5479078525372687\n",
      "SPK1: 3.5700764546723653\n",
      "SPK2: 3.355058406771434\n",
      "S21\n",
      "SPK2: 3.490422240496637\n",
      "SPK3: 3.289793193419563\n",
      "SPK4: 3.2046387967642485\n",
      "SPK1: 3.2594637744982586\n",
      "SPK0: 3.2971860438266813\n",
      "S22\n",
      "SPK0: 3.722269364294111\n",
      "SPK2: 3.29140932080632\n",
      "SPK1: 3.2434897352077314\n",
      "S23\n",
      "SPK1: 3.605041225677495\n",
      "SPK0: 3.657444956721927\n",
      "S24\n",
      "SPK1: 5.139279380440712\n",
      "SPK2: 3.389518934999296\n",
      "SPK0: 3.0152170247277894\n",
      "S25\n",
      "SPK1: 2.8481982478671752\n",
      "SPK0: 2.8488175171217396\n",
      "S26\n",
      "SPK0: 3.6172180951129023\n",
      "SPK1: 3.7032900237745956\n",
      "S27\n",
      "SPK1: 5.020190376564718\n",
      "SPK2: 3.7501164850100244\n",
      "SPK0: 3.5887534868652757\n",
      "SPK3: 3.155341122268431\n",
      "S28\n",
      "SPK6: 7.4753196239471436\n",
      "SPK4: 4.510580905822447\n",
      "SPK2: 3.759963572630993\n",
      "SPK5: 3.5882076693651452\n",
      "SPK3: 3.7925600529515098\n",
      "SPK0: 3.610043076005153\n",
      "SPK1: 3.0560716647224204\n",
      "S29\n",
      "SPK0: 3.6783189437484043\n",
      "SPK1: 3.6550892420138417\n",
      "S30\n",
      "SPK0: 2.9746337811006858\n",
      "SPK1: 2.6437744971599773\n",
      "S31\n",
      "SPK1: 3.0847380164360096\n",
      "SPK0: 3.096598203795443\n",
      "SPK2: 2.9321297680246907\n",
      "S32\n",
      "SPK0: 3.707280012330414\n",
      "SPK1: 3.8277857345444177\n",
      "SPK2: 3.189604947526911\n",
      "S33\n",
      "SPK0: 4.4737106050763815\n",
      "SPK1: 4.863044291734695\n",
      "S34\n",
      "SPK0: 3.416579162137699\n",
      "SPK1: 3.0879048388113364\n",
      "S35\n",
      "SPK0: 5.3279077326878905\n",
      "S36\n",
      "SPK1: 3.041744882248169\n",
      "SPK0: 2.978417992264244\n",
      "S37\n",
      "SPK7: 4.307588056583682\n",
      "SPK1: 5.12232908544441\n",
      "SPK5: 4.487273937193634\n",
      "SPK2: 3.912537969304986\n",
      "SPK3: 3.9369311219243053\n",
      "SPK0: 3.656980009457974\n",
      "SPK4: 3.3789554245947206\n",
      "SPK6: 3.295393591679062\n",
      "S38\n",
      "SPK0: 4.683939053779742\n",
      "S39\n",
      "SPK0: 4.662188236377878\n",
      "SPK1: 4.650785099714994\n",
      "S40\n",
      "SPK1: 3.0433455257298956\n",
      "SPK0: 3.049305012111817\n",
      "S41\n",
      "SPK0: 4.129726144003457\n",
      "SPK1: 3.8017735880057244\n",
      "S42\n",
      "SPK1: 3.9687498646739727\n",
      "SPK0: 3.8462705509020734\n",
      "S43\n",
      "SPK0: 3.562082196275393\n",
      "SPK1: 4.085924065113067\n",
      "S44\n",
      "SPK2: 3.753575988510928\n",
      "SPK1: 3.6638865037328983\n",
      "SPK0: 3.4164857680393244\n",
      "S45\n",
      "SPK0: 3.6157564420161137\n",
      "SPK2: 3.9077946698827013\n",
      "SPK4: 3.791161069658706\n",
      "SPK3: 3.887607056958802\n",
      "SPK1: 3.4643009770653452\n",
      "S46\n",
      "SPK3: 4.155458132713933\n",
      "SPK2: 3.8146071708020446\n",
      "SPK0: 3.3255971634892147\n",
      "SPK4: 3.3450907300405364\n",
      "SPK1: 3.609046920710898\n",
      "S47\n",
      "SPK0: 3.446904463738194\n",
      "SPK1: 3.603324984615873\n",
      "S48\n",
      "SPK0: 4.11137464111058\n",
      "SPK2: 3.98427161929357\n",
      "SPK1: 3.6143202126776384\n",
      "S49\n",
      "SPK1: 3.8734414303386804\n",
      "SPK2: 3.6630244270532524\n",
      "SPK0: 2.9397835800359173\n",
      "S50\n",
      "SPK1: 3.8423591863768625\n",
      "SPK0: 4.017052826969776\n",
      "SPK2: 3.6601274110004307\n",
      "S51\n",
      "SPK2: 3.62275477585969\n",
      "SPK1: 4.26582587134017\n",
      "SPK3: 3.747808688550311\n",
      "SPK0: 3.390406574745997\n",
      "S52\n",
      "SPK1: 4.618449441239361\n",
      "SPK0: 4.808588481508195\n",
      "S53\n",
      "SPK1: 3.253118412180517\n",
      "SPK0: 3.293474766969931\n",
      "S54\n",
      "SPK3: 3.760535196340303\n",
      "SPK4: 4.569707654483084\n",
      "SPK6: 3.61495209865668\n",
      "SPK1: 3.6147790275870064\n",
      "SPK5: 3.365185910655573\n",
      "SPK0: 3.33615404358528\n",
      "SPK2: 3.0726020668146177\n",
      "S55\n",
      "SPK0: 5.271649956703186\n",
      "S56\n",
      "SPK3: 8.340925407409667\n",
      "SPK0: 3.457611181445344\n",
      "SPK2: 3.5757381397113246\n",
      "SPK1: 3.7748669751071886\n",
      "S57\n",
      "SPK1: 4.4364647686628835\n",
      "SPK0: 3.814991390947435\n",
      "SPK2: 3.8617985142459283\n",
      "S58\n",
      "SPK0: 3.5677159972601182\n",
      "SPK3: 3.710504269659554\n",
      "SPK2: 3.6360464621009436\n",
      "SPK1: 3.483137711196769\n",
      "S59\n",
      "SPK0: 5.050403580069542\n",
      "SPK1: 5.4387156665325165\n",
      "SPK2: 3.589133486782892\n",
      "S60\n",
      "SPK0: 4.209979543274721\n",
      "SPK1: 3.851728650356457\n",
      "S61\n",
      "SPK0: 4.863237048068025\n",
      "SPK1: 4.303761922054821\n",
      "S62\n",
      "SPK1: 4.105673967083457\n",
      "SPK0: 4.036048655354798\n",
      "S63\n",
      "SPK1: 3.5151924150957896\n",
      "SPK0: 3.4988981209878007\n",
      "S64\n",
      "SPK3: 4.45953839069063\n",
      "SPK1: 3.8628141085679535\n",
      "SPK0: 3.544711711740267\n",
      "SPK2: 3.501773335791932\n",
      "S65\n",
      "SPK1: 3.644448018217302\n",
      "SPK0: 3.3578944839250506\n",
      "S66\n",
      "SPK0: 4.352096189356843\n",
      "SPK1: 3.9495970564555813\n",
      "SPK2: 3.36561112210007\n",
      "S67\n",
      "SPK5: 4.127874724819323\n",
      "SPK0: 4.937604803178045\n",
      "SPK1: 3.381950790807605\n",
      "SPK2: 3.5771283219587438\n",
      "SPK3: 3.318985242112297\n",
      "SPK4: 3.1197898452662143\n",
      "S68\n",
      "SPK4: 5.105522664729506\n",
      "SPK5: 3.3933655611980464\n",
      "SPK3: 3.731174052486791\n",
      "SPK1: 3.203921513436477\n",
      "SPK0: 2.773685073510379\n",
      "SPK2: 2.7509398789753994\n",
      "S69\n",
      "SPK0: 2.7867281338310885\n",
      "SPK2: 2.8538020151771835\n",
      "SPK1: 3.0150312863049655\n",
      "S70\n",
      "SPK2: 4.291901391543952\n",
      "SPK1: 3.9651430724478884\n",
      "SPK0: 3.67160058268072\n",
      "S71\n",
      "SPK1: 4.33856297268472\n",
      "SPK0: 4.208800928115533\n",
      "S72\n",
      "SPK2: 3.9212324272915726\n",
      "SPK0: 3.681880834688888\n",
      "SPK1: 3.465802039833419\n",
      "SPK3: 3.372989603742543\n",
      "S73\n",
      "SPK1: 4.014208284122919\n",
      "SPK0: 4.420942438840866\n",
      "S74\n",
      "SPK0: 3.2771927749400698\n",
      "SPK1: 3.045656222056723\n",
      "S75\n",
      "SPK0: 4.727643663387584\n",
      "S76\n",
      "SPK0: 3.228764983364224\n",
      "SPK1: 3.270470556494052\n",
      "S77\n",
      "SPK0: 3.5587047260732465\n",
      "SPK1: 3.253084778083084\n",
      "S78\n",
      "SPK0: 3.819592447154591\n",
      "SPK1: 3.9262110153394105\n",
      "S79\n",
      "SPK1: 3.4700424781005936\n",
      "SPK0: 3.54820547237079\n",
      "S80\n",
      "SPK1: 3.104342595750876\n",
      "SPK0: 3.0055813212870026\n",
      "S81\n",
      "SPK0: 5.164908325672149\n",
      "SPK1: 4.505574562446975\n",
      "S82\n",
      "SPK2: 3.410693761336113\n",
      "SPK0: 5.40769884947302\n",
      "SPK3: 3.3040409456419813\n",
      "SPK1: 2.943762049730127\n",
      "S83\n",
      "SPK1: 3.757887855047261\n",
      "SPK0: 2.818824604079962\n",
      "S84\n",
      "SPK1: 4.691658712923527\n",
      "SPK4: 4.158784596359029\n",
      "SPK2: 3.138224944239005\n",
      "SPK3: 3.270659180516377\n",
      "SPK0: 2.9513706131733617\n",
      "S85\n",
      "SPK4: 3.5130549952436474\n",
      "SPK5: 3.4322908337212246\n",
      "SPK3: 3.4050040811704223\n",
      "SPK2: 3.1685651233749446\n",
      "SPK0: 3.051714862567874\n",
      "SPK1: 2.9774060996922844\n",
      "S86\n",
      "SPK2: 4.361031863360102\n",
      "SPK0: 4.219301359149048\n",
      "SPK1: 3.4312736766805756\n",
      "S87\n",
      "SPK1: 4.1630730007805825\n",
      "SPK0: 3.7371832916101853\n",
      "S88\n",
      "SPK2: 4.236880467742554\n",
      "SPK1: 4.480322990031243\n",
      "SPK0: 3.8106540987767707\n",
      "S89\n",
      "SPK2: 5.8390521142970435\n",
      "SPK0: 4.484410268919809\n",
      "SPK3: 3.540724744765612\n",
      "SPK1: 3.496132888824213\n",
      "SPK4: 3.146827529014302\n",
      "S90\n",
      "SPK3: 3.107812559230955\n",
      "SPK1: 3.618146675991247\n",
      "SPK2: 3.0503383017014385\n",
      "SPK0: 3.018537815903417\n",
      "S91\n",
      "SPK2: 3.941626810443114\n",
      "SPK4: 3.6739042220682334\n",
      "SPK3: 4.165498624648899\n",
      "SPK1: 3.745698525559504\n",
      "SPK0: 3.4023090552118624\n",
      "S92\n",
      "SPK0: 5.692961096763611\n",
      "SPK3: 4.482444625748513\n",
      "SPK1: 4.092987993302446\n",
      "SPK2: 4.095897863918365\n",
      "S93\n",
      "SPK2: 4.816148328781128\n",
      "SPK1: 2.8673308344698785\n",
      "SPK3: 3.0698746308203666\n",
      "SPK0: 2.7046270487907726\n",
      "S94\n",
      "SPK1: 4.2743867059548695\n",
      "SPK0: 3.8628906523570037\n",
      "SPK4: 3.161446801486118\n",
      "SPK3: 3.5167881250943123\n",
      "SPK2: 3.2732256355665745\n",
      "SPK5: 3.020180218872762\n",
      "S95\n",
      "SPK2: 3.250310720186114\n",
      "SPK1: 3.704041079571878\n",
      "SPK3: 3.5114518123619987\n",
      "SPK0: 3.005651721913018\n",
      "S96\n",
      "SPK0: 3.6001661498884454\n",
      "SPK1: 3.3971785507428516\n",
      "S97\n",
      "SPK2: 3.561640239632361\n",
      "SPK3: 3.4157053206933683\n",
      "SPK1: 3.8643861039097853\n",
      "SPK5: 2.625608206842129\n",
      "SPK4: 2.606512298129897\n",
      "SPK0: 2.611295436654601\n",
      "S98\n",
      "SPK0: 3.2951285103427352\n",
      "SPK1: 3.3041673697371436\n",
      "SPK2: 2.9676491585948193\n",
      "S99\n",
      "SPK1: 4.420927913749919\n",
      "SPK4: 3.913266359871552\n",
      "SPK2: 3.8784660998399234\n",
      "SPK0: 3.609926048939706\n",
      "SPK3: 3.5360867987474194\n",
      "S100\n",
      "SPK0: 6.523374704411253\n",
      "S101\n",
      "SPK0: 6.055010994358991\n",
      "S102\n",
      "SPK0: 5.5822818875312805\n",
      "SPK1: 5.9718718358448575\n",
      "S103\n",
      "SPK0: 5.054934556525371\n",
      "SPK1: 5.935651651397348\n",
      "S104\n",
      "SPK0: 3.3284610297392363\n",
      "SPK1: 3.2051736319134947\n",
      "S105\n",
      "SPK1: 4.52701604698661\n",
      "SPK0: 4.635813103087487\n",
      "S106\n",
      "SPK1: 4.280872220376908\n",
      "SPK0: 4.087557774460732\n",
      "SPK3: 4.423131452252467\n",
      "SPK2: 3.8424760350163396\n",
      "S107\n",
      "SPK1: 4.669622421264648\n",
      "SPK2: 4.29662957519268\n",
      "SPK0: 4.218268654341328\n",
      "S108\n",
      "SPK1: 4.835641037891893\n",
      "SPK2: 4.1778286303597465\n",
      "SPK4: 3.395732589126823\n",
      "SPK0: 3.233028071746716\n",
      "SPK3: 3.2072746025002523\n",
      "S109\n",
      "SPK1: 3.924222710635513\n",
      "SPK0: 3.3537345611154215\n",
      "SPK2: 3.5802018233374056\n",
      "S110\n",
      "SPK0: 3.803108170587867\n",
      "SPK1: 4.19940489393694\n",
      "S111\n",
      "SPK0: 3.9181030501597833\n",
      "SPK1: 4.616888127799722\n",
      "S112\n",
      "SPK0: 4.175464400521992\n",
      "SPK1: 3.7741387745174517\n",
      "S113\n",
      "SPK0: 3.8129920493938516\n",
      "SPK1: 3.6431323835981715\n"
     ]
    }
   ],
   "source": [
    "dominance_p1 = {}\n",
    "for content, name in zip(meld_df[\"file_content\"], meld_df[\"file_name\"]):\n",
    "    print(name)\n",
    "    dominance_p1[name] = {}\n",
    "    pattern = '<(SPK[0-9]|MOD)>'\n",
    "    matches = re.findall(pattern, \"\".join(content))\n",
    "    content = re.sub(r'\\<', r'\\n<', content).split(\"\\n\")[1:]\n",
    "    content = [re.sub(pattern,\">\", d) for d in content]\n",
    "    assert len(perplexity_scores_p1[name]) == tokenizer(\" \".join(content), return_tensors=\"pt\", return_offsets_mapping=True).input_ids.size(1)\n",
    "    encodings = tokenizer(\" \".join(content), return_tensors=\"pt\", return_offsets_mapping=True).input_ids.ravel()\n",
    "    tokens = [tokenizer(token, return_tensors=\"pt\", return_offsets_mapping=True).input_ids[0] for token in content]\n",
    "    result = compute_per_user_mean_perplexity(content,tokens,perplexity_scores_p1[name], matches, pattern=pattern)\n",
    "    for patt in result.keys():\n",
    "        if patt in np.unique(matches):\n",
    "            print(f\"{patt}: {np.mean(result[patt])}\")\n",
    "            dominance_p1[name][patt] = np.mean(result[patt])"
   ]
  },
  {
   "cell_type": "code",
   "execution_count": 108,
   "metadata": {},
   "outputs": [
    {
     "name": "stdout",
     "output_type": "stream",
     "text": [
      "S0\n",
      "SPK1: 0.0\n",
      "SPK0: 1.9105701446533203\n",
      "S1\n",
      "SPK6: 0.7471507439533105\n",
      "SPK1: 2.3392700643810342\n",
      "SPK2: 1.6145067648103495\n",
      "SPK4: 1.665867966613483\n",
      "SPK0: 2.100690380818602\n",
      "SPK5: 1.632768825647679\n",
      "SPK3: 1.163848493570163\n",
      "S2\n",
      "SPK1: 3.916006905197078\n",
      "SPK0: 6.693259386925891\n",
      "S3\n",
      "SPK1: 0.0\n",
      "SPK2: 3.9766921997070312\n",
      "SPK0: 2.3083889842033387\n",
      "S4\n",
      "SPK1: 1.885585437682059\n",
      "SPK0: 4.5767863988209925\n",
      "SPK2: 1.3167669265556918\n",
      "S5\n",
      "SPK1: 0.8738352953084664\n",
      "SPK0: 1.2191459210840503\n",
      "S6\n",
      "SPK1: 4.547715060554324\n",
      "SPK0: 5.010842672702629\n",
      "S7\n",
      "SPK2: 3.136091407860712\n",
      "SPK1: 5.3814627856446\n",
      "SPK0: 2.36044948814965\n",
      "S8\n",
      "SPK1: 1.0550332557838142\n",
      "SPK0: 1.8094048143982222\n",
      "S9\n",
      "SPK1: 1.9316698884493289\n",
      "SPK0: 5.1835555969631635\n",
      "S10\n",
      "SPK3: 1.7276849421946365\n",
      "SPK1: 5.5763881167763545\n",
      "SPK0: 3.644123273318474\n",
      "SPK2: 2.999878281486385\n",
      "S11\n",
      "SPK0: 1.7426585302989388\n",
      "SPK1: 2.3870320854228284\n",
      "S12\n",
      "SPK1: 0.9322846797672478\n",
      "SPK0: 2.1462869833665157\n",
      "S13\n",
      "SPK2: 0.7073737360789614\n",
      "SPK4: 6.439990997314453\n",
      "SPK3: 1.8191402248570994\n",
      "SPK1: 1.0663658674632763\n",
      "SPK0: 0.8403449344303094\n",
      "S14\n",
      "SPK0: 1.6343166096050055\n",
      "SPK1: 3.096267732208758\n",
      "S15\n",
      "SPK1: 1.4273851274888858\n",
      "SPK0: 1.9460896944091186\n",
      "S16\n",
      "SPK3: 3.0128695384335007\n",
      "SPK0: 5.823458495519567\n",
      "SPK2: 3.409299997210848\n",
      "SPK1: 3.329731842123395\n",
      "S17\n",
      "SPK0: 0.0\n",
      "SPK1: 6.019862704806858\n",
      "SPK2: 3.769339818236191\n",
      "SPK3: 3.7600723134146796\n",
      "S18\n",
      "SPK0: 1.0662055648944015\n",
      "SPK1: 2.0100084516130288\n",
      "S19\n",
      "SPK1: 2.7048142670657493\n",
      "SPK2: 1.3827555804295408\n",
      "SPK0: 0.8163877067689906\n",
      "S20\n",
      "SPK0: 0.687421825610929\n",
      "SPK1: 2.6510683751943707\n",
      "SPK2: 2.0636826454916366\n",
      "S21\n",
      "SPK2: 3.159018898010254\n",
      "SPK3: 5.362612207730611\n",
      "SPK4: 4.072277959436178\n",
      "SPK1: 3.0292855636012264\n",
      "SPK0: 3.0319018489257856\n",
      "S22\n",
      "SPK0: 2.126100433421664\n",
      "SPK2: 0.8601604284178107\n",
      "SPK1: 0.847477511476091\n",
      "S23\n",
      "SPK1: 2.8794061061903555\n",
      "SPK0: 4.200867952292179\n",
      "S24\n",
      "SPK1: 0.0\n",
      "SPK2: 2.962867970323194\n",
      "SPK0: 1.563223609838497\n",
      "S25\n",
      "SPK1: 1.713942190158292\n",
      "SPK0: 3.6773365218907292\n",
      "S26\n",
      "SPK0: 1.2796292048683087\n",
      "SPK1: 2.100325825100939\n",
      "S27\n",
      "SPK1: 2.8787937563862287\n",
      "SPK2: 3.5679047613834887\n",
      "SPK0: 3.3075513894140136\n",
      "SPK3: 2.5522753285600785\n",
      "S28\n",
      "SPK6: 0.0\n",
      "SPK4: 5.119067550619697\n",
      "SPK2: 3.4051722925349637\n",
      "SPK5: 2.5884809065926806\n",
      "SPK3: 2.867158035759802\n",
      "SPK0: 2.6393891654553867\n",
      "SPK1: 1.6859138618311742\n",
      "S29\n",
      "SPK0: 1.1333541553754582\n",
      "SPK1: 1.4102184378886933\n",
      "S30\n",
      "SPK0: 2.883669606992452\n",
      "SPK1: 2.840122974833362\n",
      "S31\n",
      "SPK1: 1.831853379985986\n",
      "SPK0: 3.470070090025534\n",
      "SPK2: 2.1902252157087556\n",
      "S32\n",
      "SPK0: 0.9582729416112835\n",
      "SPK1: 1.594270724646523\n",
      "SPK2: 0.6796536372601986\n",
      "S33\n",
      "SPK0: 0.0\n",
      "SPK1: 8.008763267880393\n",
      "S34\n",
      "SPK0: 1.0681145429855796\n",
      "SPK1: 2.587532809646726\n",
      "S35\n",
      "SPK0: 0.0\n",
      "S36\n",
      "SPK1: 1.3775936614730435\n",
      "SPK0: 1.864656644574059\n",
      "S37\n",
      "SPK7: 0.926975244673613\n",
      "SPK1: 3.4954998105071313\n",
      "SPK5: 2.995895038951527\n",
      "SPK2: 2.242249752312318\n",
      "SPK3: 2.2846235304306717\n",
      "SPK0: 1.801883714388957\n",
      "SPK4: 1.6246536740550288\n",
      "SPK6: 1.4617385002854582\n",
      "S38\n",
      "SPK0: 0.0\n",
      "S39\n",
      "SPK0: 1.9076398471568494\n",
      "SPK1: 5.181662126020952\n",
      "S40\n",
      "SPK1: 2.8692564167900723\n",
      "SPK0: 4.328932828968986\n",
      "S41\n",
      "SPK0: 0.0\n",
      "SPK1: 2.423511061991068\n",
      "S42\n",
      "SPK1: 2.9834395619268026\n",
      "SPK0: 4.2133297743620695\n",
      "S43\n",
      "SPK0: 0.0\n",
      "SPK1: 2.3807637691497803\n",
      "S44\n",
      "SPK2: 1.102419778113646\n",
      "SPK1: 1.2529033674383072\n",
      "SPK0: 0.8838101413691682\n",
      "S45\n",
      "SPK0: 0.6344119157276902\n",
      "SPK2: 2.1978563380198204\n",
      "SPK4: 1.6075398357815223\n",
      "SPK3: 1.3168129272870899\n",
      "SPK1: 0.9618854010477662\n",
      "S46\n",
      "SPK3: 0.8603077248290733\n",
      "SPK2: 5.422332135222176\n",
      "SPK0: 3.2988171814826006\n",
      "SPK4: 3.712946939666681\n",
      "SPK1: 3.6116478035195927\n",
      "S47\n",
      "SPK0: 3.82871889279594\n",
      "SPK1: 5.463489571840674\n",
      "S48\n",
      "SPK0: 3.0963194723555856\n",
      "SPK2: 4.9546744224450165\n",
      "SPK1: 3.774090366049127\n",
      "S49\n",
      "SPK1: 1.5943571860660557\n",
      "SPK2: 4.305328821403938\n",
      "SPK0: 1.4363952876727604\n",
      "S50\n",
      "SPK1: 1.4357816869929685\n",
      "SPK0: 3.3023630489002573\n",
      "SPK2: 2.989889551611508\n",
      "S51\n",
      "SPK2: 2.797636266106818\n",
      "SPK1: 6.4044136047363285\n",
      "SPK3: 4.30338838627172\n",
      "SPK0: 3.3737390052621103\n",
      "S52\n",
      "SPK1: 1.6310039421445446\n",
      "SPK0: 3.6317466389049184\n",
      "S53\n",
      "SPK1: 1.3937764225901599\n",
      "SPK0: 2.110899544169476\n",
      "S54\n",
      "SPK3: 0.6467162572529797\n",
      "SPK4: 3.8638118628093174\n",
      "SPK6: 1.3580052680914647\n",
      "SPK1: 1.4310028464956717\n",
      "SPK5: 1.1632698946877529\n",
      "SPK0: 1.0807346532344817\n",
      "SPK2: 0.8961071475070438\n",
      "S55\n",
      "SPK0: 0.0\n",
      "S56\n",
      "SPK3: 0.0\n",
      "SPK0: 2.4744983292776395\n",
      "SPK2: 2.497070595062674\n",
      "SPK1: 3.0332741855698475\n",
      "S57\n",
      "SPK1: 3.7527449200718146\n",
      "SPK0: 4.139292856444448\n",
      "SPK2: 4.045430179063676\n",
      "S58\n",
      "SPK0: 3.679093274208187\n",
      "SPK3: 6.350773840502488\n",
      "SPK2: 5.966465632373889\n",
      "SPK1: 4.788299461789532\n",
      "S59\n",
      "SPK0: 0.0\n",
      "SPK1: 4.261923980712891\n",
      "SPK2: 1.8934686253838127\n",
      "S60\n",
      "SPK0: 4.157907140253705\n",
      "SPK1: 6.269837521362234\n",
      "S61\n",
      "SPK0: 1.6995928501873685\n",
      "SPK1: 3.520231309412352\n",
      "S62\n",
      "SPK1: 3.456349975721942\n",
      "SPK0: 5.643474829726718\n",
      "S63\n",
      "SPK1: 1.5930527284905842\n",
      "SPK0: 2.0503285262655027\n",
      "S64\n",
      "SPK3: 0.0\n",
      "SPK1: 6.225497147132611\n",
      "SPK0: 4.52541761634163\n",
      "SPK2: 4.419433172260012\n",
      "S65\n",
      "SPK1: 3.7001707161182718\n",
      "SPK0: 4.5582844816193155\n",
      "S66\n",
      "SPK0: 3.2805153832481437\n",
      "SPK1: 6.576165068886971\n",
      "SPK2: 3.205006066404659\n",
      "S67\n",
      "SPK5: 1.4155730954778196\n",
      "SPK0: 7.653199768066406\n",
      "SPK1: 2.4013082252608404\n",
      "SPK2: 1.8169484841823578\n",
      "SPK3: 1.0081537185315064\n",
      "SPK4: 0.6911410409001968\n",
      "S68\n",
      "SPK4: 1.8751940968813319\n",
      "SPK5: 2.8558876164061\n",
      "SPK3: 3.6175137226312577\n",
      "SPK1: 1.5721991262057933\n",
      "SPK0: 0.9621340627614543\n",
      "SPK2: 0.8931500535387142\n",
      "S69\n",
      "SPK0: 1.4056009053238134\n",
      "SPK2: 3.238296909054195\n",
      "SPK1: 3.923810674516035\n",
      "S70\n",
      "SPK2: 2.8414477131583475\n",
      "SPK1: 5.208131981226479\n",
      "SPK0: 4.587202111016149\n",
      "S71\n",
      "SPK1: 1.3700228293736776\n",
      "SPK0: 2.590580422882781\n",
      "S72\n",
      "SPK2: 1.401465827107986\n",
      "SPK0: 1.5741755759876839\n",
      "SPK1: 1.5669092355256384\n",
      "SPK3: 1.2897598196183686\n",
      "S73\n",
      "SPK1: 0.6824582121588967\n",
      "SPK0: 1.0751292888934796\n",
      "S74\n",
      "SPK0: 1.2009103735490239\n",
      "SPK1: 1.609494405195585\n",
      "S75\n",
      "SPK0: 0.0\n",
      "S76\n",
      "SPK0: 2.718894850247095\n",
      "SPK1: 4.620125163665501\n",
      "S77\n",
      "SPK0: 1.1277986999635474\n",
      "SPK1: 1.4307591160839923\n",
      "S78\n",
      "SPK0: 1.8504177058596887\n",
      "SPK1: 2.7594790571768213\n",
      "S79\n",
      "SPK1: 1.2291208924556982\n",
      "SPK0: 2.0988810089172465\n",
      "S80\n",
      "SPK1: 1.5859244253044422\n",
      "SPK0: 2.220700099718703\n",
      "S81\n",
      "SPK0: 0.0\n",
      "SPK1: 6.26614397433069\n",
      "S82\n",
      "SPK2: 2.4452846231206418\n",
      "SPK0: 5.789460945129394\n",
      "SPK3: 2.6027172041524733\n",
      "SPK1: 1.4653377041459934\n",
      "S83\n",
      "SPK1: 3.5910063891087547\n",
      "SPK0: 3.0557457578431824\n",
      "S84\n",
      "SPK1: 0.0\n",
      "SPK4: 6.975647449493408\n",
      "SPK2: 2.379114246362592\n",
      "SPK3: 3.0499912173140284\n",
      "SPK0: 2.0332902246051363\n",
      "S85\n",
      "SPK4: 3.222333112984553\n",
      "SPK5: 4.340130768921606\n",
      "SPK3: 2.9787817609806857\n",
      "SPK2: 2.2452582258142924\n",
      "SPK0: 1.963210834972276\n",
      "SPK1: 2.206546645362856\n",
      "S86\n",
      "SPK2: 3.707005467414856\n",
      "SPK0: 9.630877444618626\n",
      "SPK1: 5.733492179788076\n",
      "S87\n",
      "SPK1: 2.877264546126665\n",
      "SPK0: 2.2325130792764516\n",
      "S88\n",
      "SPK2: 2.463947455883026\n",
      "SPK1: 4.211529072247395\n",
      "SPK0: 2.026493095245558\n",
      "S89\n",
      "SPK2: 3.4968507885932922\n",
      "SPK0: 10.515164462002842\n",
      "SPK3: 4.953955382108688\n",
      "SPK1: 3.2274934657310186\n",
      "SPK4: 2.4684423776695272\n",
      "S90\n",
      "SPK3: 1.3082872451497898\n",
      "SPK1: 2.958203014574553\n",
      "SPK2: 2.0571177807347527\n",
      "SPK0: 1.3912884018250875\n",
      "S91\n",
      "SPK2: 1.6459378085162544\n",
      "SPK4: 2.1612762901607447\n",
      "SPK3: 2.512952963511149\n",
      "SPK1: 2.0756514329801905\n",
      "SPK0: 1.7723789054613848\n",
      "S92\n",
      "SPK0: 0.0\n",
      "SPK3: 6.806374560891957\n",
      "SPK1: 5.4762751322478485\n",
      "SPK2: 5.7353101835650735\n",
      "S93\n",
      "SPK2: 0.0\n",
      "SPK1: 5.22001316178279\n",
      "SPK3: 7.709437169134617\n",
      "SPK0: 2.8503697779143216\n",
      "S94\n",
      "SPK1: 0.0\n",
      "SPK0: 8.091657257080078\n",
      "SPK4: 4.102259418082956\n",
      "SPK3: 5.779069986836664\n",
      "SPK2: 4.375270597954895\n",
      "SPK5: 3.5108096437909535\n",
      "S95\n",
      "SPK2: 2.5878755794228487\n",
      "SPK1: 5.875564338230506\n",
      "SPK3: 4.021393566646359\n",
      "SPK0: 2.7763913381667593\n",
      "S96\n",
      "SPK0: 1.5348102960873533\n",
      "SPK1: 3.6112652655868303\n",
      "S97\n",
      "SPK2: 0.8769965595166079\n",
      "SPK3: 1.0104549309347386\n",
      "SPK1: 1.2492784787383344\n",
      "SPK5: 0.4941123439372396\n",
      "SPK4: 0.48205485739851905\n",
      "SPK0: 0.4856606059458474\n",
      "S98\n",
      "SPK0: 1.424391975402832\n",
      "SPK1: 3.0514915122797612\n",
      "SPK2: 2.363283583863837\n",
      "S99\n",
      "SPK1: 0.0\n",
      "SPK4: 2.952687052847208\n",
      "SPK2: 2.8572671962964833\n",
      "SPK0: 1.4645561551144795\n",
      "SPK3: 1.4161006701581271\n",
      "S100\n",
      "SPK0: 0.0\n",
      "S101\n",
      "SPK0: 0.0\n",
      "S102\n",
      "SPK0: 0.0\n",
      "SPK1: 4.628782153129578\n",
      "S103\n",
      "SPK0: 2.8175531765498585\n",
      "SPK1: 6.962100437709263\n",
      "S104\n",
      "SPK0: 1.0643713793087766\n",
      "SPK1: 1.1967778977493475\n",
      "S105\n",
      "SPK1: 2.855757237197033\n",
      "SPK0: 3.1170382840292796\n",
      "S106\n",
      "SPK1: 1.2199272089397784\n",
      "SPK0: 3.7645690348674288\n",
      "SPK3: 4.547828314255695\n",
      "SPK2: 3.2492389460684548\n",
      "S107\n",
      "SPK1: 0.0\n",
      "SPK2: 7.398569413131067\n",
      "SPK0: 7.392578852176666\n",
      "S108\n",
      "SPK1: 0.0\n",
      "SPK2: 3.8257867985732066\n",
      "SPK4: 2.5009331169364217\n",
      "SPK0: 1.9604785847988782\n",
      "SPK3: 1.97274937701328\n",
      "S109\n",
      "SPK1: 1.1093434131061528\n",
      "SPK0: 2.235338113435618\n",
      "SPK2: 2.888635571186359\n",
      "S110\n",
      "SPK0: 0.9785847904359644\n",
      "SPK1: 1.6390981222964112\n",
      "S111\n",
      "SPK0: 0.9481730222702026\n",
      "SPK1: 2.7114105224609375\n",
      "S112\n",
      "SPK0: 5.8348817502580035\n",
      "SPK1: 7.128459408250879\n",
      "S113\n",
      "SPK0: 1.236658729345555\n",
      "SPK1: 1.236130846637632\n"
     ]
    }
   ],
   "source": [
    "dominance_p3 = {}\n",
    "for content, name in zip(meld_df[\"file_content\"], meld_df[\"file_name\"]):\n",
    "    print(name)\n",
    "    dominance_p3[name] = {}\n",
    "    pattern = '<(SPK[0-9]|MOD)>'\n",
    "    matches = re.findall(pattern, \"\".join(content))\n",
    "    content = re.sub(r'\\<', r'\\n<', content).split(\"\\n\")[1:]\n",
    "    content = [re.sub(pattern,\">\", d) for d in content]\n",
    "    assert len(perplexity_scores_p3[name]) == tokenizer(\" \".join(content), return_tensors=\"pt\", return_offsets_mapping=True).input_ids.size(1)\n",
    "    encodings = tokenizer(\" \".join(content), return_tensors=\"pt\", return_offsets_mapping=True).input_ids.ravel()\n",
    "    tokens = [tokenizer(token, return_tensors=\"pt\", return_offsets_mapping=True).input_ids[0] for token in content]\n",
    "    result = compute_per_user_mean_perplexity(content,tokens,perplexity_scores_p3[name], matches, pattern=pattern)\n",
    "    for patt in result.keys():\n",
    "        if patt in np.unique(matches):\n",
    "            print(f\"{patt}: {np.mean(result[patt])}\")\n",
    "            dominance_p3[name][patt] = np.mean(result[patt])"
   ]
  },
  {
   "cell_type": "code",
   "execution_count": 109,
   "metadata": {},
   "outputs": [],
   "source": [
    "path = \"/u/sebono/conversational_dominance/data/processed/MELD/\"\n",
    "with open(f'{path}/dominance_p1.pkl', 'wb') as f:\n",
    "    pickle.dump(dominance_p1, f)\n",
    "with open(f'{path}/dominance_p3.pkl', 'wb') as f:\n",
    "    pickle.dump(dominance_p3, f)"
   ]
  },
  {
   "cell_type": "code",
   "execution_count": 110,
   "metadata": {},
   "outputs": [],
   "source": [
    "path = \"/u/sebono/conversational_dominance/data/processed/MELD/\"\n",
    "with open(f'{path}/dominance_p1.pkl', 'rb') as f:\n",
    "    dominance_p1 = pickle.load(f)\n",
    "with open(f'{path}/dominance_p3.pkl', 'rb') as f:\n",
    "    dominance_p3 = pickle.load(f)"
   ]
  },
  {
   "cell_type": "code",
   "execution_count": 132,
   "metadata": {},
   "outputs": [],
   "source": [
    "emotions_path = \"/u/sebono/conversational_dominance/data/processed/MELD/emotions.csv\"\n",
    "emotions_df = pd.read_csv(emotions_path)"
   ]
  },
  {
   "cell_type": "code",
   "execution_count": 133,
   "metadata": {},
   "outputs": [
    {
     "data": {
      "text/html": [
       "<div>\n",
       "<style scoped>\n",
       "    .dataframe tbody tr th:only-of-type {\n",
       "        vertical-align: middle;\n",
       "    }\n",
       "\n",
       "    .dataframe tbody tr th {\n",
       "        vertical-align: top;\n",
       "    }\n",
       "\n",
       "    .dataframe thead th {\n",
       "        text-align: right;\n",
       "    }\n",
       "</style>\n",
       "<table border=\"1\" class=\"dataframe\">\n",
       "  <thead>\n",
       "    <tr style=\"text-align: right;\">\n",
       "      <th></th>\n",
       "      <th>file_name</th>\n",
       "      <th>file_content</th>\n",
       "    </tr>\n",
       "  </thead>\n",
       "  <tbody>\n",
       "    <tr>\n",
       "      <th>0</th>\n",
       "      <td>S0</td>\n",
       "      <td>&lt;SPK1&gt; Oh my God, hes lost it. Hes totally l...</td>\n",
       "    </tr>\n",
       "    <tr>\n",
       "      <th>1</th>\n",
       "      <td>S1</td>\n",
       "      <td>&lt;SPK6&gt; Or! Or, we could go to the bank, close ...</td>\n",
       "    </tr>\n",
       "    <tr>\n",
       "      <th>2</th>\n",
       "      <td>S2</td>\n",
       "      <td>&lt;SPK1&gt; Hey Estelle, listen &lt;SPK0&gt; Well! Well! ...</td>\n",
       "    </tr>\n",
       "    <tr>\n",
       "      <th>3</th>\n",
       "      <td>S3</td>\n",
       "      <td>&lt;SPK1&gt; Okay, you guys free tonight? &lt;SPK2&gt; Yea...</td>\n",
       "    </tr>\n",
       "    <tr>\n",
       "      <th>4</th>\n",
       "      <td>S4</td>\n",
       "      <td>&lt;SPK1&gt; Yes? Yes?! How can I help you? &lt;SPK0&gt; Y...</td>\n",
       "    </tr>\n",
       "    <tr>\n",
       "      <th>...</th>\n",
       "      <td>...</td>\n",
       "      <td>...</td>\n",
       "    </tr>\n",
       "    <tr>\n",
       "      <th>109</th>\n",
       "      <td>S109</td>\n",
       "      <td>&lt;SPK1&gt; I guess I set up the video camera to tr...</td>\n",
       "    </tr>\n",
       "    <tr>\n",
       "      <th>110</th>\n",
       "      <td>S110</td>\n",
       "      <td>&lt;SPK0&gt; Ohh, okay, they gave you the old time p...</td>\n",
       "    </tr>\n",
       "    <tr>\n",
       "      <th>111</th>\n",
       "      <td>S111</td>\n",
       "      <td>&lt;SPK0&gt; So, you still dont think Im boyfriend...</td>\n",
       "    </tr>\n",
       "    <tr>\n",
       "      <th>112</th>\n",
       "      <td>S112</td>\n",
       "      <td>&lt;SPK0&gt; I, umm, shut up! &lt;SPK0&gt; Good-bye Phoeb...</td>\n",
       "    </tr>\n",
       "    <tr>\n",
       "      <th>113</th>\n",
       "      <td>S113</td>\n",
       "      <td>&lt;SPK0&gt; Rachel, its going to happen. Chandler ...</td>\n",
       "    </tr>\n",
       "  </tbody>\n",
       "</table>\n",
       "<p>114 rows × 2 columns</p>\n",
       "</div>"
      ],
      "text/plain": [
       "    file_name                                       file_content\n",
       "0          S0  <SPK1> Oh my God, hes lost it. Hes totally l...\n",
       "1          S1  <SPK6> Or! Or, we could go to the bank, close ...\n",
       "2          S2  <SPK1> Hey Estelle, listen <SPK0> Well! Well! ...\n",
       "3          S3  <SPK1> Okay, you guys free tonight? <SPK2> Yea...\n",
       "4          S4  <SPK1> Yes? Yes?! How can I help you? <SPK0> Y...\n",
       "..        ...                                                ...\n",
       "109      S109  <SPK1> I guess I set up the video camera to tr...\n",
       "110      S110  <SPK0> Ohh, okay, they gave you the old time p...\n",
       "111      S111  <SPK0> So, you still dont think Im boyfriend...\n",
       "112      S112  <SPK0> I, umm, shut up! <SPK0> Good-bye Phoeb...\n",
       "113      S113  <SPK0> Rachel, its going to happen. Chandler ...\n",
       "\n",
       "[114 rows x 2 columns]"
      ]
     },
     "execution_count": 133,
     "metadata": {},
     "output_type": "execute_result"
    }
   ],
   "source": [
    "meld_df"
   ]
  },
  {
   "cell_type": "code",
   "execution_count": 134,
   "metadata": {},
   "outputs": [
    {
     "data": {
      "text/plain": [
       "0          Oh my God, hes lost it. Hes totally lost it.\n",
       "1                                                   What?\n",
       "2       Or! Or, we could go to the bank, close our acc...\n",
       "3                                        Youre a genius!\n",
       "4                 Aww, man, now we wont be bank buddies!\n",
       "                              ...                        \n",
       "1104                                                  No.\n",
       "1105         What? Oh my God! Im gonna miss you so much!\n",
       "1106                                  Im gonna miss you!\n",
       "1107                       I mean its the end of an era!\n",
       "1108                                              I know!\n",
       "Name: Utterance, Length: 1109, dtype: object"
      ]
     },
     "execution_count": 134,
     "metadata": {},
     "output_type": "execute_result"
    }
   ],
   "source": [
    "MELD_df = pd.read_csv(\"/u/sebono/conversational_dominance/data/external/MELD.Raw/dev_sent_emo.csv\")\n",
    "MELD_df[\"Utterance\"]"
   ]
  },
  {
   "cell_type": "code",
   "execution_count": 135,
   "metadata": {},
   "outputs": [],
   "source": [
    "dominance_p1 = {}\n",
    "all_results_p1=[]\n",
    "for content, name in zip(meld_df[\"file_content\"], meld_df[\"file_name\"]):\n",
    "    dominance_p1[name] = {}\n",
    "    pattern = '<(SPK[0-9]|MOD)>'\n",
    "    matches = re.findall(pattern, \"\".join(content))\n",
    "    content = re.sub(r'\\<', r'\\n<', content).split(\"\\n\")[1:]\n",
    "    content = [re.sub(pattern,\">\", d) for d in content]\n",
    "    assert len(perplexity_scores_p1[name]) == tokenizer(\" \".join(content), return_tensors=\"pt\", return_offsets_mapping=True).input_ids.size(1)\n",
    "    encodings = tokenizer(\" \".join(content), return_tensors=\"pt\", return_offsets_mapping=True).input_ids.ravel()\n",
    "    tokens = [tokenizer(token, return_tensors=\"pt\", return_offsets_mapping=True).input_ids[0] for token in content]\n",
    "    result = compute_per_utterance_mean_perplexity(content,tokens,perplexity_scores_p1[name], matches, pattern=pattern)\n",
    "    all_results_p1.extend(result)"
   ]
  },
  {
   "cell_type": "code",
   "execution_count": 136,
   "metadata": {},
   "outputs": [
    {
     "data": {
      "text/html": [
       "<div>\n",
       "<style scoped>\n",
       "    .dataframe tbody tr th:only-of-type {\n",
       "        vertical-align: middle;\n",
       "    }\n",
       "\n",
       "    .dataframe tbody tr th {\n",
       "        vertical-align: top;\n",
       "    }\n",
       "\n",
       "    .dataframe thead th {\n",
       "        text-align: right;\n",
       "    }\n",
       "</style>\n",
       "<table border=\"1\" class=\"dataframe\">\n",
       "  <thead>\n",
       "    <tr style=\"text-align: right;\">\n",
       "      <th></th>\n",
       "      <th>Utterance</th>\n",
       "      <th>Emotion</th>\n",
       "      <th>p1</th>\n",
       "    </tr>\n",
       "  </thead>\n",
       "  <tbody>\n",
       "    <tr>\n",
       "      <th>0</th>\n",
       "      <td>Oh my God, hes lost it. Hes totally lost it.</td>\n",
       "      <td>sadness</td>\n",
       "      <td>3.393806</td>\n",
       "    </tr>\n",
       "    <tr>\n",
       "      <th>1</th>\n",
       "      <td>What?</td>\n",
       "      <td>surprise</td>\n",
       "      <td>3.923599</td>\n",
       "    </tr>\n",
       "    <tr>\n",
       "      <th>2</th>\n",
       "      <td>Or! Or, we could go to the bank, close our acc...</td>\n",
       "      <td>neutral</td>\n",
       "      <td>3.593475</td>\n",
       "    </tr>\n",
       "    <tr>\n",
       "      <th>3</th>\n",
       "      <td>Youre a genius!</td>\n",
       "      <td>joy</td>\n",
       "      <td>4.430512</td>\n",
       "    </tr>\n",
       "    <tr>\n",
       "      <th>4</th>\n",
       "      <td>Aww, man, now we wont be bank buddies!</td>\n",
       "      <td>sadness</td>\n",
       "      <td>3.951700</td>\n",
       "    </tr>\n",
       "    <tr>\n",
       "      <th>...</th>\n",
       "      <td>...</td>\n",
       "      <td>...</td>\n",
       "      <td>...</td>\n",
       "    </tr>\n",
       "    <tr>\n",
       "      <th>1104</th>\n",
       "      <td>No.</td>\n",
       "      <td>sadness</td>\n",
       "      <td>3.178505</td>\n",
       "    </tr>\n",
       "    <tr>\n",
       "      <th>1105</th>\n",
       "      <td>What? Oh my God! Im gonna miss you so much!</td>\n",
       "      <td>sadness</td>\n",
       "      <td>3.002009</td>\n",
       "    </tr>\n",
       "    <tr>\n",
       "      <th>1106</th>\n",
       "      <td>Im gonna miss you!</td>\n",
       "      <td>sadness</td>\n",
       "      <td>2.867751</td>\n",
       "    </tr>\n",
       "    <tr>\n",
       "      <th>1107</th>\n",
       "      <td>I mean its the end of an era!</td>\n",
       "      <td>sadness</td>\n",
       "      <td>2.766020</td>\n",
       "    </tr>\n",
       "    <tr>\n",
       "      <th>1108</th>\n",
       "      <td>I know!</td>\n",
       "      <td>sadness</td>\n",
       "      <td>2.734597</td>\n",
       "    </tr>\n",
       "  </tbody>\n",
       "</table>\n",
       "<p>1109 rows × 3 columns</p>\n",
       "</div>"
      ],
      "text/plain": [
       "                                              Utterance   Emotion        p1\n",
       "0        Oh my God, hes lost it. Hes totally lost it.   sadness  3.393806\n",
       "1                                                 What?  surprise  3.923599\n",
       "2     Or! Or, we could go to the bank, close our acc...   neutral  3.593475\n",
       "3                                      Youre a genius!       joy  4.430512\n",
       "4               Aww, man, now we wont be bank buddies!   sadness  3.951700\n",
       "...                                                 ...       ...       ...\n",
       "1104                                                No.   sadness  3.178505\n",
       "1105       What? Oh my God! Im gonna miss you so much!   sadness  3.002009\n",
       "1106                                Im gonna miss you!   sadness  2.867751\n",
       "1107                     I mean its the end of an era!   sadness  2.766020\n",
       "1108                                            I know!   sadness  2.734597\n",
       "\n",
       "[1109 rows x 3 columns]"
      ]
     },
     "execution_count": 136,
     "metadata": {},
     "output_type": "execute_result"
    }
   ],
   "source": [
    "emotions_df[\"p1\"] = all_results_p1\n",
    "emotions_df"
   ]
  },
  {
   "cell_type": "code",
   "execution_count": 137,
   "metadata": {},
   "outputs": [],
   "source": [
    "dominance_p3 = {}\n",
    "all_results_p3=[]\n",
    "for content, name in zip(meld_df[\"file_content\"], meld_df[\"file_name\"]):\n",
    "    dominance_p3[name] = {}\n",
    "    pattern = '<(SPK[0-9]|MOD)>'\n",
    "    matches = re.findall(pattern, \"\".join(content))\n",
    "    content = re.sub(r'\\<', r'\\n<', content).split(\"\\n\")[1:]\n",
    "    content = [re.sub(pattern,\">\", d) for d in content]\n",
    "    assert len(perplexity_scores_p3[name]) == tokenizer(\" \".join(content), return_tensors=\"pt\", return_offsets_mapping=True).input_ids.size(1)\n",
    "    encodings = tokenizer(\" \".join(content), return_tensors=\"pt\", return_offsets_mapping=True).input_ids.ravel()\n",
    "    tokens = [tokenizer(token, return_tensors=\"pt\", return_offsets_mapping=True).input_ids[0] for token in content]\n",
    "    result = compute_per_utterance_mean_perplexity(content,tokens,perplexity_scores_p3[name], matches, pattern=pattern)\n",
    "    all_results_p3.extend(result)"
   ]
  },
  {
   "cell_type": "code",
   "execution_count": 138,
   "metadata": {},
   "outputs": [
    {
     "data": {
      "text/html": [
       "<div>\n",
       "<style scoped>\n",
       "    .dataframe tbody tr th:only-of-type {\n",
       "        vertical-align: middle;\n",
       "    }\n",
       "\n",
       "    .dataframe tbody tr th {\n",
       "        vertical-align: top;\n",
       "    }\n",
       "\n",
       "    .dataframe thead th {\n",
       "        text-align: right;\n",
       "    }\n",
       "</style>\n",
       "<table border=\"1\" class=\"dataframe\">\n",
       "  <thead>\n",
       "    <tr style=\"text-align: right;\">\n",
       "      <th></th>\n",
       "      <th>Utterance</th>\n",
       "      <th>Emotion</th>\n",
       "      <th>p1</th>\n",
       "      <th>p3</th>\n",
       "    </tr>\n",
       "  </thead>\n",
       "  <tbody>\n",
       "    <tr>\n",
       "      <th>0</th>\n",
       "      <td>Oh my God, hes lost it. Hes totally lost it.</td>\n",
       "      <td>sadness</td>\n",
       "      <td>3.393806</td>\n",
       "      <td>0.000000</td>\n",
       "    </tr>\n",
       "    <tr>\n",
       "      <th>1</th>\n",
       "      <td>What?</td>\n",
       "      <td>surprise</td>\n",
       "      <td>3.923599</td>\n",
       "      <td>1.910570</td>\n",
       "    </tr>\n",
       "    <tr>\n",
       "      <th>2</th>\n",
       "      <td>Or! Or, we could go to the bank, close our acc...</td>\n",
       "      <td>neutral</td>\n",
       "      <td>3.593475</td>\n",
       "      <td>0.000000</td>\n",
       "    </tr>\n",
       "    <tr>\n",
       "      <th>3</th>\n",
       "      <td>Youre a genius!</td>\n",
       "      <td>joy</td>\n",
       "      <td>4.430512</td>\n",
       "      <td>3.575197</td>\n",
       "    </tr>\n",
       "    <tr>\n",
       "      <th>4</th>\n",
       "      <td>Aww, man, now we wont be bank buddies!</td>\n",
       "      <td>sadness</td>\n",
       "      <td>3.951700</td>\n",
       "      <td>2.756949</td>\n",
       "    </tr>\n",
       "    <tr>\n",
       "      <th>...</th>\n",
       "      <td>...</td>\n",
       "      <td>...</td>\n",
       "      <td>...</td>\n",
       "      <td>...</td>\n",
       "    </tr>\n",
       "    <tr>\n",
       "      <th>1104</th>\n",
       "      <td>No.</td>\n",
       "      <td>sadness</td>\n",
       "      <td>3.178505</td>\n",
       "      <td>0.943605</td>\n",
       "    </tr>\n",
       "    <tr>\n",
       "      <th>1105</th>\n",
       "      <td>What? Oh my God! Im gonna miss you so much!</td>\n",
       "      <td>sadness</td>\n",
       "      <td>3.002009</td>\n",
       "      <td>0.864295</td>\n",
       "    </tr>\n",
       "    <tr>\n",
       "      <th>1106</th>\n",
       "      <td>Im gonna miss you!</td>\n",
       "      <td>sadness</td>\n",
       "      <td>2.867751</td>\n",
       "      <td>0.811724</td>\n",
       "    </tr>\n",
       "    <tr>\n",
       "      <th>1107</th>\n",
       "      <td>I mean its the end of an era!</td>\n",
       "      <td>sadness</td>\n",
       "      <td>2.766020</td>\n",
       "      <td>0.771816</td>\n",
       "    </tr>\n",
       "    <tr>\n",
       "      <th>1108</th>\n",
       "      <td>I know!</td>\n",
       "      <td>sadness</td>\n",
       "      <td>2.734597</td>\n",
       "      <td>0.754265</td>\n",
       "    </tr>\n",
       "  </tbody>\n",
       "</table>\n",
       "<p>1109 rows × 4 columns</p>\n",
       "</div>"
      ],
      "text/plain": [
       "                                              Utterance   Emotion        p1  \\\n",
       "0        Oh my God, hes lost it. Hes totally lost it.   sadness  3.393806   \n",
       "1                                                 What?  surprise  3.923599   \n",
       "2     Or! Or, we could go to the bank, close our acc...   neutral  3.593475   \n",
       "3                                      Youre a genius!       joy  4.430512   \n",
       "4               Aww, man, now we wont be bank buddies!   sadness  3.951700   \n",
       "...                                                 ...       ...       ...   \n",
       "1104                                                No.   sadness  3.178505   \n",
       "1105       What? Oh my God! Im gonna miss you so much!   sadness  3.002009   \n",
       "1106                                Im gonna miss you!   sadness  2.867751   \n",
       "1107                     I mean its the end of an era!   sadness  2.766020   \n",
       "1108                                            I know!   sadness  2.734597   \n",
       "\n",
       "            p3  \n",
       "0     0.000000  \n",
       "1     1.910570  \n",
       "2     0.000000  \n",
       "3     3.575197  \n",
       "4     2.756949  \n",
       "...        ...  \n",
       "1104  0.943605  \n",
       "1105  0.864295  \n",
       "1106  0.811724  \n",
       "1107  0.771816  \n",
       "1108  0.754265  \n",
       "\n",
       "[1109 rows x 4 columns]"
      ]
     },
     "execution_count": 138,
     "metadata": {},
     "output_type": "execute_result"
    }
   ],
   "source": [
    "emotions_df[\"p3\"] = all_results_p3\n",
    "emotions_df"
   ]
  },
  {
   "cell_type": "code",
   "execution_count": 145,
   "metadata": {},
   "outputs": [
    {
     "name": "stdout",
     "output_type": "stream",
     "text": [
      "3.3938061112188733 0.0\n",
      "3.9235993514910503 1.9105701446533203\n",
      "3.593475347627764 0.0\n",
      "4.430511709768325 3.5751969597556372\n",
      "3.951700331664606 2.7569494819641114\n",
      "3.6525610453313373 2.3280195549863283\n",
      "3.6336807437637617 2.200520209624217\n",
      "3.521277201213011 2.100690380818602\n",
      "3.4807737033220345 1.6999013447099263\n",
      "3.4746817322860983 1.632768825647679\n",
      "3.488399500075029 1.5316014697056006\n",
      "3.505182839831726 1.494301487906621\n",
      "3.465108481431592 1.6025612711369455\n",
      "3.362438158562791 1.2947555378907256\n",
      "3.362399491470637 1.163848493570163\n",
      "3.25466499250615 1.010277812245977\n",
      "3.26714015720436 1.114593678401137\n",
      "3.2125092097753063 1.0762930002209603\n",
      "6.508779406547546 0.0\n",
      "5.3436012348023585 9.378850018536603\n",
      "4.555898773889673 6.2275195351013775\n",
      "4.516030209701487 5.825505473784038\n",
      "4.350789021625148 5.520501180489858\n",
      "4.046940889509405 4.875422668457031\n",
      "4.954531528055668 0.0\n",
      "5.935415173570315 3.9766921997070312\n",
      "4.313001845417352 2.3083889842033387\n",
      "3.4884763143279334 0.0\n",
      "4.855172281265259 6.872772070077749\n",
      "4.461546786995822 4.324139050462029\n",
      "3.9200126015327195 3.4400527892368182\n",
      "4.447256825673274 2.471917933584014\n",
      "4.384668877457871 2.2808007275642352\n",
      "4.1109387888838125 1.7909760059368225\n",
      "3.995918269112839 1.606904056689418\n",
      "3.721366287659636 1.4891957096515163\n",
      "3.5572793239261955 1.4344568493480454\n",
      "3.6063060471762602 1.3206263593519512\n",
      "3.5594580998581886 1.193222433961225\n",
      "3.4858147337392182 1.1290044440119935\n",
      "3.368179930129238 1.032484366224079\n",
      "3.4345058766269707 1.0043566469033856\n",
      "3.2350051363309222 0.0\n",
      "3.8069586346023963 2.770780563354492\n",
      "3.4015727244755802 1.8910163385527474\n",
      "2.705123789724894 1.166588503580827\n",
      "2.7604202746715343 1.0813901122245524\n",
      "2.6870164684670788 0.943923019582317\n",
      "2.6566993636672622 0.8424385936514845\n",
      "2.653341708803088 0.7993572021072561\n",
      "2.759209609586775 0.7409436451637839\n",
      "2.7270501433764225 0.7257500343195354\n",
      "2.752162353012625 0.7188243637202492\n",
      "2.7278398779598225 0.7068070620298386\n",
      "2.7045408008719254 0.6985925296008987\n",
      "3.4316636165603995 0.0\n",
      "3.920390377110905 8.201208135356074\n",
      "3.7735319239673792 6.937120301073247\n",
      "3.4568179884894947 6.201968963107755\n",
      "3.4359635602344167 5.772526140533277\n",
      "3.381940972648169 5.069753354245966\n",
      "3.3373789889521377 4.506977000798302\n",
      "3.332885305352864 3.7139776039798305\n",
      "3.1720829394478827 3.3456596641217247\n",
      "3.1329094883911903 3.1173422787719822\n",
      "3.149685866066388 0.0\n",
      "3.4454587082709036 6.416258692741394\n",
      "3.527415510486154 5.910804455620902\n",
      "3.739464125358591 5.871306625696329\n",
      "3.542508935065646 5.276243842367468\n",
      "3.169052384275047 3.856823038496077\n",
      "3.212213702868302 3.3725361430450627\n",
      "2.95765966286835 2.6662801677140138\n",
      "2.915763823853922 2.4469942441282346\n",
      "2.968872790680008 2.36044948814965\n",
      "2.9692793711614995 2.2797810021493077\n",
      "3.6814955793894253 0.0\n",
      "4.384582982567901 4.823639911154042\n",
      "3.3759594320953408 3.604884282962696\n",
      "3.2209474017853728 2.8929672837257385\n",
      "3.0020202093412456 2.3308073120602106\n",
      "2.7986352744274234 1.9602190549944487\n",
      "2.669663812086203 1.5560565723673156\n",
      "2.7557038822693567 1.2048807123569938\n",
      "2.6669425771483164 1.1405752085600838\n",
      "2.636416288217705 1.065930253767467\n",
      "2.6723624541303432 1.0156636220335171\n",
      "2.668165493964866 0.913724483505768\n",
      "2.6964651080895754 0.8460109086847434\n",
      "2.686292946658903 0.7807342002131775\n",
      "2.6877771574729405 0.7418637337439038\n",
      "5.3313960035641985 0.0\n",
      "5.140815402780261 7.5370471260764385\n",
      "4.257986746196236 4.111033716867136\n",
      "4.026324381416161 2.8300640678498894\n",
      "3.928679427312715 2.673857518197859\n",
      "3.328027450777453 1.8430585445998942\n",
      "3.225479180536864 1.5720978086111976\n",
      "3.069471639823135 1.3899717424198879\n",
      "3.455844458192587 0.0\n",
      "4.121765602193773 8.233145621515089\n",
      "3.740054872710831 5.127170414294836\n",
      "3.905454276836937 3.5133530661463737\n",
      "3.7070731595734654 2.91963061203762\n",
      "3.5027749130902723 2.677195527487331\n",
      "3.5653650469415017 2.486403496826396\n",
      "3.4875652634610352 2.2763779381759295\n",
      "3.406877134197756 2.161076132342112\n",
      "3.3870144880328996 1.957166303115286\n",
      "4.038888478279114 0.0\n",
      "3.9928354660847356 6.965905380249024\n",
      "3.597577570627133 4.110218346118927\n",
      "3.435740379523486 2.8781787015315965\n",
      "3.7967899691243217 2.215417998532454\n",
      "3.4162154841050505 1.6369438067470725\n",
      "3.3499894158957506 1.4329601382328705\n",
      "3.353351967523472 1.550809048464365\n",
      "3.231109138363256 1.4191232468869726\n",
      "3.285582135004612 1.3884455651537446\n",
      "3.1999918587441587 1.2253340034656328\n",
      "3.150972726761053 1.191060223524144\n",
      "3.1494617912218352 1.1507793208466301\n",
      "3.376871837835227 0.0\n",
      "4.050718450504872 2.824738151148746\n",
      "4.077600513274471 2.334480038711003\n",
      "3.959416521868358 1.8645693595344957\n",
      "3.4592519579945424 1.2796427602397984\n",
      "4.317867792314953 0.0\n",
      "4.171749588989076 6.439990997314453\n",
      "2.9610116727650166 3.652413885040981\n",
      "3.019234873862429 3.338766035768721\n",
      "3.1855725960112085 2.9437959985091138\n",
      "3.071622564232555 2.630879768375623\n",
      "2.9147274286548295 2.088977431388278\n",
      "2.8705801401378177 1.9316287965300571\n",
      "2.7958472122330793 1.5606863880441302\n",
      "2.6642641447898416 1.4147474721579227\n",
      "2.652143143102645 1.3230347534802955\n",
      "2.6487247709016826 1.2591584189725455\n",
      "2.749602411906664 1.1964179426956345\n",
      "2.8054681936352464 1.1272795124868162\n",
      "2.7889995450522145 1.006550040074511\n",
      "2.7173775500571096 0.9712797272122569\n",
      "2.7231798745233586 0.936313792230918\n",
      "2.7245670162506173 0.9057881717498486\n",
      "2.8587239219341427 0.8266356072392881\n",
      "2.876517041941328 0.8194927241919296\n",
      "2.84750447903928 0.8068767848767733\n",
      "2.8053310228709845 0.7957539073491501\n",
      "7.003349661827087 0.0\n",
      "6.577019506030613 6.118028163909912\n",
      "5.352255173260346 2.488075962572387\n",
      "4.223405989021846 2.5779309486970305\n",
      "3.8940035890260285 2.293933122605085\n",
      "3.6019192517513567 1.9053160116786048\n",
      "3.5615608051475 1.8140949269311617\n",
      "3.527480830206169 1.7837958045494862\n",
      "3.3657280596876857 1.5754790359163937\n",
      "5.439941661339253 0.0\n",
      "4.586781286809128 3.0194660533558237\n",
      "4.2797206013114195 2.2444019948734955\n",
      "4.137318341701757 2.1168634327975187\n",
      "3.813884818055798 1.9077814386950598\n",
      "3.465913685478154 1.734289833057074\n",
      "3.3219501400685245 1.649770772858952\n",
      "3.2704070371466747 1.5840906453259447\n",
      "3.120747789941473 1.334971431016922\n",
      "3.1020219616898843 1.2757385075092316\n",
      "4.047246736288071 0.0\n",
      "3.727454489096999 8.589655324032432\n",
      "3.8390621228609234 7.620037878476657\n",
      "3.607919328110783 6.538461477725537\n",
      "3.5923256316546643 5.631182169914245\n",
      "3.354917734190822 5.038702666759491\n",
      "3.2871009748024136 4.399607638796342\n",
      "3.3396067273659775 3.9100633447293105\n",
      "3.3027354965246665 3.743504436618655\n",
      "3.309329853462357 3.461385439156286\n",
      "3.225887915656374 3.269271050355857\n",
      "3.1045792784506316 2.7485107895006577\n",
      "2.9780199204279074 2.4543827695893907\n",
      "2.9073093221627784 2.342258684800731\n",
      "2.922224419284148 2.097771512205694\n",
      "2.942830906495073 2.2186454642482483\n",
      "2.910965566933158 2.1380771935770384\n",
      "2.903533264502596 1.944841168068749\n",
      "2.8935165624335784 1.889253822830292\n",
      "5.892955355612295 0.0\n",
      "4.856297102255317 6.019862704806858\n",
      "4.307134764268994 4.7736440249851775\n",
      "4.188645312139257 3.7600723134146796\n",
      "3.8759664478826292 2.765035611487204\n",
      "5.321313993819058 0.0\n",
      "5.7851180725006595 5.318310928344727\n",
      "4.880164106900338 3.430036828798406\n",
      "4.063331323294816 2.6033643639605977\n",
      "4.033227117561108 1.3387938660383225\n",
      "3.8021088467600443 1.2531428943980825\n",
      "3.619288255704842 1.140888300153517\n",
      "3.802961994155605 0.8819249550621193\n",
      "3.4388678572472857 0.7492096277876436\n",
      "3.288618556655006 0.7100228443093922\n",
      "3.0045534898976363 0.6148889116997266\n",
      "3.1669851873625383 0.5539138873543921\n",
      "3.149183958532086 0.5364191663883081\n",
      "3.1223337959601722 0.5149757678195231\n",
      "3.676759730492319 0.0\n",
      "3.0187317769797075 9.015611735257236\n",
      "2.601817061675006 6.7340103467305505\n",
      "2.272091902028769 4.0315915620794485\n",
      "2.4299102259025753 2.6704965671285605\n",
      "2.3492856112527933 2.0532759348454985\n",
      "2.355540213745658 1.89691771526954\n",
      "2.298358292748162 1.6778703528319219\n",
      "2.2624915335662394 1.5540142198758466\n",
      "2.2542218210564666 1.4340151078858465\n",
      "2.2228385269451123 1.3699489813186452\n",
      "2.183640985602334 1.29733174612348\n",
      "2.1765142742997488 1.2499817004928024\n",
      "2.1592623827996036 1.2133700149909903\n",
      "2.2472978396930934 1.099818505694933\n",
      "2.2146512125605646 1.0648837721668551\n",
      "2.2037103327678 1.0369535740950833\n",
      "2.2330675743847306 1.0084108442445345\n",
      "2.3235324491731557 0.853887035658485\n",
      "2.3412985751632682 0.7875617779088471\n",
      "2.317989796012553 0.7666687906333586\n",
      "2.2844268079035563 0.7347980128719628\n",
      "2.299230483165741 0.7184570494462067\n",
      "3.832392528653145 0.0\n",
      "4.049108810851286 4.1506757736206055\n",
      "3.512988086870831 2.72500919376282\n",
      "3.3826482667779874 2.062026257859543\n",
      "3.368345490840607 1.8667691104210817\n",
      "3.2784722863878235 1.7405030941029629\n",
      "3.1838416426028644 1.5992696322910078\n",
      "3.263423176421392 1.374843651221858\n",
      "3.5736168760806324 0.0\n",
      "3.4072276049126415 6.318037796020508\n",
      "3.289793193419563 5.362612207730611\n",
      "3.2046387967642485 4.072277959436178\n",
      "3.3907504167111684 3.2278113754057305\n",
      "3.2971860438266813 3.0319018489257856\n"
     ]
    },
    {
     "name": "stdout",
     "output_type": "stream",
     "text": [
      "3.128177132285349 2.8307597517967222\n",
      "4.812662363052368 0.0\n",
      "5.026520755555895 5.2681324005126955\n",
      "3.5981595238049824 3.710393041372299\n",
      "3.5220687118443577 2.671712944041128\n",
      "3.321727440274995 2.082135407626629\n",
      "2.9770793031368936 1.489927903857342\n",
      "3.351944943666292 0.9743615846398851\n",
      "3.2471452538568215 0.9318487040306392\n",
      "3.3128105924773816 0.8399657884941382\n",
      "3.208026240528852 0.8056385487820326\n",
      "3.209472426275287 0.7661539121194089\n",
      "3.191616137532199 0.885856449165765\n",
      "3.2727915628265767 0.8546530659325787\n",
      "3.330826827562143 0.8509375364804754\n",
      "4.624927916697094 0.0\n",
      "4.8692456239894515 9.001553535461426\n",
      "4.375103540005202 6.312499721844991\n",
      "4.114236624773453 5.536121213165196\n",
      "3.7820992350739995 3.424698428629519\n",
      "3.518389677784977 3.1355233556246973\n",
      "3.39456248967742 3.0101120659460623\n",
      "3.2276197509329463 2.8082156407282404\n",
      "3.257572990593026 2.6416075389832256\n",
      "3.259495952161063 2.55396957631008\n",
      "3.1892721080644257 2.5074075774324163\n",
      "3.2040966731719065 2.489808574453738\n",
      "2.9724242477003284 2.4359448416102114\n",
      "2.995952715126231 2.38299449308611\n",
      "5.139279380440712 0.0\n",
      "4.202328474041732 6.506293296813965\n",
      "3.4860574930759243 3.3082528114318848\n",
      "3.1991994381965405 1.9108860056165238\n",
      "3.1945674700714575 1.7740005459878352\n",
      "3.0731455806921595 1.6780922345635367\n",
      "2.8784311544725725 1.5401600905499615\n",
      "2.9868636889901246 1.4108155031900595\n",
      "2.972652449639338 1.3755101929776943\n",
      "3.0703790350393816 0.0\n",
      "3.164852336730941 5.759030255404386\n",
      "3.15868030358979 3.3109922198260704\n",
      "2.5229712770457215 2.18852741480805\n",
      "2.532782697512538 1.5956427883770732\n",
      "2.6407623757938077 1.3562491259990481\n",
      "7.486918369928996 0.0\n",
      "7.517521006720407 6.821627616882324\n",
      "5.785858690738678 4.602692677424504\n",
      "4.667465172315898 3.13699457347393\n",
      "3.5763496888671504 1.4783103520219976\n",
      "3.0407942090127054 1.1523539664140388\n",
      "2.893347724793932 1.0522682778040569\n",
      "2.830942063882174 0.8803421942811264\n",
      "2.8578039413449146 0.8222813524592382\n",
      "2.8005182734489344 0.935469957835534\n",
      "2.728442251936771 0.9092499080758828\n",
      "2.657718943666467 0.9379412458932146\n",
      "2.6598983799845692 0.9369047474043042\n",
      "2.641792656181661 0.9352808150462806\n",
      "2.6712234765464173 1.0041948369788853\n",
      "2.62284580346548 0.9646509316905091\n",
      "2.655770464716036 0.9280093707038328\n",
      "6.734468301137288 0.0\n",
      "6.133970273348193 8.373982649583082\n",
      "5.398360463092104 6.6716243519502525\n",
      "4.46069106548315 5.251049190759659\n",
      "3.3559012313287693 3.2145677092107565\n",
      "3.155341122268431 2.5522753285600785\n",
      "2.9277423654647627 1.9647569172084332\n",
      "2.761790881092619 1.438774632593227\n",
      "2.716815908247401 1.3640535880683684\n",
      "2.7488035542705154 1.244294054146889\n",
      "7.4753196239471436 0.0\n",
      "6.212113459904988 9.469449495014391\n",
      "4.423027938481693 5.0892474708102995\n",
      "3.9469773104699146 3.8145719933928106\n",
      "4.008910286703254 3.312861956204429\n",
      "3.7925600529515098 2.867158035759802\n",
      "3.610043076005153 2.6393891654553867\n",
      "3.37265194709244 2.0731811634518884\n",
      "3.1675050520270367 1.8640998569809324\n",
      "3.096899206780293 1.7210971142596274\n",
      "3.0560716647224204 1.6859138618311742\n",
      "3.962448553740978 0.0\n",
      "4.018379969092516 1.7231576707628038\n",
      "4.313014607462618 1.8963715965683396\n",
      "3.9379719190765172 1.7633864928265006\n",
      "3.8417750163511797 1.637546640421663\n",
      "3.6991977146116355 1.560900909701983\n",
      "3.4620195773331393 1.447871091650493\n",
      "3.4591914264075014 1.1828669155345244\n",
      "3.3213830099529806 0.9832485211345384\n",
      "3.1692728976495275 0.8350870824777163\n",
      "3.160705180881037 0.820780200617654\n",
      "4.624601084561575 0.0\n",
      "3.813992687425501 6.69698775442023\n",
      "3.220197940069534 5.236508421897888\n",
      "2.6809397496915177 3.656095768213272\n",
      "2.5873671802401494 3.152852979404005\n",
      "2.5713946586753686 2.967169575076154\n",
      "2.5402629330695246 2.8719979048687585\n",
      "2.571824040870497 2.7779426035635613\n",
      "2.6482201390494993 3.629235939422915\n",
      "2.7067481354350553 3.28163727775768\n",
      "2.6413249799470453 3.0295247191271812\n",
      "2.6100133345879115 2.6711157737743285\n",
      "2.5604622107674726 2.2655672842264174\n",
      "2.5629356021677916 2.2240959511083713\n",
      "2.5265017878864113 2.1308633197185607\n",
      "2.4700334135840327 2.0284094475863275\n",
      "2.4106272059930687 1.9300114317677328\n",
      "2.4107751155697916 1.8745460051250267\n",
      "2.389508234032777 1.8426007898891066\n",
      "3.2225883081555367 0.0\n",
      "3.149457290684323 5.244280274709066\n",
      "3.2703677296660665 2.916037827730179\n",
      "3.037793621883458 2.833654868138301\n",
      "3.102543698818548 2.3322751272292366\n",
      "3.0069244511264306 2.3101534006249813\n",
      "2.998360759112984 2.32114239015441\n",
      "2.99839983959747 2.2757812302688074\n",
      "2.969321916749666 2.1831252627074718\n",
      "2.9231250750237248 2.1731434098923406\n",
      "2.860118567198965 2.1612039145368795\n",
      "2.8390715767960044 2.1012222915887833\n",
      "2.8434524504653353 2.0269550866926247\n",
      "5.446299362182617 0.0\n",
      "5.500202059745789 3.4953399658203126\n",
      "4.834420191205067 2.4350397288799286\n",
      "4.289297994088243 2.1168197968176434\n",
      "3.897112032191621 1.6580078323950638\n",
      "3.606731225482442 1.3785287257697847\n",
      "3.3081176585302905 0.9875242267594193\n",
      "3.2749840842167797 0.8585443575080339\n",
      "3.093925953481069 0.7106751569791844\n",
      "3.189604947526911 0.6796536372601986\n",
      "2.969073653290632 0.5436602478777921\n",
      "2.9306118143658186 0.515680445689861\n",
      "2.834307163545236 0.4727319824908461\n",
      "2.8120855790397945 0.46498468913501356\n",
      "4.4737106050763815 0.0\n",
      "4.863044291734695 8.008763267880393\n",
      "4.259863989693778 0.0\n",
      "3.8663007213788876 6.920400725470649\n",
      "3.3854323544635854 4.354339472452799\n",
      "3.22967632798986 2.388511533183711\n",
      "3.249929488000889 2.113171939738095\n",
      "3.0067984900486313 1.7889574566831836\n",
      "2.8672465648870546 1.510491861111444\n",
      "2.813424272798002 1.3840055484877956\n",
      "2.777727765611039 1.3122078670519535\n",
      "2.7399440087184295 1.091171689218644\n",
      "2.7566322133136314 1.0413480127322758\n",
      "5.3279077326878905 0.0\n",
      "3.6920613765716555 0.0\n",
      "4.001580620353872 4.123302128003991\n",
      "3.595623119519307 3.581398575394242\n",
      "3.2962374463677406 2.981816239429243\n",
      "3.0683073380687196 1.6406450727053228\n",
      "2.804827071862613 1.2647272744272129\n",
      "2.6611214720634457 1.0866411751782408\n",
      "2.584729608443409 1.0481622205207162\n",
      "2.550311849904912 1.0166986717508648\n",
      "2.66270345944012 0.9361710107097259\n",
      "2.6830441373609757 0.9401784738095907\n",
      "2.520429747117709 0.8337609943534646\n",
      "4.86999904833013 0.0\n",
      "5.12232908544441 3.4954998105071313\n",
      "4.487273937193634 2.995895038951527\n",
      "3.9773156547732333 2.3584369735137836\n",
      "3.9369311219243053 2.2846235304306717\n",
      "3.8477602838367386 2.1260625311108523\n",
      "3.7451770648372333 1.853950489347226\n",
      "3.656980009457974 1.801883714388957\n",
      "3.3789554245947206 1.6246536740550288\n",
      "3.3281949805604083 1.5566520582545886\n",
      "3.262592202797716 1.3668249423163277\n",
      "4.683939053779742 0.0\n",
      "5.154256707743595 0.0\n",
      "4.650785099714994 5.181662126020952\n",
      "4.170119765012161 3.815279694313699\n",
      "3.5867395533455744 0.0\n",
      "3.567948170006275 8.715346465239653\n",
      "2.9703181951927644 5.498984837141193\n",
      "2.847272848964415 5.028209521699307\n",
      "2.8049576082133822 4.785803898119591\n",
      "3.010459619554846 3.749084886201878\n",
      "3.0904495945396198 2.9028913791724076\n",
      "2.940453774677758 2.3277070085052403\n",
      "2.856013718833809 2.009517895824769\n",
      "2.880390647355791 1.8243162631988525\n",
      "2.951594484254224 2.0183404904824718\n",
      "4.129726144003457 0.0\n",
      "4.050025416040994 2.865025369744552\n",
      "3.5535217599704545 1.9819967542375838\n",
      "4.161141946911812 0.0\n",
      "4.538769942190912 5.749895196211965\n",
      "3.8462705509020734 4.2133297743620695\n",
      "3.927546912431717 3.714863742551496\n",
      "3.24754065716145 2.4689993089437485\n",
      "3.562082196275393 0.0\n",
      "4.085924065113067 2.3807637691497803\n",
      "3.710713743995358 0.0\n",
      "4.230548993269306 2.5440257787704468\n",
      "3.751905378512068 1.7131695698718636\n",
      "3.7981088430253576 1.5940897644690748\n",
      "3.8694762946659464 1.0786630768834808\n",
      "3.6990319993216128 1.0653234594398076\n",
      "3.653971618048827 1.0142897930584456\n",
      "3.5279597461625762 0.8823119626120404\n",
      "3.3807126857524255 0.8333321968714397\n",
      "3.2449867227059737 0.8107066042721272\n",
      "3.184722926927986 0.7942059916077238\n",
      "3.193964603967135 0.7768985391526982\n",
      "3.797656226158142 0.0\n",
      "4.374305742127555 3.155445098876953\n",
      "3.8655931883388095 2.692703698810778\n",
      "3.6772601902484894 2.3046688100566035\n",
      "3.9080630061216652 1.6882506518652944\n",
      "3.533558646073708 1.4168307177722455\n",
      "3.67181807727206 1.133455105125904\n",
      "3.974331374563601 0.7130850907615436\n",
      "3.867151107795939 0.9453752027088854\n",
      "3.6000566699102508 0.9865450829267501\n",
      "3.4643009770653452 0.9618854010477662\n",
      "3.449556429979949 0.9166906642563203\n",
      "5.506516814231873 0.0\n",
      "4.880649924399871 9.480771498246627\n",
      "4.366584342614894 6.321245796540204\n",
      "3.5297393525515046 4.833419733908442\n",
      "3.609046920710898 3.6116478035195927\n",
      "3.1604421075295677 2.5924741454249203\n",
      "2.9749722122451203 2.096139321633435\n",
      "2.8043994511959927 1.7206154496581465\n",
      "2.635234935607629 1.4790664262741617\n",
      "2.748564417204218 1.3638927721977234\n"
     ]
    },
    {
     "name": "stdout",
     "output_type": "stream",
     "text": [
      "2.7568620377116733 0.0\n",
      "3.8268099736149717 9.744708833240328\n",
      "4.324921651965096 7.239390097558498\n",
      "4.101359902133404 6.474514686399036\n",
      "3.827890137693833 5.842188982665538\n",
      "3.635803462269556 4.724691449403763\n",
      "3.396240934097145 3.761163959352989\n",
      "3.330425539301256 3.3771465655783532\n",
      "3.1670319848150634 3.119143395261331\n",
      "3.1222260457601805 2.9963863245818927\n",
      "3.2084800361463497 3.01042692193728\n",
      "4.687879594889554 0.0\n",
      "5.043051972533718 8.26586768206428\n",
      "3.9541136922086015 5.260521477666394\n",
      "3.784793350836136 4.303869988123576\n",
      "3.6921306362335864 4.028436939400363\n",
      "3.6212250251501668 3.8874312954387444\n",
      "3.6143202126776384 3.774090366049127\n",
      "3.488016128654258 3.361528724153465\n",
      "4.696461359659831 0.0\n",
      "4.147050047293305 6.163126468658447\n",
      "3.898100716734512 3.6835923194885254\n",
      "3.1789988068132 2.4475311741494297\n",
      "3.0216663296426267 1.9773030419730477\n",
      "2.966034364898677 1.8477001983003738\n",
      "2.867335719601592 1.7579293471862034\n",
      "2.7798611187851443 1.5589248468888175\n",
      "3.0324770828536263 1.2471012929677963\n",
      "3.0179692463724987 1.1425194651752277\n",
      "3.0257622146216985 1.099479238709642\n",
      "2.9083521166100614 1.0053976371061581\n",
      "2.924572661523112 0.9542864717844594\n",
      "3.97694178044796 0.0\n",
      "4.017052826969776 3.3023630489002573\n",
      "3.6601274110004307 2.989889551611508\n",
      "3.7077765923057653 2.871563373985937\n",
      "3.8670759388804434 0.0\n",
      "4.26582587134017 6.4044136047363285\n",
      "3.6379135840049965 4.2252965849566175\n",
      "3.747808688550311 4.30338838627172\n",
      "3.4811167723579204 3.8360135016533046\n",
      "3.390406574745997 3.3737390052621103\n",
      "3.5049128081953995 3.1292349778173505\n",
      "4.766471146241479 0.0\n",
      "4.808588481508195 3.6317466389049184\n",
      "4.470427736237243 3.262007884289089\n",
      "3.3977314343577936 0.0\n",
      "3.484650399673868 3.4505582536969865\n",
      "3.274822596593627 2.4735653012297876\n",
      "3.346157767689757 1.731540652494582\n",
      "3.244408275226526 1.6332645816589468\n",
      "3.1552358618871845 1.5466829525927703\n",
      "3.210310266462046 1.4571203463352644\n",
      "3.1878550386289133 1.7148163178935647\n",
      "3.1383194882625918 1.4049318837268012\n",
      "5.092956986078726 0.0\n",
      "4.966310363728553 5.447737966264997\n",
      "4.173104945237616 2.279885759353638\n",
      "4.152960006240756 1.8630782546419087\n",
      "3.6147790275870064 1.4310028464956717\n",
      "3.365185910655573 1.1632698946877529\n",
      "3.33615404358528 1.0807346532344817\n",
      "3.0983715668129403 0.9988865850242317\n",
      "3.1023254409657266 0.9618890922085769\n",
      "3.0902770361292413 0.9412621867347073\n",
      "3.0514344819637604 0.8758674607027409\n",
      "3.0769441910726045 0.8529322815410206\n",
      "3.0640462775143673 0.8505648896098137\n",
      "5.271649956703186 0.0\n",
      "8.340925407409667 0.0\n",
      "5.111076018260792 9.231936591012138\n",
      "4.37153846569444 4.497692616780599\n",
      "4.214951183299954 3.933226644419707\n",
      "3.7748669751071886 3.0332741855698475\n",
      "3.6336768845555514 2.7985817560473003\n",
      "3.587869641182449 2.617374825850129\n",
      "3.5260620664445343 2.3756615779038226\n",
      "3.3087229017341104 2.162538103569223\n",
      "3.270378483008475 1.7014963415370683\n",
      "3.1321282208844705 1.5458338272894596\n",
      "3.00016997253488 1.3632533597737186\n",
      "3.1920522787764214 1.1459436683981405\n",
      "3.089350942895675 1.0538077137920014\n",
      "3.02426030032543 1.0012903827770705\n",
      "2.9461757706016436 0.8983141912744855\n",
      "2.928262424545257 0.8808124018798675\n",
      "5.69909493489699 0.0\n",
      "4.751413236964833 8.478369600632611\n",
      "4.470139975236221 6.504707539081574\n",
      "4.479010928954397 5.939605746269226\n",
      "4.34901075920573 5.453961191394113\n",
      "4.083067845237458 5.026628879706065\n",
      "3.87067648768425 4.227942199342781\n",
      "3.780507403810819 4.015746883655849\n",
      "3.493556319280866 3.479643261499619\n",
      "3.4558773797212377 2.6665824621410694\n",
      "3.365642255489966 2.500144898656785\n",
      "3.266325788533393 1.9484274131024168\n",
      "3.1568796480577714 1.741267280662871\n",
      "3.4474465671707604 0.0\n",
      "4.1610769196623005 8.353072054245892\n",
      "3.994240349520145 7.427048523878229\n",
      "3.725680331752907 6.8102505149906625\n",
      "3.641983860369931 6.466097183815845\n",
      "3.698312263235943 5.835363529102747\n",
      "3.630109063831956 5.466834080931933\n",
      "3.5641680299269147 5.045026378333569\n",
      "3.397523961420983 4.298748165116471\n",
      "3.2614610750894504 3.610231298746334\n",
      "3.2725465902032354 3.9740597746053408\n",
      "3.2447555575634555 3.8889989522709087\n",
      "5.050403580069542 0.0\n",
      "5.4387156665325165 4.261923980712891\n",
      "3.7984290011892363 2.3096118597097175\n",
      "3.4292398742645194 1.7512587784179325\n",
      "3.5397315848949216 1.6195352380237882\n",
      "5.015677869319916 0.0\n",
      "4.400395330826619 11.103241867489285\n",
      "3.9044809783106 7.647878929420754\n",
      "3.7392774193893925 5.3017845242461075\n",
      "3.709779782193648 4.825842491340363\n",
      "3.68257040291604 4.509751933527753\n",
      "3.5846714482937783 4.164571760185793\n",
      "6.464664697647095 0.0\n",
      "5.481657564640045 6.377666473388672\n",
      "4.575205546617508 3.2019864320755005\n",
      "4.064855581770341 2.7528202438354494\n",
      "3.549840899939473 1.8967921184866052\n",
      "3.364772619754076 1.4302072110129338\n",
      "4.478914914056658 0.0\n",
      "4.350928007374303 7.7508196740780235\n",
      "4.002456150053964 5.6441643452033015\n",
      "4.0186634476296605 4.661651350484036\n",
      "3.835650837139749 4.724885581962524\n",
      "3.738554511060433 4.517953464618096\n",
      "5.060764885467032 0.0\n",
      "4.765745547445919 5.253562023765163\n",
      "4.210846882344126 3.6322632986923744\n",
      "3.9730992714277185 3.027688899210521\n",
      "3.727216273700146 2.3459805040569095\n",
      "3.540775481743428 2.025248873627411\n",
      "3.4569857997740745 1.9555854401805184\n",
      "3.579128543375715 1.8396450426398205\n",
      "3.478987833141176 2.0952224671840667\n",
      "3.4326806079346204 2.008772760629654\n",
      "3.3827890939191887 1.7817419736813276\n",
      "3.4724601794214545 1.688351309389779\n",
      "3.3919550275094967 1.6088216367295418\n",
      "3.3034286428359336 1.4709737024109089\n",
      "3.201270999885275 1.3362570100803792\n",
      "3.1106182759569236 1.2399770725812567\n",
      "2.9427551394126183 1.0748377268747338\n",
      "2.9322613850870685 1.0682357145978838\n",
      "2.9361772605687166 1.0300730884305596\n",
      "2.906365917044277 1.011568482068171\n",
      "2.8334904338287927 0.9893340469953923\n",
      "4.45953839069063 0.0\n",
      "3.8628141085679535 6.225497147132611\n",
      "3.4893262514884036 5.1589293568067145\n",
      "3.501773335791932 4.419433172260012\n",
      "3.600097171992131 3.891905875876546\n",
      "4.5266370446243815 0.0\n",
      "3.706756635892602 7.935339854313777\n",
      "3.3825858832358557 6.643775798025585\n",
      "3.5734645630521897 5.137711578104869\n",
      "3.6609265118831265 5.186013316286021\n",
      "3.576449399044616 4.77763559065367\n",
      "3.5160015341573354 4.598562654822763\n",
      "3.0256169637231727 3.3088937792284736\n",
      "3.0008448647002464 3.112627648538159\n",
      "3.007642633125844 2.970893750161481\n",
      "3.1061274269051937 3.037220265673495\n",
      "5.606685769557953 0.0\n",
      "4.457658400421981 9.720945591829262\n",
      "3.8089341457248556 5.850135584438548\n",
      "3.6620074087986723 5.108973719635788\n",
      "3.6406686527877197 3.9914105653058827\n",
      "3.441535712489182 3.431384545944681\n",
      "3.354854145405482 2.884509961781555\n",
      "3.3303160083593397 2.8261503910269243\n",
      "3.265427299972853 2.6570600082326417\n",
      "3.215450747964002 2.5483362513463854\n",
      "6.464664697647095 0.0\n",
      "4.937604803178045 7.653199768066406\n",
      "3.8886190794016184 4.17562221288681\n",
      "3.381950790807605 2.4013082252608404\n",
      "3.5771283219587438 1.8169484841823578\n",
      "3.513136657592105 1.2161554792871723\n",
      "3.3011890154578447 1.167402480750583\n",
      "3.5243727667364984 0.944003975514425\n",
      "3.336781468766749 0.8489049563124296\n",
      "3.248580422719299 0.742083809700691\n",
      "3.1197898452662143 0.6911410409001968\n",
      "6.464664697647095 0.0\n",
      "4.709650391091903 8.830615116999699\n",
      "3.971427665264518 4.389619058796337\n",
      "3.746380631811917 3.7503881937626637\n",
      "3.4909204397090647 2.845408386466178\n",
      "3.56465130969882 2.0792033205755422\n",
      "3.203921513436477 1.5721991262057933\n",
      "3.0675256188521733 1.3249578612922417\n",
      "2.878172902006875 1.1035976705451807\n",
      "2.773685073510379 0.9621340627614543\n",
      "2.74682758434046 0.9410641126178362\n",
      "2.7509398789753994 0.8931500535387142\n",
      "2.8728041376918556 0.0\n",
      "3.2678701732307673 8.136860016853579\n",
      "3.086500660766189 6.093165345844769\n",
      "3.220535763187541 5.573935684302579\n",
      "3.126428198772219 4.764380882735606\n",
      "3.0051687919875674 3.6407788869150925\n",
      "2.851554805977845 3.0151718588502603\n",
      "2.8403713047626074 2.8823358593301642\n",
      "2.871468871599657 2.624786059776641\n",
      "2.7777599432494724 2.2168243006187476\n",
      "2.7210102133911818 2.145734050021064\n",
      "2.6737018574601867 1.9247075648040233\n",
      "2.9024278327136073 1.7856013743408226\n",
      "2.8399775837628387 1.6866884157295872\n",
      "2.832003085760225 1.3492846846098627\n",
      "2.803890982999012 1.3021754021956875\n",
      "2.7765834619252323 1.2085957384412795\n",
      "2.6373555495993637 1.0875514361403675\n",
      "2.618567168085292 1.0731051640461855\n",
      "2.619615221491161 1.0202562529937367\n",
      "4.497788110181041 0.0\n",
      "4.3043910107048955 6.522472280137082\n",
      "4.086014672906862 5.682895426316695\n",
      "3.969720113091171 5.16737583523891\n",
      "3.67160058268072 4.587202111016149\n",
      "3.6213180935475977 3.934547828303443\n",
      "4.542656488358402 0.0\n",
      "4.310849221376702 4.007295608520508\n",
      "4.562164804716481 2.374594420194626\n",
      "4.291455067991418 2.121978562325239\n",
      "3.910867624979277 1.735474067926407\n",
      "4.024098494978478 1.6424670978025957\n",
      "5.102988546093305 0.0\n",
      "4.396021916965643 2.320864862011325\n",
      "4.269682957111178 2.098804307611365\n",
      "4.385287081432897 1.9712624468586661\n",
      "4.4239455412911335 1.887639506066099\n",
      "4.241793303640168 2.3067581848851564\n",
      "4.040132806585033 1.988435324119485\n",
      "3.5475466032962273 1.5802773408005746\n",
      "3.465802039833419 1.5669092355256384\n",
      "3.459013941380868 1.409697208109252\n",
      "3.434619108829886 1.3562361246953576\n",
      "3.303496386097429 1.2510474796277764\n",
      "3.2792044712571213 1.2118004820744197\n",
      "3.2591098454650855 1.182175398065198\n",
      "3.2136920953266723 1.1611972764228125\n",
      "3.3796530859862948 1.0770080680756464\n",
      "3.396845430063242 1.325192435386595\n",
      "3.372989603742543 1.2897598196183686\n",
      "3.3737538097103914 1.2509103559433146\n",
      "4.4065445477054235 0.0\n",
      "4.420942438840866 1.0751292888934796\n",
      "3.621872020540414 1.3649164243177934\n",
      "6.0375494956970215 0.0\n",
      "6.003156968525478 6.126201629638672\n",
      "3.663125727822383 2.267413814221659\n",
      "2.9677427796058957 1.4548145473003387\n"
     ]
    },
    {
     "name": "stdout",
     "output_type": "stream",
     "text": [
      "2.8839094746927003 1.4420109565441426\n",
      "2.8788086284090073 1.4138388003426037\n",
      "2.8000512726488522 1.3865047208555452\n",
      "2.7447896254986213 1.2914288428521925\n",
      "2.7023545553367843 1.274497365579009\n",
      "2.845898554351043 1.089414390779677\n",
      "2.8725476481985757 1.0719259203165428\n",
      "2.839965653619078 1.0670122772120358\n",
      "2.7891459311874782 1.066181706203209\n",
      "2.825168046368706 1.166366516288958\n",
      "2.7434696778998875 1.1821239448175198\n",
      "2.6564277576447544 1.1852483610401239\n",
      "2.652212051959419 1.1615956184711862\n",
      "2.615337215761385 1.122772215854509\n",
      "2.6010889896113065 1.1097062274005063\n",
      "2.6426668093628556 1.042157995020783\n",
      "4.727643663387584 0.0\n",
      "4.933439135551453 0.0\n",
      "4.157601277828217 10.211488723754883\n",
      "3.8674689716306228 8.897175312042236\n",
      "3.5453448674895545 7.934412787942326\n",
      "3.3643578080569996 5.282478605325405\n",
      "3.283215227270765 4.829494519061164\n",
      "3.0081901904712947 3.8062516604996706\n",
      "3.023377731913621 2.586156638615109\n",
      "3.135511768875955 2.279785728551508\n",
      "3.082955472504805 2.001102937557173\n",
      "3.0198687961807926 1.8374705109503362\n",
      "2.8702702699037546 1.5040935036287737\n",
      "2.80376162686179 1.4077198398597721\n",
      "2.7846990665305915 1.3556265561303622\n",
      "2.7576052430377183 1.2532520655401145\n",
      "2.7580257474007466 1.229767788109208\n",
      "2.743544954462102 1.2123171571430151\n",
      "6.735185146331787 0.0\n",
      "6.487186431884766 7.787606048583984\n",
      "4.840523089215692 3.226281762123108\n",
      "3.7391993442736804 2.0855904173851014\n",
      "3.14896637780435 1.4937679732907307\n",
      "3.032504562615296 1.3737715969793498\n",
      "2.8930198267331977 1.2210959418039573\n",
      "2.8408815079906247 1.098590091776068\n",
      "2.985340022265744 0.975165526825385\n",
      "2.9138514480081015 0.8001763583495726\n",
      "2.8401103037351634 0.7598566722306537\n",
      "2.8215005360582066 0.7447983126289078\n",
      "2.7159933845170134 0.6850316298622934\n",
      "2.71266313135784 0.6053717202123474\n",
      "2.8929350103826588 0.5623642578721046\n",
      "2.908038241874858 0.54743985371897\n",
      "2.873898654833041 0.5132110732537444\n",
      "2.826544914265081 0.479064653755403\n",
      "2.8070674977309564 0.47191476435042345\n",
      "2.796865661695086 0.4574399215937381\n",
      "4.403274747041555 0.0\n",
      "5.174297226053155 5.14600542317266\n",
      "4.092777313833472 3.430043270954719\n",
      "3.9298596307545757 2.526585386523718\n",
      "3.697858095372794 2.114326014346683\n",
      "3.6171537724360094 2.0065721881042404\n",
      "3.3868125569596885 1.7996581192054446\n",
      "3.2868983070891264 1.701147055892802\n",
      "3.2138746475902242 1.5656672998054608\n",
      "4.679629032810529 0.0\n",
      "4.665011452635129 4.530392646789551\n",
      "3.4363087000591412 2.853608513700551\n",
      "3.0610800538408127 2.17752582522539\n",
      "3.171917417015021 1.6373624885981937\n",
      "3.2605503978657313 1.47891203200413\n",
      "3.496135084836305 1.039900584485043\n",
      "3.428934847916832 0.9796012796613635\n",
      "3.1686191112783395 0.8524261405286582\n",
      "3.0771376028390867 0.7416364878733107\n",
      "3.0377955350903854 0.7080042839926832\n",
      "4.279091006574722 0.0\n",
      "4.157720307226885 4.873079880424168\n",
      "3.3285354722551452 3.2938209669930596\n",
      "2.9273204591999384 2.0596508229600974\n",
      "2.795714284830366 1.9131135133996842\n",
      "2.6309399723508653 1.6761158874181852\n",
      "2.500836343681447 1.5131111713807757\n",
      "2.6462351886887947 1.3161287352753182\n",
      "2.6175358714126995 1.2095764747486923\n",
      "2.665690678968531 1.1785251725157466\n",
      "5.164908325672149 0.0\n",
      "4.406423880940392 6.864291667938232\n",
      "4.604725243953558 5.667996280723148\n",
      "4.834607990582784 0.0\n",
      "5.40769884947302 5.789460945129394\n",
      "4.2289507873552346 5.270082550048828\n",
      "3.6658509341280285 4.342234051996662\n",
      "3.4652841236162533 3.526777990353413\n",
      "3.5820523801626774 3.049356003170428\n",
      "3.5254588845698813 2.9041663130226825\n",
      "3.3040409456419813 2.6027172041524733\n",
      "3.1732860498572557 2.2153287938887014\n",
      "3.1721722338688187 2.111318949716432\n",
      "3.023398181006029 1.9231234050396853\n",
      "2.9857553662117113 1.8568416062629585\n",
      "3.018854405188436 1.7937367102781008\n",
      "2.991061270255921 1.653463401676466\n",
      "2.97159900113122 1.6218068034065014\n",
      "2.9860178408433065 1.5248785440651875\n",
      "2.9508878599567034 1.4097182238231534\n",
      "2.8470812278645776 1.2732906470191665\n",
      "2.6917485596911432 1.1739269233839487\n",
      "4.244013302466449 0.0\n",
      "3.7782946972974707 6.560378551483154\n",
      "3.343302601534459 4.491545741124587\n",
      "3.2513555653778643 4.21264061584311\n",
      "3.0497353423437845 3.505184784128859\n",
      "2.6491617365545075 2.592029082543642\n",
      "2.581434363117759 2.415188095054111\n",
      "2.470488976849299 2.274781086364714\n",
      "4.691658712923527 0.0\n",
      "4.158784596359029 6.975647449493408\n",
      "3.4083170644007623 3.385061654177579\n",
      "3.270659180516377 3.0499912173140284\n",
      "3.1052288490490842 2.4912329415480294\n",
      "3.0954106824065093 2.174707782857212\n",
      "2.9513706131733617 2.0332902246051363\n",
      "2.943943181099664 1.4654546068675482\n",
      "4.403518845637639 0.0\n",
      "4.91118086129427 9.474862060546876\n",
      "3.6486376079324727 6.09276328459382\n",
      "3.470530712913911 4.124784426391125\n",
      "3.478979866722063 3.3620888733783283\n",
      "3.4050040811704223 2.9787817609806857\n",
      "3.3377285635890974 2.848197882317684\n",
      "3.215944059509976 2.587498253249392\n",
      "3.0715580006706573 2.399770093554596\n",
      "3.1685651233749446 2.2452582258142924\n",
      "3.051714862567874 1.963210834972276\n",
      "2.949080159222441 1.8274698685986777\n",
      "2.9716962474760495 1.7791767767277258\n",
      "3.007409239908021 2.6173226970857306\n",
      "2.9977936432668826 2.541297375129725\n",
      "2.9875087072347286 2.346502114987963\n",
      "2.962728408333921 2.299165784231117\n",
      "4.993427018324534 0.0\n",
      "4.219301359149048 9.630877444618626\n",
      "3.7286367083956695 7.414010934829712\n",
      "3.4312736766805756 5.733492179788076\n",
      "4.508972457477024 0.0\n",
      "4.854417387928281 5.935444704691569\n",
      "3.7459221467375756 3.3218245352468183\n",
      "3.5429800109794507 2.251788944568274\n",
      "3.7371832916101853 2.2325130792764516\n",
      "4.169699245406425 0.0\n",
      "4.9333606550756555 4.668732325236003\n",
      "4.614354961631554 4.862043023109436\n",
      "4.02728532498683 3.754325819258787\n",
      "3.9265871961896837 2.5297993445396423\n",
      "3.8106540987767707 2.026493095245558\n",
      "7.8136857350667315 0.0\n",
      "4.484410268919809 10.515164462002842\n",
      "3.8644184935273547 6.9937015771865845\n",
      "3.540724744765612 4.953955382108688\n",
      "3.496132888824213 3.2274934657310186\n",
      "3.1842210565697644 2.7812155299307255\n",
      "3.1249022451678603 2.668534261725282\n",
      "3.0721404509234467 2.576100913058851\n",
      "3.1373101552543674 2.3896205516637496\n",
      "3.1762752738875024 2.2336799806931564\n",
      "3.1861159922828715 2.1615030289453974\n",
      "3.2414597021748444 0.0\n",
      "3.618146675991247 2.958203014574553\n",
      "3.110148950523855 2.185981414936207\n",
      "3.0503383017014385 2.0571177807347527\n",
      "3.1047252089327286 1.7813895222018747\n",
      "3.018537815903417 1.3912884018250875\n",
      "2.974916375292392 1.2657780434610775\n",
      "4.975142485565609 0.0\n",
      "5.028195399791002 5.005133011761834\n",
      "4.479402323067188 4.190241915839059\n",
      "4.165498624648899 2.512952963511149\n",
      "3.745698525559504 2.0756514329801905\n",
      "3.4023090552118624 1.7723789054613848\n",
      "3.394232022627774 1.4637999646365643\n",
      "3.2578508863290256 1.2959216042128328\n",
      "3.178525654213062 1.2344503891351934\n",
      "3.0541115468106326 1.0975877140131263\n",
      "3.094663811641095 0.9417217951093879\n",
      "5.692961096763611 0.0\n",
      "5.296311821917008 10.72560707728068\n",
      "4.786913487079897 8.406597557740334\n",
      "4.609909371927727 7.549054661935026\n",
      "4.432363710831851 6.420907290476673\n",
      "4.249901007428499 5.98203946833025\n",
      "4.006674615696313 5.463043176938617\n",
      "3.8196882428342684 4.754882879453163\n",
      "3.671109604131056 4.193832711821579\n",
      "3.854743238172477 4.333774799614081\n",
      "3.7536939909970837 3.9040809561014176\n",
      "3.718658344496679 3.272609314918518\n",
      "4.816148328781128 0.0\n",
      "3.2612921819090843 9.750537567138672\n",
      "3.0698746308203666 7.709437169134617\n",
      "2.7040844760521563 4.980564897656441\n",
      "2.7456410895478363 3.6401271525284518\n",
      "2.6897216742330543 3.3148495496103636\n",
      "2.758305590370437 2.5088230298075938\n",
      "2.719532423348491 2.3858900062182795\n",
      "4.2743867059548695 0.0\n",
      "3.8628906523570037 8.091657257080078\n",
      "3.84666986633902 6.996833756883094\n",
      "3.5167881250943123 5.779069986836664\n",
      "3.333222247290703 4.668416175532014\n",
      "3.2737996502219175 4.256092158732591\n",
      "3.213229023842446 4.082125020377776\n",
      "3.057911204670745 3.6237876344587385\n",
      "2.9884411762255283 3.456679867178786\n",
      "2.8600639372656587 3.19669146607588\n",
      "2.7982998301708397 2.819656905461484\n",
      "2.8811421976690483 2.591724814914113\n",
      "3.990894827827373 0.0\n",
      "4.113044344592666 7.464434623718262\n",
      "3.342826004394402 5.279847105344136\n",
      "3.2950378145510903 4.286694052742749\n",
      "3.5114518123619987 4.021393566646359\n",
      "3.1385553166315545 3.4269978089465036\n",
      "3.133811483093941 3.0071171901879774\n",
      "2.9666373652941407 2.6053537987172604\n",
      "2.8898521244580504 2.4262720614294464\n",
      "2.9117624838133582 2.2968224068365153\n",
      "2.8941691611568063 2.226141540152686\n",
      "3.8005614314849177 0.0\n",
      "3.652075758232968 4.817127863566081\n",
      "3.3997708682919727 3.0696205921747066\n",
      "3.1422813432527357 2.40540266760758\n",
      "4.416351196433728 0.0\n"
     ]
    },
    {
     "name": "stdout",
     "output_type": "stream",
     "text": [
      "4.784494209825061 1.7208646448647105\n",
      "4.632144825511866 1.7806592517428927\n",
      "4.112931061450194 1.5812260969992606\n",
      "4.023086787601862 1.50483411639484\n",
      "3.693076570802077 1.3092268653857855\n",
      "3.6026830688337905 1.2561866178232082\n",
      "3.416789518974145 1.072777730395209\n",
      "3.25473727925116 1.0131240500169887\n",
      "3.144855816260859 0.9110003767105249\n",
      "3.1455901590015856 0.851100614413302\n",
      "3.0928191051751126 0.7657629148745388\n",
      "3.096627382307705 0.7178977057337761\n",
      "3.0267412230161774 0.6662549220417675\n",
      "2.9273929466720436 0.636733958451309\n",
      "2.83070273029437 0.5716071240603924\n",
      "2.7090833034809205 0.5247367968258914\n",
      "2.638937650442319 0.4953737030804589\n",
      "2.6295428671932783 0.48962132896163635\n",
      "2.611295436654601 0.4856606059458474\n",
      "2.5834817290665155 0.4744883858354018\n",
      "2.5421331102033373 0.46348789104858773\n",
      "3.484484368791947 0.0\n",
      "3.6033073559000686 3.5829457734760486\n",
      "3.105772651893524 2.848783950805664\n",
      "3.0050273835742183 2.5200372510834743\n",
      "2.9676491585948193 2.363283583863837\n",
      "4.420927913749919 0.0\n",
      "4.316193562961416 3.8461766815185547\n",
      "4.009051849219637 3.264568971049401\n",
      "3.8743298246408813 2.7904007273751334\n",
      "3.7478803504602096 2.449965421543565\n",
      "3.549275692012359 2.2214837496479354\n",
      "3.904275139805395 1.8235273317235414\n",
      "3.5360867987474194 1.4161006701581271\n",
      "3.3155769580740166 1.1055849785054173\n",
      "6.523374704411253 0.0\n",
      "6.055010994358991 0.0\n",
      "5.5822818875312805 0.0\n",
      "5.9718718358448575 4.628782153129578\n",
      "7.1055125205053224 0.0\n",
      "5.935651651397348 6.962100437709263\n",
      "4.539165967951218 4.845502318874482\n",
      "4.459775395691395 3.4691026590087195\n",
      "4.115284341953549 2.9556077283162336\n",
      "3.943889473147433 0.0\n",
      "4.378698085270384 1.9264298847743444\n",
      "3.8585266216347613 1.7714346286862395\n",
      "4.01238022340422 1.6595003008842468\n",
      "3.874595348814539 1.6521335473427405\n",
      "3.555370847446223 1.4979137719654647\n",
      "3.4172630545080587 1.3482349946878958\n",
      "3.2270058418470846 1.1921493127942084\n",
      "3.149223615471498 1.1459682782491047\n",
      "3.0137909478680402 0.9592111591899067\n",
      "2.85663510654427 0.8800375054522258\n",
      "2.787099044741124 0.8436352795133224\n",
      "2.71126090674935 0.8153657216007693\n",
      "2.6185309468960662 0.7853837942497598\n",
      "2.568710769671984 0.7642706082264582\n",
      "2.419383857032552 0.7151189104077362\n",
      "6.874237895011902 0.0\n",
      "5.585443296035131 8.37444257736206\n",
      "5.0007665623457 3.8441168069839478\n",
      "4.900934823279111 3.502378066380819\n",
      "4.635813103087487 3.1170382840292796\n",
      "4.339370458544074 2.6633457174667945\n",
      "4.279320184006749 2.522976223911558\n",
      "4.048327378683037 2.374112939057143\n",
      "3.830232565565144 2.184386484831282\n",
      "3.640660880594899 2.0668889032168822\n",
      "3.644100907211334 1.97731007973687\n",
      "3.6537815655756276 1.9033718102200086\n",
      "4.892416179828022 0.0\n",
      "4.937972961679885 5.524088419400728\n",
      "4.423131452252467 4.547828314255695\n",
      "3.8424760350163396 3.2492389460684548\n",
      "3.669328260925795 2.4398544178795567\n",
      "3.2371425872415784 2.0050496503341297\n",
      "4.669622421264648 0.0\n",
      "4.890941585160115 9.46921622234842\n",
      "4.218268654341328 7.392578852176666\n",
      "3.7023175652252465 5.3279226039137155\n",
      "4.835641037891893 0.0\n",
      "4.746447310879312 5.224982070922851\n",
      "4.674396599944094 4.333808553979752\n",
      "4.575086577699985 4.068803548812866\n",
      "4.346108913574695 3.85524731982838\n",
      "4.093025741791593 3.642617399409666\n",
      "3.8594768077056223 3.448012423893762\n",
      "3.666937139133728 3.2278486100189827\n",
      "3.461149952148936 2.804974461719394\n",
      "3.395732589126823 2.5009331169364217\n",
      "3.3062914555082985 2.1824210991836943\n",
      "3.2291263584378647 2.171286864443259\n",
      "3.2332165871286467 1.9511742625469553\n",
      "3.1854228465626395 1.774211889583301\n",
      "3.159576172603204 1.7478403926659853\n",
      "4.347411367110908 0.0\n",
      "4.1639533212615385 4.7990842546735495\n",
      "3.5802018233374056 2.888635571186359\n",
      "3.501034054160118 2.2186868262123056\n",
      "3.219993315719896 1.787841789342545\n",
      "3.2142638287487184 1.7218716110053816\n",
      "3.0845086413460807 1.5159406664648227\n",
      "3.0859536985008735 1.3519522456917912\n",
      "5.019121161528996 0.0\n",
      "5.238259838687049 2.879237325567948\n",
      "4.3961920120886395 2.293929938612313\n"
     ]
    },
    {
     "name": "stderr",
     "output_type": "stream",
     "text": [
      "No artists with labels found to put in legend.  Note that artists whose label start with an underscore are ignored when legend() is called with no argument.\n"
     ]
    },
    {
     "name": "stdout",
     "output_type": "stream",
     "text": [
      "4.033808219721182 1.3139428012775924\n",
      "3.747769401820066 1.1760043120775066\n",
      "3.571703435057619 1.0129954904726106\n",
      "3.38576191570062 0.8853255934840025\n",
      "3.274998060743054 0.8207456642325889\n",
      "3.32614662340259 0.7241142400436931\n",
      "3.226211207176074 0.6610925341727304\n",
      "4.065792000386864 0.0\n",
      "4.616888127799722 2.7114105224609375\n",
      "3.770414099932703 1.8963460445404052\n",
      "4.277546635932392 0.0\n",
      "4.433482826837072 10.351705932617188\n",
      "3.820938757150495 7.584557536360506\n",
      "3.815363738796513 7.1529393181568235\n",
      "3.727338791884408 6.672361280141252\n",
      "5.042600181885064 0.0\n",
      "5.51638935955072 2.350636689559273\n",
      "5.010578720085323 2.66279540523406\n",
      "4.291813062790495 2.214514410495758\n",
      "3.8566887126763123 1.3336936290775026\n",
      "3.8005381096600974 1.2721465693132297\n",
      "3.6697684853046666 1.2190956624201785\n",
      "3.533856122888325 1.1371851478787987\n",
      "3.26147477729159 0.9748115614056587\n",
      "3.178504935289557 0.9436047481639045\n",
      "3.002009067572509 0.864294623870116\n",
      "2.8677514663775177 0.8117235992635999\n",
      "2.7660202282713726 0.7718156959329333\n",
      "2.734597132891968 0.7542650546831421\n"
     ]
    },
    {
     "data": {
      "image/png": "[encoded data removed]",
      "text/plain": [
       "<Figure size 1000x600 with 1 Axes>"
      ]
     },
     "metadata": {},
     "output_type": "display_data"
    }
   ],
   "source": [
    "# Color map for emotions\n",
    "emotion_color_map = {\n",
    "    'anger': \"red\",\n",
    "    'disgust': \"purple\",\n",
    "    'fear': \"green\",\n",
    "    'joy': \"yellow\",\n",
    "    'neutral': \"gray\",\n",
    "    'sadness': \"blue\",\n",
    "    'surprise': \"orange\"\n",
    "}\n",
    "\n",
    "# Plotting\n",
    "plt.figure(figsize=(10, 6))\n",
    "for _, row in emotions_df.iterrows():\n",
    "    print(row['p1'], row['p3'])\n",
    "    plt.scatter(row['p1'], row['p3'], color=emotion_color_map[row['Emotion']])\n",
    "\n",
    "plt.title(\"Emotions in 2D Grid\")\n",
    "plt.xlabel(\"p1\")\n",
    "plt.ylabel(\"p3\")\n",
    "plt.legend()\n",
    "plt.grid(True)\n",
    "plt.show()\n"
   ]
  },
  {
   "cell_type": "code",
   "execution_count": 62,
   "metadata": {},
   "outputs": [
    {
     "data": {
      "text/html": [
       "        <script type=\"text/javascript\">\n",
       "        window.PlotlyConfig = {MathJaxConfig: 'local'};\n",
       "        if (window.MathJax && window.MathJax.Hub && window.MathJax.Hub.Config) {window.MathJax.Hub.Config({SVG: {font: \"STIX-Web\"}});}\n",
       "        if (typeof require !== 'undefined') {\n",
       "        require.undef(\"plotly\");\n",
       "        requirejs.config({\n",
       "            paths: {\n",
       "                'plotly': ['https://cdn.plot.ly/plotly-2.12.1.min']\n",
       "            }\n",
       "        });\n",
       "        require(['plotly'], function(Plotly) {\n",
       "            window._Plotly = Plotly;\n",
       "        });\n",
       "        }\n",
       "        </script>\n",
       "        "
      ]
     },
     "metadata": {},
     "output_type": "display_data"
    }
   ],
   "source": [
    "import os\n",
    "import pandas as pd\n",
    "import numpy as np\n",
    "import matplotlib.pyplot as plt\n",
    "import scipy.stats\n",
    "import plotly\n",
    "import plotly.io as pio\n",
    "pio.renderers.default = 'iframe'\n",
    "import plotly.express as px\n",
    "plotly.offline.init_notebook_mode(connected=True)\n",
    "import seaborn as sns"
   ]
  },
  {
   "cell_type": "code",
   "execution_count": 63,
   "metadata": {},
   "outputs": [],
   "source": [
    "cmp = 'algae'\n",
    "def correlation_heatmap(y_cols, x_cols, full_data):\n",
    "    '''\n",
    "    Uses scipy.stats.spearmanr function\n",
    "    Params:\n",
    "    y_cols, x_cols: sets of column titles (strings)\n",
    "    full_data: pandas dataframe that includes all columns listed in y_cols, x_cols\n",
    "    Returns:\n",
    "    corr: Spearman correlation coefficient matrix (y_cols = rows, x_cols = cols of matrix)\n",
    "    fig_corr: annotated plotly heatmap of coefficients\n",
    "    p: Spearman p-value matrix\n",
    "    fig_p: annotated plotly heatmap of p-values\n",
    "    '''\n",
    "    cols = y_cols+x_cols\n",
    "    all_correlations = scipy.stats.spearmanr(full_data[cols], nan_policy='omit')\n",
    "    corr = all_correlations.statistic[:len(y_cols), -len(x_cols):]\n",
    "    corr = pd.DataFrame(corr)\n",
    "    corr.columns = x_cols\n",
    "    corr.index = y_cols\n",
    "\n",
    "    p = all_correlations.pvalue[:len(y_cols), -len(x_cols):]\n",
    "    p = pd.DataFrame(p)\n",
    "    p.columns = x_cols\n",
    "    p.index = y_cols\n",
    "    \n",
    "    fig_corr = px.imshow(corr, text_auto=True, aspect='auto', color_continuous_scale='agsunset')\n",
    "    fig_r2 = px.imshow(corr**2, text_auto=True, aspect='auto', color_continuous_scale='agsunset')\n",
    "    fig_p = px.imshow(p, text_auto=True, aspect='auto', color_continuous_scale='gray_r')\n",
    "\n",
    "    return corr, fig_corr, p, fig_p, fig_r2"
   ]
  },
  {
   "cell_type": "code",
   "execution_count": 64,
   "metadata": {},
   "outputs": [],
   "source": [
    "def correlation(df_final):\n",
    "    corr, fig_corr, p, fig_p, fig_r2 = correlation_heatmap(col_1, col_2, df_final)\n",
    "    fig_corr.show()\n",
    "    fig_p.show()\n",
    "    fig_r2.show()\n",
    "    return corr, fig_corr, p, fig_p, fig_r2"
   ]
  },
  {
   "cell_type": "code",
   "execution_count": 65,
   "metadata": {},
   "outputs": [
    {
     "data": {
      "text/html": [
       "<div>\n",
       "<style scoped>\n",
       "    .dataframe tbody tr th:only-of-type {\n",
       "        vertical-align: middle;\n",
       "    }\n",
       "\n",
       "    .dataframe tbody tr th {\n",
       "        vertical-align: top;\n",
       "    }\n",
       "\n",
       "    .dataframe thead th {\n",
       "        text-align: right;\n",
       "    }\n",
       "</style>\n",
       "<table border=\"1\" class=\"dataframe\">\n",
       "  <thead>\n",
       "    <tr style=\"text-align: right;\">\n",
       "      <th></th>\n",
       "      <th>SPK1_P1</th>\n",
       "      <th>SPK0_P1</th>\n",
       "      <th>SPK6_P1</th>\n",
       "      <th>SPK2_P1</th>\n",
       "      <th>SPK4_P1</th>\n",
       "      <th>SPK5_P1</th>\n",
       "      <th>SPK3_P1</th>\n",
       "      <th>SPK7_P1</th>\n",
       "      <th>SPK1_P3</th>\n",
       "      <th>SPK0_P3</th>\n",
       "      <th>SPK6_P3</th>\n",
       "      <th>SPK2_P3</th>\n",
       "      <th>SPK4_P3</th>\n",
       "      <th>SPK5_P3</th>\n",
       "      <th>SPK3_P3</th>\n",
       "      <th>SPK7_P3</th>\n",
       "    </tr>\n",
       "  </thead>\n",
       "  <tbody>\n",
       "    <tr>\n",
       "      <th>S0</th>\n",
       "      <td>3.393806</td>\n",
       "      <td>3.923599</td>\n",
       "      <td>NaN</td>\n",
       "      <td>NaN</td>\n",
       "      <td>NaN</td>\n",
       "      <td>NaN</td>\n",
       "      <td>NaN</td>\n",
       "      <td>NaN</td>\n",
       "      <td>0.000000</td>\n",
       "      <td>1.910570</td>\n",
       "      <td>NaN</td>\n",
       "      <td>NaN</td>\n",
       "      <td>NaN</td>\n",
       "      <td>NaN</td>\n",
       "      <td>NaN</td>\n",
       "      <td>NaN</td>\n",
       "    </tr>\n",
       "    <tr>\n",
       "      <th>S1</th>\n",
       "      <td>3.783404</td>\n",
       "      <td>3.521277</td>\n",
       "      <td>3.549329</td>\n",
       "      <td>3.472958</td>\n",
       "      <td>3.48608</td>\n",
       "      <td>3.474682</td>\n",
       "      <td>3.362399</td>\n",
       "      <td>NaN</td>\n",
       "      <td>2.339270</td>\n",
       "      <td>2.100690</td>\n",
       "      <td>0.747151</td>\n",
       "      <td>1.614507</td>\n",
       "      <td>1.665868</td>\n",
       "      <td>1.632769</td>\n",
       "      <td>1.163848</td>\n",
       "      <td>NaN</td>\n",
       "    </tr>\n",
       "    <tr>\n",
       "      <th>S2</th>\n",
       "      <td>5.138489</td>\n",
       "      <td>4.635524</td>\n",
       "      <td>NaN</td>\n",
       "      <td>NaN</td>\n",
       "      <td>NaN</td>\n",
       "      <td>NaN</td>\n",
       "      <td>NaN</td>\n",
       "      <td>NaN</td>\n",
       "      <td>3.916007</td>\n",
       "      <td>6.693259</td>\n",
       "      <td>NaN</td>\n",
       "      <td>NaN</td>\n",
       "      <td>NaN</td>\n",
       "      <td>NaN</td>\n",
       "      <td>NaN</td>\n",
       "      <td>NaN</td>\n",
       "    </tr>\n",
       "    <tr>\n",
       "      <th>S3</th>\n",
       "      <td>4.954532</td>\n",
       "      <td>4.313002</td>\n",
       "      <td>NaN</td>\n",
       "      <td>5.935415</td>\n",
       "      <td>NaN</td>\n",
       "      <td>NaN</td>\n",
       "      <td>NaN</td>\n",
       "      <td>NaN</td>\n",
       "      <td>0.000000</td>\n",
       "      <td>2.308389</td>\n",
       "      <td>NaN</td>\n",
       "      <td>3.976692</td>\n",
       "      <td>NaN</td>\n",
       "      <td>NaN</td>\n",
       "      <td>NaN</td>\n",
       "      <td>NaN</td>\n",
       "    </tr>\n",
       "    <tr>\n",
       "      <th>S4</th>\n",
       "      <td>3.852914</td>\n",
       "      <td>4.619921</td>\n",
       "      <td>NaN</td>\n",
       "      <td>3.620209</td>\n",
       "      <td>NaN</td>\n",
       "      <td>NaN</td>\n",
       "      <td>NaN</td>\n",
       "      <td>NaN</td>\n",
       "      <td>1.885585</td>\n",
       "      <td>4.576786</td>\n",
       "      <td>NaN</td>\n",
       "      <td>1.316767</td>\n",
       "      <td>NaN</td>\n",
       "      <td>NaN</td>\n",
       "      <td>NaN</td>\n",
       "      <td>NaN</td>\n",
       "    </tr>\n",
       "    <tr>\n",
       "      <th>...</th>\n",
       "      <td>...</td>\n",
       "      <td>...</td>\n",
       "      <td>...</td>\n",
       "      <td>...</td>\n",
       "      <td>...</td>\n",
       "      <td>...</td>\n",
       "      <td>...</td>\n",
       "      <td>...</td>\n",
       "      <td>...</td>\n",
       "      <td>...</td>\n",
       "      <td>...</td>\n",
       "      <td>...</td>\n",
       "      <td>...</td>\n",
       "      <td>...</td>\n",
       "      <td>...</td>\n",
       "      <td>...</td>\n",
       "    </tr>\n",
       "    <tr>\n",
       "      <th>S109</th>\n",
       "      <td>3.924223</td>\n",
       "      <td>3.353735</td>\n",
       "      <td>NaN</td>\n",
       "      <td>3.580202</td>\n",
       "      <td>NaN</td>\n",
       "      <td>NaN</td>\n",
       "      <td>NaN</td>\n",
       "      <td>NaN</td>\n",
       "      <td>1.109343</td>\n",
       "      <td>2.235338</td>\n",
       "      <td>NaN</td>\n",
       "      <td>2.888636</td>\n",
       "      <td>NaN</td>\n",
       "      <td>NaN</td>\n",
       "      <td>NaN</td>\n",
       "      <td>NaN</td>\n",
       "    </tr>\n",
       "    <tr>\n",
       "      <th>S110</th>\n",
       "      <td>4.199405</td>\n",
       "      <td>3.803108</td>\n",
       "      <td>NaN</td>\n",
       "      <td>NaN</td>\n",
       "      <td>NaN</td>\n",
       "      <td>NaN</td>\n",
       "      <td>NaN</td>\n",
       "      <td>NaN</td>\n",
       "      <td>1.639098</td>\n",
       "      <td>0.978585</td>\n",
       "      <td>NaN</td>\n",
       "      <td>NaN</td>\n",
       "      <td>NaN</td>\n",
       "      <td>NaN</td>\n",
       "      <td>NaN</td>\n",
       "      <td>NaN</td>\n",
       "    </tr>\n",
       "    <tr>\n",
       "      <th>S111</th>\n",
       "      <td>4.616888</td>\n",
       "      <td>3.918103</td>\n",
       "      <td>NaN</td>\n",
       "      <td>NaN</td>\n",
       "      <td>NaN</td>\n",
       "      <td>NaN</td>\n",
       "      <td>NaN</td>\n",
       "      <td>NaN</td>\n",
       "      <td>2.711411</td>\n",
       "      <td>0.948173</td>\n",
       "      <td>NaN</td>\n",
       "      <td>NaN</td>\n",
       "      <td>NaN</td>\n",
       "      <td>NaN</td>\n",
       "      <td>NaN</td>\n",
       "      <td>NaN</td>\n",
       "    </tr>\n",
       "    <tr>\n",
       "      <th>S112</th>\n",
       "      <td>3.774139</td>\n",
       "      <td>4.175464</td>\n",
       "      <td>NaN</td>\n",
       "      <td>NaN</td>\n",
       "      <td>NaN</td>\n",
       "      <td>NaN</td>\n",
       "      <td>NaN</td>\n",
       "      <td>NaN</td>\n",
       "      <td>7.128459</td>\n",
       "      <td>5.834882</td>\n",
       "      <td>NaN</td>\n",
       "      <td>NaN</td>\n",
       "      <td>NaN</td>\n",
       "      <td>NaN</td>\n",
       "      <td>NaN</td>\n",
       "      <td>NaN</td>\n",
       "    </tr>\n",
       "    <tr>\n",
       "      <th>S113</th>\n",
       "      <td>3.643132</td>\n",
       "      <td>3.812992</td>\n",
       "      <td>NaN</td>\n",
       "      <td>NaN</td>\n",
       "      <td>NaN</td>\n",
       "      <td>NaN</td>\n",
       "      <td>NaN</td>\n",
       "      <td>NaN</td>\n",
       "      <td>1.236131</td>\n",
       "      <td>1.236659</td>\n",
       "      <td>NaN</td>\n",
       "      <td>NaN</td>\n",
       "      <td>NaN</td>\n",
       "      <td>NaN</td>\n",
       "      <td>NaN</td>\n",
       "      <td>NaN</td>\n",
       "    </tr>\n",
       "  </tbody>\n",
       "</table>\n",
       "<p>110 rows × 16 columns</p>\n",
       "</div>"
      ],
      "text/plain": [
       "       SPK1_P1   SPK0_P1   SPK6_P1   SPK2_P1  SPK4_P1   SPK5_P1   SPK3_P1  \\\n",
       "S0    3.393806  3.923599       NaN       NaN      NaN       NaN       NaN   \n",
       "S1    3.783404  3.521277  3.549329  3.472958  3.48608  3.474682  3.362399   \n",
       "S2    5.138489  4.635524       NaN       NaN      NaN       NaN       NaN   \n",
       "S3    4.954532  4.313002       NaN  5.935415      NaN       NaN       NaN   \n",
       "S4    3.852914  4.619921       NaN  3.620209      NaN       NaN       NaN   \n",
       "...        ...       ...       ...       ...      ...       ...       ...   \n",
       "S109  3.924223  3.353735       NaN  3.580202      NaN       NaN       NaN   \n",
       "S110  4.199405  3.803108       NaN       NaN      NaN       NaN       NaN   \n",
       "S111  4.616888  3.918103       NaN       NaN      NaN       NaN       NaN   \n",
       "S112  3.774139  4.175464       NaN       NaN      NaN       NaN       NaN   \n",
       "S113  3.643132  3.812992       NaN       NaN      NaN       NaN       NaN   \n",
       "\n",
       "      SPK7_P1   SPK1_P3   SPK0_P3   SPK6_P3   SPK2_P3   SPK4_P3   SPK5_P3  \\\n",
       "S0        NaN  0.000000  1.910570       NaN       NaN       NaN       NaN   \n",
       "S1        NaN  2.339270  2.100690  0.747151  1.614507  1.665868  1.632769   \n",
       "S2        NaN  3.916007  6.693259       NaN       NaN       NaN       NaN   \n",
       "S3        NaN  0.000000  2.308389       NaN  3.976692       NaN       NaN   \n",
       "S4        NaN  1.885585  4.576786       NaN  1.316767       NaN       NaN   \n",
       "...       ...       ...       ...       ...       ...       ...       ...   \n",
       "S109      NaN  1.109343  2.235338       NaN  2.888636       NaN       NaN   \n",
       "S110      NaN  1.639098  0.978585       NaN       NaN       NaN       NaN   \n",
       "S111      NaN  2.711411  0.948173       NaN       NaN       NaN       NaN   \n",
       "S112      NaN  7.128459  5.834882       NaN       NaN       NaN       NaN   \n",
       "S113      NaN  1.236131  1.236659       NaN       NaN       NaN       NaN   \n",
       "\n",
       "       SPK3_P3  SPK7_P3  \n",
       "S0         NaN      NaN  \n",
       "S1    1.163848      NaN  \n",
       "S2         NaN      NaN  \n",
       "S3         NaN      NaN  \n",
       "S4         NaN      NaN  \n",
       "...        ...      ...  \n",
       "S109       NaN      NaN  \n",
       "S110       NaN      NaN  \n",
       "S111       NaN      NaN  \n",
       "S112       NaN      NaN  \n",
       "S113       NaN      NaN  \n",
       "\n",
       "[110 rows x 16 columns]"
      ]
     },
     "execution_count": 65,
     "metadata": {},
     "output_type": "execute_result"
    }
   ],
   "source": [
    "final_df = pd.concat((pd.DataFrame(dominance_p1).add_suffix(\"_P1\",axis=0),pd.DataFrame(dominance_p2).add_suffix(\"_P2\",axis=0),pd.DataFrame(dominance_p3).add_suffix(\"_P3\",axis=0))).T\n",
    "final_df"
   ]
  },
  {
   "cell_type": "code",
   "execution_count": 66,
   "metadata": {},
   "outputs": [
    {
     "ename": "KeyError",
     "evalue": "\"['MOD_P1', 'MOD_P2', 'SPK1_P2', 'SPK2_P2'] not in index\"",
     "output_type": "error",
     "traceback": [
      "\u001b[0;31m---------------------------------------------------------------------------\u001b[0m",
      "\u001b[0;31mKeyError\u001b[0m                                  Traceback (most recent call last)",
      "Cell \u001b[0;32mIn[66], line 4\u001b[0m\n\u001b[1;32m      2\u001b[0m col_1 \u001b[38;5;241m=\u001b[39m [\u001b[38;5;124m\"\u001b[39m\u001b[38;5;124mMOD_P1\u001b[39m\u001b[38;5;124m\"\u001b[39m,\u001b[38;5;124m\"\u001b[39m\u001b[38;5;124mSPK1_P1\u001b[39m\u001b[38;5;124m\"\u001b[39m,\u001b[38;5;124m\"\u001b[39m\u001b[38;5;124mSPK2_P1\u001b[39m\u001b[38;5;124m\"\u001b[39m] \n\u001b[1;32m      3\u001b[0m col_2 \u001b[38;5;241m=\u001b[39m [\u001b[38;5;124m\"\u001b[39m\u001b[38;5;124mMOD_P2\u001b[39m\u001b[38;5;124m\"\u001b[39m,\u001b[38;5;124m\"\u001b[39m\u001b[38;5;124mSPK1_P2\u001b[39m\u001b[38;5;124m\"\u001b[39m,\u001b[38;5;124m\"\u001b[39m\u001b[38;5;124mSPK2_P2\u001b[39m\u001b[38;5;124m\"\u001b[39m]\n\u001b[0;32m----> 4\u001b[0m corr, fig_corr, p, fig_p, fig_r2 \u001b[38;5;241m=\u001b[39m correlation(final_df)\n",
      "Cell \u001b[0;32mIn[64], line 2\u001b[0m, in \u001b[0;36mcorrelation\u001b[0;34m(df_final)\u001b[0m\n\u001b[1;32m      1\u001b[0m \u001b[38;5;28;01mdef\u001b[39;00m \u001b[38;5;21mcorrelation\u001b[39m(df_final):\n\u001b[0;32m----> 2\u001b[0m     corr, fig_corr, p, fig_p, fig_r2 \u001b[38;5;241m=\u001b[39m correlation_heatmap(col_1, col_2, df_final)\n\u001b[1;32m      3\u001b[0m     fig_corr\u001b[38;5;241m.\u001b[39mshow()\n\u001b[1;32m      4\u001b[0m     fig_p\u001b[38;5;241m.\u001b[39mshow()\n",
      "Cell \u001b[0;32mIn[63], line 15\u001b[0m, in \u001b[0;36mcorrelation_heatmap\u001b[0;34m(y_cols, x_cols, full_data)\u001b[0m\n\u001b[1;32m      3\u001b[0m \u001b[38;5;250m\u001b[39m\u001b[38;5;124;03m'''\u001b[39;00m\n\u001b[1;32m      4\u001b[0m \u001b[38;5;124;03mUses scipy.stats.spearmanr function\u001b[39;00m\n\u001b[1;32m      5\u001b[0m \u001b[38;5;124;03mParams:\u001b[39;00m\n\u001b[0;32m   (...)\u001b[0m\n\u001b[1;32m     12\u001b[0m \u001b[38;5;124;03mfig_p: annotated plotly heatmap of p-values\u001b[39;00m\n\u001b[1;32m     13\u001b[0m \u001b[38;5;124;03m'''\u001b[39;00m\n\u001b[1;32m     14\u001b[0m cols \u001b[38;5;241m=\u001b[39m y_cols\u001b[38;5;241m+\u001b[39mx_cols\n\u001b[0;32m---> 15\u001b[0m all_correlations \u001b[38;5;241m=\u001b[39m scipy\u001b[38;5;241m.\u001b[39mstats\u001b[38;5;241m.\u001b[39mspearmanr(full_data[cols], nan_policy\u001b[38;5;241m=\u001b[39m\u001b[38;5;124m'\u001b[39m\u001b[38;5;124momit\u001b[39m\u001b[38;5;124m'\u001b[39m)\n\u001b[1;32m     16\u001b[0m corr \u001b[38;5;241m=\u001b[39m all_correlations\u001b[38;5;241m.\u001b[39mstatistic[:\u001b[38;5;28mlen\u001b[39m(y_cols), \u001b[38;5;241m-\u001b[39m\u001b[38;5;28mlen\u001b[39m(x_cols):]\n\u001b[1;32m     17\u001b[0m corr \u001b[38;5;241m=\u001b[39m pd\u001b[38;5;241m.\u001b[39mDataFrame(corr)\n",
      "File \u001b[0;32m~/miniconda3/envs/.py311env/lib/python3.11/site-packages/pandas/core/frame.py:3899\u001b[0m, in \u001b[0;36mDataFrame.__getitem__\u001b[0;34m(self, key)\u001b[0m\n\u001b[1;32m   3897\u001b[0m     \u001b[38;5;28;01mif\u001b[39;00m is_iterator(key):\n\u001b[1;32m   3898\u001b[0m         key \u001b[38;5;241m=\u001b[39m \u001b[38;5;28mlist\u001b[39m(key)\n\u001b[0;32m-> 3899\u001b[0m     indexer \u001b[38;5;241m=\u001b[39m \u001b[38;5;28mself\u001b[39m\u001b[38;5;241m.\u001b[39mcolumns\u001b[38;5;241m.\u001b[39m_get_indexer_strict(key, \u001b[38;5;124m\"\u001b[39m\u001b[38;5;124mcolumns\u001b[39m\u001b[38;5;124m\"\u001b[39m)[\u001b[38;5;241m1\u001b[39m]\n\u001b[1;32m   3901\u001b[0m \u001b[38;5;66;03m# take() does not accept boolean indexers\u001b[39;00m\n\u001b[1;32m   3902\u001b[0m \u001b[38;5;28;01mif\u001b[39;00m \u001b[38;5;28mgetattr\u001b[39m(indexer, \u001b[38;5;124m\"\u001b[39m\u001b[38;5;124mdtype\u001b[39m\u001b[38;5;124m\"\u001b[39m, \u001b[38;5;28;01mNone\u001b[39;00m) \u001b[38;5;241m==\u001b[39m \u001b[38;5;28mbool\u001b[39m:\n",
      "File \u001b[0;32m~/miniconda3/envs/.py311env/lib/python3.11/site-packages/pandas/core/indexes/base.py:6114\u001b[0m, in \u001b[0;36mIndex._get_indexer_strict\u001b[0;34m(self, key, axis_name)\u001b[0m\n\u001b[1;32m   6111\u001b[0m \u001b[38;5;28;01melse\u001b[39;00m:\n\u001b[1;32m   6112\u001b[0m     keyarr, indexer, new_indexer \u001b[38;5;241m=\u001b[39m \u001b[38;5;28mself\u001b[39m\u001b[38;5;241m.\u001b[39m_reindex_non_unique(keyarr)\n\u001b[0;32m-> 6114\u001b[0m \u001b[38;5;28mself\u001b[39m\u001b[38;5;241m.\u001b[39m_raise_if_missing(keyarr, indexer, axis_name)\n\u001b[1;32m   6116\u001b[0m keyarr \u001b[38;5;241m=\u001b[39m \u001b[38;5;28mself\u001b[39m\u001b[38;5;241m.\u001b[39mtake(indexer)\n\u001b[1;32m   6117\u001b[0m \u001b[38;5;28;01mif\u001b[39;00m \u001b[38;5;28misinstance\u001b[39m(key, Index):\n\u001b[1;32m   6118\u001b[0m     \u001b[38;5;66;03m# GH 42790 - Preserve name from an Index\u001b[39;00m\n",
      "File \u001b[0;32m~/miniconda3/envs/.py311env/lib/python3.11/site-packages/pandas/core/indexes/base.py:6178\u001b[0m, in \u001b[0;36mIndex._raise_if_missing\u001b[0;34m(self, key, indexer, axis_name)\u001b[0m\n\u001b[1;32m   6175\u001b[0m     \u001b[38;5;28;01mraise\u001b[39;00m \u001b[38;5;167;01mKeyError\u001b[39;00m(\u001b[38;5;124mf\u001b[39m\u001b[38;5;124m\"\u001b[39m\u001b[38;5;124mNone of [\u001b[39m\u001b[38;5;132;01m{\u001b[39;00mkey\u001b[38;5;132;01m}\u001b[39;00m\u001b[38;5;124m] are in the [\u001b[39m\u001b[38;5;132;01m{\u001b[39;00maxis_name\u001b[38;5;132;01m}\u001b[39;00m\u001b[38;5;124m]\u001b[39m\u001b[38;5;124m\"\u001b[39m)\n\u001b[1;32m   6177\u001b[0m not_found \u001b[38;5;241m=\u001b[39m \u001b[38;5;28mlist\u001b[39m(ensure_index(key)[missing_mask\u001b[38;5;241m.\u001b[39mnonzero()[\u001b[38;5;241m0\u001b[39m]]\u001b[38;5;241m.\u001b[39munique())\n\u001b[0;32m-> 6178\u001b[0m \u001b[38;5;28;01mraise\u001b[39;00m \u001b[38;5;167;01mKeyError\u001b[39;00m(\u001b[38;5;124mf\u001b[39m\u001b[38;5;124m\"\u001b[39m\u001b[38;5;132;01m{\u001b[39;00mnot_found\u001b[38;5;132;01m}\u001b[39;00m\u001b[38;5;124m not in index\u001b[39m\u001b[38;5;124m\"\u001b[39m)\n",
      "\u001b[0;31mKeyError\u001b[0m: \"['MOD_P1', 'MOD_P2', 'SPK1_P2', 'SPK2_P2'] not in index\""
     ]
    }
   ],
   "source": [
    "# p1 - p2\n",
    "col_1 = [\"MOD_P1\",\"SPK1_P1\",\"SPK2_P1\"] \n",
    "col_2 = [\"MOD_P2\",\"SPK1_P2\",\"SPK2_P2\"]\n",
    "corr, fig_corr, p, fig_p, fig_r2 = correlation(final_df)"
   ]
  },
  {
   "cell_type": "code",
   "execution_count": 34,
   "metadata": {},
   "outputs": [
    {
     "data": {
      "application/vnd.plotly.v1+json": {
       "config": {
        "plotlyServerURL": "https://plot.ly"
       },
       "data": [
        {
         "coloraxis": "coloraxis",
         "hovertemplate": "x: %{x}<br>y: %{y}<br>color: %{z}<extra></extra>",
         "name": "0",
         "texttemplate": "%{z}",
         "type": "heatmap",
         "x": [
          "MOD_P3",
          "SPK1_P3",
          "SPK2_P3"
         ],
         "xaxis": "x",
         "y": [
          "MOD_P1",
          "SPK1_P1",
          "SPK2_P1"
         ],
         "yaxis": "y",
         "z": [
          [
           0.009287925696594427,
           0.017543859649122806,
           -0.011351909184726523
          ],
          [
           -0.07533539731682146,
           -0.09184726522187822,
           -0.13519091847265222
          ],
          [
           -0.11661506707946334,
           -0.11042311661506708,
           -0.1455108359133127
          ]
         ]
        }
       ],
       "layout": {
        "coloraxis": {
         "colorscale": [
          [
           0,
           "rgb(75, 41, 145)"
          ],
          [
           0.16666666666666666,
           "rgb(135, 44, 162)"
          ],
          [
           0.3333333333333333,
           "rgb(192, 54, 157)"
          ],
          [
           0.5,
           "rgb(234, 79, 136)"
          ],
          [
           0.6666666666666666,
           "rgb(250, 120, 118)"
          ],
          [
           0.8333333333333334,
           "rgb(246, 169, 122)"
          ],
          [
           1,
           "rgb(237, 217, 163)"
          ]
         ]
        },
        "margin": {
         "t": 60
        },
        "template": {
         "data": {
          "bar": [
           {
            "error_x": {
             "color": "#2a3f5f"
            },
            "error_y": {
             "color": "#2a3f5f"
            },
            "marker": {
             "line": {
              "color": "#E5ECF6",
              "width": 0.5
             },
             "pattern": {
              "fillmode": "overlay",
              "size": 10,
              "solidity": 0.2
             }
            },
            "type": "bar"
           }
          ],
          "barpolar": [
           {
            "marker": {
             "line": {
              "color": "#E5ECF6",
              "width": 0.5
             },
             "pattern": {
              "fillmode": "overlay",
              "size": 10,
              "solidity": 0.2
             }
            },
            "type": "barpolar"
           }
          ],
          "carpet": [
           {
            "aaxis": {
             "endlinecolor": "#2a3f5f",
             "gridcolor": "white",
             "linecolor": "white",
             "minorgridcolor": "white",
             "startlinecolor": "#2a3f5f"
            },
            "baxis": {
             "endlinecolor": "#2a3f5f",
             "gridcolor": "white",
             "linecolor": "white",
             "minorgridcolor": "white",
             "startlinecolor": "#2a3f5f"
            },
            "type": "carpet"
           }
          ],
          "choropleth": [
           {
            "colorbar": {
             "outlinewidth": 0,
             "ticks": ""
            },
            "type": "choropleth"
           }
          ],
          "contour": [
           {
            "colorbar": {
             "outlinewidth": 0,
             "ticks": ""
            },
            "colorscale": [
             [
              0,
              "#0d0887"
             ],
             [
              0.1111111111111111,
              "#46039f"
             ],
             [
              0.2222222222222222,
              "#7201a8"
             ],
             [
              0.3333333333333333,
              "#9c179e"
             ],
             [
              0.4444444444444444,
              "#bd3786"
             ],
             [
              0.5555555555555556,
              "#d8576b"
             ],
             [
              0.6666666666666666,
              "#ed7953"
             ],
             [
              0.7777777777777778,
              "#fb9f3a"
             ],
             [
              0.8888888888888888,
              "#fdca26"
             ],
             [
              1,
              "#f0f921"
             ]
            ],
            "type": "contour"
           }
          ],
          "contourcarpet": [
           {
            "colorbar": {
             "outlinewidth": 0,
             "ticks": ""
            },
            "type": "contourcarpet"
           }
          ],
          "heatmap": [
           {
            "colorbar": {
             "outlinewidth": 0,
             "ticks": ""
            },
            "colorscale": [
             [
              0,
              "#0d0887"
             ],
             [
              0.1111111111111111,
              "#46039f"
             ],
             [
              0.2222222222222222,
              "#7201a8"
             ],
             [
              0.3333333333333333,
              "#9c179e"
             ],
             [
              0.4444444444444444,
              "#bd3786"
             ],
             [
              0.5555555555555556,
              "#d8576b"
             ],
             [
              0.6666666666666666,
              "#ed7953"
             ],
             [
              0.7777777777777778,
              "#fb9f3a"
             ],
             [
              0.8888888888888888,
              "#fdca26"
             ],
             [
              1,
              "#f0f921"
             ]
            ],
            "type": "heatmap"
           }
          ],
          "heatmapgl": [
           {
            "colorbar": {
             "outlinewidth": 0,
             "ticks": ""
            },
            "colorscale": [
             [
              0,
              "#0d0887"
             ],
             [
              0.1111111111111111,
              "#46039f"
             ],
             [
              0.2222222222222222,
              "#7201a8"
             ],
             [
              0.3333333333333333,
              "#9c179e"
             ],
             [
              0.4444444444444444,
              "#bd3786"
             ],
             [
              0.5555555555555556,
              "#d8576b"
             ],
             [
              0.6666666666666666,
              "#ed7953"
             ],
             [
              0.7777777777777778,
              "#fb9f3a"
             ],
             [
              0.8888888888888888,
              "#fdca26"
             ],
             [
              1,
              "#f0f921"
             ]
            ],
            "type": "heatmapgl"
           }
          ],
          "histogram": [
           {
            "marker": {
             "pattern": {
              "fillmode": "overlay",
              "size": 10,
              "solidity": 0.2
             }
            },
            "type": "histogram"
           }
          ],
          "histogram2d": [
           {
            "colorbar": {
             "outlinewidth": 0,
             "ticks": ""
            },
            "colorscale": [
             [
              0,
              "#0d0887"
             ],
             [
              0.1111111111111111,
              "#46039f"
             ],
             [
              0.2222222222222222,
              "#7201a8"
             ],
             [
              0.3333333333333333,
              "#9c179e"
             ],
             [
              0.4444444444444444,
              "#bd3786"
             ],
             [
              0.5555555555555556,
              "#d8576b"
             ],
             [
              0.6666666666666666,
              "#ed7953"
             ],
             [
              0.7777777777777778,
              "#fb9f3a"
             ],
             [
              0.8888888888888888,
              "#fdca26"
             ],
             [
              1,
              "#f0f921"
             ]
            ],
            "type": "histogram2d"
           }
          ],
          "histogram2dcontour": [
           {
            "colorbar": {
             "outlinewidth": 0,
             "ticks": ""
            },
            "colorscale": [
             [
              0,
              "#0d0887"
             ],
             [
              0.1111111111111111,
              "#46039f"
             ],
             [
              0.2222222222222222,
              "#7201a8"
             ],
             [
              0.3333333333333333,
              "#9c179e"
             ],
             [
              0.4444444444444444,
              "#bd3786"
             ],
             [
              0.5555555555555556,
              "#d8576b"
             ],
             [
              0.6666666666666666,
              "#ed7953"
             ],
             [
              0.7777777777777778,
              "#fb9f3a"
             ],
             [
              0.8888888888888888,
              "#fdca26"
             ],
             [
              1,
              "#f0f921"
             ]
            ],
            "type": "histogram2dcontour"
           }
          ],
          "mesh3d": [
           {
            "colorbar": {
             "outlinewidth": 0,
             "ticks": ""
            },
            "type": "mesh3d"
           }
          ],
          "parcoords": [
           {
            "line": {
             "colorbar": {
              "outlinewidth": 0,
              "ticks": ""
             }
            },
            "type": "parcoords"
           }
          ],
          "pie": [
           {
            "automargin": true,
            "type": "pie"
           }
          ],
          "scatter": [
           {
            "fillpattern": {
             "fillmode": "overlay",
             "size": 10,
             "solidity": 0.2
            },
            "type": "scatter"
           }
          ],
          "scatter3d": [
           {
            "line": {
             "colorbar": {
              "outlinewidth": 0,
              "ticks": ""
             }
            },
            "marker": {
             "colorbar": {
              "outlinewidth": 0,
              "ticks": ""
             }
            },
            "type": "scatter3d"
           }
          ],
          "scattercarpet": [
           {
            "marker": {
             "colorbar": {
              "outlinewidth": 0,
              "ticks": ""
             }
            },
            "type": "scattercarpet"
           }
          ],
          "scattergeo": [
           {
            "marker": {
             "colorbar": {
              "outlinewidth": 0,
              "ticks": ""
             }
            },
            "type": "scattergeo"
           }
          ],
          "scattergl": [
           {
            "marker": {
             "colorbar": {
              "outlinewidth": 0,
              "ticks": ""
             }
            },
            "type": "scattergl"
           }
          ],
          "scattermapbox": [
           {
            "marker": {
             "colorbar": {
              "outlinewidth": 0,
              "ticks": ""
             }
            },
            "type": "scattermapbox"
           }
          ],
          "scatterpolar": [
           {
            "marker": {
             "colorbar": {
              "outlinewidth": 0,
              "ticks": ""
             }
            },
            "type": "scatterpolar"
           }
          ],
          "scatterpolargl": [
           {
            "marker": {
             "colorbar": {
              "outlinewidth": 0,
              "ticks": ""
             }
            },
            "type": "scatterpolargl"
           }
          ],
          "scatterternary": [
           {
            "marker": {
             "colorbar": {
              "outlinewidth": 0,
              "ticks": ""
             }
            },
            "type": "scatterternary"
           }
          ],
          "surface": [
           {
            "colorbar": {
             "outlinewidth": 0,
             "ticks": ""
            },
            "colorscale": [
             [
              0,
              "#0d0887"
             ],
             [
              0.1111111111111111,
              "#46039f"
             ],
             [
              0.2222222222222222,
              "#7201a8"
             ],
             [
              0.3333333333333333,
              "#9c179e"
             ],
             [
              0.4444444444444444,
              "#bd3786"
             ],
             [
              0.5555555555555556,
              "#d8576b"
             ],
             [
              0.6666666666666666,
              "#ed7953"
             ],
             [
              0.7777777777777778,
              "#fb9f3a"
             ],
             [
              0.8888888888888888,
              "#fdca26"
             ],
             [
              1,
              "#f0f921"
             ]
            ],
            "type": "surface"
           }
          ],
          "table": [
           {
            "cells": {
             "fill": {
              "color": "#EBF0F8"
             },
             "line": {
              "color": "white"
             }
            },
            "header": {
             "fill": {
              "color": "#C8D4E3"
             },
             "line": {
              "color": "white"
             }
            },
            "type": "table"
           }
          ]
         },
         "layout": {
          "annotationdefaults": {
           "arrowcolor": "#2a3f5f",
           "arrowhead": 0,
           "arrowwidth": 1
          },
          "autotypenumbers": "strict",
          "coloraxis": {
           "colorbar": {
            "outlinewidth": 0,
            "ticks": ""
           }
          },
          "colorscale": {
           "diverging": [
            [
             0,
             "#8e0152"
            ],
            [
             0.1,
             "#c51b7d"
            ],
            [
             0.2,
             "#de77ae"
            ],
            [
             0.3,
             "#f1b6da"
            ],
            [
             0.4,
             "#fde0ef"
            ],
            [
             0.5,
             "#f7f7f7"
            ],
            [
             0.6,
             "#e6f5d0"
            ],
            [
             0.7,
             "#b8e186"
            ],
            [
             0.8,
             "#7fbc41"
            ],
            [
             0.9,
             "#4d9221"
            ],
            [
             1,
             "#276419"
            ]
           ],
           "sequential": [
            [
             0,
             "#0d0887"
            ],
            [
             0.1111111111111111,
             "#46039f"
            ],
            [
             0.2222222222222222,
             "#7201a8"
            ],
            [
             0.3333333333333333,
             "#9c179e"
            ],
            [
             0.4444444444444444,
             "#bd3786"
            ],
            [
             0.5555555555555556,
             "#d8576b"
            ],
            [
             0.6666666666666666,
             "#ed7953"
            ],
            [
             0.7777777777777778,
             "#fb9f3a"
            ],
            [
             0.8888888888888888,
             "#fdca26"
            ],
            [
             1,
             "#f0f921"
            ]
           ],
           "sequentialminus": [
            [
             0,
             "#0d0887"
            ],
            [
             0.1111111111111111,
             "#46039f"
            ],
            [
             0.2222222222222222,
             "#7201a8"
            ],
            [
             0.3333333333333333,
             "#9c179e"
            ],
            [
             0.4444444444444444,
             "#bd3786"
            ],
            [
             0.5555555555555556,
             "#d8576b"
            ],
            [
             0.6666666666666666,
             "#ed7953"
            ],
            [
             0.7777777777777778,
             "#fb9f3a"
            ],
            [
             0.8888888888888888,
             "#fdca26"
            ],
            [
             1,
             "#f0f921"
            ]
           ]
          },
          "colorway": [
           "#636efa",
           "#EF553B",
           "#00cc96",
           "#ab63fa",
           "#FFA15A",
           "#19d3f3",
           "#FF6692",
           "#B6E880",
           "#FF97FF",
           "#FECB52"
          ],
          "font": {
           "color": "#2a3f5f"
          },
          "geo": {
           "bgcolor": "white",
           "lakecolor": "white",
           "landcolor": "#E5ECF6",
           "showlakes": true,
           "showland": true,
           "subunitcolor": "white"
          },
          "hoverlabel": {
           "align": "left"
          },
          "hovermode": "closest",
          "mapbox": {
           "style": "light"
          },
          "paper_bgcolor": "white",
          "plot_bgcolor": "#E5ECF6",
          "polar": {
           "angularaxis": {
            "gridcolor": "white",
            "linecolor": "white",
            "ticks": ""
           },
           "bgcolor": "#E5ECF6",
           "radialaxis": {
            "gridcolor": "white",
            "linecolor": "white",
            "ticks": ""
           }
          },
          "scene": {
           "xaxis": {
            "backgroundcolor": "#E5ECF6",
            "gridcolor": "white",
            "gridwidth": 2,
            "linecolor": "white",
            "showbackground": true,
            "ticks": "",
            "zerolinecolor": "white"
           },
           "yaxis": {
            "backgroundcolor": "#E5ECF6",
            "gridcolor": "white",
            "gridwidth": 2,
            "linecolor": "white",
            "showbackground": true,
            "ticks": "",
            "zerolinecolor": "white"
           },
           "zaxis": {
            "backgroundcolor": "#E5ECF6",
            "gridcolor": "white",
            "gridwidth": 2,
            "linecolor": "white",
            "showbackground": true,
            "ticks": "",
            "zerolinecolor": "white"
           }
          },
          "shapedefaults": {
           "line": {
            "color": "#2a3f5f"
           }
          },
          "ternary": {
           "aaxis": {
            "gridcolor": "white",
            "linecolor": "white",
            "ticks": ""
           },
           "baxis": {
            "gridcolor": "white",
            "linecolor": "white",
            "ticks": ""
           },
           "bgcolor": "#E5ECF6",
           "caxis": {
            "gridcolor": "white",
            "linecolor": "white",
            "ticks": ""
           }
          },
          "title": {
           "x": 0.05
          },
          "xaxis": {
           "automargin": true,
           "gridcolor": "white",
           "linecolor": "white",
           "ticks": "",
           "title": {
            "standoff": 15
           },
           "zerolinecolor": "white",
           "zerolinewidth": 2
          },
          "yaxis": {
           "automargin": true,
           "gridcolor": "white",
           "linecolor": "white",
           "ticks": "",
           "title": {
            "standoff": 15
           },
           "zerolinecolor": "white",
           "zerolinewidth": 2
          }
         }
        },
        "xaxis": {
         "anchor": "y",
         "domain": [
          0,
          1
         ]
        },
        "yaxis": {
         "anchor": "x",
         "autorange": "reversed",
         "domain": [
          0,
          1
         ]
        }
       }
      },
      "text/html": [
       "<div>                            <div id=\"9d51d4f2-df8c-406d-98fa-6f7cb35049fc\" class=\"plotly-graph-div\" style=\"height:525px; width:100%;\"></div>            <script type=\"text/javascript\">                require([\"plotly\"], function(Plotly) {                    window.PLOTLYENV=window.PLOTLYENV || {};                                    if (document.getElementById(\"9d51d4f2-df8c-406d-98fa-6f7cb35049fc\")) {                    Plotly.newPlot(                        \"9d51d4f2-df8c-406d-98fa-6f7cb35049fc\",                        [{\"coloraxis\":\"coloraxis\",\"name\":\"0\",\"texttemplate\":\"%{z}\",\"x\":[\"MOD_P3\",\"SPK1_P3\",\"SPK2_P3\"],\"y\":[\"MOD_P1\",\"SPK1_P1\",\"SPK2_P1\"],\"z\":[[0.009287925696594427,0.017543859649122806,-0.011351909184726523],[-0.07533539731682146,-0.09184726522187822,-0.13519091847265222],[-0.11661506707946334,-0.11042311661506708,-0.1455108359133127]],\"type\":\"heatmap\",\"xaxis\":\"x\",\"yaxis\":\"y\",\"hovertemplate\":\"x: %{x}<br>y: %{y}<br>color: %{z}<extra></extra>\"}],                        {\"template\":{\"data\":{\"histogram2dcontour\":[{\"type\":\"histogram2dcontour\",\"colorbar\":{\"outlinewidth\":0,\"ticks\":\"\"},\"colorscale\":[[0.0,\"#0d0887\"],[0.1111111111111111,\"#46039f\"],[0.2222222222222222,\"#7201a8\"],[0.3333333333333333,\"#9c179e\"],[0.4444444444444444,\"#bd3786\"],[0.5555555555555556,\"#d8576b\"],[0.6666666666666666,\"#ed7953\"],[0.7777777777777778,\"#fb9f3a\"],[0.8888888888888888,\"#fdca26\"],[1.0,\"#f0f921\"]]}],\"choropleth\":[{\"type\":\"choropleth\",\"colorbar\":{\"outlinewidth\":0,\"ticks\":\"\"}}],\"histogram2d\":[{\"type\":\"histogram2d\",\"colorbar\":{\"outlinewidth\":0,\"ticks\":\"\"},\"colorscale\":[[0.0,\"#0d0887\"],[0.1111111111111111,\"#46039f\"],[0.2222222222222222,\"#7201a8\"],[0.3333333333333333,\"#9c179e\"],[0.4444444444444444,\"#bd3786\"],[0.5555555555555556,\"#d8576b\"],[0.6666666666666666,\"#ed7953\"],[0.7777777777777778,\"#fb9f3a\"],[0.8888888888888888,\"#fdca26\"],[1.0,\"#f0f921\"]]}],\"heatmap\":[{\"type\":\"heatmap\",\"colorbar\":{\"outlinewidth\":0,\"ticks\":\"\"},\"colorscale\":[[0.0,\"#0d0887\"],[0.1111111111111111,\"#46039f\"],[0.2222222222222222,\"#7201a8\"],[0.3333333333333333,\"#9c179e\"],[0.4444444444444444,\"#bd3786\"],[0.5555555555555556,\"#d8576b\"],[0.6666666666666666,\"#ed7953\"],[0.7777777777777778,\"#fb9f3a\"],[0.8888888888888888,\"#fdca26\"],[1.0,\"#f0f921\"]]}],\"heatmapgl\":[{\"type\":\"heatmapgl\",\"colorbar\":{\"outlinewidth\":0,\"ticks\":\"\"},\"colorscale\":[[0.0,\"#0d0887\"],[0.1111111111111111,\"#46039f\"],[0.2222222222222222,\"#7201a8\"],[0.3333333333333333,\"#9c179e\"],[0.4444444444444444,\"#bd3786\"],[0.5555555555555556,\"#d8576b\"],[0.6666666666666666,\"#ed7953\"],[0.7777777777777778,\"#fb9f3a\"],[0.8888888888888888,\"#fdca26\"],[1.0,\"#f0f921\"]]}],\"contourcarpet\":[{\"type\":\"contourcarpet\",\"colorbar\":{\"outlinewidth\":0,\"ticks\":\"\"}}],\"contour\":[{\"type\":\"contour\",\"colorbar\":{\"outlinewidth\":0,\"ticks\":\"\"},\"colorscale\":[[0.0,\"#0d0887\"],[0.1111111111111111,\"#46039f\"],[0.2222222222222222,\"#7201a8\"],[0.3333333333333333,\"#9c179e\"],[0.4444444444444444,\"#bd3786\"],[0.5555555555555556,\"#d8576b\"],[0.6666666666666666,\"#ed7953\"],[0.7777777777777778,\"#fb9f3a\"],[0.8888888888888888,\"#fdca26\"],[1.0,\"#f0f921\"]]}],\"surface\":[{\"type\":\"surface\",\"colorbar\":{\"outlinewidth\":0,\"ticks\":\"\"},\"colorscale\":[[0.0,\"#0d0887\"],[0.1111111111111111,\"#46039f\"],[0.2222222222222222,\"#7201a8\"],[0.3333333333333333,\"#9c179e\"],[0.4444444444444444,\"#bd3786\"],[0.5555555555555556,\"#d8576b\"],[0.6666666666666666,\"#ed7953\"],[0.7777777777777778,\"#fb9f3a\"],[0.8888888888888888,\"#fdca26\"],[1.0,\"#f0f921\"]]}],\"mesh3d\":[{\"type\":\"mesh3d\",\"colorbar\":{\"outlinewidth\":0,\"ticks\":\"\"}}],\"scatter\":[{\"fillpattern\":{\"fillmode\":\"overlay\",\"size\":10,\"solidity\":0.2},\"type\":\"scatter\"}],\"parcoords\":[{\"type\":\"parcoords\",\"line\":{\"colorbar\":{\"outlinewidth\":0,\"ticks\":\"\"}}}],\"scatterpolargl\":[{\"type\":\"scatterpolargl\",\"marker\":{\"colorbar\":{\"outlinewidth\":0,\"ticks\":\"\"}}}],\"bar\":[{\"error_x\":{\"color\":\"#2a3f5f\"},\"error_y\":{\"color\":\"#2a3f5f\"},\"marker\":{\"line\":{\"color\":\"#E5ECF6\",\"width\":0.5},\"pattern\":{\"fillmode\":\"overlay\",\"size\":10,\"solidity\":0.2}},\"type\":\"bar\"}],\"scattergeo\":[{\"type\":\"scattergeo\",\"marker\":{\"colorbar\":{\"outlinewidth\":0,\"ticks\":\"\"}}}],\"scatterpolar\":[{\"type\":\"scatterpolar\",\"marker\":{\"colorbar\":{\"outlinewidth\":0,\"ticks\":\"\"}}}],\"histogram\":[{\"marker\":{\"pattern\":{\"fillmode\":\"overlay\",\"size\":10,\"solidity\":0.2}},\"type\":\"histogram\"}],\"scattergl\":[{\"type\":\"scattergl\",\"marker\":{\"colorbar\":{\"outlinewidth\":0,\"ticks\":\"\"}}}],\"scatter3d\":[{\"type\":\"scatter3d\",\"line\":{\"colorbar\":{\"outlinewidth\":0,\"ticks\":\"\"}},\"marker\":{\"colorbar\":{\"outlinewidth\":0,\"ticks\":\"\"}}}],\"scattermapbox\":[{\"type\":\"scattermapbox\",\"marker\":{\"colorbar\":{\"outlinewidth\":0,\"ticks\":\"\"}}}],\"scatterternary\":[{\"type\":\"scatterternary\",\"marker\":{\"colorbar\":{\"outlinewidth\":0,\"ticks\":\"\"}}}],\"scattercarpet\":[{\"type\":\"scattercarpet\",\"marker\":{\"colorbar\":{\"outlinewidth\":0,\"ticks\":\"\"}}}],\"carpet\":[{\"aaxis\":{\"endlinecolor\":\"#2a3f5f\",\"gridcolor\":\"white\",\"linecolor\":\"white\",\"minorgridcolor\":\"white\",\"startlinecolor\":\"#2a3f5f\"},\"baxis\":{\"endlinecolor\":\"#2a3f5f\",\"gridcolor\":\"white\",\"linecolor\":\"white\",\"minorgridcolor\":\"white\",\"startlinecolor\":\"#2a3f5f\"},\"type\":\"carpet\"}],\"table\":[{\"cells\":{\"fill\":{\"color\":\"#EBF0F8\"},\"line\":{\"color\":\"white\"}},\"header\":{\"fill\":{\"color\":\"#C8D4E3\"},\"line\":{\"color\":\"white\"}},\"type\":\"table\"}],\"barpolar\":[{\"marker\":{\"line\":{\"color\":\"#E5ECF6\",\"width\":0.5},\"pattern\":{\"fillmode\":\"overlay\",\"size\":10,\"solidity\":0.2}},\"type\":\"barpolar\"}],\"pie\":[{\"automargin\":true,\"type\":\"pie\"}]},\"layout\":{\"autotypenumbers\":\"strict\",\"colorway\":[\"#636efa\",\"#EF553B\",\"#00cc96\",\"#ab63fa\",\"#FFA15A\",\"#19d3f3\",\"#FF6692\",\"#B6E880\",\"#FF97FF\",\"#FECB52\"],\"font\":{\"color\":\"#2a3f5f\"},\"hovermode\":\"closest\",\"hoverlabel\":{\"align\":\"left\"},\"paper_bgcolor\":\"white\",\"plot_bgcolor\":\"#E5ECF6\",\"polar\":{\"bgcolor\":\"#E5ECF6\",\"angularaxis\":{\"gridcolor\":\"white\",\"linecolor\":\"white\",\"ticks\":\"\"},\"radialaxis\":{\"gridcolor\":\"white\",\"linecolor\":\"white\",\"ticks\":\"\"}},\"ternary\":{\"bgcolor\":\"#E5ECF6\",\"aaxis\":{\"gridcolor\":\"white\",\"linecolor\":\"white\",\"ticks\":\"\"},\"baxis\":{\"gridcolor\":\"white\",\"linecolor\":\"white\",\"ticks\":\"\"},\"caxis\":{\"gridcolor\":\"white\",\"linecolor\":\"white\",\"ticks\":\"\"}},\"coloraxis\":{\"colorbar\":{\"outlinewidth\":0,\"ticks\":\"\"}},\"colorscale\":{\"sequential\":[[0.0,\"#0d0887\"],[0.1111111111111111,\"#46039f\"],[0.2222222222222222,\"#7201a8\"],[0.3333333333333333,\"#9c179e\"],[0.4444444444444444,\"#bd3786\"],[0.5555555555555556,\"#d8576b\"],[0.6666666666666666,\"#ed7953\"],[0.7777777777777778,\"#fb9f3a\"],[0.8888888888888888,\"#fdca26\"],[1.0,\"#f0f921\"]],\"sequentialminus\":[[0.0,\"#0d0887\"],[0.1111111111111111,\"#46039f\"],[0.2222222222222222,\"#7201a8\"],[0.3333333333333333,\"#9c179e\"],[0.4444444444444444,\"#bd3786\"],[0.5555555555555556,\"#d8576b\"],[0.6666666666666666,\"#ed7953\"],[0.7777777777777778,\"#fb9f3a\"],[0.8888888888888888,\"#fdca26\"],[1.0,\"#f0f921\"]],\"diverging\":[[0,\"#8e0152\"],[0.1,\"#c51b7d\"],[0.2,\"#de77ae\"],[0.3,\"#f1b6da\"],[0.4,\"#fde0ef\"],[0.5,\"#f7f7f7\"],[0.6,\"#e6f5d0\"],[0.7,\"#b8e186\"],[0.8,\"#7fbc41\"],[0.9,\"#4d9221\"],[1,\"#276419\"]]},\"xaxis\":{\"gridcolor\":\"white\",\"linecolor\":\"white\",\"ticks\":\"\",\"title\":{\"standoff\":15},\"zerolinecolor\":\"white\",\"automargin\":true,\"zerolinewidth\":2},\"yaxis\":{\"gridcolor\":\"white\",\"linecolor\":\"white\",\"ticks\":\"\",\"title\":{\"standoff\":15},\"zerolinecolor\":\"white\",\"automargin\":true,\"zerolinewidth\":2},\"scene\":{\"xaxis\":{\"backgroundcolor\":\"#E5ECF6\",\"gridcolor\":\"white\",\"linecolor\":\"white\",\"showbackground\":true,\"ticks\":\"\",\"zerolinecolor\":\"white\",\"gridwidth\":2},\"yaxis\":{\"backgroundcolor\":\"#E5ECF6\",\"gridcolor\":\"white\",\"linecolor\":\"white\",\"showbackground\":true,\"ticks\":\"\",\"zerolinecolor\":\"white\",\"gridwidth\":2},\"zaxis\":{\"backgroundcolor\":\"#E5ECF6\",\"gridcolor\":\"white\",\"linecolor\":\"white\",\"showbackground\":true,\"ticks\":\"\",\"zerolinecolor\":\"white\",\"gridwidth\":2}},\"shapedefaults\":{\"line\":{\"color\":\"#2a3f5f\"}},\"annotationdefaults\":{\"arrowcolor\":\"#2a3f5f\",\"arrowhead\":0,\"arrowwidth\":1},\"geo\":{\"bgcolor\":\"white\",\"landcolor\":\"#E5ECF6\",\"subunitcolor\":\"white\",\"showland\":true,\"showlakes\":true,\"lakecolor\":\"white\"},\"title\":{\"x\":0.05},\"mapbox\":{\"style\":\"light\"}}},\"xaxis\":{\"anchor\":\"y\",\"domain\":[0.0,1.0]},\"yaxis\":{\"anchor\":\"x\",\"domain\":[0.0,1.0],\"autorange\":\"reversed\"},\"coloraxis\":{\"colorscale\":[[0.0,\"rgb(75, 41, 145)\"],[0.16666666666666666,\"rgb(135, 44, 162)\"],[0.3333333333333333,\"rgb(192, 54, 157)\"],[0.5,\"rgb(234, 79, 136)\"],[0.6666666666666666,\"rgb(250, 120, 118)\"],[0.8333333333333334,\"rgb(246, 169, 122)\"],[1.0,\"rgb(237, 217, 163)\"]]},\"margin\":{\"t\":60}},                        {\"responsive\": true}                    ).then(function(){\n",
       "                            \n",
       "var gd = document.getElementById('9d51d4f2-df8c-406d-98fa-6f7cb35049fc');\n",
       "var x = new MutationObserver(function (mutations, observer) {{\n",
       "        var display = window.getComputedStyle(gd).display;\n",
       "        if (!display || display === 'none') {{\n",
       "            console.log([gd, 'removed!']);\n",
       "            Plotly.purge(gd);\n",
       "            observer.disconnect();\n",
       "        }}\n",
       "}});\n",
       "\n",
       "// Listen for the removal of the full notebook cells\n",
       "var notebookContainer = gd.closest('#notebook-container');\n",
       "if (notebookContainer) {{\n",
       "    x.observe(notebookContainer, {childList: true});\n",
       "}}\n",
       "\n",
       "// Listen for the clearing of the current output cell\n",
       "var outputEl = gd.closest('.output');\n",
       "if (outputEl) {{\n",
       "    x.observe(outputEl, {childList: true});\n",
       "}}\n",
       "\n",
       "                        })                };                });            </script>        </div>"
      ]
     },
     "metadata": {},
     "output_type": "display_data"
    },
    {
     "data": {
      "application/vnd.plotly.v1+json": {
       "config": {
        "plotlyServerURL": "https://plot.ly"
       },
       "data": [
        {
         "coloraxis": "coloraxis",
         "hovertemplate": "x: %{x}<br>y: %{y}<br>color: %{z}<extra></extra>",
         "name": "0",
         "texttemplate": "%{z}",
         "type": "heatmap",
         "x": [
          "MOD_P3",
          "SPK1_P3",
          "SPK2_P3"
         ],
         "xaxis": "x",
         "y": [
          "MOD_P1",
          "SPK1_P1",
          "SPK2_P1"
         ],
         "yaxis": "y",
         "z": [
          [
           0.9708223763257615,
           0.9449151835129637,
           0.9643420040748253
          ],
          [
           0.7663922813478388,
           0.717002841661774,
           0.5927498112228585
          ],
          [
           0.6449317151979074,
           0.6626984309773885,
           0.5645405304670836
          ]
         ]
        }
       ],
       "layout": {
        "coloraxis": {
         "colorscale": [
          [
           0,
           "rgb(254, 254, 253)"
          ],
          [
           0.09090909090909091,
           "rgb(224, 224, 223)"
          ],
          [
           0.18181818181818182,
           "rgb(197, 197, 195)"
          ],
          [
           0.2727272727272727,
           "rgb(171, 171, 170)"
          ],
          [
           0.36363636363636365,
           "rgb(146, 146, 145)"
          ],
          [
           0.45454545454545453,
           "rgb(124, 123, 122)"
          ],
          [
           0.5454545454545454,
           "rgb(102, 101, 101)"
          ],
          [
           0.6363636363636364,
           "rgb(81, 80, 80)"
          ],
          [
           0.7272727272727273,
           "rgb(59, 59, 59)"
          ],
          [
           0.8181818181818182,
           "rgb(38, 38, 38)"
          ],
          [
           0.9090909090909091,
           "rgb(16, 16, 16)"
          ],
          [
           1,
           "rgb(0, 0, 0)"
          ]
         ]
        },
        "margin": {
         "t": 60
        },
        "template": {
         "data": {
          "bar": [
           {
            "error_x": {
             "color": "#2a3f5f"
            },
            "error_y": {
             "color": "#2a3f5f"
            },
            "marker": {
             "line": {
              "color": "#E5ECF6",
              "width": 0.5
             },
             "pattern": {
              "fillmode": "overlay",
              "size": 10,
              "solidity": 0.2
             }
            },
            "type": "bar"
           }
          ],
          "barpolar": [
           {
            "marker": {
             "line": {
              "color": "#E5ECF6",
              "width": 0.5
             },
             "pattern": {
              "fillmode": "overlay",
              "size": 10,
              "solidity": 0.2
             }
            },
            "type": "barpolar"
           }
          ],
          "carpet": [
           {
            "aaxis": {
             "endlinecolor": "#2a3f5f",
             "gridcolor": "white",
             "linecolor": "white",
             "minorgridcolor": "white",
             "startlinecolor": "#2a3f5f"
            },
            "baxis": {
             "endlinecolor": "#2a3f5f",
             "gridcolor": "white",
             "linecolor": "white",
             "minorgridcolor": "white",
             "startlinecolor": "#2a3f5f"
            },
            "type": "carpet"
           }
          ],
          "choropleth": [
           {
            "colorbar": {
             "outlinewidth": 0,
             "ticks": ""
            },
            "type": "choropleth"
           }
          ],
          "contour": [
           {
            "colorbar": {
             "outlinewidth": 0,
             "ticks": ""
            },
            "colorscale": [
             [
              0,
              "#0d0887"
             ],
             [
              0.1111111111111111,
              "#46039f"
             ],
             [
              0.2222222222222222,
              "#7201a8"
             ],
             [
              0.3333333333333333,
              "#9c179e"
             ],
             [
              0.4444444444444444,
              "#bd3786"
             ],
             [
              0.5555555555555556,
              "#d8576b"
             ],
             [
              0.6666666666666666,
              "#ed7953"
             ],
             [
              0.7777777777777778,
              "#fb9f3a"
             ],
             [
              0.8888888888888888,
              "#fdca26"
             ],
             [
              1,
              "#f0f921"
             ]
            ],
            "type": "contour"
           }
          ],
          "contourcarpet": [
           {
            "colorbar": {
             "outlinewidth": 0,
             "ticks": ""
            },
            "type": "contourcarpet"
           }
          ],
          "heatmap": [
           {
            "colorbar": {
             "outlinewidth": 0,
             "ticks": ""
            },
            "colorscale": [
             [
              0,
              "#0d0887"
             ],
             [
              0.1111111111111111,
              "#46039f"
             ],
             [
              0.2222222222222222,
              "#7201a8"
             ],
             [
              0.3333333333333333,
              "#9c179e"
             ],
             [
              0.4444444444444444,
              "#bd3786"
             ],
             [
              0.5555555555555556,
              "#d8576b"
             ],
             [
              0.6666666666666666,
              "#ed7953"
             ],
             [
              0.7777777777777778,
              "#fb9f3a"
             ],
             [
              0.8888888888888888,
              "#fdca26"
             ],
             [
              1,
              "#f0f921"
             ]
            ],
            "type": "heatmap"
           }
          ],
          "heatmapgl": [
           {
            "colorbar": {
             "outlinewidth": 0,
             "ticks": ""
            },
            "colorscale": [
             [
              0,
              "#0d0887"
             ],
             [
              0.1111111111111111,
              "#46039f"
             ],
             [
              0.2222222222222222,
              "#7201a8"
             ],
             [
              0.3333333333333333,
              "#9c179e"
             ],
             [
              0.4444444444444444,
              "#bd3786"
             ],
             [
              0.5555555555555556,
              "#d8576b"
             ],
             [
              0.6666666666666666,
              "#ed7953"
             ],
             [
              0.7777777777777778,
              "#fb9f3a"
             ],
             [
              0.8888888888888888,
              "#fdca26"
             ],
             [
              1,
              "#f0f921"
             ]
            ],
            "type": "heatmapgl"
           }
          ],
          "histogram": [
           {
            "marker": {
             "pattern": {
              "fillmode": "overlay",
              "size": 10,
              "solidity": 0.2
             }
            },
            "type": "histogram"
           }
          ],
          "histogram2d": [
           {
            "colorbar": {
             "outlinewidth": 0,
             "ticks": ""
            },
            "colorscale": [
             [
              0,
              "#0d0887"
             ],
             [
              0.1111111111111111,
              "#46039f"
             ],
             [
              0.2222222222222222,
              "#7201a8"
             ],
             [
              0.3333333333333333,
              "#9c179e"
             ],
             [
              0.4444444444444444,
              "#bd3786"
             ],
             [
              0.5555555555555556,
              "#d8576b"
             ],
             [
              0.6666666666666666,
              "#ed7953"
             ],
             [
              0.7777777777777778,
              "#fb9f3a"
             ],
             [
              0.8888888888888888,
              "#fdca26"
             ],
             [
              1,
              "#f0f921"
             ]
            ],
            "type": "histogram2d"
           }
          ],
          "histogram2dcontour": [
           {
            "colorbar": {
             "outlinewidth": 0,
             "ticks": ""
            },
            "colorscale": [
             [
              0,
              "#0d0887"
             ],
             [
              0.1111111111111111,
              "#46039f"
             ],
             [
              0.2222222222222222,
              "#7201a8"
             ],
             [
              0.3333333333333333,
              "#9c179e"
             ],
             [
              0.4444444444444444,
              "#bd3786"
             ],
             [
              0.5555555555555556,
              "#d8576b"
             ],
             [
              0.6666666666666666,
              "#ed7953"
             ],
             [
              0.7777777777777778,
              "#fb9f3a"
             ],
             [
              0.8888888888888888,
              "#fdca26"
             ],
             [
              1,
              "#f0f921"
             ]
            ],
            "type": "histogram2dcontour"
           }
          ],
          "mesh3d": [
           {
            "colorbar": {
             "outlinewidth": 0,
             "ticks": ""
            },
            "type": "mesh3d"
           }
          ],
          "parcoords": [
           {
            "line": {
             "colorbar": {
              "outlinewidth": 0,
              "ticks": ""
             }
            },
            "type": "parcoords"
           }
          ],
          "pie": [
           {
            "automargin": true,
            "type": "pie"
           }
          ],
          "scatter": [
           {
            "fillpattern": {
             "fillmode": "overlay",
             "size": 10,
             "solidity": 0.2
            },
            "type": "scatter"
           }
          ],
          "scatter3d": [
           {
            "line": {
             "colorbar": {
              "outlinewidth": 0,
              "ticks": ""
             }
            },
            "marker": {
             "colorbar": {
              "outlinewidth": 0,
              "ticks": ""
             }
            },
            "type": "scatter3d"
           }
          ],
          "scattercarpet": [
           {
            "marker": {
             "colorbar": {
              "outlinewidth": 0,
              "ticks": ""
             }
            },
            "type": "scattercarpet"
           }
          ],
          "scattergeo": [
           {
            "marker": {
             "colorbar": {
              "outlinewidth": 0,
              "ticks": ""
             }
            },
            "type": "scattergeo"
           }
          ],
          "scattergl": [
           {
            "marker": {
             "colorbar": {
              "outlinewidth": 0,
              "ticks": ""
             }
            },
            "type": "scattergl"
           }
          ],
          "scattermapbox": [
           {
            "marker": {
             "colorbar": {
              "outlinewidth": 0,
              "ticks": ""
             }
            },
            "type": "scattermapbox"
           }
          ],
          "scatterpolar": [
           {
            "marker": {
             "colorbar": {
              "outlinewidth": 0,
              "ticks": ""
             }
            },
            "type": "scatterpolar"
           }
          ],
          "scatterpolargl": [
           {
            "marker": {
             "colorbar": {
              "outlinewidth": 0,
              "ticks": ""
             }
            },
            "type": "scatterpolargl"
           }
          ],
          "scatterternary": [
           {
            "marker": {
             "colorbar": {
              "outlinewidth": 0,
              "ticks": ""
             }
            },
            "type": "scatterternary"
           }
          ],
          "surface": [
           {
            "colorbar": {
             "outlinewidth": 0,
             "ticks": ""
            },
            "colorscale": [
             [
              0,
              "#0d0887"
             ],
             [
              0.1111111111111111,
              "#46039f"
             ],
             [
              0.2222222222222222,
              "#7201a8"
             ],
             [
              0.3333333333333333,
              "#9c179e"
             ],
             [
              0.4444444444444444,
              "#bd3786"
             ],
             [
              0.5555555555555556,
              "#d8576b"
             ],
             [
              0.6666666666666666,
              "#ed7953"
             ],
             [
              0.7777777777777778,
              "#fb9f3a"
             ],
             [
              0.8888888888888888,
              "#fdca26"
             ],
             [
              1,
              "#f0f921"
             ]
            ],
            "type": "surface"
           }
          ],
          "table": [
           {
            "cells": {
             "fill": {
              "color": "#EBF0F8"
             },
             "line": {
              "color": "white"
             }
            },
            "header": {
             "fill": {
              "color": "#C8D4E3"
             },
             "line": {
              "color": "white"
             }
            },
            "type": "table"
           }
          ]
         },
         "layout": {
          "annotationdefaults": {
           "arrowcolor": "#2a3f5f",
           "arrowhead": 0,
           "arrowwidth": 1
          },
          "autotypenumbers": "strict",
          "coloraxis": {
           "colorbar": {
            "outlinewidth": 0,
            "ticks": ""
           }
          },
          "colorscale": {
           "diverging": [
            [
             0,
             "#8e0152"
            ],
            [
             0.1,
             "#c51b7d"
            ],
            [
             0.2,
             "#de77ae"
            ],
            [
             0.3,
             "#f1b6da"
            ],
            [
             0.4,
             "#fde0ef"
            ],
            [
             0.5,
             "#f7f7f7"
            ],
            [
             0.6,
             "#e6f5d0"
            ],
            [
             0.7,
             "#b8e186"
            ],
            [
             0.8,
             "#7fbc41"
            ],
            [
             0.9,
             "#4d9221"
            ],
            [
             1,
             "#276419"
            ]
           ],
           "sequential": [
            [
             0,
             "#0d0887"
            ],
            [
             0.1111111111111111,
             "#46039f"
            ],
            [
             0.2222222222222222,
             "#7201a8"
            ],
            [
             0.3333333333333333,
             "#9c179e"
            ],
            [
             0.4444444444444444,
             "#bd3786"
            ],
            [
             0.5555555555555556,
             "#d8576b"
            ],
            [
             0.6666666666666666,
             "#ed7953"
            ],
            [
             0.7777777777777778,
             "#fb9f3a"
            ],
            [
             0.8888888888888888,
             "#fdca26"
            ],
            [
             1,
             "#f0f921"
            ]
           ],
           "sequentialminus": [
            [
             0,
             "#0d0887"
            ],
            [
             0.1111111111111111,
             "#46039f"
            ],
            [
             0.2222222222222222,
             "#7201a8"
            ],
            [
             0.3333333333333333,
             "#9c179e"
            ],
            [
             0.4444444444444444,
             "#bd3786"
            ],
            [
             0.5555555555555556,
             "#d8576b"
            ],
            [
             0.6666666666666666,
             "#ed7953"
            ],
            [
             0.7777777777777778,
             "#fb9f3a"
            ],
            [
             0.8888888888888888,
             "#fdca26"
            ],
            [
             1,
             "#f0f921"
            ]
           ]
          },
          "colorway": [
           "#636efa",
           "#EF553B",
           "#00cc96",
           "#ab63fa",
           "#FFA15A",
           "#19d3f3",
           "#FF6692",
           "#B6E880",
           "#FF97FF",
           "#FECB52"
          ],
          "font": {
           "color": "#2a3f5f"
          },
          "geo": {
           "bgcolor": "white",
           "lakecolor": "white",
           "landcolor": "#E5ECF6",
           "showlakes": true,
           "showland": true,
           "subunitcolor": "white"
          },
          "hoverlabel": {
           "align": "left"
          },
          "hovermode": "closest",
          "mapbox": {
           "style": "light"
          },
          "paper_bgcolor": "white",
          "plot_bgcolor": "#E5ECF6",
          "polar": {
           "angularaxis": {
            "gridcolor": "white",
            "linecolor": "white",
            "ticks": ""
           },
           "bgcolor": "#E5ECF6",
           "radialaxis": {
            "gridcolor": "white",
            "linecolor": "white",
            "ticks": ""
           }
          },
          "scene": {
           "xaxis": {
            "backgroundcolor": "#E5ECF6",
            "gridcolor": "white",
            "gridwidth": 2,
            "linecolor": "white",
            "showbackground": true,
            "ticks": "",
            "zerolinecolor": "white"
           },
           "yaxis": {
            "backgroundcolor": "#E5ECF6",
            "gridcolor": "white",
            "gridwidth": 2,
            "linecolor": "white",
            "showbackground": true,
            "ticks": "",
            "zerolinecolor": "white"
           },
           "zaxis": {
            "backgroundcolor": "#E5ECF6",
            "gridcolor": "white",
            "gridwidth": 2,
            "linecolor": "white",
            "showbackground": true,
            "ticks": "",
            "zerolinecolor": "white"
           }
          },
          "shapedefaults": {
           "line": {
            "color": "#2a3f5f"
           }
          },
          "ternary": {
           "aaxis": {
            "gridcolor": "white",
            "linecolor": "white",
            "ticks": ""
           },
           "baxis": {
            "gridcolor": "white",
            "linecolor": "white",
            "ticks": ""
           },
           "bgcolor": "#E5ECF6",
           "caxis": {
            "gridcolor": "white",
            "linecolor": "white",
            "ticks": ""
           }
          },
          "title": {
           "x": 0.05
          },
          "xaxis": {
           "automargin": true,
           "gridcolor": "white",
           "linecolor": "white",
           "ticks": "",
           "title": {
            "standoff": 15
           },
           "zerolinecolor": "white",
           "zerolinewidth": 2
          },
          "yaxis": {
           "automargin": true,
           "gridcolor": "white",
           "linecolor": "white",
           "ticks": "",
           "title": {
            "standoff": 15
           },
           "zerolinecolor": "white",
           "zerolinewidth": 2
          }
         }
        },
        "xaxis": {
         "anchor": "y",
         "domain": [
          0,
          1
         ]
        },
        "yaxis": {
         "anchor": "x",
         "autorange": "reversed",
         "domain": [
          0,
          1
         ]
        }
       }
      },
      "text/html": [
       "<div>                            <div id=\"15d86e70-bd07-4056-a638-75e5387da31d\" class=\"plotly-graph-div\" style=\"height:525px; width:100%;\"></div>            <script type=\"text/javascript\">                require([\"plotly\"], function(Plotly) {                    window.PLOTLYENV=window.PLOTLYENV || {};                                    if (document.getElementById(\"15d86e70-bd07-4056-a638-75e5387da31d\")) {                    Plotly.newPlot(                        \"15d86e70-bd07-4056-a638-75e5387da31d\",                        [{\"coloraxis\":\"coloraxis\",\"name\":\"0\",\"texttemplate\":\"%{z}\",\"x\":[\"MOD_P3\",\"SPK1_P3\",\"SPK2_P3\"],\"y\":[\"MOD_P1\",\"SPK1_P1\",\"SPK2_P1\"],\"z\":[[0.9708223763257615,0.9449151835129637,0.9643420040748253],[0.7663922813478388,0.717002841661774,0.5927498112228585],[0.6449317151979074,0.6626984309773885,0.5645405304670836]],\"type\":\"heatmap\",\"xaxis\":\"x\",\"yaxis\":\"y\",\"hovertemplate\":\"x: %{x}<br>y: %{y}<br>color: %{z}<extra></extra>\"}],                        {\"template\":{\"data\":{\"histogram2dcontour\":[{\"type\":\"histogram2dcontour\",\"colorbar\":{\"outlinewidth\":0,\"ticks\":\"\"},\"colorscale\":[[0.0,\"#0d0887\"],[0.1111111111111111,\"#46039f\"],[0.2222222222222222,\"#7201a8\"],[0.3333333333333333,\"#9c179e\"],[0.4444444444444444,\"#bd3786\"],[0.5555555555555556,\"#d8576b\"],[0.6666666666666666,\"#ed7953\"],[0.7777777777777778,\"#fb9f3a\"],[0.8888888888888888,\"#fdca26\"],[1.0,\"#f0f921\"]]}],\"choropleth\":[{\"type\":\"choropleth\",\"colorbar\":{\"outlinewidth\":0,\"ticks\":\"\"}}],\"histogram2d\":[{\"type\":\"histogram2d\",\"colorbar\":{\"outlinewidth\":0,\"ticks\":\"\"},\"colorscale\":[[0.0,\"#0d0887\"],[0.1111111111111111,\"#46039f\"],[0.2222222222222222,\"#7201a8\"],[0.3333333333333333,\"#9c179e\"],[0.4444444444444444,\"#bd3786\"],[0.5555555555555556,\"#d8576b\"],[0.6666666666666666,\"#ed7953\"],[0.7777777777777778,\"#fb9f3a\"],[0.8888888888888888,\"#fdca26\"],[1.0,\"#f0f921\"]]}],\"heatmap\":[{\"type\":\"heatmap\",\"colorbar\":{\"outlinewidth\":0,\"ticks\":\"\"},\"colorscale\":[[0.0,\"#0d0887\"],[0.1111111111111111,\"#46039f\"],[0.2222222222222222,\"#7201a8\"],[0.3333333333333333,\"#9c179e\"],[0.4444444444444444,\"#bd3786\"],[0.5555555555555556,\"#d8576b\"],[0.6666666666666666,\"#ed7953\"],[0.7777777777777778,\"#fb9f3a\"],[0.8888888888888888,\"#fdca26\"],[1.0,\"#f0f921\"]]}],\"heatmapgl\":[{\"type\":\"heatmapgl\",\"colorbar\":{\"outlinewidth\":0,\"ticks\":\"\"},\"colorscale\":[[0.0,\"#0d0887\"],[0.1111111111111111,\"#46039f\"],[0.2222222222222222,\"#7201a8\"],[0.3333333333333333,\"#9c179e\"],[0.4444444444444444,\"#bd3786\"],[0.5555555555555556,\"#d8576b\"],[0.6666666666666666,\"#ed7953\"],[0.7777777777777778,\"#fb9f3a\"],[0.8888888888888888,\"#fdca26\"],[1.0,\"#f0f921\"]]}],\"contourcarpet\":[{\"type\":\"contourcarpet\",\"colorbar\":{\"outlinewidth\":0,\"ticks\":\"\"}}],\"contour\":[{\"type\":\"contour\",\"colorbar\":{\"outlinewidth\":0,\"ticks\":\"\"},\"colorscale\":[[0.0,\"#0d0887\"],[0.1111111111111111,\"#46039f\"],[0.2222222222222222,\"#7201a8\"],[0.3333333333333333,\"#9c179e\"],[0.4444444444444444,\"#bd3786\"],[0.5555555555555556,\"#d8576b\"],[0.6666666666666666,\"#ed7953\"],[0.7777777777777778,\"#fb9f3a\"],[0.8888888888888888,\"#fdca26\"],[1.0,\"#f0f921\"]]}],\"surface\":[{\"type\":\"surface\",\"colorbar\":{\"outlinewidth\":0,\"ticks\":\"\"},\"colorscale\":[[0.0,\"#0d0887\"],[0.1111111111111111,\"#46039f\"],[0.2222222222222222,\"#7201a8\"],[0.3333333333333333,\"#9c179e\"],[0.4444444444444444,\"#bd3786\"],[0.5555555555555556,\"#d8576b\"],[0.6666666666666666,\"#ed7953\"],[0.7777777777777778,\"#fb9f3a\"],[0.8888888888888888,\"#fdca26\"],[1.0,\"#f0f921\"]]}],\"mesh3d\":[{\"type\":\"mesh3d\",\"colorbar\":{\"outlinewidth\":0,\"ticks\":\"\"}}],\"scatter\":[{\"fillpattern\":{\"fillmode\":\"overlay\",\"size\":10,\"solidity\":0.2},\"type\":\"scatter\"}],\"parcoords\":[{\"type\":\"parcoords\",\"line\":{\"colorbar\":{\"outlinewidth\":0,\"ticks\":\"\"}}}],\"scatterpolargl\":[{\"type\":\"scatterpolargl\",\"marker\":{\"colorbar\":{\"outlinewidth\":0,\"ticks\":\"\"}}}],\"bar\":[{\"error_x\":{\"color\":\"#2a3f5f\"},\"error_y\":{\"color\":\"#2a3f5f\"},\"marker\":{\"line\":{\"color\":\"#E5ECF6\",\"width\":0.5},\"pattern\":{\"fillmode\":\"overlay\",\"size\":10,\"solidity\":0.2}},\"type\":\"bar\"}],\"scattergeo\":[{\"type\":\"scattergeo\",\"marker\":{\"colorbar\":{\"outlinewidth\":0,\"ticks\":\"\"}}}],\"scatterpolar\":[{\"type\":\"scatterpolar\",\"marker\":{\"colorbar\":{\"outlinewidth\":0,\"ticks\":\"\"}}}],\"histogram\":[{\"marker\":{\"pattern\":{\"fillmode\":\"overlay\",\"size\":10,\"solidity\":0.2}},\"type\":\"histogram\"}],\"scattergl\":[{\"type\":\"scattergl\",\"marker\":{\"colorbar\":{\"outlinewidth\":0,\"ticks\":\"\"}}}],\"scatter3d\":[{\"type\":\"scatter3d\",\"line\":{\"colorbar\":{\"outlinewidth\":0,\"ticks\":\"\"}},\"marker\":{\"colorbar\":{\"outlinewidth\":0,\"ticks\":\"\"}}}],\"scattermapbox\":[{\"type\":\"scattermapbox\",\"marker\":{\"colorbar\":{\"outlinewidth\":0,\"ticks\":\"\"}}}],\"scatterternary\":[{\"type\":\"scatterternary\",\"marker\":{\"colorbar\":{\"outlinewidth\":0,\"ticks\":\"\"}}}],\"scattercarpet\":[{\"type\":\"scattercarpet\",\"marker\":{\"colorbar\":{\"outlinewidth\":0,\"ticks\":\"\"}}}],\"carpet\":[{\"aaxis\":{\"endlinecolor\":\"#2a3f5f\",\"gridcolor\":\"white\",\"linecolor\":\"white\",\"minorgridcolor\":\"white\",\"startlinecolor\":\"#2a3f5f\"},\"baxis\":{\"endlinecolor\":\"#2a3f5f\",\"gridcolor\":\"white\",\"linecolor\":\"white\",\"minorgridcolor\":\"white\",\"startlinecolor\":\"#2a3f5f\"},\"type\":\"carpet\"}],\"table\":[{\"cells\":{\"fill\":{\"color\":\"#EBF0F8\"},\"line\":{\"color\":\"white\"}},\"header\":{\"fill\":{\"color\":\"#C8D4E3\"},\"line\":{\"color\":\"white\"}},\"type\":\"table\"}],\"barpolar\":[{\"marker\":{\"line\":{\"color\":\"#E5ECF6\",\"width\":0.5},\"pattern\":{\"fillmode\":\"overlay\",\"size\":10,\"solidity\":0.2}},\"type\":\"barpolar\"}],\"pie\":[{\"automargin\":true,\"type\":\"pie\"}]},\"layout\":{\"autotypenumbers\":\"strict\",\"colorway\":[\"#636efa\",\"#EF553B\",\"#00cc96\",\"#ab63fa\",\"#FFA15A\",\"#19d3f3\",\"#FF6692\",\"#B6E880\",\"#FF97FF\",\"#FECB52\"],\"font\":{\"color\":\"#2a3f5f\"},\"hovermode\":\"closest\",\"hoverlabel\":{\"align\":\"left\"},\"paper_bgcolor\":\"white\",\"plot_bgcolor\":\"#E5ECF6\",\"polar\":{\"bgcolor\":\"#E5ECF6\",\"angularaxis\":{\"gridcolor\":\"white\",\"linecolor\":\"white\",\"ticks\":\"\"},\"radialaxis\":{\"gridcolor\":\"white\",\"linecolor\":\"white\",\"ticks\":\"\"}},\"ternary\":{\"bgcolor\":\"#E5ECF6\",\"aaxis\":{\"gridcolor\":\"white\",\"linecolor\":\"white\",\"ticks\":\"\"},\"baxis\":{\"gridcolor\":\"white\",\"linecolor\":\"white\",\"ticks\":\"\"},\"caxis\":{\"gridcolor\":\"white\",\"linecolor\":\"white\",\"ticks\":\"\"}},\"coloraxis\":{\"colorbar\":{\"outlinewidth\":0,\"ticks\":\"\"}},\"colorscale\":{\"sequential\":[[0.0,\"#0d0887\"],[0.1111111111111111,\"#46039f\"],[0.2222222222222222,\"#7201a8\"],[0.3333333333333333,\"#9c179e\"],[0.4444444444444444,\"#bd3786\"],[0.5555555555555556,\"#d8576b\"],[0.6666666666666666,\"#ed7953\"],[0.7777777777777778,\"#fb9f3a\"],[0.8888888888888888,\"#fdca26\"],[1.0,\"#f0f921\"]],\"sequentialminus\":[[0.0,\"#0d0887\"],[0.1111111111111111,\"#46039f\"],[0.2222222222222222,\"#7201a8\"],[0.3333333333333333,\"#9c179e\"],[0.4444444444444444,\"#bd3786\"],[0.5555555555555556,\"#d8576b\"],[0.6666666666666666,\"#ed7953\"],[0.7777777777777778,\"#fb9f3a\"],[0.8888888888888888,\"#fdca26\"],[1.0,\"#f0f921\"]],\"diverging\":[[0,\"#8e0152\"],[0.1,\"#c51b7d\"],[0.2,\"#de77ae\"],[0.3,\"#f1b6da\"],[0.4,\"#fde0ef\"],[0.5,\"#f7f7f7\"],[0.6,\"#e6f5d0\"],[0.7,\"#b8e186\"],[0.8,\"#7fbc41\"],[0.9,\"#4d9221\"],[1,\"#276419\"]]},\"xaxis\":{\"gridcolor\":\"white\",\"linecolor\":\"white\",\"ticks\":\"\",\"title\":{\"standoff\":15},\"zerolinecolor\":\"white\",\"automargin\":true,\"zerolinewidth\":2},\"yaxis\":{\"gridcolor\":\"white\",\"linecolor\":\"white\",\"ticks\":\"\",\"title\":{\"standoff\":15},\"zerolinecolor\":\"white\",\"automargin\":true,\"zerolinewidth\":2},\"scene\":{\"xaxis\":{\"backgroundcolor\":\"#E5ECF6\",\"gridcolor\":\"white\",\"linecolor\":\"white\",\"showbackground\":true,\"ticks\":\"\",\"zerolinecolor\":\"white\",\"gridwidth\":2},\"yaxis\":{\"backgroundcolor\":\"#E5ECF6\",\"gridcolor\":\"white\",\"linecolor\":\"white\",\"showbackground\":true,\"ticks\":\"\",\"zerolinecolor\":\"white\",\"gridwidth\":2},\"zaxis\":{\"backgroundcolor\":\"#E5ECF6\",\"gridcolor\":\"white\",\"linecolor\":\"white\",\"showbackground\":true,\"ticks\":\"\",\"zerolinecolor\":\"white\",\"gridwidth\":2}},\"shapedefaults\":{\"line\":{\"color\":\"#2a3f5f\"}},\"annotationdefaults\":{\"arrowcolor\":\"#2a3f5f\",\"arrowhead\":0,\"arrowwidth\":1},\"geo\":{\"bgcolor\":\"white\",\"landcolor\":\"#E5ECF6\",\"subunitcolor\":\"white\",\"showland\":true,\"showlakes\":true,\"lakecolor\":\"white\"},\"title\":{\"x\":0.05},\"mapbox\":{\"style\":\"light\"}}},\"xaxis\":{\"anchor\":\"y\",\"domain\":[0.0,1.0]},\"yaxis\":{\"anchor\":\"x\",\"domain\":[0.0,1.0],\"autorange\":\"reversed\"},\"coloraxis\":{\"colorscale\":[[0.0,\"rgb(254, 254, 253)\"],[0.09090909090909091,\"rgb(224, 224, 223)\"],[0.18181818181818182,\"rgb(197, 197, 195)\"],[0.2727272727272727,\"rgb(171, 171, 170)\"],[0.36363636363636365,\"rgb(146, 146, 145)\"],[0.45454545454545453,\"rgb(124, 123, 122)\"],[0.5454545454545454,\"rgb(102, 101, 101)\"],[0.6363636363636364,\"rgb(81, 80, 80)\"],[0.7272727272727273,\"rgb(59, 59, 59)\"],[0.8181818181818182,\"rgb(38, 38, 38)\"],[0.9090909090909091,\"rgb(16, 16, 16)\"],[1.0,\"rgb(0, 0, 0)\"]]},\"margin\":{\"t\":60}},                        {\"responsive\": true}                    ).then(function(){\n",
       "                            \n",
       "var gd = document.getElementById('15d86e70-bd07-4056-a638-75e5387da31d');\n",
       "var x = new MutationObserver(function (mutations, observer) {{\n",
       "        var display = window.getComputedStyle(gd).display;\n",
       "        if (!display || display === 'none') {{\n",
       "            console.log([gd, 'removed!']);\n",
       "            Plotly.purge(gd);\n",
       "            observer.disconnect();\n",
       "        }}\n",
       "}});\n",
       "\n",
       "// Listen for the removal of the full notebook cells\n",
       "var notebookContainer = gd.closest('#notebook-container');\n",
       "if (notebookContainer) {{\n",
       "    x.observe(notebookContainer, {childList: true});\n",
       "}}\n",
       "\n",
       "// Listen for the clearing of the current output cell\n",
       "var outputEl = gd.closest('.output');\n",
       "if (outputEl) {{\n",
       "    x.observe(outputEl, {childList: true});\n",
       "}}\n",
       "\n",
       "                        })                };                });            </script>        </div>"
      ]
     },
     "metadata": {},
     "output_type": "display_data"
    },
    {
     "data": {
      "application/vnd.plotly.v1+json": {
       "config": {
        "plotlyServerURL": "https://plot.ly"
       },
       "data": [
        {
         "coloraxis": "coloraxis",
         "hovertemplate": "x: %{x}<br>y: %{y}<br>color: %{z}<extra></extra>",
         "name": "0",
         "texttemplate": "%{z}",
         "type": "heatmap",
         "x": [
          "MOD_P3",
          "SPK1_P3",
          "SPK2_P3"
         ],
         "xaxis": "x",
         "y": [
          "MOD_P1",
          "SPK1_P1",
          "SPK2_P1"
         ],
         "yaxis": "y",
         "z": [
          [
           8.626556374545908e-05,
           0.0003077870113881194,
           0.0001288658421382784
          ],
          [
           0.00567542208888335,
           0.00843592012873804,
           0.018276584437479298
          ],
          [
           0.013599073869947735,
           0.012193264682984704,
           0.021173403368191016
          ]
         ]
        }
       ],
       "layout": {
        "coloraxis": {
         "colorscale": [
          [
           0,
           "rgb(75, 41, 145)"
          ],
          [
           0.16666666666666666,
           "rgb(135, 44, 162)"
          ],
          [
           0.3333333333333333,
           "rgb(192, 54, 157)"
          ],
          [
           0.5,
           "rgb(234, 79, 136)"
          ],
          [
           0.6666666666666666,
           "rgb(250, 120, 118)"
          ],
          [
           0.8333333333333334,
           "rgb(246, 169, 122)"
          ],
          [
           1,
           "rgb(237, 217, 163)"
          ]
         ]
        },
        "margin": {
         "t": 60
        },
        "template": {
         "data": {
          "bar": [
           {
            "error_x": {
             "color": "#2a3f5f"
            },
            "error_y": {
             "color": "#2a3f5f"
            },
            "marker": {
             "line": {
              "color": "#E5ECF6",
              "width": 0.5
             },
             "pattern": {
              "fillmode": "overlay",
              "size": 10,
              "solidity": 0.2
             }
            },
            "type": "bar"
           }
          ],
          "barpolar": [
           {
            "marker": {
             "line": {
              "color": "#E5ECF6",
              "width": 0.5
             },
             "pattern": {
              "fillmode": "overlay",
              "size": 10,
              "solidity": 0.2
             }
            },
            "type": "barpolar"
           }
          ],
          "carpet": [
           {
            "aaxis": {
             "endlinecolor": "#2a3f5f",
             "gridcolor": "white",
             "linecolor": "white",
             "minorgridcolor": "white",
             "startlinecolor": "#2a3f5f"
            },
            "baxis": {
             "endlinecolor": "#2a3f5f",
             "gridcolor": "white",
             "linecolor": "white",
             "minorgridcolor": "white",
             "startlinecolor": "#2a3f5f"
            },
            "type": "carpet"
           }
          ],
          "choropleth": [
           {
            "colorbar": {
             "outlinewidth": 0,
             "ticks": ""
            },
            "type": "choropleth"
           }
          ],
          "contour": [
           {
            "colorbar": {
             "outlinewidth": 0,
             "ticks": ""
            },
            "colorscale": [
             [
              0,
              "#0d0887"
             ],
             [
              0.1111111111111111,
              "#46039f"
             ],
             [
              0.2222222222222222,
              "#7201a8"
             ],
             [
              0.3333333333333333,
              "#9c179e"
             ],
             [
              0.4444444444444444,
              "#bd3786"
             ],
             [
              0.5555555555555556,
              "#d8576b"
             ],
             [
              0.6666666666666666,
              "#ed7953"
             ],
             [
              0.7777777777777778,
              "#fb9f3a"
             ],
             [
              0.8888888888888888,
              "#fdca26"
             ],
             [
              1,
              "#f0f921"
             ]
            ],
            "type": "contour"
           }
          ],
          "contourcarpet": [
           {
            "colorbar": {
             "outlinewidth": 0,
             "ticks": ""
            },
            "type": "contourcarpet"
           }
          ],
          "heatmap": [
           {
            "colorbar": {
             "outlinewidth": 0,
             "ticks": ""
            },
            "colorscale": [
             [
              0,
              "#0d0887"
             ],
             [
              0.1111111111111111,
              "#46039f"
             ],
             [
              0.2222222222222222,
              "#7201a8"
             ],
             [
              0.3333333333333333,
              "#9c179e"
             ],
             [
              0.4444444444444444,
              "#bd3786"
             ],
             [
              0.5555555555555556,
              "#d8576b"
             ],
             [
              0.6666666666666666,
              "#ed7953"
             ],
             [
              0.7777777777777778,
              "#fb9f3a"
             ],
             [
              0.8888888888888888,
              "#fdca26"
             ],
             [
              1,
              "#f0f921"
             ]
            ],
            "type": "heatmap"
           }
          ],
          "heatmapgl": [
           {
            "colorbar": {
             "outlinewidth": 0,
             "ticks": ""
            },
            "colorscale": [
             [
              0,
              "#0d0887"
             ],
             [
              0.1111111111111111,
              "#46039f"
             ],
             [
              0.2222222222222222,
              "#7201a8"
             ],
             [
              0.3333333333333333,
              "#9c179e"
             ],
             [
              0.4444444444444444,
              "#bd3786"
             ],
             [
              0.5555555555555556,
              "#d8576b"
             ],
             [
              0.6666666666666666,
              "#ed7953"
             ],
             [
              0.7777777777777778,
              "#fb9f3a"
             ],
             [
              0.8888888888888888,
              "#fdca26"
             ],
             [
              1,
              "#f0f921"
             ]
            ],
            "type": "heatmapgl"
           }
          ],
          "histogram": [
           {
            "marker": {
             "pattern": {
              "fillmode": "overlay",
              "size": 10,
              "solidity": 0.2
             }
            },
            "type": "histogram"
           }
          ],
          "histogram2d": [
           {
            "colorbar": {
             "outlinewidth": 0,
             "ticks": ""
            },
            "colorscale": [
             [
              0,
              "#0d0887"
             ],
             [
              0.1111111111111111,
              "#46039f"
             ],
             [
              0.2222222222222222,
              "#7201a8"
             ],
             [
              0.3333333333333333,
              "#9c179e"
             ],
             [
              0.4444444444444444,
              "#bd3786"
             ],
             [
              0.5555555555555556,
              "#d8576b"
             ],
             [
              0.6666666666666666,
              "#ed7953"
             ],
             [
              0.7777777777777778,
              "#fb9f3a"
             ],
             [
              0.8888888888888888,
              "#fdca26"
             ],
             [
              1,
              "#f0f921"
             ]
            ],
            "type": "histogram2d"
           }
          ],
          "histogram2dcontour": [
           {
            "colorbar": {
             "outlinewidth": 0,
             "ticks": ""
            },
            "colorscale": [
             [
              0,
              "#0d0887"
             ],
             [
              0.1111111111111111,
              "#46039f"
             ],
             [
              0.2222222222222222,
              "#7201a8"
             ],
             [
              0.3333333333333333,
              "#9c179e"
             ],
             [
              0.4444444444444444,
              "#bd3786"
             ],
             [
              0.5555555555555556,
              "#d8576b"
             ],
             [
              0.6666666666666666,
              "#ed7953"
             ],
             [
              0.7777777777777778,
              "#fb9f3a"
             ],
             [
              0.8888888888888888,
              "#fdca26"
             ],
             [
              1,
              "#f0f921"
             ]
            ],
            "type": "histogram2dcontour"
           }
          ],
          "mesh3d": [
           {
            "colorbar": {
             "outlinewidth": 0,
             "ticks": ""
            },
            "type": "mesh3d"
           }
          ],
          "parcoords": [
           {
            "line": {
             "colorbar": {
              "outlinewidth": 0,
              "ticks": ""
             }
            },
            "type": "parcoords"
           }
          ],
          "pie": [
           {
            "automargin": true,
            "type": "pie"
           }
          ],
          "scatter": [
           {
            "fillpattern": {
             "fillmode": "overlay",
             "size": 10,
             "solidity": 0.2
            },
            "type": "scatter"
           }
          ],
          "scatter3d": [
           {
            "line": {
             "colorbar": {
              "outlinewidth": 0,
              "ticks": ""
             }
            },
            "marker": {
             "colorbar": {
              "outlinewidth": 0,
              "ticks": ""
             }
            },
            "type": "scatter3d"
           }
          ],
          "scattercarpet": [
           {
            "marker": {
             "colorbar": {
              "outlinewidth": 0,
              "ticks": ""
             }
            },
            "type": "scattercarpet"
           }
          ],
          "scattergeo": [
           {
            "marker": {
             "colorbar": {
              "outlinewidth": 0,
              "ticks": ""
             }
            },
            "type": "scattergeo"
           }
          ],
          "scattergl": [
           {
            "marker": {
             "colorbar": {
              "outlinewidth": 0,
              "ticks": ""
             }
            },
            "type": "scattergl"
           }
          ],
          "scattermapbox": [
           {
            "marker": {
             "colorbar": {
              "outlinewidth": 0,
              "ticks": ""
             }
            },
            "type": "scattermapbox"
           }
          ],
          "scatterpolar": [
           {
            "marker": {
             "colorbar": {
              "outlinewidth": 0,
              "ticks": ""
             }
            },
            "type": "scatterpolar"
           }
          ],
          "scatterpolargl": [
           {
            "marker": {
             "colorbar": {
              "outlinewidth": 0,
              "ticks": ""
             }
            },
            "type": "scatterpolargl"
           }
          ],
          "scatterternary": [
           {
            "marker": {
             "colorbar": {
              "outlinewidth": 0,
              "ticks": ""
             }
            },
            "type": "scatterternary"
           }
          ],
          "surface": [
           {
            "colorbar": {
             "outlinewidth": 0,
             "ticks": ""
            },
            "colorscale": [
             [
              0,
              "#0d0887"
             ],
             [
              0.1111111111111111,
              "#46039f"
             ],
             [
              0.2222222222222222,
              "#7201a8"
             ],
             [
              0.3333333333333333,
              "#9c179e"
             ],
             [
              0.4444444444444444,
              "#bd3786"
             ],
             [
              0.5555555555555556,
              "#d8576b"
             ],
             [
              0.6666666666666666,
              "#ed7953"
             ],
             [
              0.7777777777777778,
              "#fb9f3a"
             ],
             [
              0.8888888888888888,
              "#fdca26"
             ],
             [
              1,
              "#f0f921"
             ]
            ],
            "type": "surface"
           }
          ],
          "table": [
           {
            "cells": {
             "fill": {
              "color": "#EBF0F8"
             },
             "line": {
              "color": "white"
             }
            },
            "header": {
             "fill": {
              "color": "#C8D4E3"
             },
             "line": {
              "color": "white"
             }
            },
            "type": "table"
           }
          ]
         },
         "layout": {
          "annotationdefaults": {
           "arrowcolor": "#2a3f5f",
           "arrowhead": 0,
           "arrowwidth": 1
          },
          "autotypenumbers": "strict",
          "coloraxis": {
           "colorbar": {
            "outlinewidth": 0,
            "ticks": ""
           }
          },
          "colorscale": {
           "diverging": [
            [
             0,
             "#8e0152"
            ],
            [
             0.1,
             "#c51b7d"
            ],
            [
             0.2,
             "#de77ae"
            ],
            [
             0.3,
             "#f1b6da"
            ],
            [
             0.4,
             "#fde0ef"
            ],
            [
             0.5,
             "#f7f7f7"
            ],
            [
             0.6,
             "#e6f5d0"
            ],
            [
             0.7,
             "#b8e186"
            ],
            [
             0.8,
             "#7fbc41"
            ],
            [
             0.9,
             "#4d9221"
            ],
            [
             1,
             "#276419"
            ]
           ],
           "sequential": [
            [
             0,
             "#0d0887"
            ],
            [
             0.1111111111111111,
             "#46039f"
            ],
            [
             0.2222222222222222,
             "#7201a8"
            ],
            [
             0.3333333333333333,
             "#9c179e"
            ],
            [
             0.4444444444444444,
             "#bd3786"
            ],
            [
             0.5555555555555556,
             "#d8576b"
            ],
            [
             0.6666666666666666,
             "#ed7953"
            ],
            [
             0.7777777777777778,
             "#fb9f3a"
            ],
            [
             0.8888888888888888,
             "#fdca26"
            ],
            [
             1,
             "#f0f921"
            ]
           ],
           "sequentialminus": [
            [
             0,
             "#0d0887"
            ],
            [
             0.1111111111111111,
             "#46039f"
            ],
            [
             0.2222222222222222,
             "#7201a8"
            ],
            [
             0.3333333333333333,
             "#9c179e"
            ],
            [
             0.4444444444444444,
             "#bd3786"
            ],
            [
             0.5555555555555556,
             "#d8576b"
            ],
            [
             0.6666666666666666,
             "#ed7953"
            ],
            [
             0.7777777777777778,
             "#fb9f3a"
            ],
            [
             0.8888888888888888,
             "#fdca26"
            ],
            [
             1,
             "#f0f921"
            ]
           ]
          },
          "colorway": [
           "#636efa",
           "#EF553B",
           "#00cc96",
           "#ab63fa",
           "#FFA15A",
           "#19d3f3",
           "#FF6692",
           "#B6E880",
           "#FF97FF",
           "#FECB52"
          ],
          "font": {
           "color": "#2a3f5f"
          },
          "geo": {
           "bgcolor": "white",
           "lakecolor": "white",
           "landcolor": "#E5ECF6",
           "showlakes": true,
           "showland": true,
           "subunitcolor": "white"
          },
          "hoverlabel": {
           "align": "left"
          },
          "hovermode": "closest",
          "mapbox": {
           "style": "light"
          },
          "paper_bgcolor": "white",
          "plot_bgcolor": "#E5ECF6",
          "polar": {
           "angularaxis": {
            "gridcolor": "white",
            "linecolor": "white",
            "ticks": ""
           },
           "bgcolor": "#E5ECF6",
           "radialaxis": {
            "gridcolor": "white",
            "linecolor": "white",
            "ticks": ""
           }
          },
          "scene": {
           "xaxis": {
            "backgroundcolor": "#E5ECF6",
            "gridcolor": "white",
            "gridwidth": 2,
            "linecolor": "white",
            "showbackground": true,
            "ticks": "",
            "zerolinecolor": "white"
           },
           "yaxis": {
            "backgroundcolor": "#E5ECF6",
            "gridcolor": "white",
            "gridwidth": 2,
            "linecolor": "white",
            "showbackground": true,
            "ticks": "",
            "zerolinecolor": "white"
           },
           "zaxis": {
            "backgroundcolor": "#E5ECF6",
            "gridcolor": "white",
            "gridwidth": 2,
            "linecolor": "white",
            "showbackground": true,
            "ticks": "",
            "zerolinecolor": "white"
           }
          },
          "shapedefaults": {
           "line": {
            "color": "#2a3f5f"
           }
          },
          "ternary": {
           "aaxis": {
            "gridcolor": "white",
            "linecolor": "white",
            "ticks": ""
           },
           "baxis": {
            "gridcolor": "white",
            "linecolor": "white",
            "ticks": ""
           },
           "bgcolor": "#E5ECF6",
           "caxis": {
            "gridcolor": "white",
            "linecolor": "white",
            "ticks": ""
           }
          },
          "title": {
           "x": 0.05
          },
          "xaxis": {
           "automargin": true,
           "gridcolor": "white",
           "linecolor": "white",
           "ticks": "",
           "title": {
            "standoff": 15
           },
           "zerolinecolor": "white",
           "zerolinewidth": 2
          },
          "yaxis": {
           "automargin": true,
           "gridcolor": "white",
           "linecolor": "white",
           "ticks": "",
           "title": {
            "standoff": 15
           },
           "zerolinecolor": "white",
           "zerolinewidth": 2
          }
         }
        },
        "xaxis": {
         "anchor": "y",
         "domain": [
          0,
          1
         ]
        },
        "yaxis": {
         "anchor": "x",
         "autorange": "reversed",
         "domain": [
          0,
          1
         ]
        }
       }
      },
      "text/html": [
       "<div>                            <div id=\"bcb15d52-0694-417f-878a-5325760f7b46\" class=\"plotly-graph-div\" style=\"height:525px; width:100%;\"></div>            <script type=\"text/javascript\">                require([\"plotly\"], function(Plotly) {                    window.PLOTLYENV=window.PLOTLYENV || {};                                    if (document.getElementById(\"bcb15d52-0694-417f-878a-5325760f7b46\")) {                    Plotly.newPlot(                        \"bcb15d52-0694-417f-878a-5325760f7b46\",                        [{\"coloraxis\":\"coloraxis\",\"name\":\"0\",\"texttemplate\":\"%{z}\",\"x\":[\"MOD_P3\",\"SPK1_P3\",\"SPK2_P3\"],\"y\":[\"MOD_P1\",\"SPK1_P1\",\"SPK2_P1\"],\"z\":[[0.00008626556374545908,0.0003077870113881194,0.0001288658421382784],[0.00567542208888335,0.00843592012873804,0.018276584437479298],[0.013599073869947735,0.012193264682984704,0.021173403368191016]],\"type\":\"heatmap\",\"xaxis\":\"x\",\"yaxis\":\"y\",\"hovertemplate\":\"x: %{x}<br>y: %{y}<br>color: %{z}<extra></extra>\"}],                        {\"template\":{\"data\":{\"histogram2dcontour\":[{\"type\":\"histogram2dcontour\",\"colorbar\":{\"outlinewidth\":0,\"ticks\":\"\"},\"colorscale\":[[0.0,\"#0d0887\"],[0.1111111111111111,\"#46039f\"],[0.2222222222222222,\"#7201a8\"],[0.3333333333333333,\"#9c179e\"],[0.4444444444444444,\"#bd3786\"],[0.5555555555555556,\"#d8576b\"],[0.6666666666666666,\"#ed7953\"],[0.7777777777777778,\"#fb9f3a\"],[0.8888888888888888,\"#fdca26\"],[1.0,\"#f0f921\"]]}],\"choropleth\":[{\"type\":\"choropleth\",\"colorbar\":{\"outlinewidth\":0,\"ticks\":\"\"}}],\"histogram2d\":[{\"type\":\"histogram2d\",\"colorbar\":{\"outlinewidth\":0,\"ticks\":\"\"},\"colorscale\":[[0.0,\"#0d0887\"],[0.1111111111111111,\"#46039f\"],[0.2222222222222222,\"#7201a8\"],[0.3333333333333333,\"#9c179e\"],[0.4444444444444444,\"#bd3786\"],[0.5555555555555556,\"#d8576b\"],[0.6666666666666666,\"#ed7953\"],[0.7777777777777778,\"#fb9f3a\"],[0.8888888888888888,\"#fdca26\"],[1.0,\"#f0f921\"]]}],\"heatmap\":[{\"type\":\"heatmap\",\"colorbar\":{\"outlinewidth\":0,\"ticks\":\"\"},\"colorscale\":[[0.0,\"#0d0887\"],[0.1111111111111111,\"#46039f\"],[0.2222222222222222,\"#7201a8\"],[0.3333333333333333,\"#9c179e\"],[0.4444444444444444,\"#bd3786\"],[0.5555555555555556,\"#d8576b\"],[0.6666666666666666,\"#ed7953\"],[0.7777777777777778,\"#fb9f3a\"],[0.8888888888888888,\"#fdca26\"],[1.0,\"#f0f921\"]]}],\"heatmapgl\":[{\"type\":\"heatmapgl\",\"colorbar\":{\"outlinewidth\":0,\"ticks\":\"\"},\"colorscale\":[[0.0,\"#0d0887\"],[0.1111111111111111,\"#46039f\"],[0.2222222222222222,\"#7201a8\"],[0.3333333333333333,\"#9c179e\"],[0.4444444444444444,\"#bd3786\"],[0.5555555555555556,\"#d8576b\"],[0.6666666666666666,\"#ed7953\"],[0.7777777777777778,\"#fb9f3a\"],[0.8888888888888888,\"#fdca26\"],[1.0,\"#f0f921\"]]}],\"contourcarpet\":[{\"type\":\"contourcarpet\",\"colorbar\":{\"outlinewidth\":0,\"ticks\":\"\"}}],\"contour\":[{\"type\":\"contour\",\"colorbar\":{\"outlinewidth\":0,\"ticks\":\"\"},\"colorscale\":[[0.0,\"#0d0887\"],[0.1111111111111111,\"#46039f\"],[0.2222222222222222,\"#7201a8\"],[0.3333333333333333,\"#9c179e\"],[0.4444444444444444,\"#bd3786\"],[0.5555555555555556,\"#d8576b\"],[0.6666666666666666,\"#ed7953\"],[0.7777777777777778,\"#fb9f3a\"],[0.8888888888888888,\"#fdca26\"],[1.0,\"#f0f921\"]]}],\"surface\":[{\"type\":\"surface\",\"colorbar\":{\"outlinewidth\":0,\"ticks\":\"\"},\"colorscale\":[[0.0,\"#0d0887\"],[0.1111111111111111,\"#46039f\"],[0.2222222222222222,\"#7201a8\"],[0.3333333333333333,\"#9c179e\"],[0.4444444444444444,\"#bd3786\"],[0.5555555555555556,\"#d8576b\"],[0.6666666666666666,\"#ed7953\"],[0.7777777777777778,\"#fb9f3a\"],[0.8888888888888888,\"#fdca26\"],[1.0,\"#f0f921\"]]}],\"mesh3d\":[{\"type\":\"mesh3d\",\"colorbar\":{\"outlinewidth\":0,\"ticks\":\"\"}}],\"scatter\":[{\"fillpattern\":{\"fillmode\":\"overlay\",\"size\":10,\"solidity\":0.2},\"type\":\"scatter\"}],\"parcoords\":[{\"type\":\"parcoords\",\"line\":{\"colorbar\":{\"outlinewidth\":0,\"ticks\":\"\"}}}],\"scatterpolargl\":[{\"type\":\"scatterpolargl\",\"marker\":{\"colorbar\":{\"outlinewidth\":0,\"ticks\":\"\"}}}],\"bar\":[{\"error_x\":{\"color\":\"#2a3f5f\"},\"error_y\":{\"color\":\"#2a3f5f\"},\"marker\":{\"line\":{\"color\":\"#E5ECF6\",\"width\":0.5},\"pattern\":{\"fillmode\":\"overlay\",\"size\":10,\"solidity\":0.2}},\"type\":\"bar\"}],\"scattergeo\":[{\"type\":\"scattergeo\",\"marker\":{\"colorbar\":{\"outlinewidth\":0,\"ticks\":\"\"}}}],\"scatterpolar\":[{\"type\":\"scatterpolar\",\"marker\":{\"colorbar\":{\"outlinewidth\":0,\"ticks\":\"\"}}}],\"histogram\":[{\"marker\":{\"pattern\":{\"fillmode\":\"overlay\",\"size\":10,\"solidity\":0.2}},\"type\":\"histogram\"}],\"scattergl\":[{\"type\":\"scattergl\",\"marker\":{\"colorbar\":{\"outlinewidth\":0,\"ticks\":\"\"}}}],\"scatter3d\":[{\"type\":\"scatter3d\",\"line\":{\"colorbar\":{\"outlinewidth\":0,\"ticks\":\"\"}},\"marker\":{\"colorbar\":{\"outlinewidth\":0,\"ticks\":\"\"}}}],\"scattermapbox\":[{\"type\":\"scattermapbox\",\"marker\":{\"colorbar\":{\"outlinewidth\":0,\"ticks\":\"\"}}}],\"scatterternary\":[{\"type\":\"scatterternary\",\"marker\":{\"colorbar\":{\"outlinewidth\":0,\"ticks\":\"\"}}}],\"scattercarpet\":[{\"type\":\"scattercarpet\",\"marker\":{\"colorbar\":{\"outlinewidth\":0,\"ticks\":\"\"}}}],\"carpet\":[{\"aaxis\":{\"endlinecolor\":\"#2a3f5f\",\"gridcolor\":\"white\",\"linecolor\":\"white\",\"minorgridcolor\":\"white\",\"startlinecolor\":\"#2a3f5f\"},\"baxis\":{\"endlinecolor\":\"#2a3f5f\",\"gridcolor\":\"white\",\"linecolor\":\"white\",\"minorgridcolor\":\"white\",\"startlinecolor\":\"#2a3f5f\"},\"type\":\"carpet\"}],\"table\":[{\"cells\":{\"fill\":{\"color\":\"#EBF0F8\"},\"line\":{\"color\":\"white\"}},\"header\":{\"fill\":{\"color\":\"#C8D4E3\"},\"line\":{\"color\":\"white\"}},\"type\":\"table\"}],\"barpolar\":[{\"marker\":{\"line\":{\"color\":\"#E5ECF6\",\"width\":0.5},\"pattern\":{\"fillmode\":\"overlay\",\"size\":10,\"solidity\":0.2}},\"type\":\"barpolar\"}],\"pie\":[{\"automargin\":true,\"type\":\"pie\"}]},\"layout\":{\"autotypenumbers\":\"strict\",\"colorway\":[\"#636efa\",\"#EF553B\",\"#00cc96\",\"#ab63fa\",\"#FFA15A\",\"#19d3f3\",\"#FF6692\",\"#B6E880\",\"#FF97FF\",\"#FECB52\"],\"font\":{\"color\":\"#2a3f5f\"},\"hovermode\":\"closest\",\"hoverlabel\":{\"align\":\"left\"},\"paper_bgcolor\":\"white\",\"plot_bgcolor\":\"#E5ECF6\",\"polar\":{\"bgcolor\":\"#E5ECF6\",\"angularaxis\":{\"gridcolor\":\"white\",\"linecolor\":\"white\",\"ticks\":\"\"},\"radialaxis\":{\"gridcolor\":\"white\",\"linecolor\":\"white\",\"ticks\":\"\"}},\"ternary\":{\"bgcolor\":\"#E5ECF6\",\"aaxis\":{\"gridcolor\":\"white\",\"linecolor\":\"white\",\"ticks\":\"\"},\"baxis\":{\"gridcolor\":\"white\",\"linecolor\":\"white\",\"ticks\":\"\"},\"caxis\":{\"gridcolor\":\"white\",\"linecolor\":\"white\",\"ticks\":\"\"}},\"coloraxis\":{\"colorbar\":{\"outlinewidth\":0,\"ticks\":\"\"}},\"colorscale\":{\"sequential\":[[0.0,\"#0d0887\"],[0.1111111111111111,\"#46039f\"],[0.2222222222222222,\"#7201a8\"],[0.3333333333333333,\"#9c179e\"],[0.4444444444444444,\"#bd3786\"],[0.5555555555555556,\"#d8576b\"],[0.6666666666666666,\"#ed7953\"],[0.7777777777777778,\"#fb9f3a\"],[0.8888888888888888,\"#fdca26\"],[1.0,\"#f0f921\"]],\"sequentialminus\":[[0.0,\"#0d0887\"],[0.1111111111111111,\"#46039f\"],[0.2222222222222222,\"#7201a8\"],[0.3333333333333333,\"#9c179e\"],[0.4444444444444444,\"#bd3786\"],[0.5555555555555556,\"#d8576b\"],[0.6666666666666666,\"#ed7953\"],[0.7777777777777778,\"#fb9f3a\"],[0.8888888888888888,\"#fdca26\"],[1.0,\"#f0f921\"]],\"diverging\":[[0,\"#8e0152\"],[0.1,\"#c51b7d\"],[0.2,\"#de77ae\"],[0.3,\"#f1b6da\"],[0.4,\"#fde0ef\"],[0.5,\"#f7f7f7\"],[0.6,\"#e6f5d0\"],[0.7,\"#b8e186\"],[0.8,\"#7fbc41\"],[0.9,\"#4d9221\"],[1,\"#276419\"]]},\"xaxis\":{\"gridcolor\":\"white\",\"linecolor\":\"white\",\"ticks\":\"\",\"title\":{\"standoff\":15},\"zerolinecolor\":\"white\",\"automargin\":true,\"zerolinewidth\":2},\"yaxis\":{\"gridcolor\":\"white\",\"linecolor\":\"white\",\"ticks\":\"\",\"title\":{\"standoff\":15},\"zerolinecolor\":\"white\",\"automargin\":true,\"zerolinewidth\":2},\"scene\":{\"xaxis\":{\"backgroundcolor\":\"#E5ECF6\",\"gridcolor\":\"white\",\"linecolor\":\"white\",\"showbackground\":true,\"ticks\":\"\",\"zerolinecolor\":\"white\",\"gridwidth\":2},\"yaxis\":{\"backgroundcolor\":\"#E5ECF6\",\"gridcolor\":\"white\",\"linecolor\":\"white\",\"showbackground\":true,\"ticks\":\"\",\"zerolinecolor\":\"white\",\"gridwidth\":2},\"zaxis\":{\"backgroundcolor\":\"#E5ECF6\",\"gridcolor\":\"white\",\"linecolor\":\"white\",\"showbackground\":true,\"ticks\":\"\",\"zerolinecolor\":\"white\",\"gridwidth\":2}},\"shapedefaults\":{\"line\":{\"color\":\"#2a3f5f\"}},\"annotationdefaults\":{\"arrowcolor\":\"#2a3f5f\",\"arrowhead\":0,\"arrowwidth\":1},\"geo\":{\"bgcolor\":\"white\",\"landcolor\":\"#E5ECF6\",\"subunitcolor\":\"white\",\"showland\":true,\"showlakes\":true,\"lakecolor\":\"white\"},\"title\":{\"x\":0.05},\"mapbox\":{\"style\":\"light\"}}},\"xaxis\":{\"anchor\":\"y\",\"domain\":[0.0,1.0]},\"yaxis\":{\"anchor\":\"x\",\"domain\":[0.0,1.0],\"autorange\":\"reversed\"},\"coloraxis\":{\"colorscale\":[[0.0,\"rgb(75, 41, 145)\"],[0.16666666666666666,\"rgb(135, 44, 162)\"],[0.3333333333333333,\"rgb(192, 54, 157)\"],[0.5,\"rgb(234, 79, 136)\"],[0.6666666666666666,\"rgb(250, 120, 118)\"],[0.8333333333333334,\"rgb(246, 169, 122)\"],[1.0,\"rgb(237, 217, 163)\"]]},\"margin\":{\"t\":60}},                        {\"responsive\": true}                    ).then(function(){\n",
       "                            \n",
       "var gd = document.getElementById('bcb15d52-0694-417f-878a-5325760f7b46');\n",
       "var x = new MutationObserver(function (mutations, observer) {{\n",
       "        var display = window.getComputedStyle(gd).display;\n",
       "        if (!display || display === 'none') {{\n",
       "            console.log([gd, 'removed!']);\n",
       "            Plotly.purge(gd);\n",
       "            observer.disconnect();\n",
       "        }}\n",
       "}});\n",
       "\n",
       "// Listen for the removal of the full notebook cells\n",
       "var notebookContainer = gd.closest('#notebook-container');\n",
       "if (notebookContainer) {{\n",
       "    x.observe(notebookContainer, {childList: true});\n",
       "}}\n",
       "\n",
       "// Listen for the clearing of the current output cell\n",
       "var outputEl = gd.closest('.output');\n",
       "if (outputEl) {{\n",
       "    x.observe(outputEl, {childList: true});\n",
       "}}\n",
       "\n",
       "                        })                };                });            </script>        </div>"
      ]
     },
     "metadata": {},
     "output_type": "display_data"
    }
   ],
   "source": [
    "# p1 - p3\n",
    "col_1 = [\"MOD_P1\",\"SPK1_P1\",\"SPK2_P1\"] \n",
    "col_2 = [\"MOD_P3\",\"SPK1_P3\",\"SPK2_P3\"]\n",
    "corr, fig_corr, p, fig_p, fig_r2 = correlation(final_df)"
   ]
  },
  {
   "cell_type": "code",
   "execution_count": 35,
   "metadata": {},
   "outputs": [
    {
     "data": {
      "application/vnd.plotly.v1+json": {
       "config": {
        "plotlyServerURL": "https://plot.ly"
       },
       "data": [
        {
         "coloraxis": "coloraxis",
         "hovertemplate": "x: %{x}<br>y: %{y}<br>color: %{z}<extra></extra>",
         "name": "0",
         "texttemplate": "%{z}",
         "type": "heatmap",
         "x": [
          "MOD_P3",
          "SPK1_P3",
          "SPK2_P3"
         ],
         "xaxis": "x",
         "y": [
          "MOD_P1",
          "SPK1_P1",
          "SPK2_P1"
         ],
         "yaxis": "y",
         "z": [
          [
           0.009287925696594427,
           0.017543859649122806,
           -0.011351909184726523
          ],
          [
           -0.07533539731682146,
           -0.09184726522187822,
           -0.13519091847265222
          ],
          [
           -0.11661506707946334,
           -0.11042311661506708,
           -0.1455108359133127
          ]
         ]
        }
       ],
       "layout": {
        "coloraxis": {
         "colorscale": [
          [
           0,
           "rgb(75, 41, 145)"
          ],
          [
           0.16666666666666666,
           "rgb(135, 44, 162)"
          ],
          [
           0.3333333333333333,
           "rgb(192, 54, 157)"
          ],
          [
           0.5,
           "rgb(234, 79, 136)"
          ],
          [
           0.6666666666666666,
           "rgb(250, 120, 118)"
          ],
          [
           0.8333333333333334,
           "rgb(246, 169, 122)"
          ],
          [
           1,
           "rgb(237, 217, 163)"
          ]
         ]
        },
        "margin": {
         "t": 60
        },
        "template": {
         "data": {
          "bar": [
           {
            "error_x": {
             "color": "#2a3f5f"
            },
            "error_y": {
             "color": "#2a3f5f"
            },
            "marker": {
             "line": {
              "color": "#E5ECF6",
              "width": 0.5
             },
             "pattern": {
              "fillmode": "overlay",
              "size": 10,
              "solidity": 0.2
             }
            },
            "type": "bar"
           }
          ],
          "barpolar": [
           {
            "marker": {
             "line": {
              "color": "#E5ECF6",
              "width": 0.5
             },
             "pattern": {
              "fillmode": "overlay",
              "size": 10,
              "solidity": 0.2
             }
            },
            "type": "barpolar"
           }
          ],
          "carpet": [
           {
            "aaxis": {
             "endlinecolor": "#2a3f5f",
             "gridcolor": "white",
             "linecolor": "white",
             "minorgridcolor": "white",
             "startlinecolor": "#2a3f5f"
            },
            "baxis": {
             "endlinecolor": "#2a3f5f",
             "gridcolor": "white",
             "linecolor": "white",
             "minorgridcolor": "white",
             "startlinecolor": "#2a3f5f"
            },
            "type": "carpet"
           }
          ],
          "choropleth": [
           {
            "colorbar": {
             "outlinewidth": 0,
             "ticks": ""
            },
            "type": "choropleth"
           }
          ],
          "contour": [
           {
            "colorbar": {
             "outlinewidth": 0,
             "ticks": ""
            },
            "colorscale": [
             [
              0,
              "#0d0887"
             ],
             [
              0.1111111111111111,
              "#46039f"
             ],
             [
              0.2222222222222222,
              "#7201a8"
             ],
             [
              0.3333333333333333,
              "#9c179e"
             ],
             [
              0.4444444444444444,
              "#bd3786"
             ],
             [
              0.5555555555555556,
              "#d8576b"
             ],
             [
              0.6666666666666666,
              "#ed7953"
             ],
             [
              0.7777777777777778,
              "#fb9f3a"
             ],
             [
              0.8888888888888888,
              "#fdca26"
             ],
             [
              1,
              "#f0f921"
             ]
            ],
            "type": "contour"
           }
          ],
          "contourcarpet": [
           {
            "colorbar": {
             "outlinewidth": 0,
             "ticks": ""
            },
            "type": "contourcarpet"
           }
          ],
          "heatmap": [
           {
            "colorbar": {
             "outlinewidth": 0,
             "ticks": ""
            },
            "colorscale": [
             [
              0,
              "#0d0887"
             ],
             [
              0.1111111111111111,
              "#46039f"
             ],
             [
              0.2222222222222222,
              "#7201a8"
             ],
             [
              0.3333333333333333,
              "#9c179e"
             ],
             [
              0.4444444444444444,
              "#bd3786"
             ],
             [
              0.5555555555555556,
              "#d8576b"
             ],
             [
              0.6666666666666666,
              "#ed7953"
             ],
             [
              0.7777777777777778,
              "#fb9f3a"
             ],
             [
              0.8888888888888888,
              "#fdca26"
             ],
             [
              1,
              "#f0f921"
             ]
            ],
            "type": "heatmap"
           }
          ],
          "heatmapgl": [
           {
            "colorbar": {
             "outlinewidth": 0,
             "ticks": ""
            },
            "colorscale": [
             [
              0,
              "#0d0887"
             ],
             [
              0.1111111111111111,
              "#46039f"
             ],
             [
              0.2222222222222222,
              "#7201a8"
             ],
             [
              0.3333333333333333,
              "#9c179e"
             ],
             [
              0.4444444444444444,
              "#bd3786"
             ],
             [
              0.5555555555555556,
              "#d8576b"
             ],
             [
              0.6666666666666666,
              "#ed7953"
             ],
             [
              0.7777777777777778,
              "#fb9f3a"
             ],
             [
              0.8888888888888888,
              "#fdca26"
             ],
             [
              1,
              "#f0f921"
             ]
            ],
            "type": "heatmapgl"
           }
          ],
          "histogram": [
           {
            "marker": {
             "pattern": {
              "fillmode": "overlay",
              "size": 10,
              "solidity": 0.2
             }
            },
            "type": "histogram"
           }
          ],
          "histogram2d": [
           {
            "colorbar": {
             "outlinewidth": 0,
             "ticks": ""
            },
            "colorscale": [
             [
              0,
              "#0d0887"
             ],
             [
              0.1111111111111111,
              "#46039f"
             ],
             [
              0.2222222222222222,
              "#7201a8"
             ],
             [
              0.3333333333333333,
              "#9c179e"
             ],
             [
              0.4444444444444444,
              "#bd3786"
             ],
             [
              0.5555555555555556,
              "#d8576b"
             ],
             [
              0.6666666666666666,
              "#ed7953"
             ],
             [
              0.7777777777777778,
              "#fb9f3a"
             ],
             [
              0.8888888888888888,
              "#fdca26"
             ],
             [
              1,
              "#f0f921"
             ]
            ],
            "type": "histogram2d"
           }
          ],
          "histogram2dcontour": [
           {
            "colorbar": {
             "outlinewidth": 0,
             "ticks": ""
            },
            "colorscale": [
             [
              0,
              "#0d0887"
             ],
             [
              0.1111111111111111,
              "#46039f"
             ],
             [
              0.2222222222222222,
              "#7201a8"
             ],
             [
              0.3333333333333333,
              "#9c179e"
             ],
             [
              0.4444444444444444,
              "#bd3786"
             ],
             [
              0.5555555555555556,
              "#d8576b"
             ],
             [
              0.6666666666666666,
              "#ed7953"
             ],
             [
              0.7777777777777778,
              "#fb9f3a"
             ],
             [
              0.8888888888888888,
              "#fdca26"
             ],
             [
              1,
              "#f0f921"
             ]
            ],
            "type": "histogram2dcontour"
           }
          ],
          "mesh3d": [
           {
            "colorbar": {
             "outlinewidth": 0,
             "ticks": ""
            },
            "type": "mesh3d"
           }
          ],
          "parcoords": [
           {
            "line": {
             "colorbar": {
              "outlinewidth": 0,
              "ticks": ""
             }
            },
            "type": "parcoords"
           }
          ],
          "pie": [
           {
            "automargin": true,
            "type": "pie"
           }
          ],
          "scatter": [
           {
            "fillpattern": {
             "fillmode": "overlay",
             "size": 10,
             "solidity": 0.2
            },
            "type": "scatter"
           }
          ],
          "scatter3d": [
           {
            "line": {
             "colorbar": {
              "outlinewidth": 0,
              "ticks": ""
             }
            },
            "marker": {
             "colorbar": {
              "outlinewidth": 0,
              "ticks": ""
             }
            },
            "type": "scatter3d"
           }
          ],
          "scattercarpet": [
           {
            "marker": {
             "colorbar": {
              "outlinewidth": 0,
              "ticks": ""
             }
            },
            "type": "scattercarpet"
           }
          ],
          "scattergeo": [
           {
            "marker": {
             "colorbar": {
              "outlinewidth": 0,
              "ticks": ""
             }
            },
            "type": "scattergeo"
           }
          ],
          "scattergl": [
           {
            "marker": {
             "colorbar": {
              "outlinewidth": 0,
              "ticks": ""
             }
            },
            "type": "scattergl"
           }
          ],
          "scattermapbox": [
           {
            "marker": {
             "colorbar": {
              "outlinewidth": 0,
              "ticks": ""
             }
            },
            "type": "scattermapbox"
           }
          ],
          "scatterpolar": [
           {
            "marker": {
             "colorbar": {
              "outlinewidth": 0,
              "ticks": ""
             }
            },
            "type": "scatterpolar"
           }
          ],
          "scatterpolargl": [
           {
            "marker": {
             "colorbar": {
              "outlinewidth": 0,
              "ticks": ""
             }
            },
            "type": "scatterpolargl"
           }
          ],
          "scatterternary": [
           {
            "marker": {
             "colorbar": {
              "outlinewidth": 0,
              "ticks": ""
             }
            },
            "type": "scatterternary"
           }
          ],
          "surface": [
           {
            "colorbar": {
             "outlinewidth": 0,
             "ticks": ""
            },
            "colorscale": [
             [
              0,
              "#0d0887"
             ],
             [
              0.1111111111111111,
              "#46039f"
             ],
             [
              0.2222222222222222,
              "#7201a8"
             ],
             [
              0.3333333333333333,
              "#9c179e"
             ],
             [
              0.4444444444444444,
              "#bd3786"
             ],
             [
              0.5555555555555556,
              "#d8576b"
             ],
             [
              0.6666666666666666,
              "#ed7953"
             ],
             [
              0.7777777777777778,
              "#fb9f3a"
             ],
             [
              0.8888888888888888,
              "#fdca26"
             ],
             [
              1,
              "#f0f921"
             ]
            ],
            "type": "surface"
           }
          ],
          "table": [
           {
            "cells": {
             "fill": {
              "color": "#EBF0F8"
             },
             "line": {
              "color": "white"
             }
            },
            "header": {
             "fill": {
              "color": "#C8D4E3"
             },
             "line": {
              "color": "white"
             }
            },
            "type": "table"
           }
          ]
         },
         "layout": {
          "annotationdefaults": {
           "arrowcolor": "#2a3f5f",
           "arrowhead": 0,
           "arrowwidth": 1
          },
          "autotypenumbers": "strict",
          "coloraxis": {
           "colorbar": {
            "outlinewidth": 0,
            "ticks": ""
           }
          },
          "colorscale": {
           "diverging": [
            [
             0,
             "#8e0152"
            ],
            [
             0.1,
             "#c51b7d"
            ],
            [
             0.2,
             "#de77ae"
            ],
            [
             0.3,
             "#f1b6da"
            ],
            [
             0.4,
             "#fde0ef"
            ],
            [
             0.5,
             "#f7f7f7"
            ],
            [
             0.6,
             "#e6f5d0"
            ],
            [
             0.7,
             "#b8e186"
            ],
            [
             0.8,
             "#7fbc41"
            ],
            [
             0.9,
             "#4d9221"
            ],
            [
             1,
             "#276419"
            ]
           ],
           "sequential": [
            [
             0,
             "#0d0887"
            ],
            [
             0.1111111111111111,
             "#46039f"
            ],
            [
             0.2222222222222222,
             "#7201a8"
            ],
            [
             0.3333333333333333,
             "#9c179e"
            ],
            [
             0.4444444444444444,
             "#bd3786"
            ],
            [
             0.5555555555555556,
             "#d8576b"
            ],
            [
             0.6666666666666666,
             "#ed7953"
            ],
            [
             0.7777777777777778,
             "#fb9f3a"
            ],
            [
             0.8888888888888888,
             "#fdca26"
            ],
            [
             1,
             "#f0f921"
            ]
           ],
           "sequentialminus": [
            [
             0,
             "#0d0887"
            ],
            [
             0.1111111111111111,
             "#46039f"
            ],
            [
             0.2222222222222222,
             "#7201a8"
            ],
            [
             0.3333333333333333,
             "#9c179e"
            ],
            [
             0.4444444444444444,
             "#bd3786"
            ],
            [
             0.5555555555555556,
             "#d8576b"
            ],
            [
             0.6666666666666666,
             "#ed7953"
            ],
            [
             0.7777777777777778,
             "#fb9f3a"
            ],
            [
             0.8888888888888888,
             "#fdca26"
            ],
            [
             1,
             "#f0f921"
            ]
           ]
          },
          "colorway": [
           "#636efa",
           "#EF553B",
           "#00cc96",
           "#ab63fa",
           "#FFA15A",
           "#19d3f3",
           "#FF6692",
           "#B6E880",
           "#FF97FF",
           "#FECB52"
          ],
          "font": {
           "color": "#2a3f5f"
          },
          "geo": {
           "bgcolor": "white",
           "lakecolor": "white",
           "landcolor": "#E5ECF6",
           "showlakes": true,
           "showland": true,
           "subunitcolor": "white"
          },
          "hoverlabel": {
           "align": "left"
          },
          "hovermode": "closest",
          "mapbox": {
           "style": "light"
          },
          "paper_bgcolor": "white",
          "plot_bgcolor": "#E5ECF6",
          "polar": {
           "angularaxis": {
            "gridcolor": "white",
            "linecolor": "white",
            "ticks": ""
           },
           "bgcolor": "#E5ECF6",
           "radialaxis": {
            "gridcolor": "white",
            "linecolor": "white",
            "ticks": ""
           }
          },
          "scene": {
           "xaxis": {
            "backgroundcolor": "#E5ECF6",
            "gridcolor": "white",
            "gridwidth": 2,
            "linecolor": "white",
            "showbackground": true,
            "ticks": "",
            "zerolinecolor": "white"
           },
           "yaxis": {
            "backgroundcolor": "#E5ECF6",
            "gridcolor": "white",
            "gridwidth": 2,
            "linecolor": "white",
            "showbackground": true,
            "ticks": "",
            "zerolinecolor": "white"
           },
           "zaxis": {
            "backgroundcolor": "#E5ECF6",
            "gridcolor": "white",
            "gridwidth": 2,
            "linecolor": "white",
            "showbackground": true,
            "ticks": "",
            "zerolinecolor": "white"
           }
          },
          "shapedefaults": {
           "line": {
            "color": "#2a3f5f"
           }
          },
          "ternary": {
           "aaxis": {
            "gridcolor": "white",
            "linecolor": "white",
            "ticks": ""
           },
           "baxis": {
            "gridcolor": "white",
            "linecolor": "white",
            "ticks": ""
           },
           "bgcolor": "#E5ECF6",
           "caxis": {
            "gridcolor": "white",
            "linecolor": "white",
            "ticks": ""
           }
          },
          "title": {
           "x": 0.05
          },
          "xaxis": {
           "automargin": true,
           "gridcolor": "white",
           "linecolor": "white",
           "ticks": "",
           "title": {
            "standoff": 15
           },
           "zerolinecolor": "white",
           "zerolinewidth": 2
          },
          "yaxis": {
           "automargin": true,
           "gridcolor": "white",
           "linecolor": "white",
           "ticks": "",
           "title": {
            "standoff": 15
           },
           "zerolinecolor": "white",
           "zerolinewidth": 2
          }
         }
        },
        "xaxis": {
         "anchor": "y",
         "domain": [
          0,
          1
         ]
        },
        "yaxis": {
         "anchor": "x",
         "autorange": "reversed",
         "domain": [
          0,
          1
         ]
        }
       }
      },
      "text/html": [
       "<div>                            <div id=\"de61cad4-e727-4dba-83ec-b2d4ec000e19\" class=\"plotly-graph-div\" style=\"height:525px; width:100%;\"></div>            <script type=\"text/javascript\">                require([\"plotly\"], function(Plotly) {                    window.PLOTLYENV=window.PLOTLYENV || {};                                    if (document.getElementById(\"de61cad4-e727-4dba-83ec-b2d4ec000e19\")) {                    Plotly.newPlot(                        \"de61cad4-e727-4dba-83ec-b2d4ec000e19\",                        [{\"coloraxis\":\"coloraxis\",\"name\":\"0\",\"texttemplate\":\"%{z}\",\"x\":[\"MOD_P3\",\"SPK1_P3\",\"SPK2_P3\"],\"y\":[\"MOD_P1\",\"SPK1_P1\",\"SPK2_P1\"],\"z\":[[0.009287925696594427,0.017543859649122806,-0.011351909184726523],[-0.07533539731682146,-0.09184726522187822,-0.13519091847265222],[-0.11661506707946334,-0.11042311661506708,-0.1455108359133127]],\"type\":\"heatmap\",\"xaxis\":\"x\",\"yaxis\":\"y\",\"hovertemplate\":\"x: %{x}<br>y: %{y}<br>color: %{z}<extra></extra>\"}],                        {\"template\":{\"data\":{\"histogram2dcontour\":[{\"type\":\"histogram2dcontour\",\"colorbar\":{\"outlinewidth\":0,\"ticks\":\"\"},\"colorscale\":[[0.0,\"#0d0887\"],[0.1111111111111111,\"#46039f\"],[0.2222222222222222,\"#7201a8\"],[0.3333333333333333,\"#9c179e\"],[0.4444444444444444,\"#bd3786\"],[0.5555555555555556,\"#d8576b\"],[0.6666666666666666,\"#ed7953\"],[0.7777777777777778,\"#fb9f3a\"],[0.8888888888888888,\"#fdca26\"],[1.0,\"#f0f921\"]]}],\"choropleth\":[{\"type\":\"choropleth\",\"colorbar\":{\"outlinewidth\":0,\"ticks\":\"\"}}],\"histogram2d\":[{\"type\":\"histogram2d\",\"colorbar\":{\"outlinewidth\":0,\"ticks\":\"\"},\"colorscale\":[[0.0,\"#0d0887\"],[0.1111111111111111,\"#46039f\"],[0.2222222222222222,\"#7201a8\"],[0.3333333333333333,\"#9c179e\"],[0.4444444444444444,\"#bd3786\"],[0.5555555555555556,\"#d8576b\"],[0.6666666666666666,\"#ed7953\"],[0.7777777777777778,\"#fb9f3a\"],[0.8888888888888888,\"#fdca26\"],[1.0,\"#f0f921\"]]}],\"heatmap\":[{\"type\":\"heatmap\",\"colorbar\":{\"outlinewidth\":0,\"ticks\":\"\"},\"colorscale\":[[0.0,\"#0d0887\"],[0.1111111111111111,\"#46039f\"],[0.2222222222222222,\"#7201a8\"],[0.3333333333333333,\"#9c179e\"],[0.4444444444444444,\"#bd3786\"],[0.5555555555555556,\"#d8576b\"],[0.6666666666666666,\"#ed7953\"],[0.7777777777777778,\"#fb9f3a\"],[0.8888888888888888,\"#fdca26\"],[1.0,\"#f0f921\"]]}],\"heatmapgl\":[{\"type\":\"heatmapgl\",\"colorbar\":{\"outlinewidth\":0,\"ticks\":\"\"},\"colorscale\":[[0.0,\"#0d0887\"],[0.1111111111111111,\"#46039f\"],[0.2222222222222222,\"#7201a8\"],[0.3333333333333333,\"#9c179e\"],[0.4444444444444444,\"#bd3786\"],[0.5555555555555556,\"#d8576b\"],[0.6666666666666666,\"#ed7953\"],[0.7777777777777778,\"#fb9f3a\"],[0.8888888888888888,\"#fdca26\"],[1.0,\"#f0f921\"]]}],\"contourcarpet\":[{\"type\":\"contourcarpet\",\"colorbar\":{\"outlinewidth\":0,\"ticks\":\"\"}}],\"contour\":[{\"type\":\"contour\",\"colorbar\":{\"outlinewidth\":0,\"ticks\":\"\"},\"colorscale\":[[0.0,\"#0d0887\"],[0.1111111111111111,\"#46039f\"],[0.2222222222222222,\"#7201a8\"],[0.3333333333333333,\"#9c179e\"],[0.4444444444444444,\"#bd3786\"],[0.5555555555555556,\"#d8576b\"],[0.6666666666666666,\"#ed7953\"],[0.7777777777777778,\"#fb9f3a\"],[0.8888888888888888,\"#fdca26\"],[1.0,\"#f0f921\"]]}],\"surface\":[{\"type\":\"surface\",\"colorbar\":{\"outlinewidth\":0,\"ticks\":\"\"},\"colorscale\":[[0.0,\"#0d0887\"],[0.1111111111111111,\"#46039f\"],[0.2222222222222222,\"#7201a8\"],[0.3333333333333333,\"#9c179e\"],[0.4444444444444444,\"#bd3786\"],[0.5555555555555556,\"#d8576b\"],[0.6666666666666666,\"#ed7953\"],[0.7777777777777778,\"#fb9f3a\"],[0.8888888888888888,\"#fdca26\"],[1.0,\"#f0f921\"]]}],\"mesh3d\":[{\"type\":\"mesh3d\",\"colorbar\":{\"outlinewidth\":0,\"ticks\":\"\"}}],\"scatter\":[{\"fillpattern\":{\"fillmode\":\"overlay\",\"size\":10,\"solidity\":0.2},\"type\":\"scatter\"}],\"parcoords\":[{\"type\":\"parcoords\",\"line\":{\"colorbar\":{\"outlinewidth\":0,\"ticks\":\"\"}}}],\"scatterpolargl\":[{\"type\":\"scatterpolargl\",\"marker\":{\"colorbar\":{\"outlinewidth\":0,\"ticks\":\"\"}}}],\"bar\":[{\"error_x\":{\"color\":\"#2a3f5f\"},\"error_y\":{\"color\":\"#2a3f5f\"},\"marker\":{\"line\":{\"color\":\"#E5ECF6\",\"width\":0.5},\"pattern\":{\"fillmode\":\"overlay\",\"size\":10,\"solidity\":0.2}},\"type\":\"bar\"}],\"scattergeo\":[{\"type\":\"scattergeo\",\"marker\":{\"colorbar\":{\"outlinewidth\":0,\"ticks\":\"\"}}}],\"scatterpolar\":[{\"type\":\"scatterpolar\",\"marker\":{\"colorbar\":{\"outlinewidth\":0,\"ticks\":\"\"}}}],\"histogram\":[{\"marker\":{\"pattern\":{\"fillmode\":\"overlay\",\"size\":10,\"solidity\":0.2}},\"type\":\"histogram\"}],\"scattergl\":[{\"type\":\"scattergl\",\"marker\":{\"colorbar\":{\"outlinewidth\":0,\"ticks\":\"\"}}}],\"scatter3d\":[{\"type\":\"scatter3d\",\"line\":{\"colorbar\":{\"outlinewidth\":0,\"ticks\":\"\"}},\"marker\":{\"colorbar\":{\"outlinewidth\":0,\"ticks\":\"\"}}}],\"scattermapbox\":[{\"type\":\"scattermapbox\",\"marker\":{\"colorbar\":{\"outlinewidth\":0,\"ticks\":\"\"}}}],\"scatterternary\":[{\"type\":\"scatterternary\",\"marker\":{\"colorbar\":{\"outlinewidth\":0,\"ticks\":\"\"}}}],\"scattercarpet\":[{\"type\":\"scattercarpet\",\"marker\":{\"colorbar\":{\"outlinewidth\":0,\"ticks\":\"\"}}}],\"carpet\":[{\"aaxis\":{\"endlinecolor\":\"#2a3f5f\",\"gridcolor\":\"white\",\"linecolor\":\"white\",\"minorgridcolor\":\"white\",\"startlinecolor\":\"#2a3f5f\"},\"baxis\":{\"endlinecolor\":\"#2a3f5f\",\"gridcolor\":\"white\",\"linecolor\":\"white\",\"minorgridcolor\":\"white\",\"startlinecolor\":\"#2a3f5f\"},\"type\":\"carpet\"}],\"table\":[{\"cells\":{\"fill\":{\"color\":\"#EBF0F8\"},\"line\":{\"color\":\"white\"}},\"header\":{\"fill\":{\"color\":\"#C8D4E3\"},\"line\":{\"color\":\"white\"}},\"type\":\"table\"}],\"barpolar\":[{\"marker\":{\"line\":{\"color\":\"#E5ECF6\",\"width\":0.5},\"pattern\":{\"fillmode\":\"overlay\",\"size\":10,\"solidity\":0.2}},\"type\":\"barpolar\"}],\"pie\":[{\"automargin\":true,\"type\":\"pie\"}]},\"layout\":{\"autotypenumbers\":\"strict\",\"colorway\":[\"#636efa\",\"#EF553B\",\"#00cc96\",\"#ab63fa\",\"#FFA15A\",\"#19d3f3\",\"#FF6692\",\"#B6E880\",\"#FF97FF\",\"#FECB52\"],\"font\":{\"color\":\"#2a3f5f\"},\"hovermode\":\"closest\",\"hoverlabel\":{\"align\":\"left\"},\"paper_bgcolor\":\"white\",\"plot_bgcolor\":\"#E5ECF6\",\"polar\":{\"bgcolor\":\"#E5ECF6\",\"angularaxis\":{\"gridcolor\":\"white\",\"linecolor\":\"white\",\"ticks\":\"\"},\"radialaxis\":{\"gridcolor\":\"white\",\"linecolor\":\"white\",\"ticks\":\"\"}},\"ternary\":{\"bgcolor\":\"#E5ECF6\",\"aaxis\":{\"gridcolor\":\"white\",\"linecolor\":\"white\",\"ticks\":\"\"},\"baxis\":{\"gridcolor\":\"white\",\"linecolor\":\"white\",\"ticks\":\"\"},\"caxis\":{\"gridcolor\":\"white\",\"linecolor\":\"white\",\"ticks\":\"\"}},\"coloraxis\":{\"colorbar\":{\"outlinewidth\":0,\"ticks\":\"\"}},\"colorscale\":{\"sequential\":[[0.0,\"#0d0887\"],[0.1111111111111111,\"#46039f\"],[0.2222222222222222,\"#7201a8\"],[0.3333333333333333,\"#9c179e\"],[0.4444444444444444,\"#bd3786\"],[0.5555555555555556,\"#d8576b\"],[0.6666666666666666,\"#ed7953\"],[0.7777777777777778,\"#fb9f3a\"],[0.8888888888888888,\"#fdca26\"],[1.0,\"#f0f921\"]],\"sequentialminus\":[[0.0,\"#0d0887\"],[0.1111111111111111,\"#46039f\"],[0.2222222222222222,\"#7201a8\"],[0.3333333333333333,\"#9c179e\"],[0.4444444444444444,\"#bd3786\"],[0.5555555555555556,\"#d8576b\"],[0.6666666666666666,\"#ed7953\"],[0.7777777777777778,\"#fb9f3a\"],[0.8888888888888888,\"#fdca26\"],[1.0,\"#f0f921\"]],\"diverging\":[[0,\"#8e0152\"],[0.1,\"#c51b7d\"],[0.2,\"#de77ae\"],[0.3,\"#f1b6da\"],[0.4,\"#fde0ef\"],[0.5,\"#f7f7f7\"],[0.6,\"#e6f5d0\"],[0.7,\"#b8e186\"],[0.8,\"#7fbc41\"],[0.9,\"#4d9221\"],[1,\"#276419\"]]},\"xaxis\":{\"gridcolor\":\"white\",\"linecolor\":\"white\",\"ticks\":\"\",\"title\":{\"standoff\":15},\"zerolinecolor\":\"white\",\"automargin\":true,\"zerolinewidth\":2},\"yaxis\":{\"gridcolor\":\"white\",\"linecolor\":\"white\",\"ticks\":\"\",\"title\":{\"standoff\":15},\"zerolinecolor\":\"white\",\"automargin\":true,\"zerolinewidth\":2},\"scene\":{\"xaxis\":{\"backgroundcolor\":\"#E5ECF6\",\"gridcolor\":\"white\",\"linecolor\":\"white\",\"showbackground\":true,\"ticks\":\"\",\"zerolinecolor\":\"white\",\"gridwidth\":2},\"yaxis\":{\"backgroundcolor\":\"#E5ECF6\",\"gridcolor\":\"white\",\"linecolor\":\"white\",\"showbackground\":true,\"ticks\":\"\",\"zerolinecolor\":\"white\",\"gridwidth\":2},\"zaxis\":{\"backgroundcolor\":\"#E5ECF6\",\"gridcolor\":\"white\",\"linecolor\":\"white\",\"showbackground\":true,\"ticks\":\"\",\"zerolinecolor\":\"white\",\"gridwidth\":2}},\"shapedefaults\":{\"line\":{\"color\":\"#2a3f5f\"}},\"annotationdefaults\":{\"arrowcolor\":\"#2a3f5f\",\"arrowhead\":0,\"arrowwidth\":1},\"geo\":{\"bgcolor\":\"white\",\"landcolor\":\"#E5ECF6\",\"subunitcolor\":\"white\",\"showland\":true,\"showlakes\":true,\"lakecolor\":\"white\"},\"title\":{\"x\":0.05},\"mapbox\":{\"style\":\"light\"}}},\"xaxis\":{\"anchor\":\"y\",\"domain\":[0.0,1.0]},\"yaxis\":{\"anchor\":\"x\",\"domain\":[0.0,1.0],\"autorange\":\"reversed\"},\"coloraxis\":{\"colorscale\":[[0.0,\"rgb(75, 41, 145)\"],[0.16666666666666666,\"rgb(135, 44, 162)\"],[0.3333333333333333,\"rgb(192, 54, 157)\"],[0.5,\"rgb(234, 79, 136)\"],[0.6666666666666666,\"rgb(250, 120, 118)\"],[0.8333333333333334,\"rgb(246, 169, 122)\"],[1.0,\"rgb(237, 217, 163)\"]]},\"margin\":{\"t\":60}},                        {\"responsive\": true}                    ).then(function(){\n",
       "                            \n",
       "var gd = document.getElementById('de61cad4-e727-4dba-83ec-b2d4ec000e19');\n",
       "var x = new MutationObserver(function (mutations, observer) {{\n",
       "        var display = window.getComputedStyle(gd).display;\n",
       "        if (!display || display === 'none') {{\n",
       "            console.log([gd, 'removed!']);\n",
       "            Plotly.purge(gd);\n",
       "            observer.disconnect();\n",
       "        }}\n",
       "}});\n",
       "\n",
       "// Listen for the removal of the full notebook cells\n",
       "var notebookContainer = gd.closest('#notebook-container');\n",
       "if (notebookContainer) {{\n",
       "    x.observe(notebookContainer, {childList: true});\n",
       "}}\n",
       "\n",
       "// Listen for the clearing of the current output cell\n",
       "var outputEl = gd.closest('.output');\n",
       "if (outputEl) {{\n",
       "    x.observe(outputEl, {childList: true});\n",
       "}}\n",
       "\n",
       "                        })                };                });            </script>        </div>"
      ]
     },
     "metadata": {},
     "output_type": "display_data"
    },
    {
     "data": {
      "application/vnd.plotly.v1+json": {
       "config": {
        "plotlyServerURL": "https://plot.ly"
       },
       "data": [
        {
         "coloraxis": "coloraxis",
         "hovertemplate": "x: %{x}<br>y: %{y}<br>color: %{z}<extra></extra>",
         "name": "0",
         "texttemplate": "%{z}",
         "type": "heatmap",
         "x": [
          "MOD_P3",
          "SPK1_P3",
          "SPK2_P3"
         ],
         "xaxis": "x",
         "y": [
          "MOD_P1",
          "SPK1_P1",
          "SPK2_P1"
         ],
         "yaxis": "y",
         "z": [
          [
           0.9708223763257615,
           0.9449151835129637,
           0.9643420040748253
          ],
          [
           0.7663922813478388,
           0.717002841661774,
           0.5927498112228585
          ],
          [
           0.6449317151979074,
           0.6626984309773885,
           0.5645405304670836
          ]
         ]
        }
       ],
       "layout": {
        "coloraxis": {
         "colorscale": [
          [
           0,
           "rgb(254, 254, 253)"
          ],
          [
           0.09090909090909091,
           "rgb(224, 224, 223)"
          ],
          [
           0.18181818181818182,
           "rgb(197, 197, 195)"
          ],
          [
           0.2727272727272727,
           "rgb(171, 171, 170)"
          ],
          [
           0.36363636363636365,
           "rgb(146, 146, 145)"
          ],
          [
           0.45454545454545453,
           "rgb(124, 123, 122)"
          ],
          [
           0.5454545454545454,
           "rgb(102, 101, 101)"
          ],
          [
           0.6363636363636364,
           "rgb(81, 80, 80)"
          ],
          [
           0.7272727272727273,
           "rgb(59, 59, 59)"
          ],
          [
           0.8181818181818182,
           "rgb(38, 38, 38)"
          ],
          [
           0.9090909090909091,
           "rgb(16, 16, 16)"
          ],
          [
           1,
           "rgb(0, 0, 0)"
          ]
         ]
        },
        "margin": {
         "t": 60
        },
        "template": {
         "data": {
          "bar": [
           {
            "error_x": {
             "color": "#2a3f5f"
            },
            "error_y": {
             "color": "#2a3f5f"
            },
            "marker": {
             "line": {
              "color": "#E5ECF6",
              "width": 0.5
             },
             "pattern": {
              "fillmode": "overlay",
              "size": 10,
              "solidity": 0.2
             }
            },
            "type": "bar"
           }
          ],
          "barpolar": [
           {
            "marker": {
             "line": {
              "color": "#E5ECF6",
              "width": 0.5
             },
             "pattern": {
              "fillmode": "overlay",
              "size": 10,
              "solidity": 0.2
             }
            },
            "type": "barpolar"
           }
          ],
          "carpet": [
           {
            "aaxis": {
             "endlinecolor": "#2a3f5f",
             "gridcolor": "white",
             "linecolor": "white",
             "minorgridcolor": "white",
             "startlinecolor": "#2a3f5f"
            },
            "baxis": {
             "endlinecolor": "#2a3f5f",
             "gridcolor": "white",
             "linecolor": "white",
             "minorgridcolor": "white",
             "startlinecolor": "#2a3f5f"
            },
            "type": "carpet"
           }
          ],
          "choropleth": [
           {
            "colorbar": {
             "outlinewidth": 0,
             "ticks": ""
            },
            "type": "choropleth"
           }
          ],
          "contour": [
           {
            "colorbar": {
             "outlinewidth": 0,
             "ticks": ""
            },
            "colorscale": [
             [
              0,
              "#0d0887"
             ],
             [
              0.1111111111111111,
              "#46039f"
             ],
             [
              0.2222222222222222,
              "#7201a8"
             ],
             [
              0.3333333333333333,
              "#9c179e"
             ],
             [
              0.4444444444444444,
              "#bd3786"
             ],
             [
              0.5555555555555556,
              "#d8576b"
             ],
             [
              0.6666666666666666,
              "#ed7953"
             ],
             [
              0.7777777777777778,
              "#fb9f3a"
             ],
             [
              0.8888888888888888,
              "#fdca26"
             ],
             [
              1,
              "#f0f921"
             ]
            ],
            "type": "contour"
           }
          ],
          "contourcarpet": [
           {
            "colorbar": {
             "outlinewidth": 0,
             "ticks": ""
            },
            "type": "contourcarpet"
           }
          ],
          "heatmap": [
           {
            "colorbar": {
             "outlinewidth": 0,
             "ticks": ""
            },
            "colorscale": [
             [
              0,
              "#0d0887"
             ],
             [
              0.1111111111111111,
              "#46039f"
             ],
             [
              0.2222222222222222,
              "#7201a8"
             ],
             [
              0.3333333333333333,
              "#9c179e"
             ],
             [
              0.4444444444444444,
              "#bd3786"
             ],
             [
              0.5555555555555556,
              "#d8576b"
             ],
             [
              0.6666666666666666,
              "#ed7953"
             ],
             [
              0.7777777777777778,
              "#fb9f3a"
             ],
             [
              0.8888888888888888,
              "#fdca26"
             ],
             [
              1,
              "#f0f921"
             ]
            ],
            "type": "heatmap"
           }
          ],
          "heatmapgl": [
           {
            "colorbar": {
             "outlinewidth": 0,
             "ticks": ""
            },
            "colorscale": [
             [
              0,
              "#0d0887"
             ],
             [
              0.1111111111111111,
              "#46039f"
             ],
             [
              0.2222222222222222,
              "#7201a8"
             ],
             [
              0.3333333333333333,
              "#9c179e"
             ],
             [
              0.4444444444444444,
              "#bd3786"
             ],
             [
              0.5555555555555556,
              "#d8576b"
             ],
             [
              0.6666666666666666,
              "#ed7953"
             ],
             [
              0.7777777777777778,
              "#fb9f3a"
             ],
             [
              0.8888888888888888,
              "#fdca26"
             ],
             [
              1,
              "#f0f921"
             ]
            ],
            "type": "heatmapgl"
           }
          ],
          "histogram": [
           {
            "marker": {
             "pattern": {
              "fillmode": "overlay",
              "size": 10,
              "solidity": 0.2
             }
            },
            "type": "histogram"
           }
          ],
          "histogram2d": [
           {
            "colorbar": {
             "outlinewidth": 0,
             "ticks": ""
            },
            "colorscale": [
             [
              0,
              "#0d0887"
             ],
             [
              0.1111111111111111,
              "#46039f"
             ],
             [
              0.2222222222222222,
              "#7201a8"
             ],
             [
              0.3333333333333333,
              "#9c179e"
             ],
             [
              0.4444444444444444,
              "#bd3786"
             ],
             [
              0.5555555555555556,
              "#d8576b"
             ],
             [
              0.6666666666666666,
              "#ed7953"
             ],
             [
              0.7777777777777778,
              "#fb9f3a"
             ],
             [
              0.8888888888888888,
              "#fdca26"
             ],
             [
              1,
              "#f0f921"
             ]
            ],
            "type": "histogram2d"
           }
          ],
          "histogram2dcontour": [
           {
            "colorbar": {
             "outlinewidth": 0,
             "ticks": ""
            },
            "colorscale": [
             [
              0,
              "#0d0887"
             ],
             [
              0.1111111111111111,
              "#46039f"
             ],
             [
              0.2222222222222222,
              "#7201a8"
             ],
             [
              0.3333333333333333,
              "#9c179e"
             ],
             [
              0.4444444444444444,
              "#bd3786"
             ],
             [
              0.5555555555555556,
              "#d8576b"
             ],
             [
              0.6666666666666666,
              "#ed7953"
             ],
             [
              0.7777777777777778,
              "#fb9f3a"
             ],
             [
              0.8888888888888888,
              "#fdca26"
             ],
             [
              1,
              "#f0f921"
             ]
            ],
            "type": "histogram2dcontour"
           }
          ],
          "mesh3d": [
           {
            "colorbar": {
             "outlinewidth": 0,
             "ticks": ""
            },
            "type": "mesh3d"
           }
          ],
          "parcoords": [
           {
            "line": {
             "colorbar": {
              "outlinewidth": 0,
              "ticks": ""
             }
            },
            "type": "parcoords"
           }
          ],
          "pie": [
           {
            "automargin": true,
            "type": "pie"
           }
          ],
          "scatter": [
           {
            "fillpattern": {
             "fillmode": "overlay",
             "size": 10,
             "solidity": 0.2
            },
            "type": "scatter"
           }
          ],
          "scatter3d": [
           {
            "line": {
             "colorbar": {
              "outlinewidth": 0,
              "ticks": ""
             }
            },
            "marker": {
             "colorbar": {
              "outlinewidth": 0,
              "ticks": ""
             }
            },
            "type": "scatter3d"
           }
          ],
          "scattercarpet": [
           {
            "marker": {
             "colorbar": {
              "outlinewidth": 0,
              "ticks": ""
             }
            },
            "type": "scattercarpet"
           }
          ],
          "scattergeo": [
           {
            "marker": {
             "colorbar": {
              "outlinewidth": 0,
              "ticks": ""
             }
            },
            "type": "scattergeo"
           }
          ],
          "scattergl": [
           {
            "marker": {
             "colorbar": {
              "outlinewidth": 0,
              "ticks": ""
             }
            },
            "type": "scattergl"
           }
          ],
          "scattermapbox": [
           {
            "marker": {
             "colorbar": {
              "outlinewidth": 0,
              "ticks": ""
             }
            },
            "type": "scattermapbox"
           }
          ],
          "scatterpolar": [
           {
            "marker": {
             "colorbar": {
              "outlinewidth": 0,
              "ticks": ""
             }
            },
            "type": "scatterpolar"
           }
          ],
          "scatterpolargl": [
           {
            "marker": {
             "colorbar": {
              "outlinewidth": 0,
              "ticks": ""
             }
            },
            "type": "scatterpolargl"
           }
          ],
          "scatterternary": [
           {
            "marker": {
             "colorbar": {
              "outlinewidth": 0,
              "ticks": ""
             }
            },
            "type": "scatterternary"
           }
          ],
          "surface": [
           {
            "colorbar": {
             "outlinewidth": 0,
             "ticks": ""
            },
            "colorscale": [
             [
              0,
              "#0d0887"
             ],
             [
              0.1111111111111111,
              "#46039f"
             ],
             [
              0.2222222222222222,
              "#7201a8"
             ],
             [
              0.3333333333333333,
              "#9c179e"
             ],
             [
              0.4444444444444444,
              "#bd3786"
             ],
             [
              0.5555555555555556,
              "#d8576b"
             ],
             [
              0.6666666666666666,
              "#ed7953"
             ],
             [
              0.7777777777777778,
              "#fb9f3a"
             ],
             [
              0.8888888888888888,
              "#fdca26"
             ],
             [
              1,
              "#f0f921"
             ]
            ],
            "type": "surface"
           }
          ],
          "table": [
           {
            "cells": {
             "fill": {
              "color": "#EBF0F8"
             },
             "line": {
              "color": "white"
             }
            },
            "header": {
             "fill": {
              "color": "#C8D4E3"
             },
             "line": {
              "color": "white"
             }
            },
            "type": "table"
           }
          ]
         },
         "layout": {
          "annotationdefaults": {
           "arrowcolor": "#2a3f5f",
           "arrowhead": 0,
           "arrowwidth": 1
          },
          "autotypenumbers": "strict",
          "coloraxis": {
           "colorbar": {
            "outlinewidth": 0,
            "ticks": ""
           }
          },
          "colorscale": {
           "diverging": [
            [
             0,
             "#8e0152"
            ],
            [
             0.1,
             "#c51b7d"
            ],
            [
             0.2,
             "#de77ae"
            ],
            [
             0.3,
             "#f1b6da"
            ],
            [
             0.4,
             "#fde0ef"
            ],
            [
             0.5,
             "#f7f7f7"
            ],
            [
             0.6,
             "#e6f5d0"
            ],
            [
             0.7,
             "#b8e186"
            ],
            [
             0.8,
             "#7fbc41"
            ],
            [
             0.9,
             "#4d9221"
            ],
            [
             1,
             "#276419"
            ]
           ],
           "sequential": [
            [
             0,
             "#0d0887"
            ],
            [
             0.1111111111111111,
             "#46039f"
            ],
            [
             0.2222222222222222,
             "#7201a8"
            ],
            [
             0.3333333333333333,
             "#9c179e"
            ],
            [
             0.4444444444444444,
             "#bd3786"
            ],
            [
             0.5555555555555556,
             "#d8576b"
            ],
            [
             0.6666666666666666,
             "#ed7953"
            ],
            [
             0.7777777777777778,
             "#fb9f3a"
            ],
            [
             0.8888888888888888,
             "#fdca26"
            ],
            [
             1,
             "#f0f921"
            ]
           ],
           "sequentialminus": [
            [
             0,
             "#0d0887"
            ],
            [
             0.1111111111111111,
             "#46039f"
            ],
            [
             0.2222222222222222,
             "#7201a8"
            ],
            [
             0.3333333333333333,
             "#9c179e"
            ],
            [
             0.4444444444444444,
             "#bd3786"
            ],
            [
             0.5555555555555556,
             "#d8576b"
            ],
            [
             0.6666666666666666,
             "#ed7953"
            ],
            [
             0.7777777777777778,
             "#fb9f3a"
            ],
            [
             0.8888888888888888,
             "#fdca26"
            ],
            [
             1,
             "#f0f921"
            ]
           ]
          },
          "colorway": [
           "#636efa",
           "#EF553B",
           "#00cc96",
           "#ab63fa",
           "#FFA15A",
           "#19d3f3",
           "#FF6692",
           "#B6E880",
           "#FF97FF",
           "#FECB52"
          ],
          "font": {
           "color": "#2a3f5f"
          },
          "geo": {
           "bgcolor": "white",
           "lakecolor": "white",
           "landcolor": "#E5ECF6",
           "showlakes": true,
           "showland": true,
           "subunitcolor": "white"
          },
          "hoverlabel": {
           "align": "left"
          },
          "hovermode": "closest",
          "mapbox": {
           "style": "light"
          },
          "paper_bgcolor": "white",
          "plot_bgcolor": "#E5ECF6",
          "polar": {
           "angularaxis": {
            "gridcolor": "white",
            "linecolor": "white",
            "ticks": ""
           },
           "bgcolor": "#E5ECF6",
           "radialaxis": {
            "gridcolor": "white",
            "linecolor": "white",
            "ticks": ""
           }
          },
          "scene": {
           "xaxis": {
            "backgroundcolor": "#E5ECF6",
            "gridcolor": "white",
            "gridwidth": 2,
            "linecolor": "white",
            "showbackground": true,
            "ticks": "",
            "zerolinecolor": "white"
           },
           "yaxis": {
            "backgroundcolor": "#E5ECF6",
            "gridcolor": "white",
            "gridwidth": 2,
            "linecolor": "white",
            "showbackground": true,
            "ticks": "",
            "zerolinecolor": "white"
           },
           "zaxis": {
            "backgroundcolor": "#E5ECF6",
            "gridcolor": "white",
            "gridwidth": 2,
            "linecolor": "white",
            "showbackground": true,
            "ticks": "",
            "zerolinecolor": "white"
           }
          },
          "shapedefaults": {
           "line": {
            "color": "#2a3f5f"
           }
          },
          "ternary": {
           "aaxis": {
            "gridcolor": "white",
            "linecolor": "white",
            "ticks": ""
           },
           "baxis": {
            "gridcolor": "white",
            "linecolor": "white",
            "ticks": ""
           },
           "bgcolor": "#E5ECF6",
           "caxis": {
            "gridcolor": "white",
            "linecolor": "white",
            "ticks": ""
           }
          },
          "title": {
           "x": 0.05
          },
          "xaxis": {
           "automargin": true,
           "gridcolor": "white",
           "linecolor": "white",
           "ticks": "",
           "title": {
            "standoff": 15
           },
           "zerolinecolor": "white",
           "zerolinewidth": 2
          },
          "yaxis": {
           "automargin": true,
           "gridcolor": "white",
           "linecolor": "white",
           "ticks": "",
           "title": {
            "standoff": 15
           },
           "zerolinecolor": "white",
           "zerolinewidth": 2
          }
         }
        },
        "xaxis": {
         "anchor": "y",
         "domain": [
          0,
          1
         ]
        },
        "yaxis": {
         "anchor": "x",
         "autorange": "reversed",
         "domain": [
          0,
          1
         ]
        }
       }
      },
      "text/html": [
       "<div>                            <div id=\"7aad91bf-9700-4825-ad7d-ddccd7a25fc4\" class=\"plotly-graph-div\" style=\"height:525px; width:100%;\"></div>            <script type=\"text/javascript\">                require([\"plotly\"], function(Plotly) {                    window.PLOTLYENV=window.PLOTLYENV || {};                                    if (document.getElementById(\"7aad91bf-9700-4825-ad7d-ddccd7a25fc4\")) {                    Plotly.newPlot(                        \"7aad91bf-9700-4825-ad7d-ddccd7a25fc4\",                        [{\"coloraxis\":\"coloraxis\",\"name\":\"0\",\"texttemplate\":\"%{z}\",\"x\":[\"MOD_P3\",\"SPK1_P3\",\"SPK2_P3\"],\"y\":[\"MOD_P1\",\"SPK1_P1\",\"SPK2_P1\"],\"z\":[[0.9708223763257615,0.9449151835129637,0.9643420040748253],[0.7663922813478388,0.717002841661774,0.5927498112228585],[0.6449317151979074,0.6626984309773885,0.5645405304670836]],\"type\":\"heatmap\",\"xaxis\":\"x\",\"yaxis\":\"y\",\"hovertemplate\":\"x: %{x}<br>y: %{y}<br>color: %{z}<extra></extra>\"}],                        {\"template\":{\"data\":{\"histogram2dcontour\":[{\"type\":\"histogram2dcontour\",\"colorbar\":{\"outlinewidth\":0,\"ticks\":\"\"},\"colorscale\":[[0.0,\"#0d0887\"],[0.1111111111111111,\"#46039f\"],[0.2222222222222222,\"#7201a8\"],[0.3333333333333333,\"#9c179e\"],[0.4444444444444444,\"#bd3786\"],[0.5555555555555556,\"#d8576b\"],[0.6666666666666666,\"#ed7953\"],[0.7777777777777778,\"#fb9f3a\"],[0.8888888888888888,\"#fdca26\"],[1.0,\"#f0f921\"]]}],\"choropleth\":[{\"type\":\"choropleth\",\"colorbar\":{\"outlinewidth\":0,\"ticks\":\"\"}}],\"histogram2d\":[{\"type\":\"histogram2d\",\"colorbar\":{\"outlinewidth\":0,\"ticks\":\"\"},\"colorscale\":[[0.0,\"#0d0887\"],[0.1111111111111111,\"#46039f\"],[0.2222222222222222,\"#7201a8\"],[0.3333333333333333,\"#9c179e\"],[0.4444444444444444,\"#bd3786\"],[0.5555555555555556,\"#d8576b\"],[0.6666666666666666,\"#ed7953\"],[0.7777777777777778,\"#fb9f3a\"],[0.8888888888888888,\"#fdca26\"],[1.0,\"#f0f921\"]]}],\"heatmap\":[{\"type\":\"heatmap\",\"colorbar\":{\"outlinewidth\":0,\"ticks\":\"\"},\"colorscale\":[[0.0,\"#0d0887\"],[0.1111111111111111,\"#46039f\"],[0.2222222222222222,\"#7201a8\"],[0.3333333333333333,\"#9c179e\"],[0.4444444444444444,\"#bd3786\"],[0.5555555555555556,\"#d8576b\"],[0.6666666666666666,\"#ed7953\"],[0.7777777777777778,\"#fb9f3a\"],[0.8888888888888888,\"#fdca26\"],[1.0,\"#f0f921\"]]}],\"heatmapgl\":[{\"type\":\"heatmapgl\",\"colorbar\":{\"outlinewidth\":0,\"ticks\":\"\"},\"colorscale\":[[0.0,\"#0d0887\"],[0.1111111111111111,\"#46039f\"],[0.2222222222222222,\"#7201a8\"],[0.3333333333333333,\"#9c179e\"],[0.4444444444444444,\"#bd3786\"],[0.5555555555555556,\"#d8576b\"],[0.6666666666666666,\"#ed7953\"],[0.7777777777777778,\"#fb9f3a\"],[0.8888888888888888,\"#fdca26\"],[1.0,\"#f0f921\"]]}],\"contourcarpet\":[{\"type\":\"contourcarpet\",\"colorbar\":{\"outlinewidth\":0,\"ticks\":\"\"}}],\"contour\":[{\"type\":\"contour\",\"colorbar\":{\"outlinewidth\":0,\"ticks\":\"\"},\"colorscale\":[[0.0,\"#0d0887\"],[0.1111111111111111,\"#46039f\"],[0.2222222222222222,\"#7201a8\"],[0.3333333333333333,\"#9c179e\"],[0.4444444444444444,\"#bd3786\"],[0.5555555555555556,\"#d8576b\"],[0.6666666666666666,\"#ed7953\"],[0.7777777777777778,\"#fb9f3a\"],[0.8888888888888888,\"#fdca26\"],[1.0,\"#f0f921\"]]}],\"surface\":[{\"type\":\"surface\",\"colorbar\":{\"outlinewidth\":0,\"ticks\":\"\"},\"colorscale\":[[0.0,\"#0d0887\"],[0.1111111111111111,\"#46039f\"],[0.2222222222222222,\"#7201a8\"],[0.3333333333333333,\"#9c179e\"],[0.4444444444444444,\"#bd3786\"],[0.5555555555555556,\"#d8576b\"],[0.6666666666666666,\"#ed7953\"],[0.7777777777777778,\"#fb9f3a\"],[0.8888888888888888,\"#fdca26\"],[1.0,\"#f0f921\"]]}],\"mesh3d\":[{\"type\":\"mesh3d\",\"colorbar\":{\"outlinewidth\":0,\"ticks\":\"\"}}],\"scatter\":[{\"fillpattern\":{\"fillmode\":\"overlay\",\"size\":10,\"solidity\":0.2},\"type\":\"scatter\"}],\"parcoords\":[{\"type\":\"parcoords\",\"line\":{\"colorbar\":{\"outlinewidth\":0,\"ticks\":\"\"}}}],\"scatterpolargl\":[{\"type\":\"scatterpolargl\",\"marker\":{\"colorbar\":{\"outlinewidth\":0,\"ticks\":\"\"}}}],\"bar\":[{\"error_x\":{\"color\":\"#2a3f5f\"},\"error_y\":{\"color\":\"#2a3f5f\"},\"marker\":{\"line\":{\"color\":\"#E5ECF6\",\"width\":0.5},\"pattern\":{\"fillmode\":\"overlay\",\"size\":10,\"solidity\":0.2}},\"type\":\"bar\"}],\"scattergeo\":[{\"type\":\"scattergeo\",\"marker\":{\"colorbar\":{\"outlinewidth\":0,\"ticks\":\"\"}}}],\"scatterpolar\":[{\"type\":\"scatterpolar\",\"marker\":{\"colorbar\":{\"outlinewidth\":0,\"ticks\":\"\"}}}],\"histogram\":[{\"marker\":{\"pattern\":{\"fillmode\":\"overlay\",\"size\":10,\"solidity\":0.2}},\"type\":\"histogram\"}],\"scattergl\":[{\"type\":\"scattergl\",\"marker\":{\"colorbar\":{\"outlinewidth\":0,\"ticks\":\"\"}}}],\"scatter3d\":[{\"type\":\"scatter3d\",\"line\":{\"colorbar\":{\"outlinewidth\":0,\"ticks\":\"\"}},\"marker\":{\"colorbar\":{\"outlinewidth\":0,\"ticks\":\"\"}}}],\"scattermapbox\":[{\"type\":\"scattermapbox\",\"marker\":{\"colorbar\":{\"outlinewidth\":0,\"ticks\":\"\"}}}],\"scatterternary\":[{\"type\":\"scatterternary\",\"marker\":{\"colorbar\":{\"outlinewidth\":0,\"ticks\":\"\"}}}],\"scattercarpet\":[{\"type\":\"scattercarpet\",\"marker\":{\"colorbar\":{\"outlinewidth\":0,\"ticks\":\"\"}}}],\"carpet\":[{\"aaxis\":{\"endlinecolor\":\"#2a3f5f\",\"gridcolor\":\"white\",\"linecolor\":\"white\",\"minorgridcolor\":\"white\",\"startlinecolor\":\"#2a3f5f\"},\"baxis\":{\"endlinecolor\":\"#2a3f5f\",\"gridcolor\":\"white\",\"linecolor\":\"white\",\"minorgridcolor\":\"white\",\"startlinecolor\":\"#2a3f5f\"},\"type\":\"carpet\"}],\"table\":[{\"cells\":{\"fill\":{\"color\":\"#EBF0F8\"},\"line\":{\"color\":\"white\"}},\"header\":{\"fill\":{\"color\":\"#C8D4E3\"},\"line\":{\"color\":\"white\"}},\"type\":\"table\"}],\"barpolar\":[{\"marker\":{\"line\":{\"color\":\"#E5ECF6\",\"width\":0.5},\"pattern\":{\"fillmode\":\"overlay\",\"size\":10,\"solidity\":0.2}},\"type\":\"barpolar\"}],\"pie\":[{\"automargin\":true,\"type\":\"pie\"}]},\"layout\":{\"autotypenumbers\":\"strict\",\"colorway\":[\"#636efa\",\"#EF553B\",\"#00cc96\",\"#ab63fa\",\"#FFA15A\",\"#19d3f3\",\"#FF6692\",\"#B6E880\",\"#FF97FF\",\"#FECB52\"],\"font\":{\"color\":\"#2a3f5f\"},\"hovermode\":\"closest\",\"hoverlabel\":{\"align\":\"left\"},\"paper_bgcolor\":\"white\",\"plot_bgcolor\":\"#E5ECF6\",\"polar\":{\"bgcolor\":\"#E5ECF6\",\"angularaxis\":{\"gridcolor\":\"white\",\"linecolor\":\"white\",\"ticks\":\"\"},\"radialaxis\":{\"gridcolor\":\"white\",\"linecolor\":\"white\",\"ticks\":\"\"}},\"ternary\":{\"bgcolor\":\"#E5ECF6\",\"aaxis\":{\"gridcolor\":\"white\",\"linecolor\":\"white\",\"ticks\":\"\"},\"baxis\":{\"gridcolor\":\"white\",\"linecolor\":\"white\",\"ticks\":\"\"},\"caxis\":{\"gridcolor\":\"white\",\"linecolor\":\"white\",\"ticks\":\"\"}},\"coloraxis\":{\"colorbar\":{\"outlinewidth\":0,\"ticks\":\"\"}},\"colorscale\":{\"sequential\":[[0.0,\"#0d0887\"],[0.1111111111111111,\"#46039f\"],[0.2222222222222222,\"#7201a8\"],[0.3333333333333333,\"#9c179e\"],[0.4444444444444444,\"#bd3786\"],[0.5555555555555556,\"#d8576b\"],[0.6666666666666666,\"#ed7953\"],[0.7777777777777778,\"#fb9f3a\"],[0.8888888888888888,\"#fdca26\"],[1.0,\"#f0f921\"]],\"sequentialminus\":[[0.0,\"#0d0887\"],[0.1111111111111111,\"#46039f\"],[0.2222222222222222,\"#7201a8\"],[0.3333333333333333,\"#9c179e\"],[0.4444444444444444,\"#bd3786\"],[0.5555555555555556,\"#d8576b\"],[0.6666666666666666,\"#ed7953\"],[0.7777777777777778,\"#fb9f3a\"],[0.8888888888888888,\"#fdca26\"],[1.0,\"#f0f921\"]],\"diverging\":[[0,\"#8e0152\"],[0.1,\"#c51b7d\"],[0.2,\"#de77ae\"],[0.3,\"#f1b6da\"],[0.4,\"#fde0ef\"],[0.5,\"#f7f7f7\"],[0.6,\"#e6f5d0\"],[0.7,\"#b8e186\"],[0.8,\"#7fbc41\"],[0.9,\"#4d9221\"],[1,\"#276419\"]]},\"xaxis\":{\"gridcolor\":\"white\",\"linecolor\":\"white\",\"ticks\":\"\",\"title\":{\"standoff\":15},\"zerolinecolor\":\"white\",\"automargin\":true,\"zerolinewidth\":2},\"yaxis\":{\"gridcolor\":\"white\",\"linecolor\":\"white\",\"ticks\":\"\",\"title\":{\"standoff\":15},\"zerolinecolor\":\"white\",\"automargin\":true,\"zerolinewidth\":2},\"scene\":{\"xaxis\":{\"backgroundcolor\":\"#E5ECF6\",\"gridcolor\":\"white\",\"linecolor\":\"white\",\"showbackground\":true,\"ticks\":\"\",\"zerolinecolor\":\"white\",\"gridwidth\":2},\"yaxis\":{\"backgroundcolor\":\"#E5ECF6\",\"gridcolor\":\"white\",\"linecolor\":\"white\",\"showbackground\":true,\"ticks\":\"\",\"zerolinecolor\":\"white\",\"gridwidth\":2},\"zaxis\":{\"backgroundcolor\":\"#E5ECF6\",\"gridcolor\":\"white\",\"linecolor\":\"white\",\"showbackground\":true,\"ticks\":\"\",\"zerolinecolor\":\"white\",\"gridwidth\":2}},\"shapedefaults\":{\"line\":{\"color\":\"#2a3f5f\"}},\"annotationdefaults\":{\"arrowcolor\":\"#2a3f5f\",\"arrowhead\":0,\"arrowwidth\":1},\"geo\":{\"bgcolor\":\"white\",\"landcolor\":\"#E5ECF6\",\"subunitcolor\":\"white\",\"showland\":true,\"showlakes\":true,\"lakecolor\":\"white\"},\"title\":{\"x\":0.05},\"mapbox\":{\"style\":\"light\"}}},\"xaxis\":{\"anchor\":\"y\",\"domain\":[0.0,1.0]},\"yaxis\":{\"anchor\":\"x\",\"domain\":[0.0,1.0],\"autorange\":\"reversed\"},\"coloraxis\":{\"colorscale\":[[0.0,\"rgb(254, 254, 253)\"],[0.09090909090909091,\"rgb(224, 224, 223)\"],[0.18181818181818182,\"rgb(197, 197, 195)\"],[0.2727272727272727,\"rgb(171, 171, 170)\"],[0.36363636363636365,\"rgb(146, 146, 145)\"],[0.45454545454545453,\"rgb(124, 123, 122)\"],[0.5454545454545454,\"rgb(102, 101, 101)\"],[0.6363636363636364,\"rgb(81, 80, 80)\"],[0.7272727272727273,\"rgb(59, 59, 59)\"],[0.8181818181818182,\"rgb(38, 38, 38)\"],[0.9090909090909091,\"rgb(16, 16, 16)\"],[1.0,\"rgb(0, 0, 0)\"]]},\"margin\":{\"t\":60}},                        {\"responsive\": true}                    ).then(function(){\n",
       "                            \n",
       "var gd = document.getElementById('7aad91bf-9700-4825-ad7d-ddccd7a25fc4');\n",
       "var x = new MutationObserver(function (mutations, observer) {{\n",
       "        var display = window.getComputedStyle(gd).display;\n",
       "        if (!display || display === 'none') {{\n",
       "            console.log([gd, 'removed!']);\n",
       "            Plotly.purge(gd);\n",
       "            observer.disconnect();\n",
       "        }}\n",
       "}});\n",
       "\n",
       "// Listen for the removal of the full notebook cells\n",
       "var notebookContainer = gd.closest('#notebook-container');\n",
       "if (notebookContainer) {{\n",
       "    x.observe(notebookContainer, {childList: true});\n",
       "}}\n",
       "\n",
       "// Listen for the clearing of the current output cell\n",
       "var outputEl = gd.closest('.output');\n",
       "if (outputEl) {{\n",
       "    x.observe(outputEl, {childList: true});\n",
       "}}\n",
       "\n",
       "                        })                };                });            </script>        </div>"
      ]
     },
     "metadata": {},
     "output_type": "display_data"
    },
    {
     "data": {
      "application/vnd.plotly.v1+json": {
       "config": {
        "plotlyServerURL": "https://plot.ly"
       },
       "data": [
        {
         "coloraxis": "coloraxis",
         "hovertemplate": "x: %{x}<br>y: %{y}<br>color: %{z}<extra></extra>",
         "name": "0",
         "texttemplate": "%{z}",
         "type": "heatmap",
         "x": [
          "MOD_P3",
          "SPK1_P3",
          "SPK2_P3"
         ],
         "xaxis": "x",
         "y": [
          "MOD_P1",
          "SPK1_P1",
          "SPK2_P1"
         ],
         "yaxis": "y",
         "z": [
          [
           8.626556374545908e-05,
           0.0003077870113881194,
           0.0001288658421382784
          ],
          [
           0.00567542208888335,
           0.00843592012873804,
           0.018276584437479298
          ],
          [
           0.013599073869947735,
           0.012193264682984704,
           0.021173403368191016
          ]
         ]
        }
       ],
       "layout": {
        "coloraxis": {
         "colorscale": [
          [
           0,
           "rgb(75, 41, 145)"
          ],
          [
           0.16666666666666666,
           "rgb(135, 44, 162)"
          ],
          [
           0.3333333333333333,
           "rgb(192, 54, 157)"
          ],
          [
           0.5,
           "rgb(234, 79, 136)"
          ],
          [
           0.6666666666666666,
           "rgb(250, 120, 118)"
          ],
          [
           0.8333333333333334,
           "rgb(246, 169, 122)"
          ],
          [
           1,
           "rgb(237, 217, 163)"
          ]
         ]
        },
        "margin": {
         "t": 60
        },
        "template": {
         "data": {
          "bar": [
           {
            "error_x": {
             "color": "#2a3f5f"
            },
            "error_y": {
             "color": "#2a3f5f"
            },
            "marker": {
             "line": {
              "color": "#E5ECF6",
              "width": 0.5
             },
             "pattern": {
              "fillmode": "overlay",
              "size": 10,
              "solidity": 0.2
             }
            },
            "type": "bar"
           }
          ],
          "barpolar": [
           {
            "marker": {
             "line": {
              "color": "#E5ECF6",
              "width": 0.5
             },
             "pattern": {
              "fillmode": "overlay",
              "size": 10,
              "solidity": 0.2
             }
            },
            "type": "barpolar"
           }
          ],
          "carpet": [
           {
            "aaxis": {
             "endlinecolor": "#2a3f5f",
             "gridcolor": "white",
             "linecolor": "white",
             "minorgridcolor": "white",
             "startlinecolor": "#2a3f5f"
            },
            "baxis": {
             "endlinecolor": "#2a3f5f",
             "gridcolor": "white",
             "linecolor": "white",
             "minorgridcolor": "white",
             "startlinecolor": "#2a3f5f"
            },
            "type": "carpet"
           }
          ],
          "choropleth": [
           {
            "colorbar": {
             "outlinewidth": 0,
             "ticks": ""
            },
            "type": "choropleth"
           }
          ],
          "contour": [
           {
            "colorbar": {
             "outlinewidth": 0,
             "ticks": ""
            },
            "colorscale": [
             [
              0,
              "#0d0887"
             ],
             [
              0.1111111111111111,
              "#46039f"
             ],
             [
              0.2222222222222222,
              "#7201a8"
             ],
             [
              0.3333333333333333,
              "#9c179e"
             ],
             [
              0.4444444444444444,
              "#bd3786"
             ],
             [
              0.5555555555555556,
              "#d8576b"
             ],
             [
              0.6666666666666666,
              "#ed7953"
             ],
             [
              0.7777777777777778,
              "#fb9f3a"
             ],
             [
              0.8888888888888888,
              "#fdca26"
             ],
             [
              1,
              "#f0f921"
             ]
            ],
            "type": "contour"
           }
          ],
          "contourcarpet": [
           {
            "colorbar": {
             "outlinewidth": 0,
             "ticks": ""
            },
            "type": "contourcarpet"
           }
          ],
          "heatmap": [
           {
            "colorbar": {
             "outlinewidth": 0,
             "ticks": ""
            },
            "colorscale": [
             [
              0,
              "#0d0887"
             ],
             [
              0.1111111111111111,
              "#46039f"
             ],
             [
              0.2222222222222222,
              "#7201a8"
             ],
             [
              0.3333333333333333,
              "#9c179e"
             ],
             [
              0.4444444444444444,
              "#bd3786"
             ],
             [
              0.5555555555555556,
              "#d8576b"
             ],
             [
              0.6666666666666666,
              "#ed7953"
             ],
             [
              0.7777777777777778,
              "#fb9f3a"
             ],
             [
              0.8888888888888888,
              "#fdca26"
             ],
             [
              1,
              "#f0f921"
             ]
            ],
            "type": "heatmap"
           }
          ],
          "heatmapgl": [
           {
            "colorbar": {
             "outlinewidth": 0,
             "ticks": ""
            },
            "colorscale": [
             [
              0,
              "#0d0887"
             ],
             [
              0.1111111111111111,
              "#46039f"
             ],
             [
              0.2222222222222222,
              "#7201a8"
             ],
             [
              0.3333333333333333,
              "#9c179e"
             ],
             [
              0.4444444444444444,
              "#bd3786"
             ],
             [
              0.5555555555555556,
              "#d8576b"
             ],
             [
              0.6666666666666666,
              "#ed7953"
             ],
             [
              0.7777777777777778,
              "#fb9f3a"
             ],
             [
              0.8888888888888888,
              "#fdca26"
             ],
             [
              1,
              "#f0f921"
             ]
            ],
            "type": "heatmapgl"
           }
          ],
          "histogram": [
           {
            "marker": {
             "pattern": {
              "fillmode": "overlay",
              "size": 10,
              "solidity": 0.2
             }
            },
            "type": "histogram"
           }
          ],
          "histogram2d": [
           {
            "colorbar": {
             "outlinewidth": 0,
             "ticks": ""
            },
            "colorscale": [
             [
              0,
              "#0d0887"
             ],
             [
              0.1111111111111111,
              "#46039f"
             ],
             [
              0.2222222222222222,
              "#7201a8"
             ],
             [
              0.3333333333333333,
              "#9c179e"
             ],
             [
              0.4444444444444444,
              "#bd3786"
             ],
             [
              0.5555555555555556,
              "#d8576b"
             ],
             [
              0.6666666666666666,
              "#ed7953"
             ],
             [
              0.7777777777777778,
              "#fb9f3a"
             ],
             [
              0.8888888888888888,
              "#fdca26"
             ],
             [
              1,
              "#f0f921"
             ]
            ],
            "type": "histogram2d"
           }
          ],
          "histogram2dcontour": [
           {
            "colorbar": {
             "outlinewidth": 0,
             "ticks": ""
            },
            "colorscale": [
             [
              0,
              "#0d0887"
             ],
             [
              0.1111111111111111,
              "#46039f"
             ],
             [
              0.2222222222222222,
              "#7201a8"
             ],
             [
              0.3333333333333333,
              "#9c179e"
             ],
             [
              0.4444444444444444,
              "#bd3786"
             ],
             [
              0.5555555555555556,
              "#d8576b"
             ],
             [
              0.6666666666666666,
              "#ed7953"
             ],
             [
              0.7777777777777778,
              "#fb9f3a"
             ],
             [
              0.8888888888888888,
              "#fdca26"
             ],
             [
              1,
              "#f0f921"
             ]
            ],
            "type": "histogram2dcontour"
           }
          ],
          "mesh3d": [
           {
            "colorbar": {
             "outlinewidth": 0,
             "ticks": ""
            },
            "type": "mesh3d"
           }
          ],
          "parcoords": [
           {
            "line": {
             "colorbar": {
              "outlinewidth": 0,
              "ticks": ""
             }
            },
            "type": "parcoords"
           }
          ],
          "pie": [
           {
            "automargin": true,
            "type": "pie"
           }
          ],
          "scatter": [
           {
            "fillpattern": {
             "fillmode": "overlay",
             "size": 10,
             "solidity": 0.2
            },
            "type": "scatter"
           }
          ],
          "scatter3d": [
           {
            "line": {
             "colorbar": {
              "outlinewidth": 0,
              "ticks": ""
             }
            },
            "marker": {
             "colorbar": {
              "outlinewidth": 0,
              "ticks": ""
             }
            },
            "type": "scatter3d"
           }
          ],
          "scattercarpet": [
           {
            "marker": {
             "colorbar": {
              "outlinewidth": 0,
              "ticks": ""
             }
            },
            "type": "scattercarpet"
           }
          ],
          "scattergeo": [
           {
            "marker": {
             "colorbar": {
              "outlinewidth": 0,
              "ticks": ""
             }
            },
            "type": "scattergeo"
           }
          ],
          "scattergl": [
           {
            "marker": {
             "colorbar": {
              "outlinewidth": 0,
              "ticks": ""
             }
            },
            "type": "scattergl"
           }
          ],
          "scattermapbox": [
           {
            "marker": {
             "colorbar": {
              "outlinewidth": 0,
              "ticks": ""
             }
            },
            "type": "scattermapbox"
           }
          ],
          "scatterpolar": [
           {
            "marker": {
             "colorbar": {
              "outlinewidth": 0,
              "ticks": ""
             }
            },
            "type": "scatterpolar"
           }
          ],
          "scatterpolargl": [
           {
            "marker": {
             "colorbar": {
              "outlinewidth": 0,
              "ticks": ""
             }
            },
            "type": "scatterpolargl"
           }
          ],
          "scatterternary": [
           {
            "marker": {
             "colorbar": {
              "outlinewidth": 0,
              "ticks": ""
             }
            },
            "type": "scatterternary"
           }
          ],
          "surface": [
           {
            "colorbar": {
             "outlinewidth": 0,
             "ticks": ""
            },
            "colorscale": [
             [
              0,
              "#0d0887"
             ],
             [
              0.1111111111111111,
              "#46039f"
             ],
             [
              0.2222222222222222,
              "#7201a8"
             ],
             [
              0.3333333333333333,
              "#9c179e"
             ],
             [
              0.4444444444444444,
              "#bd3786"
             ],
             [
              0.5555555555555556,
              "#d8576b"
             ],
             [
              0.6666666666666666,
              "#ed7953"
             ],
             [
              0.7777777777777778,
              "#fb9f3a"
             ],
             [
              0.8888888888888888,
              "#fdca26"
             ],
             [
              1,
              "#f0f921"
             ]
            ],
            "type": "surface"
           }
          ],
          "table": [
           {
            "cells": {
             "fill": {
              "color": "#EBF0F8"
             },
             "line": {
              "color": "white"
             }
            },
            "header": {
             "fill": {
              "color": "#C8D4E3"
             },
             "line": {
              "color": "white"
             }
            },
            "type": "table"
           }
          ]
         },
         "layout": {
          "annotationdefaults": {
           "arrowcolor": "#2a3f5f",
           "arrowhead": 0,
           "arrowwidth": 1
          },
          "autotypenumbers": "strict",
          "coloraxis": {
           "colorbar": {
            "outlinewidth": 0,
            "ticks": ""
           }
          },
          "colorscale": {
           "diverging": [
            [
             0,
             "#8e0152"
            ],
            [
             0.1,
             "#c51b7d"
            ],
            [
             0.2,
             "#de77ae"
            ],
            [
             0.3,
             "#f1b6da"
            ],
            [
             0.4,
             "#fde0ef"
            ],
            [
             0.5,
             "#f7f7f7"
            ],
            [
             0.6,
             "#e6f5d0"
            ],
            [
             0.7,
             "#b8e186"
            ],
            [
             0.8,
             "#7fbc41"
            ],
            [
             0.9,
             "#4d9221"
            ],
            [
             1,
             "#276419"
            ]
           ],
           "sequential": [
            [
             0,
             "#0d0887"
            ],
            [
             0.1111111111111111,
             "#46039f"
            ],
            [
             0.2222222222222222,
             "#7201a8"
            ],
            [
             0.3333333333333333,
             "#9c179e"
            ],
            [
             0.4444444444444444,
             "#bd3786"
            ],
            [
             0.5555555555555556,
             "#d8576b"
            ],
            [
             0.6666666666666666,
             "#ed7953"
            ],
            [
             0.7777777777777778,
             "#fb9f3a"
            ],
            [
             0.8888888888888888,
             "#fdca26"
            ],
            [
             1,
             "#f0f921"
            ]
           ],
           "sequentialminus": [
            [
             0,
             "#0d0887"
            ],
            [
             0.1111111111111111,
             "#46039f"
            ],
            [
             0.2222222222222222,
             "#7201a8"
            ],
            [
             0.3333333333333333,
             "#9c179e"
            ],
            [
             0.4444444444444444,
             "#bd3786"
            ],
            [
             0.5555555555555556,
             "#d8576b"
            ],
            [
             0.6666666666666666,
             "#ed7953"
            ],
            [
             0.7777777777777778,
             "#fb9f3a"
            ],
            [
             0.8888888888888888,
             "#fdca26"
            ],
            [
             1,
             "#f0f921"
            ]
           ]
          },
          "colorway": [
           "#636efa",
           "#EF553B",
           "#00cc96",
           "#ab63fa",
           "#FFA15A",
           "#19d3f3",
           "#FF6692",
           "#B6E880",
           "#FF97FF",
           "#FECB52"
          ],
          "font": {
           "color": "#2a3f5f"
          },
          "geo": {
           "bgcolor": "white",
           "lakecolor": "white",
           "landcolor": "#E5ECF6",
           "showlakes": true,
           "showland": true,
           "subunitcolor": "white"
          },
          "hoverlabel": {
           "align": "left"
          },
          "hovermode": "closest",
          "mapbox": {
           "style": "light"
          },
          "paper_bgcolor": "white",
          "plot_bgcolor": "#E5ECF6",
          "polar": {
           "angularaxis": {
            "gridcolor": "white",
            "linecolor": "white",
            "ticks": ""
           },
           "bgcolor": "#E5ECF6",
           "radialaxis": {
            "gridcolor": "white",
            "linecolor": "white",
            "ticks": ""
           }
          },
          "scene": {
           "xaxis": {
            "backgroundcolor": "#E5ECF6",
            "gridcolor": "white",
            "gridwidth": 2,
            "linecolor": "white",
            "showbackground": true,
            "ticks": "",
            "zerolinecolor": "white"
           },
           "yaxis": {
            "backgroundcolor": "#E5ECF6",
            "gridcolor": "white",
            "gridwidth": 2,
            "linecolor": "white",
            "showbackground": true,
            "ticks": "",
            "zerolinecolor": "white"
           },
           "zaxis": {
            "backgroundcolor": "#E5ECF6",
            "gridcolor": "white",
            "gridwidth": 2,
            "linecolor": "white",
            "showbackground": true,
            "ticks": "",
            "zerolinecolor": "white"
           }
          },
          "shapedefaults": {
           "line": {
            "color": "#2a3f5f"
           }
          },
          "ternary": {
           "aaxis": {
            "gridcolor": "white",
            "linecolor": "white",
            "ticks": ""
           },
           "baxis": {
            "gridcolor": "white",
            "linecolor": "white",
            "ticks": ""
           },
           "bgcolor": "#E5ECF6",
           "caxis": {
            "gridcolor": "white",
            "linecolor": "white",
            "ticks": ""
           }
          },
          "title": {
           "x": 0.05
          },
          "xaxis": {
           "automargin": true,
           "gridcolor": "white",
           "linecolor": "white",
           "ticks": "",
           "title": {
            "standoff": 15
           },
           "zerolinecolor": "white",
           "zerolinewidth": 2
          },
          "yaxis": {
           "automargin": true,
           "gridcolor": "white",
           "linecolor": "white",
           "ticks": "",
           "title": {
            "standoff": 15
           },
           "zerolinecolor": "white",
           "zerolinewidth": 2
          }
         }
        },
        "xaxis": {
         "anchor": "y",
         "domain": [
          0,
          1
         ]
        },
        "yaxis": {
         "anchor": "x",
         "autorange": "reversed",
         "domain": [
          0,
          1
         ]
        }
       }
      },
      "text/html": [
       "<div>                            <div id=\"529de73d-d2a8-4e25-b1bb-6851f9dc1c9f\" class=\"plotly-graph-div\" style=\"height:525px; width:100%;\"></div>            <script type=\"text/javascript\">                require([\"plotly\"], function(Plotly) {                    window.PLOTLYENV=window.PLOTLYENV || {};                                    if (document.getElementById(\"529de73d-d2a8-4e25-b1bb-6851f9dc1c9f\")) {                    Plotly.newPlot(                        \"529de73d-d2a8-4e25-b1bb-6851f9dc1c9f\",                        [{\"coloraxis\":\"coloraxis\",\"name\":\"0\",\"texttemplate\":\"%{z}\",\"x\":[\"MOD_P3\",\"SPK1_P3\",\"SPK2_P3\"],\"y\":[\"MOD_P1\",\"SPK1_P1\",\"SPK2_P1\"],\"z\":[[0.00008626556374545908,0.0003077870113881194,0.0001288658421382784],[0.00567542208888335,0.00843592012873804,0.018276584437479298],[0.013599073869947735,0.012193264682984704,0.021173403368191016]],\"type\":\"heatmap\",\"xaxis\":\"x\",\"yaxis\":\"y\",\"hovertemplate\":\"x: %{x}<br>y: %{y}<br>color: %{z}<extra></extra>\"}],                        {\"template\":{\"data\":{\"histogram2dcontour\":[{\"type\":\"histogram2dcontour\",\"colorbar\":{\"outlinewidth\":0,\"ticks\":\"\"},\"colorscale\":[[0.0,\"#0d0887\"],[0.1111111111111111,\"#46039f\"],[0.2222222222222222,\"#7201a8\"],[0.3333333333333333,\"#9c179e\"],[0.4444444444444444,\"#bd3786\"],[0.5555555555555556,\"#d8576b\"],[0.6666666666666666,\"#ed7953\"],[0.7777777777777778,\"#fb9f3a\"],[0.8888888888888888,\"#fdca26\"],[1.0,\"#f0f921\"]]}],\"choropleth\":[{\"type\":\"choropleth\",\"colorbar\":{\"outlinewidth\":0,\"ticks\":\"\"}}],\"histogram2d\":[{\"type\":\"histogram2d\",\"colorbar\":{\"outlinewidth\":0,\"ticks\":\"\"},\"colorscale\":[[0.0,\"#0d0887\"],[0.1111111111111111,\"#46039f\"],[0.2222222222222222,\"#7201a8\"],[0.3333333333333333,\"#9c179e\"],[0.4444444444444444,\"#bd3786\"],[0.5555555555555556,\"#d8576b\"],[0.6666666666666666,\"#ed7953\"],[0.7777777777777778,\"#fb9f3a\"],[0.8888888888888888,\"#fdca26\"],[1.0,\"#f0f921\"]]}],\"heatmap\":[{\"type\":\"heatmap\",\"colorbar\":{\"outlinewidth\":0,\"ticks\":\"\"},\"colorscale\":[[0.0,\"#0d0887\"],[0.1111111111111111,\"#46039f\"],[0.2222222222222222,\"#7201a8\"],[0.3333333333333333,\"#9c179e\"],[0.4444444444444444,\"#bd3786\"],[0.5555555555555556,\"#d8576b\"],[0.6666666666666666,\"#ed7953\"],[0.7777777777777778,\"#fb9f3a\"],[0.8888888888888888,\"#fdca26\"],[1.0,\"#f0f921\"]]}],\"heatmapgl\":[{\"type\":\"heatmapgl\",\"colorbar\":{\"outlinewidth\":0,\"ticks\":\"\"},\"colorscale\":[[0.0,\"#0d0887\"],[0.1111111111111111,\"#46039f\"],[0.2222222222222222,\"#7201a8\"],[0.3333333333333333,\"#9c179e\"],[0.4444444444444444,\"#bd3786\"],[0.5555555555555556,\"#d8576b\"],[0.6666666666666666,\"#ed7953\"],[0.7777777777777778,\"#fb9f3a\"],[0.8888888888888888,\"#fdca26\"],[1.0,\"#f0f921\"]]}],\"contourcarpet\":[{\"type\":\"contourcarpet\",\"colorbar\":{\"outlinewidth\":0,\"ticks\":\"\"}}],\"contour\":[{\"type\":\"contour\",\"colorbar\":{\"outlinewidth\":0,\"ticks\":\"\"},\"colorscale\":[[0.0,\"#0d0887\"],[0.1111111111111111,\"#46039f\"],[0.2222222222222222,\"#7201a8\"],[0.3333333333333333,\"#9c179e\"],[0.4444444444444444,\"#bd3786\"],[0.5555555555555556,\"#d8576b\"],[0.6666666666666666,\"#ed7953\"],[0.7777777777777778,\"#fb9f3a\"],[0.8888888888888888,\"#fdca26\"],[1.0,\"#f0f921\"]]}],\"surface\":[{\"type\":\"surface\",\"colorbar\":{\"outlinewidth\":0,\"ticks\":\"\"},\"colorscale\":[[0.0,\"#0d0887\"],[0.1111111111111111,\"#46039f\"],[0.2222222222222222,\"#7201a8\"],[0.3333333333333333,\"#9c179e\"],[0.4444444444444444,\"#bd3786\"],[0.5555555555555556,\"#d8576b\"],[0.6666666666666666,\"#ed7953\"],[0.7777777777777778,\"#fb9f3a\"],[0.8888888888888888,\"#fdca26\"],[1.0,\"#f0f921\"]]}],\"mesh3d\":[{\"type\":\"mesh3d\",\"colorbar\":{\"outlinewidth\":0,\"ticks\":\"\"}}],\"scatter\":[{\"fillpattern\":{\"fillmode\":\"overlay\",\"size\":10,\"solidity\":0.2},\"type\":\"scatter\"}],\"parcoords\":[{\"type\":\"parcoords\",\"line\":{\"colorbar\":{\"outlinewidth\":0,\"ticks\":\"\"}}}],\"scatterpolargl\":[{\"type\":\"scatterpolargl\",\"marker\":{\"colorbar\":{\"outlinewidth\":0,\"ticks\":\"\"}}}],\"bar\":[{\"error_x\":{\"color\":\"#2a3f5f\"},\"error_y\":{\"color\":\"#2a3f5f\"},\"marker\":{\"line\":{\"color\":\"#E5ECF6\",\"width\":0.5},\"pattern\":{\"fillmode\":\"overlay\",\"size\":10,\"solidity\":0.2}},\"type\":\"bar\"}],\"scattergeo\":[{\"type\":\"scattergeo\",\"marker\":{\"colorbar\":{\"outlinewidth\":0,\"ticks\":\"\"}}}],\"scatterpolar\":[{\"type\":\"scatterpolar\",\"marker\":{\"colorbar\":{\"outlinewidth\":0,\"ticks\":\"\"}}}],\"histogram\":[{\"marker\":{\"pattern\":{\"fillmode\":\"overlay\",\"size\":10,\"solidity\":0.2}},\"type\":\"histogram\"}],\"scattergl\":[{\"type\":\"scattergl\",\"marker\":{\"colorbar\":{\"outlinewidth\":0,\"ticks\":\"\"}}}],\"scatter3d\":[{\"type\":\"scatter3d\",\"line\":{\"colorbar\":{\"outlinewidth\":0,\"ticks\":\"\"}},\"marker\":{\"colorbar\":{\"outlinewidth\":0,\"ticks\":\"\"}}}],\"scattermapbox\":[{\"type\":\"scattermapbox\",\"marker\":{\"colorbar\":{\"outlinewidth\":0,\"ticks\":\"\"}}}],\"scatterternary\":[{\"type\":\"scatterternary\",\"marker\":{\"colorbar\":{\"outlinewidth\":0,\"ticks\":\"\"}}}],\"scattercarpet\":[{\"type\":\"scattercarpet\",\"marker\":{\"colorbar\":{\"outlinewidth\":0,\"ticks\":\"\"}}}],\"carpet\":[{\"aaxis\":{\"endlinecolor\":\"#2a3f5f\",\"gridcolor\":\"white\",\"linecolor\":\"white\",\"minorgridcolor\":\"white\",\"startlinecolor\":\"#2a3f5f\"},\"baxis\":{\"endlinecolor\":\"#2a3f5f\",\"gridcolor\":\"white\",\"linecolor\":\"white\",\"minorgridcolor\":\"white\",\"startlinecolor\":\"#2a3f5f\"},\"type\":\"carpet\"}],\"table\":[{\"cells\":{\"fill\":{\"color\":\"#EBF0F8\"},\"line\":{\"color\":\"white\"}},\"header\":{\"fill\":{\"color\":\"#C8D4E3\"},\"line\":{\"color\":\"white\"}},\"type\":\"table\"}],\"barpolar\":[{\"marker\":{\"line\":{\"color\":\"#E5ECF6\",\"width\":0.5},\"pattern\":{\"fillmode\":\"overlay\",\"size\":10,\"solidity\":0.2}},\"type\":\"barpolar\"}],\"pie\":[{\"automargin\":true,\"type\":\"pie\"}]},\"layout\":{\"autotypenumbers\":\"strict\",\"colorway\":[\"#636efa\",\"#EF553B\",\"#00cc96\",\"#ab63fa\",\"#FFA15A\",\"#19d3f3\",\"#FF6692\",\"#B6E880\",\"#FF97FF\",\"#FECB52\"],\"font\":{\"color\":\"#2a3f5f\"},\"hovermode\":\"closest\",\"hoverlabel\":{\"align\":\"left\"},\"paper_bgcolor\":\"white\",\"plot_bgcolor\":\"#E5ECF6\",\"polar\":{\"bgcolor\":\"#E5ECF6\",\"angularaxis\":{\"gridcolor\":\"white\",\"linecolor\":\"white\",\"ticks\":\"\"},\"radialaxis\":{\"gridcolor\":\"white\",\"linecolor\":\"white\",\"ticks\":\"\"}},\"ternary\":{\"bgcolor\":\"#E5ECF6\",\"aaxis\":{\"gridcolor\":\"white\",\"linecolor\":\"white\",\"ticks\":\"\"},\"baxis\":{\"gridcolor\":\"white\",\"linecolor\":\"white\",\"ticks\":\"\"},\"caxis\":{\"gridcolor\":\"white\",\"linecolor\":\"white\",\"ticks\":\"\"}},\"coloraxis\":{\"colorbar\":{\"outlinewidth\":0,\"ticks\":\"\"}},\"colorscale\":{\"sequential\":[[0.0,\"#0d0887\"],[0.1111111111111111,\"#46039f\"],[0.2222222222222222,\"#7201a8\"],[0.3333333333333333,\"#9c179e\"],[0.4444444444444444,\"#bd3786\"],[0.5555555555555556,\"#d8576b\"],[0.6666666666666666,\"#ed7953\"],[0.7777777777777778,\"#fb9f3a\"],[0.8888888888888888,\"#fdca26\"],[1.0,\"#f0f921\"]],\"sequentialminus\":[[0.0,\"#0d0887\"],[0.1111111111111111,\"#46039f\"],[0.2222222222222222,\"#7201a8\"],[0.3333333333333333,\"#9c179e\"],[0.4444444444444444,\"#bd3786\"],[0.5555555555555556,\"#d8576b\"],[0.6666666666666666,\"#ed7953\"],[0.7777777777777778,\"#fb9f3a\"],[0.8888888888888888,\"#fdca26\"],[1.0,\"#f0f921\"]],\"diverging\":[[0,\"#8e0152\"],[0.1,\"#c51b7d\"],[0.2,\"#de77ae\"],[0.3,\"#f1b6da\"],[0.4,\"#fde0ef\"],[0.5,\"#f7f7f7\"],[0.6,\"#e6f5d0\"],[0.7,\"#b8e186\"],[0.8,\"#7fbc41\"],[0.9,\"#4d9221\"],[1,\"#276419\"]]},\"xaxis\":{\"gridcolor\":\"white\",\"linecolor\":\"white\",\"ticks\":\"\",\"title\":{\"standoff\":15},\"zerolinecolor\":\"white\",\"automargin\":true,\"zerolinewidth\":2},\"yaxis\":{\"gridcolor\":\"white\",\"linecolor\":\"white\",\"ticks\":\"\",\"title\":{\"standoff\":15},\"zerolinecolor\":\"white\",\"automargin\":true,\"zerolinewidth\":2},\"scene\":{\"xaxis\":{\"backgroundcolor\":\"#E5ECF6\",\"gridcolor\":\"white\",\"linecolor\":\"white\",\"showbackground\":true,\"ticks\":\"\",\"zerolinecolor\":\"white\",\"gridwidth\":2},\"yaxis\":{\"backgroundcolor\":\"#E5ECF6\",\"gridcolor\":\"white\",\"linecolor\":\"white\",\"showbackground\":true,\"ticks\":\"\",\"zerolinecolor\":\"white\",\"gridwidth\":2},\"zaxis\":{\"backgroundcolor\":\"#E5ECF6\",\"gridcolor\":\"white\",\"linecolor\":\"white\",\"showbackground\":true,\"ticks\":\"\",\"zerolinecolor\":\"white\",\"gridwidth\":2}},\"shapedefaults\":{\"line\":{\"color\":\"#2a3f5f\"}},\"annotationdefaults\":{\"arrowcolor\":\"#2a3f5f\",\"arrowhead\":0,\"arrowwidth\":1},\"geo\":{\"bgcolor\":\"white\",\"landcolor\":\"#E5ECF6\",\"subunitcolor\":\"white\",\"showland\":true,\"showlakes\":true,\"lakecolor\":\"white\"},\"title\":{\"x\":0.05},\"mapbox\":{\"style\":\"light\"}}},\"xaxis\":{\"anchor\":\"y\",\"domain\":[0.0,1.0]},\"yaxis\":{\"anchor\":\"x\",\"domain\":[0.0,1.0],\"autorange\":\"reversed\"},\"coloraxis\":{\"colorscale\":[[0.0,\"rgb(75, 41, 145)\"],[0.16666666666666666,\"rgb(135, 44, 162)\"],[0.3333333333333333,\"rgb(192, 54, 157)\"],[0.5,\"rgb(234, 79, 136)\"],[0.6666666666666666,\"rgb(250, 120, 118)\"],[0.8333333333333334,\"rgb(246, 169, 122)\"],[1.0,\"rgb(237, 217, 163)\"]]},\"margin\":{\"t\":60}},                        {\"responsive\": true}                    ).then(function(){\n",
       "                            \n",
       "var gd = document.getElementById('529de73d-d2a8-4e25-b1bb-6851f9dc1c9f');\n",
       "var x = new MutationObserver(function (mutations, observer) {{\n",
       "        var display = window.getComputedStyle(gd).display;\n",
       "        if (!display || display === 'none') {{\n",
       "            console.log([gd, 'removed!']);\n",
       "            Plotly.purge(gd);\n",
       "            observer.disconnect();\n",
       "        }}\n",
       "}});\n",
       "\n",
       "// Listen for the removal of the full notebook cells\n",
       "var notebookContainer = gd.closest('#notebook-container');\n",
       "if (notebookContainer) {{\n",
       "    x.observe(notebookContainer, {childList: true});\n",
       "}}\n",
       "\n",
       "// Listen for the clearing of the current output cell\n",
       "var outputEl = gd.closest('.output');\n",
       "if (outputEl) {{\n",
       "    x.observe(outputEl, {childList: true});\n",
       "}}\n",
       "\n",
       "                        })                };                });            </script>        </div>"
      ]
     },
     "metadata": {},
     "output_type": "display_data"
    }
   ],
   "source": [
    "# p2 - p3\n",
    "col_1 = [\"MOD_P1\",\"SPK1_P1\",\"SPK2_P1\"] \n",
    "col_2 = [\"MOD_P3\",\"SPK1_P3\",\"SPK2_P3\"]\n",
    "corr, fig_corr, p, fig_p, fig_r2 = correlation(final_df)"
   ]
  },
  {
   "cell_type": "code",
   "execution_count": null,
   "metadata": {},
   "outputs": [],
   "source": [
    "import os\n",
    "import pandas as pd\n",
    "import numpy as np\n",
    "import matplotlib.pyplot as plt\n",
    "import scipy.stats\n",
    "import plotly\n",
    "import plotly.io as pio\n",
    "pio.renderers.default = 'iframe'\n",
    "import plotly.express as px\n",
    "plotly.offline.init_notebook_mode(connected=True)\n",
    "import seaborn as sns"
   ]
  },
  {
   "cell_type": "code",
   "execution_count": null,
   "metadata": {},
   "outputs": [],
   "source": [
    "y_s = final_results_ppxl_multisimo[[\"speaker_1_dom_score\",\"speaker_2_dom_score\"]]\n",
    "X = final_results_ppxl_multisimo[[\"SPK1\",\"SPK2\"]]\n",
    "col_1 = list(X.keys())\n",
    "col_2 = list(y_s.keys())\n",
    "corr, fig_corr, p, fig_p, fig_r2 = correlation(final_results_ppxl_multisimo[[\"speaker_1_dom_score\",\"speaker_2_dom_score\",\"SPK1\",\"SPK2\"]])"
   ]
  },
  {
   "cell_type": "code",
   "execution_count": null,
   "metadata": {},
   "outputs": [],
   "source": [
    "dialog_filtered_tokens, info = perplexity_to_info_filtering_out_common_words(d,ppl_d,answers)\n",
    "perpl = []\n",
    "answers = []\n",
    "for el in info:\n",
    "    answers.append(el['label'])\n",
    "    perpl += list(el['perpl'])\n",
    "compute_graph_perplexity(dialog_filtered_tokens,perpl,answers=answers)"
   ]
  },
  {
   "cell_type": "code",
   "execution_count": null,
   "metadata": {},
   "outputs": [],
   "source": [
    "###TO BE FIXED: there are some spaces that mess up the tokenization and detokenization\n",
    "\n",
    "for el, dataset in zip(info, multisimo_df['file_content']):\n",
    "    print(f\"plotting {el}\")\n",
    "    dataset = re.sub(r'\\[', r'\\n[', content).split(\"\\n\")[1:]\n",
    "    perplexity = []\n",
    "    for sentence in info[el]:\n",
    "        perplexity += list(sentence[\"perpl\"]) \n",
    "    compute_graph_perplexity(dataset,perplexity)"
   ]
  },
  {
   "cell_type": "code",
   "execution_count": null,
   "metadata": {},
   "outputs": [],
   "source": [
    "for i, (info_u, dataset) in enumerate(zip(info.keys(), considered_datasets_filtered)):\n",
    "    for u, d in zip(info[info_u][1:], dataset.split(\"\\n\")[1:]):\n",
    "        \"\"\"filtering out assertive sentences like \"'[Teacher]: \"Very good. Continue.\"',\n",
    "             '[Teacher]: \"Please, go ahead.\"',\n",
    "             '[Teacher]: \"That\\'s correct.\"',\n",
    "             '[Teacher]: \"Very good. Continue.\"',\"\"\"\n",
    "        per_label_ppl[u['label']] += list(u['perpl'])\n",
    "        per_label_dataset[u['label']].append(d)"
   ]
  },
  {
   "cell_type": "markdown",
   "metadata": {},
   "source": [
    "### Tobedone when we have labels for MULTISIMO"
   ]
  },
  {
   "cell_type": "code",
   "execution_count": null,
   "metadata": {},
   "outputs": [],
   "source": [
    "considered_datasets =multisimo_df[\"file_content\"]\n",
    "\n",
    "per_label_dataset={\"Information seeking\":[], \"Information giving\":[],\"same\":[]}\n",
    "per_label_ppl={\"Information seeking\":[], \"Information giving\":[],\"same\":[]}\n",
    "\n",
    "for dataset in considered_datasets:\n",
    "    dataset = dataset.split(\"\\n\")\n",
    "    labels = [\"same\" for _ in range(len(dataset))]\n",
    "    encodings = tokenizer(dataset, return_tensors=\"pt\")\n",
    "    tokens_ids_per_sentence = np.cumsum([tokenizer(p, return_tensors=\"pt\").input_ids.size(1) for p in dialog])\n",
    "    prev_idx_pp = 0\n",
    "    for idx, (d, l) in enumerate(zip(dataset,labels)):\n",
    "        idx_pp = tokens_ids_per_sentence[idx]\n",
    "        offset_ppl = len(tokenizer(d, return_tensors=\"pt\"))\n",
    "        per_label_dataset[l].append(d)\n",
    "        per_label_ppl[l] += perplexity_scores[idx][prev_idx_pp:idx_pp]\n",
    "        prev_idx_pp=idx_pp"
   ]
  },
  {
   "cell_type": "markdown",
   "metadata": {},
   "source": [
    "### Other Dominance Indicators"
   ]
  },
  {
   "cell_type": "code",
   "execution_count": null,
   "metadata": {},
   "outputs": [],
   "source": [
    "def count_user_utterances(content, pattern='<(SPK[1-9]|MOD)>'):\n",
    "    content = \" \".join(content)\n",
    "    count_utterance_p_user = {}\n",
    "    count_turns_p_user = {}\n",
    "    matches = re.findall(pattern, \"\".join(content))\n",
    "    content = re.sub(r'\\<', r'\\n<', content).split(\"\\n\")[1:]\n",
    "    for el in np.unique(np.array(matches)):\n",
    "        all_utt_p_user = [c for c in content if el in c]\n",
    "        all_utt_p_user_n = sum([len(u.split(\".\")) for u in all_utt_p_user])\n",
    "        count_utterance_p_user[el]=len(all_utt_p_user)\n",
    "        count_turns_p_user[el] = np.sum(np.asarray(matches) == el)\n",
    "    return count_utterance_p_user, count_turns_p_user"
   ]
  },
  {
   "cell_type": "code",
   "execution_count": null,
   "metadata": {},
   "outputs": [],
   "source": [
    "multisimo_df = pd.read_csv(\"/u/sebono/conversational_dominance/data/processed/multisimo/conversations.csv\")\n",
    "\n",
    "count_utterance_p_user_l = {}\n",
    "count_turns_p_user_l = {}\n",
    "for content, name in zip(multisimo_df[\"file_content\"], multisimo_df[\"file_name\"]):\n",
    "    count_utterance_p_user_l[name] = {}\n",
    "    count_turns_p_user_l[name] = {}\n",
    "    print(name)\n",
    "    dominance[name] = {}\n",
    "    pattern = '<(SPK[1-9]|MOD)>'\n",
    "    matches = re.findall(pattern, \"\".join(content))\n",
    "    content = re.sub(r'\\<', r'\\n<', content).split(\"\\n\")[1:]\n",
    "    count_utterance_p_user, count_turns_p_user = count_user_utterances(content, pattern=pattern)\n",
    "    for cu, ct in zip(count_utterance_p_user, count_turns_p_user):\n",
    "        count_utterance_p_user_l[name][cu] = count_utterance_p_user[cu]\n",
    "        count_turns_p_user_l[name][ct] = count_turns_p_user[ct]\n",
    "        print(f\"{cu}:\", count_utterance_p_user[cu],count_turns_p_user[ct])"
   ]
  },
  {
   "cell_type": "code",
   "execution_count": null,
   "metadata": {},
   "outputs": [],
   "source": [
    "count_utterance_p_user_l"
   ]
  },
  {
   "cell_type": "code",
   "execution_count": null,
   "metadata": {},
   "outputs": [],
   "source": [
    "multisimo_df = pd.read_csv(\"../data/processed/multisimo/transcript_dominance.csv\")"
   ]
  },
  {
   "cell_type": "code",
   "execution_count": null,
   "metadata": {},
   "outputs": [],
   "source": [
    "df_ppxl = pd.DataFrame(count_utterance_p_user_l).T\n",
    "df_ppxl.index.name = \"file_name\"\n",
    "final_results_ppxl_multisimo = pd.merge(multisimo_df,df_ppxl, on=\"file_name\")"
   ]
  },
  {
   "cell_type": "code",
   "execution_count": null,
   "metadata": {},
   "outputs": [],
   "source": [
    "final_results_ppxl_multisimo"
   ]
  },
  {
   "cell_type": "code",
   "execution_count": null,
   "metadata": {},
   "outputs": [],
   "source": [
    "results = pd.DataFrame({\"one\":final_results_ppxl_multisimo[\"speaker_1_dom_score\"]>final_results_ppxl_multisimo[\"speaker_2_dom_score\"],\"two\": final_results_ppxl_multisimo[\"SPK1\"]>final_results_ppxl_multisimo[\"SPK2\"]})\n",
    "sum(results[\"one\"]==results[\"two\"])/len(results[\"one\"])"
   ]
  },
  {
   "cell_type": "markdown",
   "metadata": {},
   "source": [
    "### Teacher Dominated"
   ]
  },
  {
   "cell_type": "code",
   "execution_count": null,
   "metadata": {},
   "outputs": [],
   "source": [
    "import pandas as pd\n",
    "file_path = \"/u/sebono/conversational_dominance/data/results/information_labels__teacher_dominated__withneutral.csv\"\n",
    "datasets = pd.read_csv(file_path).reset_index()"
   ]
  },
  {
   "cell_type": "code",
   "execution_count": null,
   "metadata": {},
   "outputs": [],
   "source": [
    "ppl = {}\n",
    "for index, dataset in zip(datasets[\"index\"],datasets[\"transcript\"]):\n",
    "    dataset = dataset.split(\"\\n\")\n",
    "    pattern = r'\\[([^\\]]+)\\]'\n",
    "    matches = re.findall(pattern, \"\".join(dataset))    \n",
    "    perpl = perplexity_of_fixedlength_models(dataset)\n",
    "    ppl[index] = perpl"
   ]
  },
  {
   "cell_type": "code",
   "execution_count": null,
   "metadata": {},
   "outputs": [],
   "source": [
    "#import pickle\n",
    "#file_path = \"/u/sebono/conversational_dominance/data/results/information_labels__teacher_dominated__withneutral_perplexity_scores.pikle\"\n",
    "#with open(file_path, 'wb') as file:\n",
    "#    pickle.dump(ppl, file)"
   ]
  },
  {
   "cell_type": "code",
   "execution_count": null,
   "metadata": {},
   "outputs": [],
   "source": [
    "import pickle\n",
    "file_path = \"/u/sebono/conversational_dominance/data/results/information_labels__teacher_dominated__withneutral_perplexity_scores.pikle\"\n",
    "with open(file_path, 'rb') as file:\n",
    "    perplexity_scores = pickle.load(file)"
   ]
  },
  {
   "cell_type": "code",
   "execution_count": null,
   "metadata": {},
   "outputs": [],
   "source": [
    "considered_indices = datasets[datasets[\"n_responses_match\"] == True][\"index\"]\n",
    "considered_datasets =  datasets[datasets[\"n_responses_match\"] == True]\n",
    "\n",
    "considered_datasets[\"transcript\"].iloc[-1]"
   ]
  },
  {
   "cell_type": "code",
   "execution_count": null,
   "metadata": {},
   "outputs": [],
   "source": [
    "import re\n",
    "\n",
    "considered_indices = datasets[datasets[\"n_responses_match\"] == True][\"index\"]\n",
    "considered_datasets =  datasets[datasets[\"n_responses_match\"] == True]\n",
    "\n",
    "per_label_dataset={\"Information seeking\":[],\"Neutral\": [],  \"Information giving\":[]}\n",
    "per_label_ppl={\"Information seeking\":[], \"Neutral\": [], \"Information giving\":[]}\n",
    "\n",
    "info = {}\n",
    "considered_datasets_filtered = []\n",
    "for dataset, response, ppl_idx in zip(considered_datasets[\"transcript\"],considered_datasets[\"response\"], considered_indices):\n",
    "    #encodings = [tokenizer(d, return_tensors=\"pt\").input_ids[0] for d in dataset.split(\"\\n\")]\n",
    "    dataset = dataset.split(\"\\n\")\n",
    "    encodings = tokenizer(\" \".join(dataset), return_tensors=\"pt\", return_offsets_mapping=True).input_ids.ravel()\n",
    "    dataset_filtered, info[ppl_idx] = perplexity_to_info_filtering_out_common_words(dataset,encodings,perplexity_scores[ppl_idx],response.split(\"\\n\"))\n",
    "    considered_datasets_filtered.append(dataset_filtered)"
   ]
  },
  {
   "cell_type": "code",
   "execution_count": null,
   "metadata": {},
   "outputs": [],
   "source": [
    "per_label_ppl"
   ]
  },
  {
   "cell_type": "code",
   "execution_count": null,
   "metadata": {},
   "outputs": [],
   "source": [
    "per_label_dataset={\"Information seeking\":[],\"Neutral\": [],  \"Information giving\":[]}\n",
    "per_label_ppl={\"Information seeking\":[], \"Neutral\": [], \"Information giving\":[]}\n",
    "for i, (info_u, dataset) in enumerate(zip(info.keys(), considered_datasets_filtered)):\n",
    "    for u, d in zip(info[info_u], dataset):\n",
    "        \"\"\"filtering out assertive sentences like \"'[Teacher]: \"Very good. Continue.\"',\n",
    "             '[Teacher]: \"Please, go ahead.\"',\n",
    "             '[Teacher]: \"That\\'s correct.\"',\n",
    "             '[Teacher]: \"Very good. Continue.\"',\"\"\"\n",
    "        assert len(u['perpl']) == len(d)\n",
    "        per_label_ppl[u['label']] += list(u['perpl'])\n",
    "        per_label_dataset[u['label']].append(d)"
   ]
  },
  {
   "cell_type": "code",
   "execution_count": null,
   "metadata": {},
   "outputs": [],
   "source": [
    "#information giving\n",
    "pattern = r'\\[([^\\]]+)\\]'\n",
    "tokens = per_label_dataset[\"Neutral\"]\n",
    "perplexity = per_label_ppl[\"Neutral\"]\n",
    "compute_graph_perplexity(tokens, perplexity,pattern=pattern)"
   ]
  },
  {
   "cell_type": "code",
   "execution_count": null,
   "metadata": {
    "scrolled": false
   },
   "outputs": [],
   "source": [
    "#information giving\n",
    "tokens = per_label_dataset[\"Information giving\"]\n",
    "perplexity = per_label_ppl[\"Information giving\"]\n",
    "compute_graph_perplexity(tokens, perplexity)"
   ]
  },
  {
   "cell_type": "code",
   "execution_count": null,
   "metadata": {},
   "outputs": [],
   "source": [
    "len(per_label_ppl[\"Information giving\"]), len(per_label_dataset[\"Information giving\"])"
   ]
  },
  {
   "cell_type": "code",
   "execution_count": null,
   "metadata": {},
   "outputs": [],
   "source": [
    "perplexity = per_label_ppl[\"Neutral\"]\n",
    "np.nanmean(perplexity), np.nanstd(perplexity)"
   ]
  },
  {
   "cell_type": "code",
   "execution_count": null,
   "metadata": {},
   "outputs": [],
   "source": [
    "perplexity = per_label_ppl[\"Information giving\"]\n",
    "np.nanmean(perplexity), np.nanstd(perplexity)"
   ]
  },
  {
   "cell_type": "code",
   "execution_count": null,
   "metadata": {},
   "outputs": [],
   "source": [
    "perplexity = per_label_ppl[\"Information seeking\"]\n",
    "np.nanmean(perplexity), np.nanstd(perplexity)"
   ]
  },
  {
   "cell_type": "code",
   "execution_count": null,
   "metadata": {},
   "outputs": [],
   "source": [
    "import seaborn as sns\n",
    "import matplotlib.pyplot as plt\n",
    "\n",
    "# Assuming per_label_ppl is a dictionary containing data for \"Information seeking\" and \"Information giving\"\n",
    "\n",
    "# Create a figure and axis\n",
    "fig, ax = plt.subplots()\n",
    "\n",
    "# Plot KDE using seaborn\n",
    "sns.kdeplot(per_label_ppl[\"Information seeking\"], color='blue', label='Information seeking', ax=ax, cut=0, clip=(0, 4))\n",
    "sns.kdeplot(per_label_ppl[\"Information giving\"], color='green', label='Information giving', ax=ax, cut=0, clip=(0, 4))\n",
    "sns.kdeplot(per_label_ppl[\"Neutral\"], color='yellow', label='Neutral', ax=ax, cut=0, clip=(0, 4))\n",
    "\n",
    "# Adding labels and legend\n",
    "ax.set_xlabel('Values')\n",
    "ax.set_ylabel('Density')\n",
    "ax.legend()\n",
    "\n",
    "# Display the plot\n",
    "plt.show()\n"
   ]
  },
  {
   "cell_type": "code",
   "execution_count": null,
   "metadata": {},
   "outputs": [],
   "source": [
    "import seaborn as sns\n",
    "import matplotlib.pyplot as plt\n",
    "\n",
    "# Assuming per_label_ppl is a dictionary containing data for \"Information seeking\" and \"Information giving\"\n",
    "\n",
    "# Create a figure and axis\n",
    "fig, ax = plt.subplots()\n",
    "\n",
    "# Plot histograms using seaborn with density=True\n",
    "sns.histplot(per_label_ppl[\"Information seeking\"], kde=True, color='blue', label='Information seeking', ax=ax, stat='density')\n",
    "sns.histplot(per_label_ppl[\"Information giving\"], kde=True, color='green', label='Information giving', ax=ax, stat='density')\n",
    "sns.histplot(per_label_ppl[\"Neutral\"], kde=True, color='yellow', label='Neutral', ax=ax, stat='density')\n",
    "\n",
    "# Adding labels and legend\n",
    "ax.set_xlabel('Values')\n",
    "ax.set_ylabel('Density')\n",
    "ax.legend()\n",
    "\n",
    "# Display the plot\n",
    "plt.show()\n"
   ]
  },
  {
   "cell_type": "code",
   "execution_count": null,
   "metadata": {
    "scrolled": true
   },
   "outputs": [],
   "source": [
    "#lower perplexity\n",
    "dataset = per_label_dataset[\"Information seeking\"]\n",
    "perplexity = per_label_ppl[\"Information seeking\"]\n",
    "pattern = r'\\[([^\\]]+)\\]'\n",
    "compute_graph_perplexity(dataset,perplexity)"
   ]
  },
  {
   "cell_type": "markdown",
   "metadata": {},
   "source": [
    "### Emotion Extraction"
   ]
  },
  {
   "cell_type": "code",
   "execution_count": null,
   "metadata": {},
   "outputs": [],
   "source": []
  }
 ],
 "metadata": {
  "kernelspec": {
   "display_name": "Python 3 (ipykernel)",
   "language": "python",
   "name": "python3"
  },
  "language_info": {
   "codemirror_mode": {
    "name": "ipython",
    "version": 3
   },
   "file_extension": ".py",
   "mimetype": "text/x-python",
   "name": "python",
   "nbconvert_exporter": "python",
   "pygments_lexer": "ipython3",
   "version": "3.11.5"
  }
 },
 "nbformat": 4,
 "nbformat_minor": 2
}
