{
 "cells": [
  {
   "cell_type": "code",
   "execution_count": 1,
   "metadata": {
    "tags": []
   },
   "outputs": [
    {
     "name": "stdout",
     "output_type": "stream",
     "text": [
      "\u001b[33mWARNING: Running pip as the 'root' user can result in broken permissions and conflicting behaviour with the system package manager. It is recommended to use a virtual environment instead: https://pip.pypa.io/warnings/venv\u001b[0m\u001b[33m\n",
      "\u001b[0m"
     ]
    }
   ],
   "source": [
    "!pip install -U tqdm transformers pydub -q"
   ]
  },
  {
   "cell_type": "code",
   "execution_count": 2,
   "metadata": {
    "tags": []
   },
   "outputs": [],
   "source": [
    "import warnings\n",
    "import numpy as np\n",
    "import pandas as pd\n",
    "import os\n",
    "from pathlib import Path\n",
    "import subprocess\n",
    "\n",
    "warnings.filterwarnings(\"ignore\")"
   ]
  },
  {
   "cell_type": "code",
   "execution_count": 3,
   "metadata": {
    "tags": []
   },
   "outputs": [
    {
     "name": "stderr",
     "output_type": "stream",
     "text": [
      "2025-03-03 19:32:14.300921: E external/local_xla/xla/stream_executor/cuda/cuda_dnn.cc:9261] Unable to register cuDNN factory: Attempting to register factory for plugin cuDNN when one has already been registered\n",
      "2025-03-03 19:32:14.301007: E external/local_xla/xla/stream_executor/cuda/cuda_fft.cc:607] Unable to register cuFFT factory: Attempting to register factory for plugin cuFFT when one has already been registered\n",
      "2025-03-03 19:32:14.302565: E external/local_xla/xla/stream_executor/cuda/cuda_blas.cc:1515] Unable to register cuBLAS factory: Attempting to register factory for plugin cuBLAS when one has already been registered\n",
      "2025-03-03 19:32:14.311456: I tensorflow/core/platform/cpu_feature_guard.cc:182] This TensorFlow binary is optimized to use available CPU instructions in performance-critical operations.\n",
      "To enable the following instructions: AVX2 FMA, in other operations, rebuild TensorFlow with the appropriate compiler flags.\n",
      "2025-03-03 19:32:15.687287: W tensorflow/compiler/tf2tensorrt/utils/py_utils.cc:38] TF-TRT Warning: Could not find TensorRT\n"
     ]
    },
    {
     "data": {
      "application/vnd.jupyter.widget-view+json": {
       "model_id": "3fc59ba5174b4c86b299a3f923a0df09",
       "version_major": 2,
       "version_minor": 0
      },
      "text/plain": [
       "preprocessor_config.json:   0%|          | 0.00/159 [00:00<?, ?B/s]"
      ]
     },
     "metadata": {},
     "output_type": "display_data"
    },
    {
     "data": {
      "application/vnd.jupyter.widget-view+json": {
       "model_id": "e3c84a01091c49239e0e1618ef47ebf9",
       "version_major": 2,
       "version_minor": 0
      },
      "text/plain": [
       "tokenizer_config.json:   0%|          | 0.00/163 [00:00<?, ?B/s]"
      ]
     },
     "metadata": {},
     "output_type": "display_data"
    },
    {
     "data": {
      "application/vnd.jupyter.widget-view+json": {
       "model_id": "03c6c2e88a274e4da63259ec2b787ad6",
       "version_major": 2,
       "version_minor": 0
      },
      "text/plain": [
       "config.json:   0%|          | 0.00/843 [00:00<?, ?B/s]"
      ]
     },
     "metadata": {},
     "output_type": "display_data"
    },
    {
     "data": {
      "application/vnd.jupyter.widget-view+json": {
       "model_id": "dd52afa2d21c42f7868122c48a1bbbd6",
       "version_major": 2,
       "version_minor": 0
      },
      "text/plain": [
       "vocab.json:   0%|          | 0.00/291 [00:00<?, ?B/s]"
      ]
     },
     "metadata": {},
     "output_type": "display_data"
    },
    {
     "data": {
      "application/vnd.jupyter.widget-view+json": {
       "model_id": "6ed306af00ca4d23b996ffdc814b1e6c",
       "version_major": 2,
       "version_minor": 0
      },
      "text/plain": [
       "special_tokens_map.json:   0%|          | 0.00/85.0 [00:00<?, ?B/s]"
      ]
     },
     "metadata": {},
     "output_type": "display_data"
    },
    {
     "data": {
      "application/vnd.jupyter.widget-view+json": {
       "model_id": "30ef1ca5f8b0444ea8fd039f09610b34",
       "version_major": 2,
       "version_minor": 0
      },
      "text/plain": [
       "pytorch_model.bin:   0%|          | 0.00/1.26G [00:00<?, ?B/s]"
      ]
     },
     "metadata": {},
     "output_type": "display_data"
    },
    {
     "data": {
      "application/vnd.jupyter.widget-view+json": {
       "model_id": "4f25733ee8cb411fb4fbe92147bb8fd2",
       "version_major": 2,
       "version_minor": 0
      },
      "text/plain": [
       "model.safetensors:   0%|          | 0.00/1.26G [00:00<?, ?B/s]"
      ]
     },
     "metadata": {},
     "output_type": "display_data"
    },
    {
     "name": "stderr",
     "output_type": "stream",
     "text": [
      "Some weights of Wav2Vec2ForCTC were not initialized from the model checkpoint at facebook/wav2vec2-large-960h and are newly initialized: ['wav2vec2.masked_spec_embed']\n",
      "You should probably TRAIN this model on a down-stream task to be able to use it for predictions and inference.\n"
     ]
    },
    {
     "data": {
      "application/vnd.jupyter.widget-view+json": {
       "model_id": "370f10c5be584b52bdae8127de69c80b",
       "version_major": 2,
       "version_minor": 0
      },
      "text/plain": [
       "config.json:   0%|          | 0.00/666 [00:00<?, ?B/s]"
      ]
     },
     "metadata": {},
     "output_type": "display_data"
    },
    {
     "data": {
      "application/vnd.jupyter.widget-view+json": {
       "model_id": "e085d844f5ed458fa88679e5103f68fb",
       "version_major": 2,
       "version_minor": 0
      },
      "text/plain": [
       "model.safetensors:   0%|          | 0.00/3.25G [00:00<?, ?B/s]"
      ]
     },
     "metadata": {},
     "output_type": "display_data"
    },
    {
     "data": {
      "application/vnd.jupyter.widget-view+json": {
       "model_id": "dc5084b18f2e4924a583bf730d25aa59",
       "version_major": 2,
       "version_minor": 0
      },
      "text/plain": [
       "generation_config.json:   0%|          | 0.00/124 [00:00<?, ?B/s]"
      ]
     },
     "metadata": {},
     "output_type": "display_data"
    },
    {
     "data": {
      "application/vnd.jupyter.widget-view+json": {
       "model_id": "50e45601cb00485899e58d51273828cc",
       "version_major": 2,
       "version_minor": 0
      },
      "text/plain": [
       "tokenizer_config.json:   0%|          | 0.00/26.0 [00:00<?, ?B/s]"
      ]
     },
     "metadata": {},
     "output_type": "display_data"
    },
    {
     "data": {
      "application/vnd.jupyter.widget-view+json": {
       "model_id": "5507249006694c379d01f546cd45a87b",
       "version_major": 2,
       "version_minor": 0
      },
      "text/plain": [
       "vocab.json:   0%|          | 0.00/1.04M [00:00<?, ?B/s]"
      ]
     },
     "metadata": {},
     "output_type": "display_data"
    },
    {
     "data": {
      "application/vnd.jupyter.widget-view+json": {
       "model_id": "5ea1b885b10549d2898fdcc0ec08f408",
       "version_major": 2,
       "version_minor": 0
      },
      "text/plain": [
       "merges.txt:   0%|          | 0.00/456k [00:00<?, ?B/s]"
      ]
     },
     "metadata": {},
     "output_type": "display_data"
    },
    {
     "data": {
      "application/vnd.jupyter.widget-view+json": {
       "model_id": "1d0cd69fbddc4328af3967e57892cb09",
       "version_major": 2,
       "version_minor": 0
      },
      "text/plain": [
       "tokenizer.json:   0%|          | 0.00/1.36M [00:00<?, ?B/s]"
      ]
     },
     "metadata": {},
     "output_type": "display_data"
    }
   ],
   "source": [
    "import torch\n",
    "import torchaudio\n",
    "from torch.nn.functional import pad\n",
    "import torchaudio.functional as F\n",
    "import torchaudio.transforms as T\n",
    "from tqdm import tqdm\n",
    "from transformers import Wav2Vec2Tokenizer, Wav2Vec2ForCTC, Wav2Vec2Processor\n",
    "from pydub import AudioSegment\n",
    "from transformers import GPT2LMHeadModel, GPT2TokenizerFast\n",
    "\n",
    "device = torch.device(\"cuda\" if torch.cuda.is_available() else \"cpu\")\n",
    "\n",
    "# Load the pre-trained tokenizer and model\n",
    "audio_processor = Wav2Vec2Processor.from_pretrained(\"facebook/wav2vec2-large-960h\")\n",
    "audio_model = Wav2Vec2ForCTC.from_pretrained('facebook/wav2vec2-large-960h').to(device)\n",
    "\n",
    "text_model_id = \"gpt2-large\"\n",
    "text_model = GPT2LMHeadModel.from_pretrained(text_model_id).to(device)\n",
    "text_tokenizer = GPT2TokenizerFast.from_pretrained(text_model_id)\n"
   ]
  },
  {
   "cell_type": "code",
   "execution_count": 4,
   "metadata": {
    "tags": []
   },
   "outputs": [],
   "source": [
    "base_folder = Path(r\".\").resolve()\n",
    "csv_file = base_folder / 'sample.csv'\n",
    "video_file = base_folder / 'sample.mp4'"
   ]
  },
  {
   "cell_type": "code",
   "execution_count": 5,
   "metadata": {
    "tags": []
   },
   "outputs": [
    {
     "name": "stdout",
     "output_type": "stream",
     "text": [
      "Speaker: Ross, Start: 00:00:00:334, Audio Samples: 36704, Utterance: rachel, come on, talk to me\n",
      "Speaker: Rachel , Start: 00:00:02:753, Audio Samples: 28688, Utterance: I cant even look at you right now\n",
      "Speaker: Ross, Start: 00:00:12:100, Audio Samples: 7264, Utterance: rachel\n",
      "Speaker: Rachel , Start: 00:00:13:00, Audio Samples: 3568, Utterance: Just get away from me\n",
      "Speaker: Ross, Start: 00:00:13:722, Audio Samples: 42688, Utterance: It was a mistake, I made a mistake, ok? \n",
      "Speaker: Rachel , Start: 00:00:16:391, Audio Samples: 155472, Utterance: A mistake? What did you try to put it in? her purse?  Ross, you had sex with another woman.  You know what, I want you to leave. Get out of here, just get out.\n",
      "Speaker: Ross, Start: 00:00:49:675, Audio Samples: 48704, Utterance: No, No, I wanna stay. I wanna takj about this.\n",
      "Speaker: Rachel , Start: 00:00:52:800, Audio Samples: 47360, Utterance: ok, alright. How was she? \n"
     ]
    }
   ],
   "source": [
    "audio_file = base_folder / 'sample.wav'\n",
    "# subprocess.run(['ffmpeg', '-i', '-q' , video_file, audio_file, '-y']) \n",
    "\n",
    "# Read the CSV file with semicolon separator\n",
    "df = pd.read_csv(csv_file, sep=';')\n",
    "\n",
    "# Load the WAV audio\n",
    "waveform, sample_rate = torchaudio.load(audio_file)\n",
    "waveform = waveform.mean(dim=0)  # Ensure mono-channel\n",
    "\n",
    "# Resample to 16KHz if needed\n",
    "if sample_rate != 16000:\n",
    "    transform = torchaudio.transforms.Resample(orig_freq=sample_rate, new_freq=16000)\n",
    "    waveform = transform(waveform)\n",
    "\n",
    "def time_to_sample(time_str, sample_rate):\n",
    "    h, m, s, ms = map(float, time_str.split(':'))\n",
    "    total_seconds = h * 3600 + m * 60 + s + ms / 1000.0\n",
    "    return int(total_seconds * sample_rate)\n",
    "\n",
    "silence = torch.zeros(8000)  # 0.5s at 16KHz is 8000 samples, but reducing for memory\n",
    "\n",
    "turns = []\n",
    "current_speaker = None\n",
    "current_audio = []\n",
    "current_start = None\n",
    "current_utterance = []\n",
    "\n",
    "for index, row in df.iterrows():\n",
    "    start_sample = time_to_sample(row['start'], 16000)\n",
    "    stop_sample = time_to_sample(row['stop'], 16000)\n",
    "    speaker = row['speaker']\n",
    "    utterance = row['utterance']\n",
    "\n",
    "    segment = waveform[start_sample:stop_sample]\n",
    "\n",
    "    if speaker == current_speaker:\n",
    "        current_audio.append(silence)\n",
    "        current_audio.append(segment)\n",
    "        current_utterance.append(utterance)\n",
    "    else:\n",
    "        if current_speaker is not None:\n",
    "            turns.append({\n",
    "                'speaker': current_speaker,\n",
    "                'start': current_start,\n",
    "                'audio': torch.cat(current_audio),\n",
    "                'utterance': ' '.join(current_utterance)\n",
    "            })\n",
    "        current_speaker = speaker\n",
    "        current_start = row['start']\n",
    "        current_audio = [segment]\n",
    "        current_utterance = [utterance]\n",
    "\n",
    "if current_speaker is not None:\n",
    "    turns.append({\n",
    "        'speaker': current_speaker,\n",
    "        'start': current_start,\n",
    "        'audio': torch.cat(current_audio),\n",
    "        'utterance': ' '.join(current_utterance)\n",
    "    })\n",
    "\n",
    "for turn in turns:\n",
    "    print(f\"Speaker: {turn['speaker']}, Start: {turn['start']}, Audio Samples: {turn['audio'].shape[0]}, Utterance: {turn['utterance']}\")\n"
   ]
  },
  {
   "cell_type": "code",
   "execution_count": 6,
   "metadata": {
    "tags": []
   },
   "outputs": [],
   "source": [
    "def audio_perplexity(waveform):\n",
    "    max_length = 4000  # at 16kHz\n",
    "    stride = 400  # overlap\n",
    "    \n",
    "    # Tokenization\n",
    "    input_values = audio_processor(waveform.numpy(), return_tensors=\"pt\", sampling_rate=16000).input_values.to(device)\n",
    "    seq_len = input_values.shape[1]\n",
    "    \n",
    "    nlls = []\n",
    "\n",
    "    # tqdm bar\n",
    "    inf_count = 0\n",
    "    progress_bar = tqdm(range(0, seq_len, stride), desc=\"Processing\", dynamic_ncols=True)\n",
    "    for begin_loc in progress_bar:\n",
    "        end_loc = min(begin_loc + max_length, seq_len)\n",
    "        if end_loc - begin_loc < 1000:  # Avoid very short chunks\n",
    "            print(\"Warning: Skipping too short sequence\")\n",
    "            continue\n",
    "\n",
    "        input_chunk = input_values[:, begin_loc:end_loc]\n",
    "\n",
    "        # Create valid target labels \n",
    "        target_ids = input_chunk.clone()\n",
    "        target_ids[:, :-1] = -100  # Mask only some tokens\n",
    "\n",
    "        with torch.no_grad():\n",
    "            outputs = audio_model(input_chunk, labels=target_ids)\n",
    "            neg_log_likelihood = outputs.loss\n",
    "\n",
    "        if torch.isinf(neg_log_likelihood):\n",
    "            inf_count += 1\n",
    "            continue\n",
    "\n",
    "        nlls.append(neg_log_likelihood.item())\n",
    "        progress_bar.set_description(f\"Chunk {begin_loc}-{end_loc} | inf: {inf_count} | NLL: {neg_log_likelihood.item():.4f}\")\n",
    "\n",
    "        if end_loc == seq_len:\n",
    "            break\n",
    "\n",
    "    return nlls"
   ]
  },
  {
   "cell_type": "code",
   "execution_count": 7,
   "metadata": {
    "tags": []
   },
   "outputs": [],
   "source": [
    "def text_perplexity(dialog, start_of_sentence=\" \"):\n",
    "    \n",
    "    #max_length = model.config.n_positions\n",
    "    #max_length =  model.config.max_position_embeddings\n",
    "    max_length = 500\n",
    "    stride = 1\n",
    "    \n",
    "    pad_token_id = 0\n",
    "    encodings = text_tokenizer(f\"{start_of_sentence}\".join(dialog), return_tensors=\"pt\")\n",
    "    seq_len = encodings.input_ids.size(1)\n",
    "    padding_len = max_length -1 \n",
    "    padded_input_ids = pad(torch.tensor([], dtype=torch.long), (0, padding_len), value=pad_token_id).unsqueeze(dim=0)\n",
    "    encodings.input_ids = torch.cat([padded_input_ids, encodings.input_ids], dim=1)\n",
    "    seq_len = encodings.input_ids.size(1)\n",
    "    \n",
    "    nlls = []\n",
    "    prev_end_loc = padding_len\n",
    "    for begin_loc in tqdm(range(0, seq_len, stride)):\n",
    "        end_loc = min(begin_loc + max_length, seq_len)\n",
    "        trg_len = end_loc - prev_end_loc  # may be different from max_length on the last loop \n",
    "        begin_loc = max(padding_len, begin_loc)\n",
    "        input_ids = encodings.input_ids[:, begin_loc:end_loc].to(device)\n",
    "        target_ids = input_ids.clone()\n",
    "        target_ids[:, :-trg_len] = -100\n",
    "        with torch.no_grad():\n",
    "            outputs = text_model(input_ids, labels=target_ids)\n",
    "            neg_log_likelihood = outputs.loss\n",
    "\n",
    "        nlls.append(neg_log_likelihood.item())\n",
    "\n",
    "        prev_end_loc = end_loc\n",
    "        if end_loc == seq_len:\n",
    "            break\n",
    "        \n",
    "    return nlls"
   ]
  },
  {
   "cell_type": "code",
   "execution_count": 8,
   "metadata": {
    "tags": []
   },
   "outputs": [
    {
     "name": "stdout",
     "output_type": "stream",
     "text": [
      "Turn 1 out of 8\n"
     ]
    },
    {
     "name": "stderr",
     "output_type": "stream",
     "text": [
      "Chunk 32800-36704 | inf: 0 | NLL: -3.7749:  89%|████████▉ | 82/92 [00:04<00:00, 18.39it/s]"
     ]
    },
    {
     "name": "stdout",
     "output_type": "stream",
     "text": [
      "Turn 2 out of 8\n"
     ]
    },
    {
     "name": "stderr",
     "output_type": "stream",
     "text": [
      "\n",
      "Chunk 24800-28688 | inf: 0 | NLL: 2.7888:  86%|████████▌ | 62/72 [00:01<00:00, 42.91it/s] "
     ]
    },
    {
     "name": "stdout",
     "output_type": "stream",
     "text": [
      "Turn 3 out of 8\n"
     ]
    },
    {
     "name": "stderr",
     "output_type": "stream",
     "text": [
      "\n",
      "Chunk 3600-7264 | inf: 0 | NLL: 2.3619:  47%|████▋     | 9/19 [00:00<00:00, 39.80it/s] "
     ]
    },
    {
     "name": "stdout",
     "output_type": "stream",
     "text": [
      "Turn 4 out of 8\n"
     ]
    },
    {
     "name": "stderr",
     "output_type": "stream",
     "text": [
      "\n",
      "Chunk 0-3568 | inf: 0 | NLL: 2.9136:   0%|          | 0/9 [00:00<?, ?it/s]"
     ]
    },
    {
     "name": "stdout",
     "output_type": "stream",
     "text": [
      "Turn 5 out of 8\n"
     ]
    },
    {
     "name": "stderr",
     "output_type": "stream",
     "text": [
      "\n",
      "Chunk 38800-42688 | inf: 0 | NLL: 14.4817:  91%|█████████ | 97/107 [00:02<00:00, 43.25it/s]"
     ]
    },
    {
     "name": "stdout",
     "output_type": "stream",
     "text": [
      "Turn 6 out of 8\n"
     ]
    },
    {
     "name": "stderr",
     "output_type": "stream",
     "text": [
      "\n",
      "Chunk 151600-155472 | inf: 0 | NLL: 4.0026:  97%|█████████▋| 379/389 [00:08<00:00, 42.45it/s] "
     ]
    },
    {
     "name": "stdout",
     "output_type": "stream",
     "text": [
      "Turn 7 out of 8\n"
     ]
    },
    {
     "name": "stderr",
     "output_type": "stream",
     "text": [
      "\n",
      "Chunk 44800-48704 | inf: 0 | NLL: 1.9135:  92%|█████████▏| 112/122 [00:02<00:00, 40.81it/s] "
     ]
    },
    {
     "name": "stdout",
     "output_type": "stream",
     "text": [
      "Turn 8 out of 8\n"
     ]
    },
    {
     "name": "stderr",
     "output_type": "stream",
     "text": [
      "\n",
      "Chunk 43600-47360 | inf: 0 | NLL: 20.8280:  92%|█████████▏| 109/119 [00:02<00:00, 42.46it/s]"
     ]
    },
    {
     "name": "stdout",
     "output_type": "stream",
     "text": [
      "Turn 1 out of 8\n"
     ]
    },
    {
     "name": "stderr",
     "output_type": "stream",
     "text": [
      "\n",
      "  0%|          | 0/531 [00:00<?, ?it/s]`loss_type=None` was set in the config but it is unrecognised.Using the default loss: `ForCausalLMLoss`.\n",
      "  6%|▌         | 31/531 [00:01<00:19, 25.60it/s]"
     ]
    },
    {
     "name": "stdout",
     "output_type": "stream",
     "text": [
      "Turn 2 out of 8\n"
     ]
    },
    {
     "name": "stderr",
     "output_type": "stream",
     "text": [
      "\n",
      "  7%|▋         | 39/539 [00:01<00:18, 27.63it/s]"
     ]
    },
    {
     "name": "stdout",
     "output_type": "stream",
     "text": [
      "Turn 3 out of 8\n"
     ]
    },
    {
     "name": "stderr",
     "output_type": "stream",
     "text": [
      "\n",
      "  1%|          | 5/505 [00:00<00:19, 25.87it/s]"
     ]
    },
    {
     "name": "stdout",
     "output_type": "stream",
     "text": [
      "Turn 4 out of 8\n"
     ]
    },
    {
     "name": "stderr",
     "output_type": "stream",
     "text": [
      "\n",
      "  5%|▍         | 24/524 [00:00<00:17, 28.06it/s]"
     ]
    },
    {
     "name": "stdout",
     "output_type": "stream",
     "text": [
      "Turn 5 out of 8\n"
     ]
    },
    {
     "name": "stderr",
     "output_type": "stream",
     "text": [
      "\n",
      "  9%|▉         | 48/548 [00:01<00:19, 25.65it/s]"
     ]
    },
    {
     "name": "stdout",
     "output_type": "stream",
     "text": [
      "Turn 6 out of 8\n"
     ]
    },
    {
     "name": "stderr",
     "output_type": "stream",
     "text": [
      "\n",
      " 28%|██▊       | 193/693 [00:13<00:35, 14.11it/s]"
     ]
    },
    {
     "name": "stdout",
     "output_type": "stream",
     "text": [
      "Turn 7 out of 8\n"
     ]
    },
    {
     "name": "stderr",
     "output_type": "stream",
     "text": [
      "\n",
      " 10%|▉         | 54/554 [00:01<00:18, 27.28it/s]"
     ]
    },
    {
     "name": "stdout",
     "output_type": "stream",
     "text": [
      "Turn 8 out of 8\n"
     ]
    },
    {
     "name": "stderr",
     "output_type": "stream",
     "text": [
      "\n",
      "  6%|▌         | 30/530 [00:01<00:16, 29.95it/s]\n"
     ]
    }
   ],
   "source": [
    "for i, turn in enumerate(turns):\n",
    "    print(f\"Turn {i+1} out of {len(turns)}\", flush=True)\n",
    "    audio_nlls = audio_perplexity(turn['audio'])\n",
    "    turns[i][\"audio_perplexity\"] = np.nanmean(np.asarray(audio_nlls))\n",
    "\n",
    "for i, turn in enumerate(turns):\n",
    "    print(f\"Turn {i+1} out of {len(turns)}\", flush=True)\n",
    "    text_nlls = text_perplexity(turn['utterance'])\n",
    "    turns[i][\"text_perplexity\"] = np.nanmean(np.asarray(text_nlls))    "
   ]
  },
  {
   "cell_type": "code",
   "execution_count": 9,
   "metadata": {},
   "outputs": [
    {
     "data": {
      "image/png": "[encoded data removed]",
      "text/plain": [
       "<Figure size 1000x500 with 1 Axes>"
      ]
     },
     "metadata": {},
     "output_type": "display_data"
    }
   ],
   "source": [
    "import matplotlib.pyplot as plt\n",
    "\n",
    "# Separate data by speaker\n",
    "speakers = [turn['speaker'] for turn in turns[:2]]\n",
    "\n",
    "# Prepare data for plotting\n",
    "speaker_audio_perplexity = {speaker: [] for speaker in speakers}\n",
    "speaker_text_perplexity = {speaker: [] for speaker in speakers}\n",
    "for turn in turns:\n",
    "    speaker_audio_perplexity[turn['speaker']].append(turn['audio_perplexity'])\n",
    "    speaker_text_perplexity[turn['speaker']].append(turn['text_perplexity'])\n",
    "\n",
    "colors = { speakers[0]: \"blue\", speakers[1]: \"red\" }\n",
    "\n",
    "# Generate x values with offset for second speaker\n",
    "x_ticks = [f\"Turn #{i+1}\" for i in range(len(speaker_audio_perplexity[speakers[0]]))]\n",
    "x_values = {speakers[0]: list(range(len(speaker_audio_perplexity[speakers[0]]))),\n",
    "            speakers[1]: [x + 0.15 for x in range(len(speaker_audio_perplexity[speakers[1]]))]}\n",
    "\n",
    "plt.figure(figsize=(10, 5))\n",
    "for speaker in speakers:\n",
    "    plt.plot(x_values[speaker], speaker_audio_perplexity[speaker], marker='o', label=speaker + \"_audio\", color = colors[speaker])\n",
    "    plt.plot(x_values[speaker], speaker_text_perplexity[speaker], marker='o', label=speaker + \"_text\", color = colors[speaker], linestyle = '--')\n",
    "\n",
    "    \n",
    "plt.xticks(range(len(x_ticks)), x_ticks)\n",
    "plt.xlabel('Turn Number')\n",
    "plt.ylabel('Audio Perplexity')\n",
    "plt.title('Audio Perplexity Changes Over Turns for Each Speaker')\n",
    "plt.legend()\n",
    "plt.grid(True)\n",
    "plt.show()\n"
   ]
  }
 ],
 "metadata": {
  "kernelspec": {
   "display_name": "Python 3 (ipykernel)",
   "language": "python",
   "name": "python3"
  },
  "language_info": {
   "codemirror_mode": {
    "name": "ipython",
    "version": 3
   },
   "file_extension": ".py",
   "mimetype": "text/x-python",
   "name": "python",
   "nbconvert_exporter": "python",
   "pygments_lexer": "ipython3",
   "version": "3.11.7"
  }
 },
 "nbformat": 4,
 "nbformat_minor": 4
}
