{
 "cells": [
  {
   "cell_type": "code",
   "execution_count": 1,
   "metadata": {},
   "outputs": [],
   "source": [
    "import warnings\n",
    "import numpy as np\n",
    "import pandas as pd\n",
    "import os\n",
    "from pathlib import Path\n",
    "import subprocess\n",
    "\n",
    "warnings.filterwarnings(\"ignore\")"
   ]
  },
  {
   "cell_type": "code",
   "execution_count": 2,
   "metadata": {},
   "outputs": [
    {
     "name": "stderr",
     "output_type": "stream",
     "text": [
      "Some weights of Wav2Vec2ForCTC were not initialized from the model checkpoint at facebook/wav2vec2-base-960h and are newly initialized: ['wav2vec2.masked_spec_embed']\n",
      "You should probably TRAIN this model on a down-stream task to be able to use it for predictions and inference.\n"
     ]
    }
   ],
   "source": [
    "import torch\n",
    "import torchaudio\n",
    "from torch.nn.functional import pad\n",
    "import torchaudio.functional as F\n",
    "import torchaudio.transforms as T\n",
    "from tqdm import tqdm\n",
    "from transformers import Wav2Vec2Tokenizer, Wav2Vec2ForCTC, Wav2Vec2Processor\n",
    "from pydub import AudioSegment\n",
    "\n",
    "device = torch.device(\"cuda\" if torch.cuda.is_available() else \"cpu\")\n",
    "\n",
    "# Load the pre-trained tokenizer and model\n",
    "processor = Wav2Vec2Processor.from_pretrained(\"facebook/wav2vec2-base-960h\")\n",
    "model = Wav2Vec2ForCTC.from_pretrained('facebook/wav2vec2-base-960h').to(device)\n"
   ]
  },
  {
   "cell_type": "code",
   "execution_count": 3,
   "metadata": {},
   "outputs": [],
   "source": [
    "base_folder = Path(r\"C:\\Users\\a_has\\Desktop\\nas_friends\").resolve()\n",
    "csv_file = base_folder / 'sample.csv'\n",
    "video_file = base_folder / 'sample.mp4'"
   ]
  },
  {
   "cell_type": "code",
   "execution_count": 5,
   "metadata": {},
   "outputs": [
    {
     "name": "stdout",
     "output_type": "stream",
     "text": [
      "Speaker: Ross, Start: 00:00:00:334, Audio Samples: 36704, Utterance: rachel, come on, talk to me\n",
      "Speaker: Rachel , Start: 00:00:02:753, Audio Samples: 28688, Utterance: I cant even look at you right now\n",
      "Speaker: Ross, Start: 00:00:12:100, Audio Samples: 7264, Utterance: rachel\n",
      "Speaker: Rachel , Start: 00:00:13:00, Audio Samples: 3568, Utterance: Just get away from me\n",
      "Speaker: Ross, Start: 00:00:13:722, Audio Samples: 42688, Utterance: It was a mistake, I made a mistake, ok? \n",
      "Speaker: Rachel , Start: 00:00:16:391, Audio Samples: 155472, Utterance: A mistake? What did you try to put it in? her purse?  Ross, you had sex with another woman.  You know what, I want you to leave. Get out of here, just get out.\n",
      "Speaker: Ross, Start: 00:00:49:675, Audio Samples: 48704, Utterance: No, No, I wanna stay. I wanna takj about this.\n",
      "Speaker: Rachel , Start: 00:00:52:800, Audio Samples: 47360, Utterance: ok, alright. How was she? \n"
     ]
    }
   ],
   "source": [
    "audio_file = base_folder / 'sample.wav'\n",
    "subprocess.run(['ffmpeg', '-i', video_file, audio_file, '-y']) \n",
    "\n",
    "# Read the CSV file with semicolon separator\n",
    "df = pd.read_csv(csv_file, sep=';')\n",
    "\n",
    "# Load the WAV audio\n",
    "waveform, sample_rate = torchaudio.load(audio_file)\n",
    "waveform = waveform.mean(dim=0)  # Ensure mono-channel\n",
    "\n",
    "# Resample to 16KHz if needed\n",
    "if sample_rate != 16000:\n",
    "    transform = torchaudio.transforms.Resample(orig_freq=sample_rate, new_freq=16000)\n",
    "    waveform = transform(waveform)\n",
    "\n",
    "def time_to_sample(time_str, sample_rate):\n",
    "    h, m, s, ms = map(float, time_str.split(':'))\n",
    "    total_seconds = h * 3600 + m * 60 + s + ms / 1000.0\n",
    "    return int(total_seconds * sample_rate)\n",
    "\n",
    "silence = torch.zeros(8000)  # 0.5s at 16KHz is 8000 samples, but reducing for memory\n",
    "\n",
    "turns = []\n",
    "current_speaker = None\n",
    "current_audio = []\n",
    "current_start = None\n",
    "current_utterance = []\n",
    "\n",
    "for index, row in df.iterrows():\n",
    "    start_sample = time_to_sample(row['start'], 16000)\n",
    "    stop_sample = time_to_sample(row['stop'], 16000)\n",
    "    speaker = row['speaker']\n",
    "    utterance = row['utterance']\n",
    "\n",
    "    segment = waveform[start_sample:stop_sample]\n",
    "\n",
    "    if speaker == current_speaker:\n",
    "        current_audio.append(silence)\n",
    "        current_audio.append(segment)\n",
    "        current_utterance.append(utterance)\n",
    "    else:\n",
    "        if current_speaker is not None:\n",
    "            turns.append({\n",
    "                'speaker': current_speaker,\n",
    "                'start': current_start,\n",
    "                'audio': torch.cat(current_audio),\n",
    "                'utterance': ' '.join(current_utterance)\n",
    "            })\n",
    "        current_speaker = speaker\n",
    "        current_start = row['start']\n",
    "        current_audio = [segment]\n",
    "        current_utterance = [utterance]\n",
    "\n",
    "if current_speaker is not None:\n",
    "    turns.append({\n",
    "        'speaker': current_speaker,\n",
    "        'start': current_start,\n",
    "        'audio': torch.cat(current_audio),\n",
    "        'utterance': ' '.join(current_utterance)\n",
    "    })\n",
    "\n",
    "for turn in turns:\n",
    "    print(f\"Speaker: {turn['speaker']}, Start: {turn['start']}, Audio Samples: {turn['audio'].shape[0]}, Utterance: {turn['utterance']}\")\n"
   ]
  },
  {
   "cell_type": "code",
   "execution_count": null,
   "metadata": {},
   "outputs": [],
   "source": [
    "def audio_perplexity(waveform):\n",
    "    max_length = 4000  # at 16kHz\n",
    "    stride = 400  # overlap\n",
    "    \n",
    "    # Tokenization\n",
    "    input_values = processor(waveform.numpy(), return_tensors=\"pt\", sampling_rate=16000).input_values.to(device)\n",
    "    seq_len = input_values.shape[1]\n",
    "    \n",
    "    nlls = []\n",
    "\n",
    "    # tqdm bar\n",
    "    inf_count = 0\n",
    "    progress_bar = tqdm(range(0, seq_len, stride), desc=\"Processing\", dynamic_ncols=True)\n",
    "    for begin_loc in progress_bar:\n",
    "        end_loc = min(begin_loc + max_length, seq_len)\n",
    "        if end_loc - begin_loc < 1000:  # Avoid very short chunks\n",
    "            print(\"Warning: Skipping too short sequence\")\n",
    "            continue\n",
    "\n",
    "        input_chunk = input_values[:, begin_loc:end_loc]\n",
    "\n",
    "        # Create valid target labels \n",
    "        target_ids = input_chunk.clone()\n",
    "        target_ids[:, :-1] = -100  # Mask only some tokens\n",
    "\n",
    "        with torch.no_grad():\n",
    "            outputs = model(input_chunk, labels=target_ids)\n",
    "            neg_log_likelihood = outputs.loss\n",
    "\n",
    "        if torch.isinf(neg_log_likelihood):\n",
    "            inf_count += 1\n",
    "            continue\n",
    "\n",
    "        nlls.append(neg_log_likelihood.item())\n",
    "        progress_bar.set_description(f\"Chunk {begin_loc}-{end_loc} | inf: {inf_count} | NLL: {neg_log_likelihood.item():.4f}\")\n",
    "\n",
    "        if end_loc == seq_len:\n",
    "            break\n",
    "\n",
    "    return nlls"
   ]
  },
  {
   "cell_type": "code",
   "execution_count": 23,
   "metadata": {},
   "outputs": [
    {
     "name": "stdout",
     "output_type": "stream",
     "text": [
      "Turn 1 out of 8\n"
     ]
    },
    {
     "name": "stderr",
     "output_type": "stream",
     "text": [
      "Chunk 20800-36704 | inf: 0 | NLL: 57.2174:  57%|█████▋    | 52/92 [00:06<00:05,  7.45it/s] "
     ]
    },
    {
     "name": "stdout",
     "output_type": "stream",
     "text": [
      "Turn 2 out of 8\n"
     ]
    },
    {
     "name": "stderr",
     "output_type": "stream",
     "text": [
      "\n",
      "Chunk 12800-28688 | inf: 0 | NLL: 50.3154:  44%|████▍     | 32/72 [00:04<00:05,  7.54it/s] "
     ]
    },
    {
     "name": "stdout",
     "output_type": "stream",
     "text": [
      "Turn 3 out of 8\n"
     ]
    },
    {
     "name": "stderr",
     "output_type": "stream",
     "text": [
      "\n",
      "Chunk 0-7264 | inf: 0 | NLL: 40.4404:   0%|          | 0/19 [00:00<?, ?it/s]"
     ]
    },
    {
     "name": "stdout",
     "output_type": "stream",
     "text": [
      "Turn 4 out of 8\n"
     ]
    },
    {
     "name": "stderr",
     "output_type": "stream",
     "text": [
      "\n",
      "Chunk 0-3568 | inf: 0 | NLL: 3.9813:   0%|          | 0/9 [00:00<?, ?it/s]"
     ]
    },
    {
     "name": "stdout",
     "output_type": "stream",
     "text": [
      "Turn 5 out of 8\n"
     ]
    },
    {
     "name": "stderr",
     "output_type": "stream",
     "text": [
      "\n",
      "Chunk 26800-42688 | inf: 0 | NLL: 45.4412:  63%|██████▎   | 67/107 [00:13<00:07,  5.09it/s] "
     ]
    },
    {
     "name": "stdout",
     "output_type": "stream",
     "text": [
      "Turn 6 out of 8\n"
     ]
    },
    {
     "name": "stderr",
     "output_type": "stream",
     "text": [
      "\n",
      "Chunk 139600-155472 | inf: 0 | NLL: 120.3374:  90%|████████▉ | 349/389 [01:05<00:07,  5.31it/s]"
     ]
    },
    {
     "name": "stdout",
     "output_type": "stream",
     "text": [
      "Turn 7 out of 8\n"
     ]
    },
    {
     "name": "stderr",
     "output_type": "stream",
     "text": [
      "\n",
      "Chunk 32800-48704 | inf: 0 | NLL: 169.1107:  67%|██████▋   | 82/122 [00:19<00:09,  4.15it/s]"
     ]
    },
    {
     "name": "stdout",
     "output_type": "stream",
     "text": [
      "Turn 8 out of 8\n"
     ]
    },
    {
     "name": "stderr",
     "output_type": "stream",
     "text": [
      "\n",
      "Chunk 31600-47360 | inf: 0 | NLL: 85.8398:  66%|██████▋   | 79/119 [00:16<00:08,  4.83it/s]\n"
     ]
    }
   ],
   "source": [
    "for i, turn in enumerate(turns):\n",
    "    print(f\"Turn {i+1} out of {len(turns)}\", flush=True)\n",
    "    nlls = audio_perplexity(turn['audio'])\n",
    "    turns[i][\"audio_perplexity\"] = np.nanmean(np.asarray(nlls))"
   ]
  },
  {
   "cell_type": "code",
   "execution_count": 24,
   "metadata": {},
   "outputs": [
    {
     "data": {
      "image/png": "[encoded data removed]",
      "text/plain": [
       "<Figure size 1000x500 with 1 Axes>"
      ]
     },
     "metadata": {},
     "output_type": "display_data"
    }
   ],
   "source": [
    "import matplotlib.pyplot as plt\n",
    "\n",
    "# Separate data by speaker\n",
    "speakers = list(set(turn['speaker'] for turn in turns))\n",
    "\n",
    "# Prepare data for plotting\n",
    "speaker_data = {speaker: [] for speaker in speakers}\n",
    "for turn in turns:\n",
    "    speaker_data[turn['speaker']].append(turn['audio_perplexity'])\n",
    "\n",
    "# Generate x values with offset for second speaker\n",
    "x_ticks = [f\"Turn #{i+1}\" for i in range(len(speaker_data[speakers[0]]))]\n",
    "x_values = {speakers[0]: list(range(len(speaker_data[speakers[0]]))),\n",
    "            speakers[1]: [x + 0.15 for x in range(len(speaker_data[speakers[1]]))]}\n",
    "\n",
    "plt.figure(figsize=(10, 5))\n",
    "for speaker in speakers:\n",
    "    plt.plot(x_values[speaker], speaker_data[speaker], marker='o', label=speaker)\n",
    "\n",
    "plt.xticks(range(len(x_ticks)), x_ticks)\n",
    "plt.xlabel('Turn Number')\n",
    "plt.ylabel('Audio Perplexity')\n",
    "plt.title('Audio Perplexity Changes Over Turns for Each Speaker')\n",
    "plt.legend()\n",
    "plt.grid(True)\n",
    "plt.show()\n"
   ]
  },
  {
   "cell_type": "code",
   "execution_count": 25,
   "metadata": {},
   "outputs": [
    {
     "name": "stdout",
     "output_type": "stream",
     "text": [
      "Rachel \n",
      "46.96963091569674\n",
      "Ross\n",
      "75.65562892602554\n"
     ]
    }
   ],
   "source": [
    "print(speakers[0])\n",
    "print(np.mean(speaker_data[speakers[0]]))\n",
    "\n",
    "print(speakers[1])\n",
    "print(np.mean(speaker_data[speakers[1]]))"
   ]
  }
 ],
 "metadata": {
  "kernelspec": {
   "display_name": "conversation",
   "language": "python",
   "name": "python3"
  },
  "language_info": {
   "codemirror_mode": {
    "name": "ipython",
    "version": 3
   },
   "file_extension": ".py",
   "mimetype": "text/x-python",
   "name": "python",
   "nbconvert_exporter": "python",
   "pygments_lexer": "ipython3",
   "version": "3.12.8"
  }
 },
 "nbformat": 4,
 "nbformat_minor": 2
}
