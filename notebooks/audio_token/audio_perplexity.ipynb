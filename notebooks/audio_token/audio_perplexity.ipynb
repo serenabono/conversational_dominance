{
 "cells": [
  {
   "cell_type": "code",
   "execution_count": 3,
   "metadata": {},
   "outputs": [],
   "source": [
    "import torch, torchaudio\n",
    "import warnings\n",
    "import numpy as np\n",
    "import os\n",
    "warnings.filterwarnings(\"ignore\")"
   ]
  },
  {
   "cell_type": "code",
   "execution_count": 2,
   "metadata": {},
   "outputs": [
    {
     "name": "stderr",
     "output_type": "stream",
     "text": [
      "Some weights of Wav2Vec2ForCTC were not initialized from the model checkpoint at facebook/wav2vec2-base-960h and are newly initialized: ['wav2vec2.masked_spec_embed']\n",
      "You should probably TRAIN this model on a down-stream task to be able to use it for predictions and inference.\n"
     ]
    }
   ],
   "source": [
    "import torch\n",
    "import torchaudio\n",
    "from torch.nn.functional import pad\n",
    "from tqdm import tqdm\n",
    "from transformers import Wav2Vec2Tokenizer, Wav2Vec2ForCTC, Wav2Vec2Processor\n",
    "\n",
    "device = torch.device(\"cuda\" if torch.cuda.is_available() else \"cpu\")\n",
    "\n",
    "# Load the pre-trained tokenizer and model\n",
    "# tokenizer = Wav2Vec2Tokenizer.from_pretrained('facebook/wav2vec2-base-960h')\n",
    "processor = Wav2Vec2Processor.from_pretrained(\"facebook/wav2vec2-base-960h\")\n",
    "\n",
    "model = Wav2Vec2ForCTC.from_pretrained('facebook/wav2vec2-base-960h').to(device)\n"
   ]
  },
  {
   "cell_type": "code",
   "execution_count": 160,
   "metadata": {},
   "outputs": [],
   "source": [
    "\n",
    "def audio_perplexity(audio_file):\n",
    "    max_length = 4000  # at 16kHz\n",
    "    stride = 400  # overlap\n",
    "\n",
    "    # Load and preprocess the audio file (Convert to mono)\n",
    "    waveform, sample_rate = torchaudio.load(audio_file)\n",
    "    waveform = waveform.mean(dim=0)  # Ensure mono-channel\n",
    "\n",
    "    # Resample to 16KHz if needed\n",
    "    if sample_rate != 16000:\n",
    "        transform = torchaudio.transforms.Resample(orig_freq=sample_rate, new_freq=16000)\n",
    "        waveform = transform(waveform)\n",
    "    \n",
    "    # Tokenization\n",
    "    input_values = processor(waveform.numpy(), return_tensors=\"pt\", sampling_rate=16000).input_values.to(device)\n",
    "    seq_len = input_values.shape[1]\n",
    "    \n",
    "    nlls = []\n",
    "\n",
    "    # tqdm bar\n",
    "    inf_count = 0\n",
    "    progress_bar = tqdm(range(0, seq_len, stride), desc=\"Processing\", dynamic_ncols=True)\n",
    "    for begin_loc in progress_bar:\n",
    "        end_loc = min(begin_loc + max_length, seq_len)\n",
    "        if end_loc - begin_loc < 1000:  # Avoid very short chunks\n",
    "            print(\"⚠️ Warning: Skipping too short sequence\")\n",
    "            continue\n",
    "\n",
    "        input_chunk = input_values[:, begin_loc:end_loc]\n",
    "\n",
    "        # Create valid target labels \n",
    "        target_ids = input_chunk.clone()\n",
    "        target_ids[:, :-1] = -100  # Mask only some tokens\n",
    "\n",
    "        with torch.no_grad():\n",
    "            outputs = model(input_chunk, labels=target_ids)\n",
    "            neg_log_likelihood = outputs.loss\n",
    "\n",
    "        if torch.isinf(neg_log_likelihood):\n",
    "            inf_count += 1\n",
    "            continue\n",
    "\n",
    "        nlls.append(neg_log_likelihood.item())\n",
    "        progress_bar.set_description(f\"Chunk {begin_loc}-{end_loc} | inf: {inf_count} | NLL: {neg_log_likelihood.item():.4f}\")\n",
    "\n",
    "        if end_loc == seq_len:\n",
    "            break\n",
    "\n",
    "    return nlls"
   ]
  },
  {
   "cell_type": "code",
   "execution_count": 161,
   "metadata": {},
   "outputs": [
    {
     "name": "stderr",
     "output_type": "stream",
     "text": [
      "Chunk 52800-56720 | inf: 0 | NLL: -4.3193:  93%|█████████▎| 132/142 [00:08<00:00, 15.82it/s]"
     ]
    },
    {
     "name": "stdout",
     "output_type": "stream",
     "text": [
      "Mean Perplexity: 3.4509833028077854\n"
     ]
    },
    {
     "name": "stderr",
     "output_type": "stream",
     "text": [
      "\n"
     ]
    }
   ],
   "source": [
    "# Ross example\n",
    "audio_file = r\"C:\\Users\\a_has\\Desktop\\Friends\\friends_mmc\\face_track_videos\\face_track_videos\\s03e16\\012181-012265\\1.wav\"\n",
    "perplexity_values = audio_perplexity(audio_file)\n",
    "# print(\"Negative Log-Likelihoods:\", perplexity_values)\n",
    "print(\"Mean Perplexity:\", np.nanmean(np.asarray(perplexity_values)))"
   ]
  },
  {
   "cell_type": "code",
   "execution_count": 162,
   "metadata": {},
   "outputs": [
    {
     "data": {
      "text/html": [
       "<div>\n",
       "<style scoped>\n",
       "    .dataframe tbody tr th:only-of-type {\n",
       "        vertical-align: middle;\n",
       "    }\n",
       "\n",
       "    .dataframe tbody tr th {\n",
       "        vertical-align: top;\n",
       "    }\n",
       "\n",
       "    .dataframe thead th {\n",
       "        text-align: right;\n",
       "    }\n",
       "</style>\n",
       "<table border=\"1\" class=\"dataframe\">\n",
       "  <thead>\n",
       "    <tr style=\"text-align: right;\">\n",
       "      <th></th>\n",
       "      <th>frame</th>\n",
       "      <th>speaker</th>\n",
       "      <th>content</th>\n",
       "      <th>faces</th>\n",
       "      <th>video</th>\n",
       "    </tr>\n",
       "  </thead>\n",
       "  <tbody>\n",
       "    <tr>\n",
       "      <th>0</th>\n",
       "      <td>s03e20-000128</td>\n",
       "      <td>chandler</td>\n",
       "      <td>Wait a minute, wait. You’re telling me this ac...</td>\n",
       "      <td>[[[800, 257, 870, 342], joey], [[543, 259, 597...</td>\n",
       "      <td>s03e20-000063-000194</td>\n",
       "    </tr>\n",
       "    <tr>\n",
       "      <th>1</th>\n",
       "      <td>s03e20-000218</td>\n",
       "      <td>joey</td>\n",
       "      <td>Yeah! Oh my God! (to Chandler) Is this what it...</td>\n",
       "      <td>[[[797, 242, 863, 326], joey], [[532, 250, 593...</td>\n",
       "      <td>s03e20-000194-000320</td>\n",
       "    </tr>\n",
       "    <tr>\n",
       "      <th>2</th>\n",
       "      <td>s03e20-000538</td>\n",
       "      <td>joey</td>\n",
       "      <td>Oh, you have no idea. And-and when we’re on st...</td>\n",
       "      <td>[[[567, 79, 787, 358], joey]]</td>\n",
       "      <td>s03e20-000403-000639</td>\n",
       "    </tr>\n",
       "    <tr>\n",
       "      <th>3</th>\n",
       "      <td>s03e20-000680</td>\n",
       "      <td>phoebe</td>\n",
       "      <td>to see you feeling like this!</td>\n",
       "      <td>[[[428, 74, 657, 353], phoebe]]</td>\n",
       "      <td>s03e20-000646-000715</td>\n",
       "    </tr>\n",
       "    <tr>\n",
       "      <th>4</th>\n",
       "      <td>s03e20-000832</td>\n",
       "      <td>ross</td>\n",
       "      <td>Monica, uh Dad called this morning and ah, Aun...</td>\n",
       "      <td>[[[472, 396, 545, 491], phoebe], [[133, 134, 2...</td>\n",
       "      <td>s03e20-000820-000957</td>\n",
       "    </tr>\n",
       "  </tbody>\n",
       "</table>\n",
       "</div>"
      ],
      "text/plain": [
       "           frame   speaker                                            content  \\\n",
       "0  s03e20-000128  chandler  Wait a minute, wait. You’re telling me this ac...   \n",
       "1  s03e20-000218      joey  Yeah! Oh my God! (to Chandler) Is this what it...   \n",
       "2  s03e20-000538      joey  Oh, you have no idea. And-and when we’re on st...   \n",
       "3  s03e20-000680    phoebe                      to see you feeling like this!   \n",
       "4  s03e20-000832      ross  Monica, uh Dad called this morning and ah, Aun...   \n",
       "\n",
       "                                               faces                 video  \n",
       "0  [[[800, 257, 870, 342], joey], [[543, 259, 597...  s03e20-000063-000194  \n",
       "1  [[[797, 242, 863, 326], joey], [[532, 250, 593...  s03e20-000194-000320  \n",
       "2                      [[[567, 79, 787, 358], joey]]  s03e20-000403-000639  \n",
       "3                    [[[428, 74, 657, 353], phoebe]]  s03e20-000646-000715  \n",
       "4  [[[472, 396, 545, 491], phoebe], [[133, 134, 2...  s03e20-000820-000957  "
      ]
     },
     "execution_count": 162,
     "metadata": {},
     "output_type": "execute_result"
    }
   ],
   "source": [
    "import pandas as pd\n",
    "import itertools\n",
    "import json\n",
    "\n",
    "annotations_file = r\"C:\\Users\\a_has\\Desktop\\Friends\\friends_mmc\\5_turns\\test-metadata.json\"\n",
    "with open(annotations_file, \"r\") as f:\n",
    "    annotations = json.load(f)\n",
    "    annotations = list(itertools.chain.from_iterable(annotations))\n",
    "    \n",
    "annotations = pd.DataFrame(annotations)\n",
    "annotations.head()"
   ]
  },
  {
   "cell_type": "code",
   "execution_count": 171,
   "metadata": {},
   "outputs": [
    {
     "name": "stdout",
     "output_type": "stream",
     "text": [
      "Ross count: 37\n",
      "Rachel count: 42\n"
     ]
    }
   ],
   "source": [
    "s03e16_frames = annotations[annotations[\"frame\"].str.startswith(\"s03e16\")]\n",
    "ross_frames = s03e16_frames[s03e16_frames[\"speaker\"] == \"ross\"].drop_duplicates(subset=[\"video\"], keep=\"first\")\n",
    "rachel_frames = s03e16_frames[s03e16_frames[\"speaker\"] == \"rachel\"].drop_duplicates(subset=[\"video\"], keep=\"first\")\n",
    "\n",
    "print(f\"Ross count: {len(ross_frames)}\")\n",
    "print(f\"Rachel count: {len(rachel_frames)}\")"
   ]
  },
  {
   "cell_type": "code",
   "execution_count": 172,
   "metadata": {},
   "outputs": [
    {
     "name": "stdout",
     "output_type": "stream",
     "text": [
      "# Calculate Ross\n"
     ]
    },
    {
     "name": "stderr",
     "output_type": "stream",
     "text": [
      "Chunk 8400-12016 | inf: 0 | NLL: 2.3938:  68%|██████▊   | 21/31 [00:01<00:00, 15.83it/s] \n",
      "Chunk 70400-74048 | inf: 0 | NLL: -2.3416:  95%|█████████▍| 176/186 [00:11<00:00, 14.83it/s]\n",
      "Chunk 17600-21360 | inf: 0 | NLL: -0.2742:  81%|████████▏ | 44/54 [00:02<00:00, 15.19it/s]\n",
      "Chunk 14800-18688 | inf: 0 | NLL: -0.3050:  79%|███████▊  | 37/47 [00:02<00:00, 14.45it/s]\n",
      "Chunk 13600-17344 | inf: 0 | NLL: -0.7099:  77%|███████▋  | 34/44 [00:02<00:00, 14.10it/s]\n",
      "Chunk 18400-22016 | inf: 0 | NLL: 0.1592:  82%|████████▏ | 46/56 [00:03<00:00, 14.13it/s] \n",
      "Chunk 27600-31360 | inf: 0 | NLL: -3.3863:  87%|████████▋ | 69/79 [00:04<00:00, 14.70it/s]\n",
      "Chunk 9600-13344 | inf: 0 | NLL: 1.1551:  71%|███████   | 24/34 [00:01<00:00, 13.94it/s] \n",
      "Chunk 20800-24688 | inf: 0 | NLL: -2.3771:  84%|████████▍ | 52/62 [00:03<00:00, 16.76it/s]\n",
      "Chunk 29600-33360 | inf: 0 | NLL: 1.1666:  88%|████████▊ | 74/84 [00:05<00:00, 13.42it/s] \n",
      "Chunk 22800-26688 | inf: 0 | NLL: 4.5614:  85%|████████▌ | 57/67 [00:04<00:00, 12.77it/s] \n",
      "Chunk 49600-53376 | inf: 0 | NLL: -3.5526:  93%|█████████▎| 124/134 [00:09<00:00, 13.45it/s]\n",
      "Chunk 24800-28688 | inf: 0 | NLL: 1.9016:  86%|████████▌ | 62/72 [00:04<00:00, 14.84it/s] \n",
      "Chunk 11600-15344 | inf: 0 | NLL: -2.0702:  74%|███████▍  | 29/39 [00:02<00:00, 11.49it/s]\n",
      "Chunk 20400-24016 | inf: 0 | NLL: -4.0257:  84%|████████▎ | 51/61 [00:03<00:00, 12.83it/s]\n",
      "Chunk 52800-56720 | inf: 0 | NLL: -4.3193:  93%|█████████▎| 132/142 [00:10<00:00, 12.03it/s]\n",
      "Chunk 58400-62064 | inf: 0 | NLL: 0.0463:  94%|█████████▎| 146/156 [00:10<00:00, 14.34it/s] \n",
      "Chunk 14400-18016 | inf: 0 | NLL: 0.0183:  78%|███████▊  | 36/46 [00:02<00:00, 14.20it/s] \n",
      "Chunk 11600-15344 | inf: 0 | NLL: -1.2870:  74%|███████▍  | 29/39 [00:02<00:00, 12.40it/s]\n",
      "Chunk 7600-11344 | inf: 0 | NLL: 23.0027:  66%|██████▌   | 19/29 [00:01<00:00, 12.66it/s]\n",
      "Chunk 18400-22016 | inf: 0 | NLL: 10.1926:  82%|████████▏ | 46/56 [00:03<00:00, 12.04it/s]\n",
      "Chunk 800-4656 | inf: 0 | NLL: 1.1200:  17%|█▋        | 2/12 [00:00<00:01,  8.60it/s] \n",
      "Chunk 25600-29360 | inf: 0 | NLL: 0.9420:  86%|████████▋ | 64/74 [00:04<00:00, 12.88it/s] \n",
      "Chunk 185200-188832 | inf: 0 | NLL: 24.7131:  98%|█████████▊| 463/473 [00:40<00:00, 11.53it/s]\n",
      "Chunk 43600-47360 | inf: 0 | NLL: 1.3587:  92%|█████████▏| 109/119 [00:07<00:00, 14.59it/s] \n",
      "Chunk 5600-9344 | inf: 0 | NLL: 4.9579:  58%|█████▊    | 14/24 [00:00<00:00, 14.34it/s]\n",
      "Chunk 53600-57376 | inf: 0 | NLL: 1.0379:  93%|█████████▎| 134/144 [00:10<00:00, 12.98it/s] \n",
      "Chunk 63600-67392 | inf: 0 | NLL: 2.8976:  94%|█████████▍| 159/169 [00:13<00:00, 12.19it/s] \n",
      "Chunk 66400-70064 | inf: 0 | NLL: -2.9421:  94%|█████████▍| 166/176 [00:12<00:00, 13.50it/s]\n",
      "Chunk 12400-16016 | inf: 0 | NLL: 1.6230:  76%|███████▌  | 31/41 [00:02<00:00, 11.23it/s] \n",
      "Chunk 81600-85408 | inf: 0 | NLL: -3.3058:  95%|█████████▌| 204/214 [00:15<00:00, 13.19it/s]\n",
      "Chunk 22400-26016 | inf: 0 | NLL: 3.6037:  85%|████████▍ | 56/66 [00:04<00:00, 13.48it/s] \n",
      "Chunk 7600-11344 | inf: 0 | NLL: 6.3090:  66%|██████▌   | 19/29 [00:01<00:00, 12.60it/s] \n",
      "Chunk 30400-34016 | inf: 0 | NLL: 0.0386:  88%|████████▊ | 76/86 [00:06<00:00, 11.99it/s] \n",
      "Chunk 213200-216848 | inf: 0 | NLL: 27.4013:  98%|█████████▊| 533/543 [00:40<00:00, 13.20it/s]\n",
      "Chunk 51600-55376 | inf: 0 | NLL: 1.3230:  93%|█████████▎| 129/139 [00:09<00:00, 13.81it/s] \n",
      "Chunk 239600-243536 | inf: 0 | NLL: -4.0421:  98%|█████████▊| 599/609 [00:47<00:00, 12.74it/s]\n"
     ]
    },
    {
     "name": "stdout",
     "output_type": "stream",
     "text": [
      "# Calculate Rachel\n"
     ]
    },
    {
     "name": "stderr",
     "output_type": "stream",
     "text": [
      "Chunk 0-1328 | inf: 0 | NLL: 1.6727:   0%|          | 0/4 [00:00<?, ?it/s]\n",
      "Chunk 4800-8672 | inf: 0 | NLL: 0.5886:  55%|█████▍    | 12/22 [00:00<00:00, 12.18it/s] \n",
      "Chunk 0-3328 | inf: 0 | NLL: 3.1035:   0%|          | 0/9 [00:00<?, ?it/s]\n",
      "Chunk 8000-12000 | inf: 0 | NLL: -0.1674:  67%|██████▋   | 20/30 [00:01<00:00, 11.65it/s]\n",
      "Chunk 47600-51376 | inf: 0 | NLL: 0.7100:  92%|█████████▏| 119/129 [00:08<00:00, 13.38it/s] \n",
      "Chunk 16400-20016 | inf: 0 | NLL: 0.1684:  80%|████████  | 41/51 [00:03<00:00, 12.31it/s] \n",
      "Chunk 51600-55376 | inf: 0 | NLL: 4.5690:  93%|█████████▎| 129/139 [00:09<00:00, 12.99it/s] \n",
      "Chunk 26400-30016 | inf: 0 | NLL: 3.8791:  87%|████████▋ | 66/76 [00:05<00:00, 12.89it/s] \n",
      "Chunk 4000-8000 | inf: 0 | NLL: 23.1697:  50%|█████     | 10/20 [00:00<00:00, 12.89it/s]\n",
      "Chunk 36400-40048 | inf: 0 | NLL: 25.8800:  90%|█████████ | 91/101 [00:06<00:00, 13.54it/s]\n",
      "Chunk 180400-184160 | inf: 0 | NLL: -0.3076:  98%|█████████▊| 451/461 [08:02<00:10,  1.07s/it]   \n",
      "Chunk 142400-146128 | inf: 0 | NLL: 3.8972:  97%|█████████▋| 356/366 [00:24<00:00, 14.72it/s] \n",
      "Chunk 128800-132784 | inf: 0 | NLL: -4.1444:  97%|█████████▋| 322/332 [00:21<00:00, 15.29it/s]\n",
      "Chunk 12800-16672 | inf: 0 | NLL: 0.4694:  76%|███████▌  | 32/42 [00:02<00:00, 14.80it/s] \n",
      "Chunk 74800-78736 | inf: 0 | NLL: -0.3803:  95%|█████████▍| 187/197 [00:11<00:00, 15.95it/s]\n",
      "Chunk 7600-11344 | inf: 0 | NLL: 1.0794:  66%|██████▌   | 19/29 [00:01<00:00, 14.76it/s] \n",
      "Chunk 0-1344 | inf: 0 | NLL: 0.2740:   0%|          | 0/4 [00:00<?, ?it/s]\n",
      "Chunk 44400-48032 | inf: 0 | NLL: 14.1824:  92%|█████████▏| 111/121 [00:06<00:00, 16.43it/s]\n",
      "Chunk 0-2656 | inf: 0 | NLL: 1.4837:   0%|          | 0/7 [00:00<?, ?it/s]\n",
      "Chunk 24800-28688 | inf: 0 | NLL: -0.2036:  86%|████████▌ | 62/72 [00:04<00:00, 14.50it/s]\n",
      "Chunk 4400-8016 | inf: 0 | NLL: 22.2690:  52%|█████▏    | 11/21 [00:00<00:00, 14.07it/s]\n",
      "Chunk 0-3344 | inf: 0 | NLL: 2.2568:   0%|          | 0/9 [00:00<?, ?it/s]\n",
      "Chunk 67600-71392 | inf: 0 | NLL: 2.7731:  94%|█████████▍| 169/179 [00:10<00:00, 15.54it/s] \n",
      "Chunk 800-4672 | inf: 0 | NLL: 2.7526:  17%|█▋        | 2/12 [00:00<00:01,  8.51it/s] \n",
      "Chunk 3600-7344 | inf: 0 | NLL: 3.3429:  47%|████▋     | 9/19 [00:00<00:00, 11.45it/s] \n",
      "Chunk 13600-17344 | inf: 0 | NLL: 10.0580:  77%|███████▋  | 34/44 [00:02<00:00, 12.56it/s]\n",
      "Chunk 31600-35360 | inf: 0 | NLL: 5.7141:  89%|████████▉ | 79/89 [00:05<00:00, 14.42it/s] \n",
      "Chunk 30800-34688 | inf: 0 | NLL: 23.0202:  89%|████████▊ | 77/87 [00:05<00:00, 13.23it/s]\n",
      "Chunk 0-1344 | inf: 0 | NLL: -0.7335:   0%|          | 0/4 [00:00<?, ?it/s]\n",
      "Chunk 8800-12688 | inf: 0 | NLL: -0.9552:  69%|██████▉   | 22/32 [00:01<00:00, 12.05it/s]\n",
      "Chunk 13600-17344 | inf: 0 | NLL: 1.4632:  77%|███████▋  | 34/44 [00:02<00:00, 13.57it/s] \n",
      "Chunk 0-2000 | inf: 0 | NLL: 0.0765:   0%|          | 0/5 [00:00<?, ?it/s]\n",
      "Chunk 12400-16016 | inf: 0 | NLL: -1.7580:  76%|███████▌  | 31/41 [00:02<00:00, 14.79it/s]\n",
      "Chunk 38400-42032 | inf: 0 | NLL: 4.3393:  91%|█████████ | 96/106 [00:06<00:00, 13.95it/s] \n",
      "Chunk 22400-26032 | inf: 0 | NLL: -0.9326:  85%|████████▍ | 56/66 [00:04<00:00, 12.71it/s]\n",
      "Chunk 8400-12016 | inf: 0 | NLL: 2.1987:  68%|██████▊   | 21/31 [00:01<00:00, 11.57it/s] \n",
      "Chunk 42400-46032 | inf: 0 | NLL: 21.6585:  91%|█████████▏| 106/116 [00:08<00:00, 12.84it/s]\n",
      "Chunk 0-2672 | inf: 0 | NLL: -1.4759:   0%|          | 0/7 [00:00<?, ?it/s]\n",
      "Chunk 8800-12688 | inf: 0 | NLL: -3.2621:  69%|██████▉   | 22/32 [00:01<00:00, 14.20it/s]\n",
      "Chunk 5600-9344 | inf: 0 | NLL: 6.0378:  58%|█████▊    | 14/24 [00:01<00:00, 12.87it/s] \n",
      "Chunk 21600-25360 | inf: 0 | NLL: 0.6081:  84%|████████▍ | 54/64 [00:03<00:00, 14.10it/s] \n",
      "Chunk 45600-49376 | inf: 0 | NLL: 5.6542:  92%|█████████▏| 114/124 [00:09<00:00, 12.52it/s] "
     ]
    },
    {
     "name": "stdout",
     "output_type": "stream",
     "text": [
      "Ross Mean Perplexity: 4.227213766826052\n",
      "Rachel Mean Perplexity: 4.508526948306991\n"
     ]
    },
    {
     "name": "stderr",
     "output_type": "stream",
     "text": [
      "\n"
     ]
    }
   ],
   "source": [
    "import os\n",
    "\n",
    "ross_nlls = []\n",
    "rachel_nlls = []\n",
    "\n",
    "print(\"# Calculate Ross\")\n",
    "# Iterate over some sections for ross\n",
    "for index, row in ross_frames.iterrows():\n",
    "    audio_file = os.path.join(\n",
    "        r\"C:\\Users\\a_has\\Desktop\\Friends\\friends_mmc\\face_track_videos\\face_track_videos\\s03e16\",\n",
    "        row[\"video\"].replace(\"s03e16-\", \"\"),\n",
    "        \"0.wav\",\n",
    "    )\n",
    "    perplexity_values = audio_perplexity(audio_file)\n",
    "    ross_nlls += perplexity_values\n",
    "\n",
    "\n",
    "print(\"# Calculate Rachel\")\n",
    "# Iterate over some sections for rachel\n",
    "for index, row in rachel_frames.iterrows():\n",
    "    audio_file = os.path.join(\n",
    "        r\"C:\\Users\\a_has\\Desktop\\Friends\\friends_mmc\\face_track_videos\\face_track_videos\\s03e16\",\n",
    "        row[\"video\"].replace(\"s03e16-\", \"\"),\n",
    "        \"0.wav\",\n",
    "    )\n",
    "    perplexity_values = audio_perplexity(audio_file)\n",
    "    rachel_nlls += perplexity_values\n",
    "\n",
    "\n",
    "print(\"Ross Mean Perplexity:\", np.nanmean(np.asarray(ross_nlls)))\n",
    "print(\"Rachel Mean Perplexity:\", np.nanmean(np.asarray(rachel_nlls)))"
   ]
  }
 ],
 "metadata": {
  "kernelspec": {
   "display_name": "conversation",
   "language": "python",
   "name": "python3"
  },
  "language_info": {
   "codemirror_mode": {
    "name": "ipython",
    "version": 3
   },
   "file_extension": ".py",
   "mimetype": "text/x-python",
   "name": "python",
   "nbconvert_exporter": "python",
   "pygments_lexer": "ipython3",
   "version": "3.12.8"
  }
 },
 "nbformat": 4,
 "nbformat_minor": 2
}
