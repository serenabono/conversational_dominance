{
 "cells": [
  {
   "cell_type": "code",
   "execution_count": 2,
   "metadata": {},
   "outputs": [],
   "source": [
    "import pandas as pd"
   ]
  },
  {
   "cell_type": "code",
   "execution_count": 4,
   "metadata": {},
   "outputs": [],
   "source": [
    "file_content = pd.read_csv(\"transcript_dominance.csv\")[\"file_content\"]\n",
    "file_names = pd.read_csv(\"transcript_dominance.csv\")[\"file_name\"]"
   ]
  },
  {
   "cell_type": "code",
   "execution_count": 7,
   "metadata": {},
   "outputs": [],
   "source": [
    "file_content = file_content.apply(lambda x: x.replace(\"[MOD]\", \"<MOD>\").replace(\"[SPK1]\", \"<SPK1>\").replace(\"[SPK2]\", \"<SPK2>\"))"
   ]
  },
  {
   "cell_type": "code",
   "execution_count": 11,
   "metadata": {},
   "outputs": [],
   "source": [
    "pd.DataFrame({\"file_name\":file_names,\"file_content\":file_content}).to_csv(\"conversations.csv\", index=False)"
   ]
  },
  {
   "cell_type": "code",
   "execution_count": null,
   "metadata": {},
   "outputs": [],
   "source": []
  },
  {
   "cell_type": "code",
   "execution_count": null,
   "metadata": {},
   "outputs": [],
   "source": [
    "import numpy as np\n",
    "groups = np.array_split(conversation_ids, 4)\n",
    "\n",
    "# Save each group to a separate CSV file\n",
    "for i, group in enumerate(groups):\n",
    "    filename = f\"/u/sebono/conversational_dominance/data/processed/multisimo/group_{i+1}.csv\"  # Naming the files as group_1.csv, group_2.csv, etc.\n",
    "    df = pd.DataFrame({\"conversation_id\": group})\n",
    "    df.to_csv(filename, index=False)\n",
    "\n",
    "print(\"CSV files saved successfully.\")"
   ]
  }
 ],
 "metadata": {
  "kernelspec": {
   "display_name": "Python 3 (ipykernel)",
   "language": "python",
   "name": "python3"
  },
  "language_info": {
   "codemirror_mode": {
    "name": "ipython",
    "version": 3
   },
   "file_extension": ".py",
   "mimetype": "text/x-python",
   "name": "python",
   "nbconvert_exporter": "python",
   "pygments_lexer": "ipython3",
   "version": "3.11.5"
  }
 },
 "nbformat": 4,
 "nbformat_minor": 2
}
