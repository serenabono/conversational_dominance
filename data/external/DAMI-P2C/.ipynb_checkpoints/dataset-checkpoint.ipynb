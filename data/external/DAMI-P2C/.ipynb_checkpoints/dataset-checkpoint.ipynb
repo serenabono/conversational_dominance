{
 "cells": [
  {
   "cell_type": "code",
   "execution_count": 1,
   "metadata": {},
   "outputs": [],
   "source": [
    "import pandas as pd"
   ]
  },
  {
   "cell_type": "code",
   "execution_count": 2,
   "metadata": {},
   "outputs": [],
   "source": [
    "def speaker_ids(names):\n",
    "    d_names = []\n",
    "    re_names = []\n",
    "    for id, re_n in enumerate(names):\n",
    "        n = f\"SPK{id}\"\n",
    "        re_names.append(re_n)\n",
    "        d_names.append(n)\n",
    "    return dict(zip(re_names,d_names))"
   ]
  },
  {
   "cell_type": "code",
   "execution_count": 3,
   "metadata": {},
   "outputs": [],
   "source": [
    "import os\n",
    "import pandas as pd\n",
    "import numpy as np\n",
    "\n",
    "# List to hold the dataframes\n",
    "dialogues = []\n",
    "dialogues_ids = []\n",
    "maps = []\n",
    "\n",
    "# Iterate over all CSV files in the directory\n",
    "for filename in os.listdir(\".\"):\n",
    "    if filename.endswith(\".csv\"):\n",
    "        filepath = os.path.join(\".\", filename)\n",
    "        d = pd.read_csv(filepath)\n",
    "        utterances = d[\"content\"]\n",
    "        speakers = np.unique(np.asarray(d[\"speaker\"]))\n",
    "        map_names = speaker_ids(speakers)\n",
    "        dialogues_ids.append(filename.replace(\".csv\",\"\"))\n",
    "        maps.append(map_names)\n",
    "        dialogues.append(\" \".join(d.apply(lambda x: f\"<{map_names[x['speaker']]}> {x['content']}\", axis=1)))\n",
    "\n",
    "# At this point, 'dataframes' contains all the dataframes loaded from the CSV files\n"
   ]
  },
  {
   "cell_type": "code",
   "execution_count": 5,
   "metadata": {},
   "outputs": [],
   "source": [
    "pd.DataFrame({\"file_name\":dialogues_ids, \"file_content\":dialogues}).to_csv(\"/u/sebono/conversational_dominance/data/processed/DAMI-P2C/conversations.csv\", index=False)"
   ]
  },
  {
   "cell_type": "code",
   "execution_count": 6,
   "metadata": {},
   "outputs": [
    {
     "data": {
      "text/html": [
       "<div>\n",
       "<style scoped>\n",
       "    .dataframe tbody tr th:only-of-type {\n",
       "        vertical-align: middle;\n",
       "    }\n",
       "\n",
       "    .dataframe tbody tr th {\n",
       "        vertical-align: top;\n",
       "    }\n",
       "\n",
       "    .dataframe thead th {\n",
       "        text-align: right;\n",
       "    }\n",
       "</style>\n",
       "<table border=\"1\" class=\"dataframe\">\n",
       "  <thead>\n",
       "    <tr style=\"text-align: right;\">\n",
       "      <th></th>\n",
       "      <th>file_name</th>\n",
       "      <th>file_content</th>\n",
       "    </tr>\n",
       "  </thead>\n",
       "  <tbody>\n",
       "    <tr>\n",
       "      <th>0</th>\n",
       "      <td>p20_s1_vid_parent_annotation_2019-04-18-14-30-24</td>\n",
       "      <td>&lt;SPK3&gt; [crosstalk 00:00:01] Okay. Sure? He's g...</td>\n",
       "    </tr>\n",
       "    <tr>\n",
       "      <th>1</th>\n",
       "      <td>p09_s1_vid_parent_annotation_2019-03-16-09-49-32</td>\n",
       "      <td>&lt;SPK3&gt; [foreign language 00:00:00]. &lt;SPK0&gt; All...</td>\n",
       "    </tr>\n",
       "    <tr>\n",
       "      <th>2</th>\n",
       "      <td>p06_s1_vid_parent_annotation_2019-03-09-14-18-01</td>\n",
       "      <td>&lt;SPK0&gt; [inaudible 00:00:00] And then we can st...</td>\n",
       "    </tr>\n",
       "    <tr>\n",
       "      <th>3</th>\n",
       "      <td>p28_s1_vid_parent_annotation_2019-04-28-14-17-57</td>\n",
       "      <td>&lt;SPK0&gt; Pats, pets, pet the tree. &lt;SPK2&gt; Swipe ...</td>\n",
       "    </tr>\n",
       "    <tr>\n",
       "      <th>4</th>\n",
       "      <td>p14_s1_vid_parent_annotation_2019-03-23-15-38-30</td>\n",
       "      <td>&lt;SPK2&gt; The short books. &lt;SPK1&gt; These are the l...</td>\n",
       "    </tr>\n",
       "    <tr>\n",
       "      <th>...</th>\n",
       "      <td>...</td>\n",
       "      <td>...</td>\n",
       "    </tr>\n",
       "    <tr>\n",
       "      <th>60</th>\n",
       "      <td>p21_s2_vid_parent_annotation_2019-04-23-16-22-17</td>\n",
       "      <td>&lt;SPK1&gt; I broke my arm. &lt;SPK2&gt; Yeah. &lt;SPK1&gt; I w...</td>\n",
       "    </tr>\n",
       "    <tr>\n",
       "      <th>61</th>\n",
       "      <td>p17_s2_vid_parent_annotation_2019-04-07-11-25-21</td>\n",
       "      <td>&lt;SPK1&gt; The thing there for your computer. Reme...</td>\n",
       "    </tr>\n",
       "    <tr>\n",
       "      <th>62</th>\n",
       "      <td>p17_s1_vid_parent_annotation_2019-03-31-11-22-58</td>\n",
       "      <td>&lt;SPK0&gt; So my battery is really getting low. Th...</td>\n",
       "    </tr>\n",
       "    <tr>\n",
       "      <th>63</th>\n",
       "      <td>p34_s1_vid_parent_annotation_2019-05-25-09-54-53</td>\n",
       "      <td>&lt;SPK1&gt; I read this book once. &lt;SPK2&gt; Yeah. &lt;SP...</td>\n",
       "    </tr>\n",
       "    <tr>\n",
       "      <th>64</th>\n",
       "      <td>p27_s1_vid_parent_annotation_2019-04-28-10-38-25</td>\n",
       "      <td>&lt;SPK3&gt; Start with the short stories. &lt;SPK3&gt; Do...</td>\n",
       "    </tr>\n",
       "  </tbody>\n",
       "</table>\n",
       "<p>65 rows × 2 columns</p>\n",
       "</div>"
      ],
      "text/plain": [
       "                                           file_name  \\\n",
       "0   p20_s1_vid_parent_annotation_2019-04-18-14-30-24   \n",
       "1   p09_s1_vid_parent_annotation_2019-03-16-09-49-32   \n",
       "2   p06_s1_vid_parent_annotation_2019-03-09-14-18-01   \n",
       "3   p28_s1_vid_parent_annotation_2019-04-28-14-17-57   \n",
       "4   p14_s1_vid_parent_annotation_2019-03-23-15-38-30   \n",
       "..                                               ...   \n",
       "60  p21_s2_vid_parent_annotation_2019-04-23-16-22-17   \n",
       "61  p17_s2_vid_parent_annotation_2019-04-07-11-25-21   \n",
       "62  p17_s1_vid_parent_annotation_2019-03-31-11-22-58   \n",
       "63  p34_s1_vid_parent_annotation_2019-05-25-09-54-53   \n",
       "64  p27_s1_vid_parent_annotation_2019-04-28-10-38-25   \n",
       "\n",
       "                                         file_content  \n",
       "0   <SPK3> [crosstalk 00:00:01] Okay. Sure? He's g...  \n",
       "1   <SPK3> [foreign language 00:00:00]. <SPK0> All...  \n",
       "2   <SPK0> [inaudible 00:00:00] And then we can st...  \n",
       "3   <SPK0> Pats, pets, pet the tree. <SPK2> Swipe ...  \n",
       "4   <SPK2> The short books. <SPK1> These are the l...  \n",
       "..                                                ...  \n",
       "60  <SPK1> I broke my arm. <SPK2> Yeah. <SPK1> I w...  \n",
       "61  <SPK1> The thing there for your computer. Reme...  \n",
       "62  <SPK0> So my battery is really getting low. Th...  \n",
       "63  <SPK1> I read this book once. <SPK2> Yeah. <SP...  \n",
       "64  <SPK3> Start with the short stories. <SPK3> Do...  \n",
       "\n",
       "[65 rows x 2 columns]"
      ]
     },
     "execution_count": 6,
     "metadata": {},
     "output_type": "execute_result"
    }
   ],
   "source": [
    "pd.DataFrame({\"file_name\":dialogues_ids, \"file_content\":dialogues})"
   ]
  },
  {
   "cell_type": "code",
   "execution_count": 14,
   "metadata": {},
   "outputs": [
    {
     "data": {
      "text/plain": [
       "(22, 65)"
      ]
     },
     "execution_count": 14,
     "metadata": {},
     "output_type": "execute_result"
    }
   ],
   "source": [
    "num = len(dialogues_ids) // 3 + 1\n",
    "num, len(dialogues_ids)"
   ]
  },
  {
   "cell_type": "code",
   "execution_count": 15,
   "metadata": {},
   "outputs": [],
   "source": [
    "count = 4\n",
    "num = len(dialogues_ids) // count + 1\n",
    "\n",
    "n_1 = 0\n",
    "for n in range(1,count):\n",
    "    pd.DataFrame({\"conversation_id\": dialogues_ids[n_1*num:n*num]}).to_csv(f\"/u/sebono/conversational_dominance/data/processed/triadic-pilot/group_{n}.csv\", index=False)\n",
    "    n_1+=1"
   ]
  },
  {
   "cell_type": "code",
   "execution_count": 28,
   "metadata": {},
   "outputs": [],
   "source": [
    "import json\n",
    "with open(\"/u/sebono/conversational_dominance/data/processed/triadic-pilot/maps.json\", \"w\") as json_file:\n",
    "    json.dump(maps, json_file, indent=4)"
   ]
  },
  {
   "cell_type": "code",
   "execution_count": null,
   "metadata": {},
   "outputs": [],
   "source": []
  }
 ],
 "metadata": {
  "kernelspec": {
   "display_name": "Python 3 (ipykernel)",
   "language": "python",
   "name": "python3"
  },
  "language_info": {
   "codemirror_mode": {
    "name": "ipython",
    "version": 3
   },
   "file_extension": ".py",
   "mimetype": "text/x-python",
   "name": "python",
   "nbconvert_exporter": "python",
   "pygments_lexer": "ipython3",
   "version": "3.11.5"
  }
 },
 "nbformat": 4,
 "nbformat_minor": 2
}
