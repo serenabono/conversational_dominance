{
 "cells": [
  {
   "cell_type": "code",
   "execution_count": 1,
   "metadata": {},
   "outputs": [],
   "source": [
    "import pandas as pd"
   ]
  },
  {
   "cell_type": "code",
   "execution_count": 7,
   "metadata": {},
   "outputs": [],
   "source": [
    "def speaker_ids(names):\n",
    "    d_names = []\n",
    "    re_names = []\n",
    "    for id, re_n in enumerate(names):\n",
    "        n = f\"SPK{id}\"\n",
    "        re_names.append(re_n)\n",
    "        d_names.append(n)\n",
    "    return dict(zip(re_names,d_names))"
   ]
  },
  {
   "cell_type": "code",
   "execution_count": 15,
   "metadata": {},
   "outputs": [],
   "source": [
    "import os\n",
    "import pandas as pd\n",
    "import numpy as np\n",
    "\n",
    "# List to hold the dataframes\n",
    "dialogues = []\n",
    "dialogues_ids = []\n",
    "maps = []\n",
    "\n",
    "# Iterate over all CSV files in the directory\n",
    "for filename in os.listdir(\".\"):\n",
    "    if filename.endswith(\".csv\"):\n",
    "        filepath = os.path.join(\".\", filename)\n",
    "        d = pd.read_csv(filepath)\n",
    "        utterances = d[\"content\"]\n",
    "        speakers = np.unique(np.asarray(d[\"speaker\"]))\n",
    "        map_names = speaker_ids(speakers)\n",
    "        dialogues_ids.append(filename.replace(\"_REV.csv\",\"\"))\n",
    "        maps.append(map_names)\n",
    "        dialogues.append(\" \".join(d.apply(lambda x: f\"<{map_names[x['speaker']]}> {x['content']}\", axis=1)))\n",
    "\n",
    "# At this point, 'dataframes' contains all the dataframes loaded from the CSV files\n"
   ]
  },
  {
   "cell_type": "code",
   "execution_count": 16,
   "metadata": {},
   "outputs": [],
   "source": [
    "pd.DataFrame({\"file_name\":dialogues_ids, \"file_content\":dialogues}).to_csv(\"/u/sebono/conversational_dominance/data/processed/triadic-pilot/conversations.csv\", index=False)"
   ]
  },
  {
   "cell_type": "code",
   "execution_count": 20,
   "metadata": {},
   "outputs": [
    {
     "data": {
      "text/html": [
       "<div>\n",
       "<style scoped>\n",
       "    .dataframe tbody tr th:only-of-type {\n",
       "        vertical-align: middle;\n",
       "    }\n",
       "\n",
       "    .dataframe tbody tr th {\n",
       "        vertical-align: top;\n",
       "    }\n",
       "\n",
       "    .dataframe thead th {\n",
       "        text-align: right;\n",
       "    }\n",
       "</style>\n",
       "<table border=\"1\" class=\"dataframe\">\n",
       "  <thead>\n",
       "    <tr style=\"text-align: right;\">\n",
       "      <th></th>\n",
       "      <th>file_name</th>\n",
       "      <th>file_content</th>\n",
       "    </tr>\n",
       "  </thead>\n",
       "  <tbody>\n",
       "    <tr>\n",
       "      <th>0</th>\n",
       "      <td>p08_s03</td>\n",
       "      <td>&lt;SPK1&gt; Oh. Yay. It's story time. &lt;SPK2&gt; Hello....</td>\n",
       "    </tr>\n",
       "    <tr>\n",
       "      <th>1</th>\n",
       "      <td>p10_s02</td>\n",
       "      <td>&lt;SPK3&gt; Hello. &lt;SPK2&gt; Hi. &lt;SPK0&gt; Hi. &lt;SPK3&gt; You...</td>\n",
       "    </tr>\n",
       "    <tr>\n",
       "      <th>2</th>\n",
       "      <td>p09_s04</td>\n",
       "      <td>&lt;SPK2&gt; I will now turn on a start audio video ...</td>\n",
       "    </tr>\n",
       "    <tr>\n",
       "      <th>3</th>\n",
       "      <td>p09_s05</td>\n",
       "      <td>&lt;SPK0&gt; Uh, and how did they turned on? &lt;SPK3&gt; ...</td>\n",
       "    </tr>\n",
       "    <tr>\n",
       "      <th>4</th>\n",
       "      <td>p12_s02</td>\n",
       "      <td>&lt;SPK2&gt; Hello. &lt;SPK1&gt; Hello. &lt;SPK0&gt; Hello. &lt;SPK...</td>\n",
       "    </tr>\n",
       "    <tr>\n",
       "      <th>...</th>\n",
       "      <td>...</td>\n",
       "      <td>...</td>\n",
       "    </tr>\n",
       "    <tr>\n",
       "      <th>67</th>\n",
       "      <td>p03_s05</td>\n",
       "      <td>&lt;SPK2&gt; [Foreign Language 00:00:57] &lt;SPK1&gt; [For...</td>\n",
       "    </tr>\n",
       "    <tr>\n",
       "      <th>68</th>\n",
       "      <td>p11_s05</td>\n",
       "      <td>&lt;SPK0&gt; (laughs) So funny. &lt;SPK2&gt; Hello. &lt;SPK1&gt;...</td>\n",
       "    </tr>\n",
       "    <tr>\n",
       "      <th>69</th>\n",
       "      <td>p12_s00</td>\n",
       "      <td>&lt;SPK2&gt; Hello. &lt;SPK1&gt; Hi. Hi, Jibo. &lt;SPK0&gt; Hi, ...</td>\n",
       "    </tr>\n",
       "    <tr>\n",
       "      <th>70</th>\n",
       "      <td>p10_s00</td>\n",
       "      <td>&lt;SPK2&gt; Hello. I am now on story time mode. My ...</td>\n",
       "    </tr>\n",
       "    <tr>\n",
       "      <th>71</th>\n",
       "      <td>p08_s04</td>\n",
       "      <td>&lt;SPK2&gt; Jibo wants to start it! (laughs) Here's...</td>\n",
       "    </tr>\n",
       "  </tbody>\n",
       "</table>\n",
       "<p>72 rows × 2 columns</p>\n",
       "</div>"
      ],
      "text/plain": [
       "   file_name                                       file_content\n",
       "0    p08_s03  <SPK1> Oh. Yay. It's story time. <SPK2> Hello....\n",
       "1    p10_s02  <SPK3> Hello. <SPK2> Hi. <SPK0> Hi. <SPK3> You...\n",
       "2    p09_s04  <SPK2> I will now turn on a start audio video ...\n",
       "3    p09_s05  <SPK0> Uh, and how did they turned on? <SPK3> ...\n",
       "4    p12_s02  <SPK2> Hello. <SPK1> Hello. <SPK0> Hello. <SPK...\n",
       "..       ...                                                ...\n",
       "67   p03_s05  <SPK2> [Foreign Language 00:00:57] <SPK1> [For...\n",
       "68   p11_s05  <SPK0> (laughs) So funny. <SPK2> Hello. <SPK1>...\n",
       "69   p12_s00  <SPK2> Hello. <SPK1> Hi. Hi, Jibo. <SPK0> Hi, ...\n",
       "70   p10_s00  <SPK2> Hello. I am now on story time mode. My ...\n",
       "71   p08_s04  <SPK2> Jibo wants to start it! (laughs) Here's...\n",
       "\n",
       "[72 rows x 2 columns]"
      ]
     },
     "execution_count": 20,
     "metadata": {},
     "output_type": "execute_result"
    }
   ],
   "source": [
    "pd.DataFrame({\"file_name\":dialogues_ids, \"file_content\":dialogues})"
   ]
  },
  {
   "cell_type": "code",
   "execution_count": 21,
   "metadata": {},
   "outputs": [],
   "source": [
    "num = len(dialogues_ids) // 3\n",
    "\n",
    "n_1 = 0\n",
    "for n in range(1,9):\n",
    "    pd.DataFrame({\"conversation_id\": dialogues_ids[n_1*num:n*num]}).to_csv(f\"/u/sebono/conversational_dominance/data/processed/triadic-pilot/group_{n}.csv\", index=False)\n",
    "    n_1+=1"
   ]
  },
  {
   "cell_type": "code",
   "execution_count": null,
   "metadata": {},
   "outputs": [],
   "source": []
  }
 ],
 "metadata": {
  "kernelspec": {
   "display_name": "Python 3 (ipykernel)",
   "language": "python",
   "name": "python3"
  },
  "language_info": {
   "codemirror_mode": {
    "name": "ipython",
    "version": 3
   },
   "file_extension": ".py",
   "mimetype": "text/x-python",
   "name": "python",
   "nbconvert_exporter": "python",
   "pygments_lexer": "ipython3",
   "version": "3.11.5"
  }
 },
 "nbformat": 4,
 "nbformat_minor": 2
}
