{
 "cells": [
  {
   "cell_type": "code",
   "execution_count": 2,
   "metadata": {},
   "outputs": [
    {
     "name": "stdout",
     "output_type": "stream",
     "text": [
      "/mas/projects/prg-candor\n",
      "\u001b[0m\u001b[01;34mprocessed_media_part_001\u001b[0m/  \u001b[01;34mprocessed_media_part_013\u001b[0m/  \u001b[01;34mprocessed_media_part_025\u001b[0m/\n",
      "\u001b[01;34mprocessed_media_part_002\u001b[0m/  \u001b[01;34mprocessed_media_part_014\u001b[0m/  \u001b[01;34mprocessed_media_part_026\u001b[0m/\n",
      "\u001b[01;34mprocessed_media_part_003\u001b[0m/  \u001b[01;34mprocessed_media_part_015\u001b[0m/  \u001b[01;34mprocessed_media_part_027\u001b[0m/\n",
      "\u001b[01;34mprocessed_media_part_004\u001b[0m/  \u001b[01;34mprocessed_media_part_016\u001b[0m/  \u001b[01;34mprocessed_media_part_028\u001b[0m/\n",
      "\u001b[01;34mprocessed_media_part_005\u001b[0m/  \u001b[01;34mprocessed_media_part_017\u001b[0m/  \u001b[01;34mprocessed_media_part_029\u001b[0m/\n",
      "\u001b[01;34mprocessed_media_part_006\u001b[0m/  \u001b[01;34mprocessed_media_part_018\u001b[0m/  \u001b[01;34mprocessed_media_part_030\u001b[0m/\n",
      "\u001b[01;34mprocessed_media_part_007\u001b[0m/  \u001b[01;34mprocessed_media_part_019\u001b[0m/  \u001b[01;34mprocessed_media_part_031\u001b[0m/\n",
      "\u001b[01;34mprocessed_media_part_008\u001b[0m/  \u001b[01;34mprocessed_media_part_020\u001b[0m/  \u001b[01;34mprocessed_media_part_032\u001b[0m/\n",
      "\u001b[01;34mprocessed_media_part_009\u001b[0m/  \u001b[01;34mprocessed_media_part_021\u001b[0m/  \u001b[01;34mprocessed_media_part_033\u001b[0m/\n",
      "\u001b[01;34mprocessed_media_part_010\u001b[0m/  \u001b[01;34mprocessed_media_part_022\u001b[0m/  \u001b[01;34mprocessed_media_part_034\u001b[0m/\n",
      "\u001b[01;34mprocessed_media_part_011\u001b[0m/  \u001b[01;34mprocessed_media_part_023\u001b[0m/\n",
      "\u001b[01;34mprocessed_media_part_012\u001b[0m/  \u001b[01;34mprocessed_media_part_024\u001b[0m/\n"
     ]
    }
   ],
   "source": [
    "%cd \"/mas/projects/prg-candor/\"\n",
    "%ls"
   ]
  },
  {
   "cell_type": "code",
   "execution_count": 7,
   "metadata": {},
   "outputs": [],
   "source": [
    "import os\n",
    "import shutil\n",
    "\n",
    "target_dir = \"/u/sebono/conversational_dominance/data/processed/CANDOR/transcript_audiophile/\"\n",
    "for root, dirs, files in os.walk(\"./\"):\n",
    "    for file in files:\n",
    "        if \"transcript_audiophile.csv\" in file:\n",
    "            source_path = os.path.join(root, file)\n",
    "            target_filename = target_dir + root.split(\"/\")[-2]\n",
    "            target_path = os.path.join(root, target_filename + \".csv\")\n",
    "            shutil.copy(source_path, target_path)"
   ]
  },
  {
   "cell_type": "code",
   "execution_count": null,
   "metadata": {},
   "outputs": [],
   "source": []
  }
 ],
 "metadata": {
  "kernelspec": {
   "display_name": "Python 3 (ipykernel)",
   "language": "python",
   "name": "python3"
  },
  "language_info": {
   "codemirror_mode": {
    "name": "ipython",
    "version": 3
   },
   "file_extension": ".py",
   "mimetype": "text/x-python",
   "name": "python",
   "nbconvert_exporter": "python",
   "pygments_lexer": "ipython3",
   "version": "3.11.5"
  }
 },
 "nbformat": 4,
 "nbformat_minor": 2
}
